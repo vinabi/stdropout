{
  "cells": [
    {
      "cell_type": "markdown",
      "metadata": {
        "id": "8XDkAbyQAIc1"
      },
      "source": [
        "# Student's Dropout Prediction using Supervised Machine Learning Classifiers"
      ]
    },
    {
      "cell_type": "code",
      "execution_count": 1,
      "metadata": {
        "colab": {
          "base_uri": "https://localhost:8080/"
        },
        "id": "eQ7rTWf4AIc9",
        "outputId": "e2ef66f4-3342-4000-f836-0a73ca29f458"
      },
      "outputs": [
        {
          "output_type": "stream",
          "name": "stdout",
          "text": [
            "Requirement already satisfied: kaleido in /usr/local/lib/python3.11/dist-packages (1.0.0)\n",
            "Requirement already satisfied: choreographer>=1.0.5 in /usr/local/lib/python3.11/dist-packages (from kaleido) (1.0.9)\n",
            "Requirement already satisfied: logistro>=1.0.8 in /usr/local/lib/python3.11/dist-packages (from kaleido) (1.1.0)\n",
            "Requirement already satisfied: orjson>=3.10.15 in /usr/local/lib/python3.11/dist-packages (from kaleido) (3.10.18)\n",
            "Requirement already satisfied: packaging in /usr/local/lib/python3.11/dist-packages (from kaleido) (24.2)\n",
            "Requirement already satisfied: simplejson>=3.19.3 in /usr/local/lib/python3.11/dist-packages (from choreographer>=1.0.5->kaleido) (3.20.1)\n"
          ]
        }
      ],
      "source": [
        "# Importing relevant libraries\n",
        "\n",
        "# Data wrangling\n",
        "import numpy as np\n",
        "import pandas as pd\n",
        "from tqdm import tqdm\n",
        "\n",
        "# Data Visualization\n",
        "import matplotlib.pyplot as plt\n",
        "import plotly.express as px\n",
        "import plotly.graph_objects as go\n",
        "from plotly.subplots import make_subplots\n",
        "\n",
        "\n",
        "# Data pre-processing\n",
        "from sklearn.preprocessing import StandardScaler\n",
        "\n",
        "# Data splitting\n",
        "from sklearn.model_selection import train_test_split\n",
        "\n",
        "# Machine learning Models\n",
        "from sklearn.decomposition import PCA\n",
        "from sklearn.model_selection import GridSearchCV\n",
        "from sklearn.linear_model import LogisticRegression\n",
        "from sklearn.tree import DecisionTreeClassifier\n",
        "from sklearn.svm import SVC\n",
        "from sklearn.ensemble import RandomForestClassifier\n",
        "from sklearn.neighbors import KNeighborsClassifier\n",
        "\n",
        "\n",
        "# Evaluation metrics\n",
        "from sklearn.metrics import accuracy_score\n",
        "from sklearn.metrics import confusion_matrix, ConfusionMatrixDisplay\n",
        "from sklearn.metrics import roc_curve, auc\n",
        "\n",
        "\n",
        "#Installing dependencies\n",
        "!pip install -U kaleido"
      ]
    },
    {
      "cell_type": "code",
      "execution_count": 2,
      "metadata": {
        "colab": {
          "base_uri": "https://localhost:8080/",
          "height": 308
        },
        "id": "dlWMlU8RElAp",
        "outputId": "22ccf410-da48-4a7e-a144-6a4e43d79e76"
      },
      "outputs": [
        {
          "output_type": "execute_result",
          "data": {
            "text/plain": [
              "   Marital status  Application mode  Application order  Course  \\\n",
              "0               1                 8                  5       2   \n",
              "1               1                 6                  1      11   \n",
              "2               1                 1                  5       5   \n",
              "3               1                 8                  2      15   \n",
              "4               2                12                  1       3   \n",
              "\n",
              "   Daytime/evening attendance  Previous qualification  Nationality  \\\n",
              "0                           1                       1            1   \n",
              "1                           1                       1            1   \n",
              "2                           1                       1            1   \n",
              "3                           1                       1            1   \n",
              "4                           0                       1            1   \n",
              "\n",
              "   Mother's qualification  Father's qualification  Mother's occupation  ...  \\\n",
              "0                      13                      10                    6  ...   \n",
              "1                       1                       3                    4  ...   \n",
              "2                      22                      27                   10  ...   \n",
              "3                      23                      27                    6  ...   \n",
              "4                      22                      28                   10  ...   \n",
              "\n",
              "   Curricular units 2nd sem (credited)  Curricular units 2nd sem (enrolled)  \\\n",
              "0                                    0                                    0   \n",
              "1                                    0                                    6   \n",
              "2                                    0                                    6   \n",
              "3                                    0                                    6   \n",
              "4                                    0                                    6   \n",
              "\n",
              "   Curricular units 2nd sem (evaluations)  \\\n",
              "0                                       0   \n",
              "1                                       6   \n",
              "2                                       0   \n",
              "3                                      10   \n",
              "4                                       6   \n",
              "\n",
              "   Curricular units 2nd sem (approved)  Curricular units 2nd sem (grade)  \\\n",
              "0                                    0                          0.000000   \n",
              "1                                    6                         13.666667   \n",
              "2                                    0                          0.000000   \n",
              "3                                    5                         12.400000   \n",
              "4                                    6                         13.000000   \n",
              "\n",
              "   Curricular units 2nd sem (without evaluations)  Unemployment rate  \\\n",
              "0                                               0               10.8   \n",
              "1                                               0               13.9   \n",
              "2                                               0               10.8   \n",
              "3                                               0                9.4   \n",
              "4                                               0               13.9   \n",
              "\n",
              "   Inflation rate   GDP    Target  \n",
              "0             1.4  1.74   Dropout  \n",
              "1            -0.3  0.79  Graduate  \n",
              "2             1.4  1.74   Dropout  \n",
              "3            -0.8 -3.12  Graduate  \n",
              "4            -0.3  0.79  Graduate  \n",
              "\n",
              "[5 rows x 35 columns]"
            ],
            "text/html": [
              "\n",
              "  <div id=\"df-daba90de-9107-4f9b-847f-dbc70a9db00a\" class=\"colab-df-container\">\n",
              "    <div>\n",
              "<style scoped>\n",
              "    .dataframe tbody tr th:only-of-type {\n",
              "        vertical-align: middle;\n",
              "    }\n",
              "\n",
              "    .dataframe tbody tr th {\n",
              "        vertical-align: top;\n",
              "    }\n",
              "\n",
              "    .dataframe thead th {\n",
              "        text-align: right;\n",
              "    }\n",
              "</style>\n",
              "<table border=\"1\" class=\"dataframe\">\n",
              "  <thead>\n",
              "    <tr style=\"text-align: right;\">\n",
              "      <th></th>\n",
              "      <th>Marital status</th>\n",
              "      <th>Application mode</th>\n",
              "      <th>Application order</th>\n",
              "      <th>Course</th>\n",
              "      <th>Daytime/evening attendance</th>\n",
              "      <th>Previous qualification</th>\n",
              "      <th>Nationality</th>\n",
              "      <th>Mother's qualification</th>\n",
              "      <th>Father's qualification</th>\n",
              "      <th>Mother's occupation</th>\n",
              "      <th>...</th>\n",
              "      <th>Curricular units 2nd sem (credited)</th>\n",
              "      <th>Curricular units 2nd sem (enrolled)</th>\n",
              "      <th>Curricular units 2nd sem (evaluations)</th>\n",
              "      <th>Curricular units 2nd sem (approved)</th>\n",
              "      <th>Curricular units 2nd sem (grade)</th>\n",
              "      <th>Curricular units 2nd sem (without evaluations)</th>\n",
              "      <th>Unemployment rate</th>\n",
              "      <th>Inflation rate</th>\n",
              "      <th>GDP</th>\n",
              "      <th>Target</th>\n",
              "    </tr>\n",
              "  </thead>\n",
              "  <tbody>\n",
              "    <tr>\n",
              "      <th>0</th>\n",
              "      <td>1</td>\n",
              "      <td>8</td>\n",
              "      <td>5</td>\n",
              "      <td>2</td>\n",
              "      <td>1</td>\n",
              "      <td>1</td>\n",
              "      <td>1</td>\n",
              "      <td>13</td>\n",
              "      <td>10</td>\n",
              "      <td>6</td>\n",
              "      <td>...</td>\n",
              "      <td>0</td>\n",
              "      <td>0</td>\n",
              "      <td>0</td>\n",
              "      <td>0</td>\n",
              "      <td>0.000000</td>\n",
              "      <td>0</td>\n",
              "      <td>10.8</td>\n",
              "      <td>1.4</td>\n",
              "      <td>1.74</td>\n",
              "      <td>Dropout</td>\n",
              "    </tr>\n",
              "    <tr>\n",
              "      <th>1</th>\n",
              "      <td>1</td>\n",
              "      <td>6</td>\n",
              "      <td>1</td>\n",
              "      <td>11</td>\n",
              "      <td>1</td>\n",
              "      <td>1</td>\n",
              "      <td>1</td>\n",
              "      <td>1</td>\n",
              "      <td>3</td>\n",
              "      <td>4</td>\n",
              "      <td>...</td>\n",
              "      <td>0</td>\n",
              "      <td>6</td>\n",
              "      <td>6</td>\n",
              "      <td>6</td>\n",
              "      <td>13.666667</td>\n",
              "      <td>0</td>\n",
              "      <td>13.9</td>\n",
              "      <td>-0.3</td>\n",
              "      <td>0.79</td>\n",
              "      <td>Graduate</td>\n",
              "    </tr>\n",
              "    <tr>\n",
              "      <th>2</th>\n",
              "      <td>1</td>\n",
              "      <td>1</td>\n",
              "      <td>5</td>\n",
              "      <td>5</td>\n",
              "      <td>1</td>\n",
              "      <td>1</td>\n",
              "      <td>1</td>\n",
              "      <td>22</td>\n",
              "      <td>27</td>\n",
              "      <td>10</td>\n",
              "      <td>...</td>\n",
              "      <td>0</td>\n",
              "      <td>6</td>\n",
              "      <td>0</td>\n",
              "      <td>0</td>\n",
              "      <td>0.000000</td>\n",
              "      <td>0</td>\n",
              "      <td>10.8</td>\n",
              "      <td>1.4</td>\n",
              "      <td>1.74</td>\n",
              "      <td>Dropout</td>\n",
              "    </tr>\n",
              "    <tr>\n",
              "      <th>3</th>\n",
              "      <td>1</td>\n",
              "      <td>8</td>\n",
              "      <td>2</td>\n",
              "      <td>15</td>\n",
              "      <td>1</td>\n",
              "      <td>1</td>\n",
              "      <td>1</td>\n",
              "      <td>23</td>\n",
              "      <td>27</td>\n",
              "      <td>6</td>\n",
              "      <td>...</td>\n",
              "      <td>0</td>\n",
              "      <td>6</td>\n",
              "      <td>10</td>\n",
              "      <td>5</td>\n",
              "      <td>12.400000</td>\n",
              "      <td>0</td>\n",
              "      <td>9.4</td>\n",
              "      <td>-0.8</td>\n",
              "      <td>-3.12</td>\n",
              "      <td>Graduate</td>\n",
              "    </tr>\n",
              "    <tr>\n",
              "      <th>4</th>\n",
              "      <td>2</td>\n",
              "      <td>12</td>\n",
              "      <td>1</td>\n",
              "      <td>3</td>\n",
              "      <td>0</td>\n",
              "      <td>1</td>\n",
              "      <td>1</td>\n",
              "      <td>22</td>\n",
              "      <td>28</td>\n",
              "      <td>10</td>\n",
              "      <td>...</td>\n",
              "      <td>0</td>\n",
              "      <td>6</td>\n",
              "      <td>6</td>\n",
              "      <td>6</td>\n",
              "      <td>13.000000</td>\n",
              "      <td>0</td>\n",
              "      <td>13.9</td>\n",
              "      <td>-0.3</td>\n",
              "      <td>0.79</td>\n",
              "      <td>Graduate</td>\n",
              "    </tr>\n",
              "  </tbody>\n",
              "</table>\n",
              "<p>5 rows × 35 columns</p>\n",
              "</div>\n",
              "    <div class=\"colab-df-buttons\">\n",
              "\n",
              "  <div class=\"colab-df-container\">\n",
              "    <button class=\"colab-df-convert\" onclick=\"convertToInteractive('df-daba90de-9107-4f9b-847f-dbc70a9db00a')\"\n",
              "            title=\"Convert this dataframe to an interactive table.\"\n",
              "            style=\"display:none;\">\n",
              "\n",
              "  <svg xmlns=\"http://www.w3.org/2000/svg\" height=\"24px\" viewBox=\"0 -960 960 960\">\n",
              "    <path d=\"M120-120v-720h720v720H120Zm60-500h600v-160H180v160Zm220 220h160v-160H400v160Zm0 220h160v-160H400v160ZM180-400h160v-160H180v160Zm440 0h160v-160H620v160ZM180-180h160v-160H180v160Zm440 0h160v-160H620v160Z\"/>\n",
              "  </svg>\n",
              "    </button>\n",
              "\n",
              "  <style>\n",
              "    .colab-df-container {\n",
              "      display:flex;\n",
              "      gap: 12px;\n",
              "    }\n",
              "\n",
              "    .colab-df-convert {\n",
              "      background-color: #E8F0FE;\n",
              "      border: none;\n",
              "      border-radius: 50%;\n",
              "      cursor: pointer;\n",
              "      display: none;\n",
              "      fill: #1967D2;\n",
              "      height: 32px;\n",
              "      padding: 0 0 0 0;\n",
              "      width: 32px;\n",
              "    }\n",
              "\n",
              "    .colab-df-convert:hover {\n",
              "      background-color: #E2EBFA;\n",
              "      box-shadow: 0px 1px 2px rgba(60, 64, 67, 0.3), 0px 1px 3px 1px rgba(60, 64, 67, 0.15);\n",
              "      fill: #174EA6;\n",
              "    }\n",
              "\n",
              "    .colab-df-buttons div {\n",
              "      margin-bottom: 4px;\n",
              "    }\n",
              "\n",
              "    [theme=dark] .colab-df-convert {\n",
              "      background-color: #3B4455;\n",
              "      fill: #D2E3FC;\n",
              "    }\n",
              "\n",
              "    [theme=dark] .colab-df-convert:hover {\n",
              "      background-color: #434B5C;\n",
              "      box-shadow: 0px 1px 3px 1px rgba(0, 0, 0, 0.15);\n",
              "      filter: drop-shadow(0px 1px 2px rgba(0, 0, 0, 0.3));\n",
              "      fill: #FFFFFF;\n",
              "    }\n",
              "  </style>\n",
              "\n",
              "    <script>\n",
              "      const buttonEl =\n",
              "        document.querySelector('#df-daba90de-9107-4f9b-847f-dbc70a9db00a button.colab-df-convert');\n",
              "      buttonEl.style.display =\n",
              "        google.colab.kernel.accessAllowed ? 'block' : 'none';\n",
              "\n",
              "      async function convertToInteractive(key) {\n",
              "        const element = document.querySelector('#df-daba90de-9107-4f9b-847f-dbc70a9db00a');\n",
              "        const dataTable =\n",
              "          await google.colab.kernel.invokeFunction('convertToInteractive',\n",
              "                                                    [key], {});\n",
              "        if (!dataTable) return;\n",
              "\n",
              "        const docLinkHtml = 'Like what you see? Visit the ' +\n",
              "          '<a target=\"_blank\" href=https://colab.research.google.com/notebooks/data_table.ipynb>data table notebook</a>'\n",
              "          + ' to learn more about interactive tables.';\n",
              "        element.innerHTML = '';\n",
              "        dataTable['output_type'] = 'display_data';\n",
              "        await google.colab.output.renderOutput(dataTable, element);\n",
              "        const docLink = document.createElement('div');\n",
              "        docLink.innerHTML = docLinkHtml;\n",
              "        element.appendChild(docLink);\n",
              "      }\n",
              "    </script>\n",
              "  </div>\n",
              "\n",
              "\n",
              "    <div id=\"df-f065acc8-615d-4c62-98a8-0e77feceabc0\">\n",
              "      <button class=\"colab-df-quickchart\" onclick=\"quickchart('df-f065acc8-615d-4c62-98a8-0e77feceabc0')\"\n",
              "                title=\"Suggest charts\"\n",
              "                style=\"display:none;\">\n",
              "\n",
              "<svg xmlns=\"http://www.w3.org/2000/svg\" height=\"24px\"viewBox=\"0 0 24 24\"\n",
              "     width=\"24px\">\n",
              "    <g>\n",
              "        <path d=\"M19 3H5c-1.1 0-2 .9-2 2v14c0 1.1.9 2 2 2h14c1.1 0 2-.9 2-2V5c0-1.1-.9-2-2-2zM9 17H7v-7h2v7zm4 0h-2V7h2v10zm4 0h-2v-4h2v4z\"/>\n",
              "    </g>\n",
              "</svg>\n",
              "      </button>\n",
              "\n",
              "<style>\n",
              "  .colab-df-quickchart {\n",
              "      --bg-color: #E8F0FE;\n",
              "      --fill-color: #1967D2;\n",
              "      --hover-bg-color: #E2EBFA;\n",
              "      --hover-fill-color: #174EA6;\n",
              "      --disabled-fill-color: #AAA;\n",
              "      --disabled-bg-color: #DDD;\n",
              "  }\n",
              "\n",
              "  [theme=dark] .colab-df-quickchart {\n",
              "      --bg-color: #3B4455;\n",
              "      --fill-color: #D2E3FC;\n",
              "      --hover-bg-color: #434B5C;\n",
              "      --hover-fill-color: #FFFFFF;\n",
              "      --disabled-bg-color: #3B4455;\n",
              "      --disabled-fill-color: #666;\n",
              "  }\n",
              "\n",
              "  .colab-df-quickchart {\n",
              "    background-color: var(--bg-color);\n",
              "    border: none;\n",
              "    border-radius: 50%;\n",
              "    cursor: pointer;\n",
              "    display: none;\n",
              "    fill: var(--fill-color);\n",
              "    height: 32px;\n",
              "    padding: 0;\n",
              "    width: 32px;\n",
              "  }\n",
              "\n",
              "  .colab-df-quickchart:hover {\n",
              "    background-color: var(--hover-bg-color);\n",
              "    box-shadow: 0 1px 2px rgba(60, 64, 67, 0.3), 0 1px 3px 1px rgba(60, 64, 67, 0.15);\n",
              "    fill: var(--button-hover-fill-color);\n",
              "  }\n",
              "\n",
              "  .colab-df-quickchart-complete:disabled,\n",
              "  .colab-df-quickchart-complete:disabled:hover {\n",
              "    background-color: var(--disabled-bg-color);\n",
              "    fill: var(--disabled-fill-color);\n",
              "    box-shadow: none;\n",
              "  }\n",
              "\n",
              "  .colab-df-spinner {\n",
              "    border: 2px solid var(--fill-color);\n",
              "    border-color: transparent;\n",
              "    border-bottom-color: var(--fill-color);\n",
              "    animation:\n",
              "      spin 1s steps(1) infinite;\n",
              "  }\n",
              "\n",
              "  @keyframes spin {\n",
              "    0% {\n",
              "      border-color: transparent;\n",
              "      border-bottom-color: var(--fill-color);\n",
              "      border-left-color: var(--fill-color);\n",
              "    }\n",
              "    20% {\n",
              "      border-color: transparent;\n",
              "      border-left-color: var(--fill-color);\n",
              "      border-top-color: var(--fill-color);\n",
              "    }\n",
              "    30% {\n",
              "      border-color: transparent;\n",
              "      border-left-color: var(--fill-color);\n",
              "      border-top-color: var(--fill-color);\n",
              "      border-right-color: var(--fill-color);\n",
              "    }\n",
              "    40% {\n",
              "      border-color: transparent;\n",
              "      border-right-color: var(--fill-color);\n",
              "      border-top-color: var(--fill-color);\n",
              "    }\n",
              "    60% {\n",
              "      border-color: transparent;\n",
              "      border-right-color: var(--fill-color);\n",
              "    }\n",
              "    80% {\n",
              "      border-color: transparent;\n",
              "      border-right-color: var(--fill-color);\n",
              "      border-bottom-color: var(--fill-color);\n",
              "    }\n",
              "    90% {\n",
              "      border-color: transparent;\n",
              "      border-bottom-color: var(--fill-color);\n",
              "    }\n",
              "  }\n",
              "</style>\n",
              "\n",
              "      <script>\n",
              "        async function quickchart(key) {\n",
              "          const quickchartButtonEl =\n",
              "            document.querySelector('#' + key + ' button');\n",
              "          quickchartButtonEl.disabled = true;  // To prevent multiple clicks.\n",
              "          quickchartButtonEl.classList.add('colab-df-spinner');\n",
              "          try {\n",
              "            const charts = await google.colab.kernel.invokeFunction(\n",
              "                'suggestCharts', [key], {});\n",
              "          } catch (error) {\n",
              "            console.error('Error during call to suggestCharts:', error);\n",
              "          }\n",
              "          quickchartButtonEl.classList.remove('colab-df-spinner');\n",
              "          quickchartButtonEl.classList.add('colab-df-quickchart-complete');\n",
              "        }\n",
              "        (() => {\n",
              "          let quickchartButtonEl =\n",
              "            document.querySelector('#df-f065acc8-615d-4c62-98a8-0e77feceabc0 button');\n",
              "          quickchartButtonEl.style.display =\n",
              "            google.colab.kernel.accessAllowed ? 'block' : 'none';\n",
              "        })();\n",
              "      </script>\n",
              "    </div>\n",
              "\n",
              "    </div>\n",
              "  </div>\n"
            ],
            "application/vnd.google.colaboratory.intrinsic+json": {
              "type": "dataframe",
              "variable_name": "data"
            }
          },
          "metadata": {},
          "execution_count": 2
        }
      ],
      "source": [
        "# Read dataset from csv file\n",
        "data =  pd.read_csv(\"/content/student's dropout dataset.csv\")\n",
        "\n",
        "# Correcting typographical error for nationality\n",
        "data.rename(columns = {'Nacionality':'Nationality'}, inplace = True)\n",
        "data.head()"
      ]
    },
    {
      "cell_type": "markdown",
      "metadata": {
        "id": "W1FRrAaXLPf2"
      },
      "source": [
        "## Descriptive analysis"
      ]
    },
    {
      "cell_type": "code",
      "execution_count": 3,
      "metadata": {
        "colab": {
          "base_uri": "https://localhost:8080/"
        },
        "id": "xtBjgJAKKDCl",
        "outputId": "78bad5db-758a-4561-e413-248bc0e4c2be"
      },
      "outputs": [
        {
          "output_type": "execute_result",
          "data": {
            "text/plain": [
              "(4424, 35)"
            ]
          },
          "metadata": {},
          "execution_count": 3
        }
      ],
      "source": [
        "# shape of data\n",
        "data.shape"
      ]
    },
    {
      "cell_type": "markdown",
      "metadata": {
        "id": "cqer3Ak9LXTC"
      },
      "source": [
        "We have 4,424 observations (rows) and 35 features (Columns)"
      ]
    },
    {
      "cell_type": "code",
      "execution_count": 4,
      "metadata": {
        "colab": {
          "base_uri": "https://localhost:8080/"
        },
        "id": "gNNi-JoN2kTb",
        "outputId": "c8b7a289-b3ab-4af8-cf72-9ee7c2caeb07"
      },
      "outputs": [
        {
          "output_type": "stream",
          "name": "stdout",
          "text": [
            "<class 'pandas.core.frame.DataFrame'>\n",
            "RangeIndex: 4424 entries, 0 to 4423\n",
            "Data columns (total 35 columns):\n",
            " #   Column                                          Non-Null Count  Dtype  \n",
            "---  ------                                          --------------  -----  \n",
            " 0   Marital status                                  4424 non-null   int64  \n",
            " 1   Application mode                                4424 non-null   int64  \n",
            " 2   Application order                               4424 non-null   int64  \n",
            " 3   Course                                          4424 non-null   int64  \n",
            " 4   Daytime/evening attendance                      4424 non-null   int64  \n",
            " 5   Previous qualification                          4424 non-null   int64  \n",
            " 6   Nationality                                     4424 non-null   int64  \n",
            " 7   Mother's qualification                          4424 non-null   int64  \n",
            " 8   Father's qualification                          4424 non-null   int64  \n",
            " 9   Mother's occupation                             4424 non-null   int64  \n",
            " 10  Father's occupation                             4424 non-null   int64  \n",
            " 11  Displaced                                       4424 non-null   int64  \n",
            " 12  Educational special needs                       4424 non-null   int64  \n",
            " 13  Debtor                                          4424 non-null   int64  \n",
            " 14  Tuition fees up to date                         4424 non-null   int64  \n",
            " 15  Gender                                          4424 non-null   int64  \n",
            " 16  Scholarship holder                              4424 non-null   int64  \n",
            " 17  Age at enrollment                               4424 non-null   int64  \n",
            " 18  International                                   4424 non-null   int64  \n",
            " 19  Curricular units 1st sem (credited)             4424 non-null   int64  \n",
            " 20  Curricular units 1st sem (enrolled)             4424 non-null   int64  \n",
            " 21  Curricular units 1st sem (evaluations)          4424 non-null   int64  \n",
            " 22  Curricular units 1st sem (approved)             4424 non-null   int64  \n",
            " 23  Curricular units 1st sem (grade)                4424 non-null   float64\n",
            " 24  Curricular units 1st sem (without evaluations)  4424 non-null   int64  \n",
            " 25  Curricular units 2nd sem (credited)             4424 non-null   int64  \n",
            " 26  Curricular units 2nd sem (enrolled)             4424 non-null   int64  \n",
            " 27  Curricular units 2nd sem (evaluations)          4424 non-null   int64  \n",
            " 28  Curricular units 2nd sem (approved)             4424 non-null   int64  \n",
            " 29  Curricular units 2nd sem (grade)                4424 non-null   float64\n",
            " 30  Curricular units 2nd sem (without evaluations)  4424 non-null   int64  \n",
            " 31  Unemployment rate                               4424 non-null   float64\n",
            " 32  Inflation rate                                  4424 non-null   float64\n",
            " 33  GDP                                             4424 non-null   float64\n",
            " 34  Target                                          4424 non-null   object \n",
            "dtypes: float64(5), int64(29), object(1)\n",
            "memory usage: 1.2+ MB\n"
          ]
        }
      ],
      "source": [
        "data.info()"
      ]
    },
    {
      "cell_type": "markdown",
      "metadata": {
        "id": "NNYK2tcG4GNH"
      },
      "source": [
        "The results shows that all columns are numerical except the target column"
      ]
    },
    {
      "cell_type": "code",
      "execution_count": 5,
      "metadata": {
        "colab": {
          "base_uri": "https://localhost:8080/",
          "height": 466
        },
        "id": "rqcv-4CCAIdD",
        "outputId": "344b88f4-be46-468a-d54d-bccac57a6470"
      },
      "outputs": [
        {
          "output_type": "execute_result",
          "data": {
            "text/plain": [
              "        Marital status  Application mode  Application order       Course  \\\n",
              "count      4424.000000       4424.000000        4424.000000  4424.000000   \n",
              "unique             NaN               NaN                NaN          NaN   \n",
              "top                NaN               NaN                NaN          NaN   \n",
              "freq               NaN               NaN                NaN          NaN   \n",
              "mean          1.178571          6.886980           1.727848     9.899186   \n",
              "std           0.605747          5.298964           1.313793     4.331792   \n",
              "min           1.000000          1.000000           0.000000     1.000000   \n",
              "25%           1.000000          1.000000           1.000000     6.000000   \n",
              "50%           1.000000          8.000000           1.000000    10.000000   \n",
              "75%           1.000000         12.000000           2.000000    13.000000   \n",
              "max           6.000000         18.000000           9.000000    17.000000   \n",
              "\n",
              "        Daytime/evening attendance  Previous qualification  Nationality  \\\n",
              "count                  4424.000000             4424.000000  4424.000000   \n",
              "unique                         NaN                     NaN          NaN   \n",
              "top                            NaN                     NaN          NaN   \n",
              "freq                           NaN                     NaN          NaN   \n",
              "mean                      0.890823                2.531420     1.254521   \n",
              "std                       0.311897                3.963707     1.748447   \n",
              "min                       0.000000                1.000000     1.000000   \n",
              "25%                       1.000000                1.000000     1.000000   \n",
              "50%                       1.000000                1.000000     1.000000   \n",
              "75%                       1.000000                1.000000     1.000000   \n",
              "max                       1.000000               17.000000    21.000000   \n",
              "\n",
              "        Mother's qualification  Father's qualification  Mother's occupation  \\\n",
              "count              4424.000000             4424.000000          4424.000000   \n",
              "unique                     NaN                     NaN                  NaN   \n",
              "top                        NaN                     NaN                  NaN   \n",
              "freq                       NaN                     NaN                  NaN   \n",
              "mean                 12.322107               16.455244             7.317812   \n",
              "std                   9.026251               11.044800             3.997828   \n",
              "min                   1.000000                1.000000             1.000000   \n",
              "25%                   2.000000                3.000000             5.000000   \n",
              "50%                  13.000000               14.000000             6.000000   \n",
              "75%                  22.000000               27.000000            10.000000   \n",
              "max                  29.000000               34.000000            32.000000   \n",
              "\n",
              "        Father's occupation    Displaced  Educational special needs  \\\n",
              "count           4424.000000  4424.000000                4424.000000   \n",
              "unique                  NaN          NaN                        NaN   \n",
              "top                     NaN          NaN                        NaN   \n",
              "freq                    NaN          NaN                        NaN   \n",
              "mean               7.819168     0.548373                   0.011528   \n",
              "std                4.856692     0.497711                   0.106760   \n",
              "min                1.000000     0.000000                   0.000000   \n",
              "25%                5.000000     0.000000                   0.000000   \n",
              "50%                8.000000     1.000000                   0.000000   \n",
              "75%               10.000000     1.000000                   0.000000   \n",
              "max               46.000000     1.000000                   1.000000   \n",
              "\n",
              "             Debtor  Tuition fees up to date       Gender  Scholarship holder  \\\n",
              "count   4424.000000              4424.000000  4424.000000         4424.000000   \n",
              "unique          NaN                      NaN          NaN                 NaN   \n",
              "top             NaN                      NaN          NaN                 NaN   \n",
              "freq            NaN                      NaN          NaN                 NaN   \n",
              "mean       0.113698                 0.880651     0.351718            0.248418   \n",
              "std        0.317480                 0.324235     0.477560            0.432144   \n",
              "min        0.000000                 0.000000     0.000000            0.000000   \n",
              "25%        0.000000                 1.000000     0.000000            0.000000   \n",
              "50%        0.000000                 1.000000     0.000000            0.000000   \n",
              "75%        0.000000                 1.000000     1.000000            0.000000   \n",
              "max        1.000000                 1.000000     1.000000            1.000000   \n",
              "\n",
              "        Age at enrollment  International  Curricular units 1st sem (credited)  \\\n",
              "count         4424.000000    4424.000000                          4424.000000   \n",
              "unique                NaN            NaN                                  NaN   \n",
              "top                   NaN            NaN                                  NaN   \n",
              "freq                  NaN            NaN                                  NaN   \n",
              "mean            23.265145       0.024864                             0.709991   \n",
              "std              7.587816       0.155729                             2.360507   \n",
              "min             17.000000       0.000000                             0.000000   \n",
              "25%             19.000000       0.000000                             0.000000   \n",
              "50%             20.000000       0.000000                             0.000000   \n",
              "75%             25.000000       0.000000                             0.000000   \n",
              "max             70.000000       1.000000                            20.000000   \n",
              "\n",
              "        Curricular units 1st sem (enrolled)  \\\n",
              "count                           4424.000000   \n",
              "unique                                  NaN   \n",
              "top                                     NaN   \n",
              "freq                                    NaN   \n",
              "mean                               6.270570   \n",
              "std                                2.480178   \n",
              "min                                0.000000   \n",
              "25%                                5.000000   \n",
              "50%                                6.000000   \n",
              "75%                                7.000000   \n",
              "max                               26.000000   \n",
              "\n",
              "        Curricular units 1st sem (evaluations)  \\\n",
              "count                              4424.000000   \n",
              "unique                                     NaN   \n",
              "top                                        NaN   \n",
              "freq                                       NaN   \n",
              "mean                                  8.299051   \n",
              "std                                   4.179106   \n",
              "min                                   0.000000   \n",
              "25%                                   6.000000   \n",
              "50%                                   8.000000   \n",
              "75%                                  10.000000   \n",
              "max                                  45.000000   \n",
              "\n",
              "        Curricular units 1st sem (approved)  Curricular units 1st sem (grade)  \\\n",
              "count                           4424.000000                       4424.000000   \n",
              "unique                                  NaN                               NaN   \n",
              "top                                     NaN                               NaN   \n",
              "freq                                    NaN                               NaN   \n",
              "mean                               4.706600                         10.640822   \n",
              "std                                3.094238                          4.843663   \n",
              "min                                0.000000                          0.000000   \n",
              "25%                                3.000000                         11.000000   \n",
              "50%                                5.000000                         12.285714   \n",
              "75%                                6.000000                         13.400000   \n",
              "max                               26.000000                         18.875000   \n",
              "\n",
              "        Curricular units 1st sem (without evaluations)  \\\n",
              "count                                      4424.000000   \n",
              "unique                                             NaN   \n",
              "top                                                NaN   \n",
              "freq                                               NaN   \n",
              "mean                                          0.137658   \n",
              "std                                           0.690880   \n",
              "min                                           0.000000   \n",
              "25%                                           0.000000   \n",
              "50%                                           0.000000   \n",
              "75%                                           0.000000   \n",
              "max                                          12.000000   \n",
              "\n",
              "        Curricular units 2nd sem (credited)  \\\n",
              "count                           4424.000000   \n",
              "unique                                  NaN   \n",
              "top                                     NaN   \n",
              "freq                                    NaN   \n",
              "mean                               0.541817   \n",
              "std                                1.918546   \n",
              "min                                0.000000   \n",
              "25%                                0.000000   \n",
              "50%                                0.000000   \n",
              "75%                                0.000000   \n",
              "max                               19.000000   \n",
              "\n",
              "        Curricular units 2nd sem (enrolled)  \\\n",
              "count                           4424.000000   \n",
              "unique                                  NaN   \n",
              "top                                     NaN   \n",
              "freq                                    NaN   \n",
              "mean                               6.232143   \n",
              "std                                2.195951   \n",
              "min                                0.000000   \n",
              "25%                                5.000000   \n",
              "50%                                6.000000   \n",
              "75%                                7.000000   \n",
              "max                               23.000000   \n",
              "\n",
              "        Curricular units 2nd sem (evaluations)  \\\n",
              "count                              4424.000000   \n",
              "unique                                     NaN   \n",
              "top                                        NaN   \n",
              "freq                                       NaN   \n",
              "mean                                  8.063291   \n",
              "std                                   3.947951   \n",
              "min                                   0.000000   \n",
              "25%                                   6.000000   \n",
              "50%                                   8.000000   \n",
              "75%                                  10.000000   \n",
              "max                                  33.000000   \n",
              "\n",
              "        Curricular units 2nd sem (approved)  Curricular units 2nd sem (grade)  \\\n",
              "count                           4424.000000                       4424.000000   \n",
              "unique                                  NaN                               NaN   \n",
              "top                                     NaN                               NaN   \n",
              "freq                                    NaN                               NaN   \n",
              "mean                               4.435805                         10.230206   \n",
              "std                                3.014764                          5.210808   \n",
              "min                                0.000000                          0.000000   \n",
              "25%                                2.000000                         10.750000   \n",
              "50%                                5.000000                         12.200000   \n",
              "75%                                6.000000                         13.333333   \n",
              "max                               20.000000                         18.571429   \n",
              "\n",
              "        Curricular units 2nd sem (without evaluations)  Unemployment rate  \\\n",
              "count                                      4424.000000        4424.000000   \n",
              "unique                                             NaN                NaN   \n",
              "top                                                NaN                NaN   \n",
              "freq                                               NaN                NaN   \n",
              "mean                                          0.150316          11.566139   \n",
              "std                                           0.753774           2.663850   \n",
              "min                                           0.000000           7.600000   \n",
              "25%                                           0.000000           9.400000   \n",
              "50%                                           0.000000          11.100000   \n",
              "75%                                           0.000000          13.900000   \n",
              "max                                          12.000000          16.200000   \n",
              "\n",
              "        Inflation rate          GDP    Target  \n",
              "count      4424.000000  4424.000000      4424  \n",
              "unique             NaN          NaN         3  \n",
              "top                NaN          NaN  Graduate  \n",
              "freq               NaN          NaN      2209  \n",
              "mean          1.228029     0.001969       NaN  \n",
              "std           1.382711     2.269935       NaN  \n",
              "min          -0.800000    -4.060000       NaN  \n",
              "25%           0.300000    -1.700000       NaN  \n",
              "50%           1.400000     0.320000       NaN  \n",
              "75%           2.600000     1.790000       NaN  \n",
              "max           3.700000     3.510000       NaN  "
            ],
            "text/html": [
              "\n",
              "  <div id=\"df-9f8d5cf5-1332-49ce-b050-6ee7c6af3842\" class=\"colab-df-container\">\n",
              "    <div>\n",
              "<style scoped>\n",
              "    .dataframe tbody tr th:only-of-type {\n",
              "        vertical-align: middle;\n",
              "    }\n",
              "\n",
              "    .dataframe tbody tr th {\n",
              "        vertical-align: top;\n",
              "    }\n",
              "\n",
              "    .dataframe thead th {\n",
              "        text-align: right;\n",
              "    }\n",
              "</style>\n",
              "<table border=\"1\" class=\"dataframe\">\n",
              "  <thead>\n",
              "    <tr style=\"text-align: right;\">\n",
              "      <th></th>\n",
              "      <th>Marital status</th>\n",
              "      <th>Application mode</th>\n",
              "      <th>Application order</th>\n",
              "      <th>Course</th>\n",
              "      <th>Daytime/evening attendance</th>\n",
              "      <th>Previous qualification</th>\n",
              "      <th>Nationality</th>\n",
              "      <th>Mother's qualification</th>\n",
              "      <th>Father's qualification</th>\n",
              "      <th>Mother's occupation</th>\n",
              "      <th>Father's occupation</th>\n",
              "      <th>Displaced</th>\n",
              "      <th>Educational special needs</th>\n",
              "      <th>Debtor</th>\n",
              "      <th>Tuition fees up to date</th>\n",
              "      <th>Gender</th>\n",
              "      <th>Scholarship holder</th>\n",
              "      <th>Age at enrollment</th>\n",
              "      <th>International</th>\n",
              "      <th>Curricular units 1st sem (credited)</th>\n",
              "      <th>Curricular units 1st sem (enrolled)</th>\n",
              "      <th>Curricular units 1st sem (evaluations)</th>\n",
              "      <th>Curricular units 1st sem (approved)</th>\n",
              "      <th>Curricular units 1st sem (grade)</th>\n",
              "      <th>Curricular units 1st sem (without evaluations)</th>\n",
              "      <th>Curricular units 2nd sem (credited)</th>\n",
              "      <th>Curricular units 2nd sem (enrolled)</th>\n",
              "      <th>Curricular units 2nd sem (evaluations)</th>\n",
              "      <th>Curricular units 2nd sem (approved)</th>\n",
              "      <th>Curricular units 2nd sem (grade)</th>\n",
              "      <th>Curricular units 2nd sem (without evaluations)</th>\n",
              "      <th>Unemployment rate</th>\n",
              "      <th>Inflation rate</th>\n",
              "      <th>GDP</th>\n",
              "      <th>Target</th>\n",
              "    </tr>\n",
              "  </thead>\n",
              "  <tbody>\n",
              "    <tr>\n",
              "      <th>count</th>\n",
              "      <td>4424.000000</td>\n",
              "      <td>4424.000000</td>\n",
              "      <td>4424.000000</td>\n",
              "      <td>4424.000000</td>\n",
              "      <td>4424.000000</td>\n",
              "      <td>4424.000000</td>\n",
              "      <td>4424.000000</td>\n",
              "      <td>4424.000000</td>\n",
              "      <td>4424.000000</td>\n",
              "      <td>4424.000000</td>\n",
              "      <td>4424.000000</td>\n",
              "      <td>4424.000000</td>\n",
              "      <td>4424.000000</td>\n",
              "      <td>4424.000000</td>\n",
              "      <td>4424.000000</td>\n",
              "      <td>4424.000000</td>\n",
              "      <td>4424.000000</td>\n",
              "      <td>4424.000000</td>\n",
              "      <td>4424.000000</td>\n",
              "      <td>4424.000000</td>\n",
              "      <td>4424.000000</td>\n",
              "      <td>4424.000000</td>\n",
              "      <td>4424.000000</td>\n",
              "      <td>4424.000000</td>\n",
              "      <td>4424.000000</td>\n",
              "      <td>4424.000000</td>\n",
              "      <td>4424.000000</td>\n",
              "      <td>4424.000000</td>\n",
              "      <td>4424.000000</td>\n",
              "      <td>4424.000000</td>\n",
              "      <td>4424.000000</td>\n",
              "      <td>4424.000000</td>\n",
              "      <td>4424.000000</td>\n",
              "      <td>4424.000000</td>\n",
              "      <td>4424</td>\n",
              "    </tr>\n",
              "    <tr>\n",
              "      <th>unique</th>\n",
              "      <td>NaN</td>\n",
              "      <td>NaN</td>\n",
              "      <td>NaN</td>\n",
              "      <td>NaN</td>\n",
              "      <td>NaN</td>\n",
              "      <td>NaN</td>\n",
              "      <td>NaN</td>\n",
              "      <td>NaN</td>\n",
              "      <td>NaN</td>\n",
              "      <td>NaN</td>\n",
              "      <td>NaN</td>\n",
              "      <td>NaN</td>\n",
              "      <td>NaN</td>\n",
              "      <td>NaN</td>\n",
              "      <td>NaN</td>\n",
              "      <td>NaN</td>\n",
              "      <td>NaN</td>\n",
              "      <td>NaN</td>\n",
              "      <td>NaN</td>\n",
              "      <td>NaN</td>\n",
              "      <td>NaN</td>\n",
              "      <td>NaN</td>\n",
              "      <td>NaN</td>\n",
              "      <td>NaN</td>\n",
              "      <td>NaN</td>\n",
              "      <td>NaN</td>\n",
              "      <td>NaN</td>\n",
              "      <td>NaN</td>\n",
              "      <td>NaN</td>\n",
              "      <td>NaN</td>\n",
              "      <td>NaN</td>\n",
              "      <td>NaN</td>\n",
              "      <td>NaN</td>\n",
              "      <td>NaN</td>\n",
              "      <td>3</td>\n",
              "    </tr>\n",
              "    <tr>\n",
              "      <th>top</th>\n",
              "      <td>NaN</td>\n",
              "      <td>NaN</td>\n",
              "      <td>NaN</td>\n",
              "      <td>NaN</td>\n",
              "      <td>NaN</td>\n",
              "      <td>NaN</td>\n",
              "      <td>NaN</td>\n",
              "      <td>NaN</td>\n",
              "      <td>NaN</td>\n",
              "      <td>NaN</td>\n",
              "      <td>NaN</td>\n",
              "      <td>NaN</td>\n",
              "      <td>NaN</td>\n",
              "      <td>NaN</td>\n",
              "      <td>NaN</td>\n",
              "      <td>NaN</td>\n",
              "      <td>NaN</td>\n",
              "      <td>NaN</td>\n",
              "      <td>NaN</td>\n",
              "      <td>NaN</td>\n",
              "      <td>NaN</td>\n",
              "      <td>NaN</td>\n",
              "      <td>NaN</td>\n",
              "      <td>NaN</td>\n",
              "      <td>NaN</td>\n",
              "      <td>NaN</td>\n",
              "      <td>NaN</td>\n",
              "      <td>NaN</td>\n",
              "      <td>NaN</td>\n",
              "      <td>NaN</td>\n",
              "      <td>NaN</td>\n",
              "      <td>NaN</td>\n",
              "      <td>NaN</td>\n",
              "      <td>NaN</td>\n",
              "      <td>Graduate</td>\n",
              "    </tr>\n",
              "    <tr>\n",
              "      <th>freq</th>\n",
              "      <td>NaN</td>\n",
              "      <td>NaN</td>\n",
              "      <td>NaN</td>\n",
              "      <td>NaN</td>\n",
              "      <td>NaN</td>\n",
              "      <td>NaN</td>\n",
              "      <td>NaN</td>\n",
              "      <td>NaN</td>\n",
              "      <td>NaN</td>\n",
              "      <td>NaN</td>\n",
              "      <td>NaN</td>\n",
              "      <td>NaN</td>\n",
              "      <td>NaN</td>\n",
              "      <td>NaN</td>\n",
              "      <td>NaN</td>\n",
              "      <td>NaN</td>\n",
              "      <td>NaN</td>\n",
              "      <td>NaN</td>\n",
              "      <td>NaN</td>\n",
              "      <td>NaN</td>\n",
              "      <td>NaN</td>\n",
              "      <td>NaN</td>\n",
              "      <td>NaN</td>\n",
              "      <td>NaN</td>\n",
              "      <td>NaN</td>\n",
              "      <td>NaN</td>\n",
              "      <td>NaN</td>\n",
              "      <td>NaN</td>\n",
              "      <td>NaN</td>\n",
              "      <td>NaN</td>\n",
              "      <td>NaN</td>\n",
              "      <td>NaN</td>\n",
              "      <td>NaN</td>\n",
              "      <td>NaN</td>\n",
              "      <td>2209</td>\n",
              "    </tr>\n",
              "    <tr>\n",
              "      <th>mean</th>\n",
              "      <td>1.178571</td>\n",
              "      <td>6.886980</td>\n",
              "      <td>1.727848</td>\n",
              "      <td>9.899186</td>\n",
              "      <td>0.890823</td>\n",
              "      <td>2.531420</td>\n",
              "      <td>1.254521</td>\n",
              "      <td>12.322107</td>\n",
              "      <td>16.455244</td>\n",
              "      <td>7.317812</td>\n",
              "      <td>7.819168</td>\n",
              "      <td>0.548373</td>\n",
              "      <td>0.011528</td>\n",
              "      <td>0.113698</td>\n",
              "      <td>0.880651</td>\n",
              "      <td>0.351718</td>\n",
              "      <td>0.248418</td>\n",
              "      <td>23.265145</td>\n",
              "      <td>0.024864</td>\n",
              "      <td>0.709991</td>\n",
              "      <td>6.270570</td>\n",
              "      <td>8.299051</td>\n",
              "      <td>4.706600</td>\n",
              "      <td>10.640822</td>\n",
              "      <td>0.137658</td>\n",
              "      <td>0.541817</td>\n",
              "      <td>6.232143</td>\n",
              "      <td>8.063291</td>\n",
              "      <td>4.435805</td>\n",
              "      <td>10.230206</td>\n",
              "      <td>0.150316</td>\n",
              "      <td>11.566139</td>\n",
              "      <td>1.228029</td>\n",
              "      <td>0.001969</td>\n",
              "      <td>NaN</td>\n",
              "    </tr>\n",
              "    <tr>\n",
              "      <th>std</th>\n",
              "      <td>0.605747</td>\n",
              "      <td>5.298964</td>\n",
              "      <td>1.313793</td>\n",
              "      <td>4.331792</td>\n",
              "      <td>0.311897</td>\n",
              "      <td>3.963707</td>\n",
              "      <td>1.748447</td>\n",
              "      <td>9.026251</td>\n",
              "      <td>11.044800</td>\n",
              "      <td>3.997828</td>\n",
              "      <td>4.856692</td>\n",
              "      <td>0.497711</td>\n",
              "      <td>0.106760</td>\n",
              "      <td>0.317480</td>\n",
              "      <td>0.324235</td>\n",
              "      <td>0.477560</td>\n",
              "      <td>0.432144</td>\n",
              "      <td>7.587816</td>\n",
              "      <td>0.155729</td>\n",
              "      <td>2.360507</td>\n",
              "      <td>2.480178</td>\n",
              "      <td>4.179106</td>\n",
              "      <td>3.094238</td>\n",
              "      <td>4.843663</td>\n",
              "      <td>0.690880</td>\n",
              "      <td>1.918546</td>\n",
              "      <td>2.195951</td>\n",
              "      <td>3.947951</td>\n",
              "      <td>3.014764</td>\n",
              "      <td>5.210808</td>\n",
              "      <td>0.753774</td>\n",
              "      <td>2.663850</td>\n",
              "      <td>1.382711</td>\n",
              "      <td>2.269935</td>\n",
              "      <td>NaN</td>\n",
              "    </tr>\n",
              "    <tr>\n",
              "      <th>min</th>\n",
              "      <td>1.000000</td>\n",
              "      <td>1.000000</td>\n",
              "      <td>0.000000</td>\n",
              "      <td>1.000000</td>\n",
              "      <td>0.000000</td>\n",
              "      <td>1.000000</td>\n",
              "      <td>1.000000</td>\n",
              "      <td>1.000000</td>\n",
              "      <td>1.000000</td>\n",
              "      <td>1.000000</td>\n",
              "      <td>1.000000</td>\n",
              "      <td>0.000000</td>\n",
              "      <td>0.000000</td>\n",
              "      <td>0.000000</td>\n",
              "      <td>0.000000</td>\n",
              "      <td>0.000000</td>\n",
              "      <td>0.000000</td>\n",
              "      <td>17.000000</td>\n",
              "      <td>0.000000</td>\n",
              "      <td>0.000000</td>\n",
              "      <td>0.000000</td>\n",
              "      <td>0.000000</td>\n",
              "      <td>0.000000</td>\n",
              "      <td>0.000000</td>\n",
              "      <td>0.000000</td>\n",
              "      <td>0.000000</td>\n",
              "      <td>0.000000</td>\n",
              "      <td>0.000000</td>\n",
              "      <td>0.000000</td>\n",
              "      <td>0.000000</td>\n",
              "      <td>0.000000</td>\n",
              "      <td>7.600000</td>\n",
              "      <td>-0.800000</td>\n",
              "      <td>-4.060000</td>\n",
              "      <td>NaN</td>\n",
              "    </tr>\n",
              "    <tr>\n",
              "      <th>25%</th>\n",
              "      <td>1.000000</td>\n",
              "      <td>1.000000</td>\n",
              "      <td>1.000000</td>\n",
              "      <td>6.000000</td>\n",
              "      <td>1.000000</td>\n",
              "      <td>1.000000</td>\n",
              "      <td>1.000000</td>\n",
              "      <td>2.000000</td>\n",
              "      <td>3.000000</td>\n",
              "      <td>5.000000</td>\n",
              "      <td>5.000000</td>\n",
              "      <td>0.000000</td>\n",
              "      <td>0.000000</td>\n",
              "      <td>0.000000</td>\n",
              "      <td>1.000000</td>\n",
              "      <td>0.000000</td>\n",
              "      <td>0.000000</td>\n",
              "      <td>19.000000</td>\n",
              "      <td>0.000000</td>\n",
              "      <td>0.000000</td>\n",
              "      <td>5.000000</td>\n",
              "      <td>6.000000</td>\n",
              "      <td>3.000000</td>\n",
              "      <td>11.000000</td>\n",
              "      <td>0.000000</td>\n",
              "      <td>0.000000</td>\n",
              "      <td>5.000000</td>\n",
              "      <td>6.000000</td>\n",
              "      <td>2.000000</td>\n",
              "      <td>10.750000</td>\n",
              "      <td>0.000000</td>\n",
              "      <td>9.400000</td>\n",
              "      <td>0.300000</td>\n",
              "      <td>-1.700000</td>\n",
              "      <td>NaN</td>\n",
              "    </tr>\n",
              "    <tr>\n",
              "      <th>50%</th>\n",
              "      <td>1.000000</td>\n",
              "      <td>8.000000</td>\n",
              "      <td>1.000000</td>\n",
              "      <td>10.000000</td>\n",
              "      <td>1.000000</td>\n",
              "      <td>1.000000</td>\n",
              "      <td>1.000000</td>\n",
              "      <td>13.000000</td>\n",
              "      <td>14.000000</td>\n",
              "      <td>6.000000</td>\n",
              "      <td>8.000000</td>\n",
              "      <td>1.000000</td>\n",
              "      <td>0.000000</td>\n",
              "      <td>0.000000</td>\n",
              "      <td>1.000000</td>\n",
              "      <td>0.000000</td>\n",
              "      <td>0.000000</td>\n",
              "      <td>20.000000</td>\n",
              "      <td>0.000000</td>\n",
              "      <td>0.000000</td>\n",
              "      <td>6.000000</td>\n",
              "      <td>8.000000</td>\n",
              "      <td>5.000000</td>\n",
              "      <td>12.285714</td>\n",
              "      <td>0.000000</td>\n",
              "      <td>0.000000</td>\n",
              "      <td>6.000000</td>\n",
              "      <td>8.000000</td>\n",
              "      <td>5.000000</td>\n",
              "      <td>12.200000</td>\n",
              "      <td>0.000000</td>\n",
              "      <td>11.100000</td>\n",
              "      <td>1.400000</td>\n",
              "      <td>0.320000</td>\n",
              "      <td>NaN</td>\n",
              "    </tr>\n",
              "    <tr>\n",
              "      <th>75%</th>\n",
              "      <td>1.000000</td>\n",
              "      <td>12.000000</td>\n",
              "      <td>2.000000</td>\n",
              "      <td>13.000000</td>\n",
              "      <td>1.000000</td>\n",
              "      <td>1.000000</td>\n",
              "      <td>1.000000</td>\n",
              "      <td>22.000000</td>\n",
              "      <td>27.000000</td>\n",
              "      <td>10.000000</td>\n",
              "      <td>10.000000</td>\n",
              "      <td>1.000000</td>\n",
              "      <td>0.000000</td>\n",
              "      <td>0.000000</td>\n",
              "      <td>1.000000</td>\n",
              "      <td>1.000000</td>\n",
              "      <td>0.000000</td>\n",
              "      <td>25.000000</td>\n",
              "      <td>0.000000</td>\n",
              "      <td>0.000000</td>\n",
              "      <td>7.000000</td>\n",
              "      <td>10.000000</td>\n",
              "      <td>6.000000</td>\n",
              "      <td>13.400000</td>\n",
              "      <td>0.000000</td>\n",
              "      <td>0.000000</td>\n",
              "      <td>7.000000</td>\n",
              "      <td>10.000000</td>\n",
              "      <td>6.000000</td>\n",
              "      <td>13.333333</td>\n",
              "      <td>0.000000</td>\n",
              "      <td>13.900000</td>\n",
              "      <td>2.600000</td>\n",
              "      <td>1.790000</td>\n",
              "      <td>NaN</td>\n",
              "    </tr>\n",
              "    <tr>\n",
              "      <th>max</th>\n",
              "      <td>6.000000</td>\n",
              "      <td>18.000000</td>\n",
              "      <td>9.000000</td>\n",
              "      <td>17.000000</td>\n",
              "      <td>1.000000</td>\n",
              "      <td>17.000000</td>\n",
              "      <td>21.000000</td>\n",
              "      <td>29.000000</td>\n",
              "      <td>34.000000</td>\n",
              "      <td>32.000000</td>\n",
              "      <td>46.000000</td>\n",
              "      <td>1.000000</td>\n",
              "      <td>1.000000</td>\n",
              "      <td>1.000000</td>\n",
              "      <td>1.000000</td>\n",
              "      <td>1.000000</td>\n",
              "      <td>1.000000</td>\n",
              "      <td>70.000000</td>\n",
              "      <td>1.000000</td>\n",
              "      <td>20.000000</td>\n",
              "      <td>26.000000</td>\n",
              "      <td>45.000000</td>\n",
              "      <td>26.000000</td>\n",
              "      <td>18.875000</td>\n",
              "      <td>12.000000</td>\n",
              "      <td>19.000000</td>\n",
              "      <td>23.000000</td>\n",
              "      <td>33.000000</td>\n",
              "      <td>20.000000</td>\n",
              "      <td>18.571429</td>\n",
              "      <td>12.000000</td>\n",
              "      <td>16.200000</td>\n",
              "      <td>3.700000</td>\n",
              "      <td>3.510000</td>\n",
              "      <td>NaN</td>\n",
              "    </tr>\n",
              "  </tbody>\n",
              "</table>\n",
              "</div>\n",
              "    <div class=\"colab-df-buttons\">\n",
              "\n",
              "  <div class=\"colab-df-container\">\n",
              "    <button class=\"colab-df-convert\" onclick=\"convertToInteractive('df-9f8d5cf5-1332-49ce-b050-6ee7c6af3842')\"\n",
              "            title=\"Convert this dataframe to an interactive table.\"\n",
              "            style=\"display:none;\">\n",
              "\n",
              "  <svg xmlns=\"http://www.w3.org/2000/svg\" height=\"24px\" viewBox=\"0 -960 960 960\">\n",
              "    <path d=\"M120-120v-720h720v720H120Zm60-500h600v-160H180v160Zm220 220h160v-160H400v160Zm0 220h160v-160H400v160ZM180-400h160v-160H180v160Zm440 0h160v-160H620v160ZM180-180h160v-160H180v160Zm440 0h160v-160H620v160Z\"/>\n",
              "  </svg>\n",
              "    </button>\n",
              "\n",
              "  <style>\n",
              "    .colab-df-container {\n",
              "      display:flex;\n",
              "      gap: 12px;\n",
              "    }\n",
              "\n",
              "    .colab-df-convert {\n",
              "      background-color: #E8F0FE;\n",
              "      border: none;\n",
              "      border-radius: 50%;\n",
              "      cursor: pointer;\n",
              "      display: none;\n",
              "      fill: #1967D2;\n",
              "      height: 32px;\n",
              "      padding: 0 0 0 0;\n",
              "      width: 32px;\n",
              "    }\n",
              "\n",
              "    .colab-df-convert:hover {\n",
              "      background-color: #E2EBFA;\n",
              "      box-shadow: 0px 1px 2px rgba(60, 64, 67, 0.3), 0px 1px 3px 1px rgba(60, 64, 67, 0.15);\n",
              "      fill: #174EA6;\n",
              "    }\n",
              "\n",
              "    .colab-df-buttons div {\n",
              "      margin-bottom: 4px;\n",
              "    }\n",
              "\n",
              "    [theme=dark] .colab-df-convert {\n",
              "      background-color: #3B4455;\n",
              "      fill: #D2E3FC;\n",
              "    }\n",
              "\n",
              "    [theme=dark] .colab-df-convert:hover {\n",
              "      background-color: #434B5C;\n",
              "      box-shadow: 0px 1px 3px 1px rgba(0, 0, 0, 0.15);\n",
              "      filter: drop-shadow(0px 1px 2px rgba(0, 0, 0, 0.3));\n",
              "      fill: #FFFFFF;\n",
              "    }\n",
              "  </style>\n",
              "\n",
              "    <script>\n",
              "      const buttonEl =\n",
              "        document.querySelector('#df-9f8d5cf5-1332-49ce-b050-6ee7c6af3842 button.colab-df-convert');\n",
              "      buttonEl.style.display =\n",
              "        google.colab.kernel.accessAllowed ? 'block' : 'none';\n",
              "\n",
              "      async function convertToInteractive(key) {\n",
              "        const element = document.querySelector('#df-9f8d5cf5-1332-49ce-b050-6ee7c6af3842');\n",
              "        const dataTable =\n",
              "          await google.colab.kernel.invokeFunction('convertToInteractive',\n",
              "                                                    [key], {});\n",
              "        if (!dataTable) return;\n",
              "\n",
              "        const docLinkHtml = 'Like what you see? Visit the ' +\n",
              "          '<a target=\"_blank\" href=https://colab.research.google.com/notebooks/data_table.ipynb>data table notebook</a>'\n",
              "          + ' to learn more about interactive tables.';\n",
              "        element.innerHTML = '';\n",
              "        dataTable['output_type'] = 'display_data';\n",
              "        await google.colab.output.renderOutput(dataTable, element);\n",
              "        const docLink = document.createElement('div');\n",
              "        docLink.innerHTML = docLinkHtml;\n",
              "        element.appendChild(docLink);\n",
              "      }\n",
              "    </script>\n",
              "  </div>\n",
              "\n",
              "\n",
              "    <div id=\"df-2c8d7517-39d7-46cb-98ec-ef92989a2cd5\">\n",
              "      <button class=\"colab-df-quickchart\" onclick=\"quickchart('df-2c8d7517-39d7-46cb-98ec-ef92989a2cd5')\"\n",
              "                title=\"Suggest charts\"\n",
              "                style=\"display:none;\">\n",
              "\n",
              "<svg xmlns=\"http://www.w3.org/2000/svg\" height=\"24px\"viewBox=\"0 0 24 24\"\n",
              "     width=\"24px\">\n",
              "    <g>\n",
              "        <path d=\"M19 3H5c-1.1 0-2 .9-2 2v14c0 1.1.9 2 2 2h14c1.1 0 2-.9 2-2V5c0-1.1-.9-2-2-2zM9 17H7v-7h2v7zm4 0h-2V7h2v10zm4 0h-2v-4h2v4z\"/>\n",
              "    </g>\n",
              "</svg>\n",
              "      </button>\n",
              "\n",
              "<style>\n",
              "  .colab-df-quickchart {\n",
              "      --bg-color: #E8F0FE;\n",
              "      --fill-color: #1967D2;\n",
              "      --hover-bg-color: #E2EBFA;\n",
              "      --hover-fill-color: #174EA6;\n",
              "      --disabled-fill-color: #AAA;\n",
              "      --disabled-bg-color: #DDD;\n",
              "  }\n",
              "\n",
              "  [theme=dark] .colab-df-quickchart {\n",
              "      --bg-color: #3B4455;\n",
              "      --fill-color: #D2E3FC;\n",
              "      --hover-bg-color: #434B5C;\n",
              "      --hover-fill-color: #FFFFFF;\n",
              "      --disabled-bg-color: #3B4455;\n",
              "      --disabled-fill-color: #666;\n",
              "  }\n",
              "\n",
              "  .colab-df-quickchart {\n",
              "    background-color: var(--bg-color);\n",
              "    border: none;\n",
              "    border-radius: 50%;\n",
              "    cursor: pointer;\n",
              "    display: none;\n",
              "    fill: var(--fill-color);\n",
              "    height: 32px;\n",
              "    padding: 0;\n",
              "    width: 32px;\n",
              "  }\n",
              "\n",
              "  .colab-df-quickchart:hover {\n",
              "    background-color: var(--hover-bg-color);\n",
              "    box-shadow: 0 1px 2px rgba(60, 64, 67, 0.3), 0 1px 3px 1px rgba(60, 64, 67, 0.15);\n",
              "    fill: var(--button-hover-fill-color);\n",
              "  }\n",
              "\n",
              "  .colab-df-quickchart-complete:disabled,\n",
              "  .colab-df-quickchart-complete:disabled:hover {\n",
              "    background-color: var(--disabled-bg-color);\n",
              "    fill: var(--disabled-fill-color);\n",
              "    box-shadow: none;\n",
              "  }\n",
              "\n",
              "  .colab-df-spinner {\n",
              "    border: 2px solid var(--fill-color);\n",
              "    border-color: transparent;\n",
              "    border-bottom-color: var(--fill-color);\n",
              "    animation:\n",
              "      spin 1s steps(1) infinite;\n",
              "  }\n",
              "\n",
              "  @keyframes spin {\n",
              "    0% {\n",
              "      border-color: transparent;\n",
              "      border-bottom-color: var(--fill-color);\n",
              "      border-left-color: var(--fill-color);\n",
              "    }\n",
              "    20% {\n",
              "      border-color: transparent;\n",
              "      border-left-color: var(--fill-color);\n",
              "      border-top-color: var(--fill-color);\n",
              "    }\n",
              "    30% {\n",
              "      border-color: transparent;\n",
              "      border-left-color: var(--fill-color);\n",
              "      border-top-color: var(--fill-color);\n",
              "      border-right-color: var(--fill-color);\n",
              "    }\n",
              "    40% {\n",
              "      border-color: transparent;\n",
              "      border-right-color: var(--fill-color);\n",
              "      border-top-color: var(--fill-color);\n",
              "    }\n",
              "    60% {\n",
              "      border-color: transparent;\n",
              "      border-right-color: var(--fill-color);\n",
              "    }\n",
              "    80% {\n",
              "      border-color: transparent;\n",
              "      border-right-color: var(--fill-color);\n",
              "      border-bottom-color: var(--fill-color);\n",
              "    }\n",
              "    90% {\n",
              "      border-color: transparent;\n",
              "      border-bottom-color: var(--fill-color);\n",
              "    }\n",
              "  }\n",
              "</style>\n",
              "\n",
              "      <script>\n",
              "        async function quickchart(key) {\n",
              "          const quickchartButtonEl =\n",
              "            document.querySelector('#' + key + ' button');\n",
              "          quickchartButtonEl.disabled = true;  // To prevent multiple clicks.\n",
              "          quickchartButtonEl.classList.add('colab-df-spinner');\n",
              "          try {\n",
              "            const charts = await google.colab.kernel.invokeFunction(\n",
              "                'suggestCharts', [key], {});\n",
              "          } catch (error) {\n",
              "            console.error('Error during call to suggestCharts:', error);\n",
              "          }\n",
              "          quickchartButtonEl.classList.remove('colab-df-spinner');\n",
              "          quickchartButtonEl.classList.add('colab-df-quickchart-complete');\n",
              "        }\n",
              "        (() => {\n",
              "          let quickchartButtonEl =\n",
              "            document.querySelector('#df-2c8d7517-39d7-46cb-98ec-ef92989a2cd5 button');\n",
              "          quickchartButtonEl.style.display =\n",
              "            google.colab.kernel.accessAllowed ? 'block' : 'none';\n",
              "        })();\n",
              "      </script>\n",
              "    </div>\n",
              "\n",
              "    </div>\n",
              "  </div>\n"
            ],
            "application/vnd.google.colaboratory.intrinsic+json": {
              "type": "dataframe"
            }
          },
          "metadata": {},
          "execution_count": 5
        }
      ],
      "source": [
        "# descriptive analysis\n",
        "pd.set_option('display.max_columns', None)\n",
        "data.describe(include = 'all')"
      ]
    },
    {
      "cell_type": "code",
      "execution_count": 6,
      "metadata": {
        "colab": {
          "base_uri": "https://localhost:8080/"
        },
        "id": "KUQ4DICmAIdP",
        "outputId": "3b3f9d0b-0e66-4372-e740-0ac5a6fe4c71"
      },
      "outputs": [
        {
          "output_type": "execute_result",
          "data": {
            "text/plain": [
              "np.int64(0)"
            ]
          },
          "metadata": {},
          "execution_count": 6
        }
      ],
      "source": [
        "#Checking for null values\n",
        "data.isnull().any().sum()"
      ]
    },
    {
      "cell_type": "markdown",
      "metadata": {
        "id": "jM7NVEXF81EV"
      },
      "source": [
        "No null values present in the data set"
      ]
    },
    {
      "cell_type": "markdown",
      "metadata": {
        "id": "h0j5NzfTLHHz"
      },
      "source": [
        "#Exploratory Data Analysis"
      ]
    },
    {
      "cell_type": "markdown",
      "metadata": {
        "id": "JptzEOhTAIdJ"
      },
      "source": [
        "The majority of categorical variables in the downloaded dataset have already been converted to numerical format. However, for the purpose of exploratory data analysis (EDA), we will revert certain columns to their original categorical form."
      ]
    },
    {
      "cell_type": "code",
      "execution_count": 7,
      "metadata": {
        "id": "Dok2c_qeFfyB"
      },
      "outputs": [],
      "source": [
        "# Create a copy for exploratory data analysis\n",
        "data_viz = data.copy()"
      ]
    },
    {
      "cell_type": "markdown",
      "metadata": {
        "id": "8f6DAxilZjxj"
      },
      "source": [
        "## Target Feature\n",
        "First we explore the values in the target column"
      ]
    },
    {
      "cell_type": "code",
      "execution_count": 8,
      "metadata": {
        "colab": {
          "base_uri": "https://localhost:8080/"
        },
        "id": "JfgaKlTAAIdG",
        "outputId": "669c233a-188e-4333-bd65-a1a1261e7086"
      },
      "outputs": [
        {
          "output_type": "execute_result",
          "data": {
            "text/plain": [
              "array(['Dropout', 'Graduate', 'Enrolled'], dtype=object)"
            ]
          },
          "metadata": {},
          "execution_count": 8
        }
      ],
      "source": [
        "data['Target'].unique()"
      ]
    },
    {
      "cell_type": "markdown",
      "metadata": {
        "id": "8w4k5xiaKgd_"
      },
      "source": [
        "From the target column we can infer the following:\n",
        "* Dropout: The student dropped out\n",
        "* Graduate: The student graduated\n",
        "* Enrolled: The student is currently enrolled"
      ]
    },
    {
      "cell_type": "code",
      "source": [
        "# Distribution of Target feature\n",
        "fig = px.pie(values= data_viz['Target'].value_counts(),\n",
        "             names= data_viz['Target'].value_counts().index.to_list())\n",
        "\n",
        "fig.update_traces(textposition='inside', textinfo='percent+label',\n",
        "                  marker=dict(colors=['teal', 'goldenrod', 'slateblue']))\n",
        "\n",
        "fig.update_layout(showlegend = False, height=400, width=800,\n",
        "                  title='Distribution of Target')\n",
        "fig.show()"
      ],
      "metadata": {
        "id": "HMql3u4WoVtX",
        "colab": {
          "base_uri": "https://localhost:8080/",
          "height": 608
        },
        "outputId": "3cb4b088-d881-43ba-92d9-bfd0ad2bd902"
      },
      "execution_count": 9,
      "outputs": [
        {
          "output_type": "stream",
          "name": "stderr",
          "text": [
            "/usr/local/lib/python3.11/dist-packages/kaleido/__init__.py:14: UserWarning:\n",
            "\n",
            "\n",
            "\n",
            "Warning: You have Plotly version 5.24.1, which is not compatible with this version of Kaleido (1.0.0).\n",
            "\n",
            "This means that static image generation (e.g. `fig.write_image()`) will not work.\n",
            "\n",
            "Please upgrade Plotly to version 6.1.1 or greater, or downgrade Kaleido to version 0.2.1.\n",
            "\n",
            "\n"
          ]
        },
        {
          "output_type": "display_data",
          "data": {
            "text/html": [
              "<html>\n",
              "<head><meta charset=\"utf-8\" /></head>\n",
              "<body>\n",
              "    <div>            <script src=\"https://cdnjs.cloudflare.com/ajax/libs/mathjax/2.7.5/MathJax.js?config=TeX-AMS-MML_SVG\"></script><script type=\"text/javascript\">if (window.MathJax && window.MathJax.Hub && window.MathJax.Hub.Config) {window.MathJax.Hub.Config({SVG: {font: \"STIX-Web\"}});}</script>                <script type=\"text/javascript\">window.PlotlyConfig = {MathJaxConfig: 'local'};</script>\n",
              "        <script charset=\"utf-8\" src=\"https://cdn.plot.ly/plotly-2.35.2.min.js\"></script>                <div id=\"302f0d74-0d3f-43b0-8d06-08b322aea0ca\" class=\"plotly-graph-div\" style=\"height:400px; width:800px;\"></div>            <script type=\"text/javascript\">                                    window.PLOTLYENV=window.PLOTLYENV || {};                                    if (document.getElementById(\"302f0d74-0d3f-43b0-8d06-08b322aea0ca\")) {                    Plotly.newPlot(                        \"302f0d74-0d3f-43b0-8d06-08b322aea0ca\",                        [{\"domain\":{\"x\":[0.0,1.0],\"y\":[0.0,1.0]},\"hovertemplate\":\"label=%{label}\\u003cbr\\u003evalue=%{value}\\u003cextra\\u003e\\u003c\\u002fextra\\u003e\",\"labels\":[\"Graduate\",\"Dropout\",\"Enrolled\"],\"legendgroup\":\"\",\"name\":\"\",\"showlegend\":true,\"values\":[2209,1421,794],\"type\":\"pie\",\"marker\":{\"colors\":[\"teal\",\"goldenrod\",\"slateblue\"]},\"textinfo\":\"percent+label\",\"textposition\":\"inside\"}],                        {\"template\":{\"data\":{\"histogram2dcontour\":[{\"type\":\"histogram2dcontour\",\"colorbar\":{\"outlinewidth\":0,\"ticks\":\"\"},\"colorscale\":[[0.0,\"#0d0887\"],[0.1111111111111111,\"#46039f\"],[0.2222222222222222,\"#7201a8\"],[0.3333333333333333,\"#9c179e\"],[0.4444444444444444,\"#bd3786\"],[0.5555555555555556,\"#d8576b\"],[0.6666666666666666,\"#ed7953\"],[0.7777777777777778,\"#fb9f3a\"],[0.8888888888888888,\"#fdca26\"],[1.0,\"#f0f921\"]]}],\"choropleth\":[{\"type\":\"choropleth\",\"colorbar\":{\"outlinewidth\":0,\"ticks\":\"\"}}],\"histogram2d\":[{\"type\":\"histogram2d\",\"colorbar\":{\"outlinewidth\":0,\"ticks\":\"\"},\"colorscale\":[[0.0,\"#0d0887\"],[0.1111111111111111,\"#46039f\"],[0.2222222222222222,\"#7201a8\"],[0.3333333333333333,\"#9c179e\"],[0.4444444444444444,\"#bd3786\"],[0.5555555555555556,\"#d8576b\"],[0.6666666666666666,\"#ed7953\"],[0.7777777777777778,\"#fb9f3a\"],[0.8888888888888888,\"#fdca26\"],[1.0,\"#f0f921\"]]}],\"heatmap\":[{\"type\":\"heatmap\",\"colorbar\":{\"outlinewidth\":0,\"ticks\":\"\"},\"colorscale\":[[0.0,\"#0d0887\"],[0.1111111111111111,\"#46039f\"],[0.2222222222222222,\"#7201a8\"],[0.3333333333333333,\"#9c179e\"],[0.4444444444444444,\"#bd3786\"],[0.5555555555555556,\"#d8576b\"],[0.6666666666666666,\"#ed7953\"],[0.7777777777777778,\"#fb9f3a\"],[0.8888888888888888,\"#fdca26\"],[1.0,\"#f0f921\"]]}],\"heatmapgl\":[{\"type\":\"heatmapgl\",\"colorbar\":{\"outlinewidth\":0,\"ticks\":\"\"},\"colorscale\":[[0.0,\"#0d0887\"],[0.1111111111111111,\"#46039f\"],[0.2222222222222222,\"#7201a8\"],[0.3333333333333333,\"#9c179e\"],[0.4444444444444444,\"#bd3786\"],[0.5555555555555556,\"#d8576b\"],[0.6666666666666666,\"#ed7953\"],[0.7777777777777778,\"#fb9f3a\"],[0.8888888888888888,\"#fdca26\"],[1.0,\"#f0f921\"]]}],\"contourcarpet\":[{\"type\":\"contourcarpet\",\"colorbar\":{\"outlinewidth\":0,\"ticks\":\"\"}}],\"contour\":[{\"type\":\"contour\",\"colorbar\":{\"outlinewidth\":0,\"ticks\":\"\"},\"colorscale\":[[0.0,\"#0d0887\"],[0.1111111111111111,\"#46039f\"],[0.2222222222222222,\"#7201a8\"],[0.3333333333333333,\"#9c179e\"],[0.4444444444444444,\"#bd3786\"],[0.5555555555555556,\"#d8576b\"],[0.6666666666666666,\"#ed7953\"],[0.7777777777777778,\"#fb9f3a\"],[0.8888888888888888,\"#fdca26\"],[1.0,\"#f0f921\"]]}],\"surface\":[{\"type\":\"surface\",\"colorbar\":{\"outlinewidth\":0,\"ticks\":\"\"},\"colorscale\":[[0.0,\"#0d0887\"],[0.1111111111111111,\"#46039f\"],[0.2222222222222222,\"#7201a8\"],[0.3333333333333333,\"#9c179e\"],[0.4444444444444444,\"#bd3786\"],[0.5555555555555556,\"#d8576b\"],[0.6666666666666666,\"#ed7953\"],[0.7777777777777778,\"#fb9f3a\"],[0.8888888888888888,\"#fdca26\"],[1.0,\"#f0f921\"]]}],\"mesh3d\":[{\"type\":\"mesh3d\",\"colorbar\":{\"outlinewidth\":0,\"ticks\":\"\"}}],\"scatter\":[{\"fillpattern\":{\"fillmode\":\"overlay\",\"size\":10,\"solidity\":0.2},\"type\":\"scatter\"}],\"parcoords\":[{\"type\":\"parcoords\",\"line\":{\"colorbar\":{\"outlinewidth\":0,\"ticks\":\"\"}}}],\"scatterpolargl\":[{\"type\":\"scatterpolargl\",\"marker\":{\"colorbar\":{\"outlinewidth\":0,\"ticks\":\"\"}}}],\"bar\":[{\"error_x\":{\"color\":\"#2a3f5f\"},\"error_y\":{\"color\":\"#2a3f5f\"},\"marker\":{\"line\":{\"color\":\"#E5ECF6\",\"width\":0.5},\"pattern\":{\"fillmode\":\"overlay\",\"size\":10,\"solidity\":0.2}},\"type\":\"bar\"}],\"scattergeo\":[{\"type\":\"scattergeo\",\"marker\":{\"colorbar\":{\"outlinewidth\":0,\"ticks\":\"\"}}}],\"scatterpolar\":[{\"type\":\"scatterpolar\",\"marker\":{\"colorbar\":{\"outlinewidth\":0,\"ticks\":\"\"}}}],\"histogram\":[{\"marker\":{\"pattern\":{\"fillmode\":\"overlay\",\"size\":10,\"solidity\":0.2}},\"type\":\"histogram\"}],\"scattergl\":[{\"type\":\"scattergl\",\"marker\":{\"colorbar\":{\"outlinewidth\":0,\"ticks\":\"\"}}}],\"scatter3d\":[{\"type\":\"scatter3d\",\"line\":{\"colorbar\":{\"outlinewidth\":0,\"ticks\":\"\"}},\"marker\":{\"colorbar\":{\"outlinewidth\":0,\"ticks\":\"\"}}}],\"scattermapbox\":[{\"type\":\"scattermapbox\",\"marker\":{\"colorbar\":{\"outlinewidth\":0,\"ticks\":\"\"}}}],\"scatterternary\":[{\"type\":\"scatterternary\",\"marker\":{\"colorbar\":{\"outlinewidth\":0,\"ticks\":\"\"}}}],\"scattercarpet\":[{\"type\":\"scattercarpet\",\"marker\":{\"colorbar\":{\"outlinewidth\":0,\"ticks\":\"\"}}}],\"carpet\":[{\"aaxis\":{\"endlinecolor\":\"#2a3f5f\",\"gridcolor\":\"white\",\"linecolor\":\"white\",\"minorgridcolor\":\"white\",\"startlinecolor\":\"#2a3f5f\"},\"baxis\":{\"endlinecolor\":\"#2a3f5f\",\"gridcolor\":\"white\",\"linecolor\":\"white\",\"minorgridcolor\":\"white\",\"startlinecolor\":\"#2a3f5f\"},\"type\":\"carpet\"}],\"table\":[{\"cells\":{\"fill\":{\"color\":\"#EBF0F8\"},\"line\":{\"color\":\"white\"}},\"header\":{\"fill\":{\"color\":\"#C8D4E3\"},\"line\":{\"color\":\"white\"}},\"type\":\"table\"}],\"barpolar\":[{\"marker\":{\"line\":{\"color\":\"#E5ECF6\",\"width\":0.5},\"pattern\":{\"fillmode\":\"overlay\",\"size\":10,\"solidity\":0.2}},\"type\":\"barpolar\"}],\"pie\":[{\"automargin\":true,\"type\":\"pie\"}]},\"layout\":{\"autotypenumbers\":\"strict\",\"colorway\":[\"#636efa\",\"#EF553B\",\"#00cc96\",\"#ab63fa\",\"#FFA15A\",\"#19d3f3\",\"#FF6692\",\"#B6E880\",\"#FF97FF\",\"#FECB52\"],\"font\":{\"color\":\"#2a3f5f\"},\"hovermode\":\"closest\",\"hoverlabel\":{\"align\":\"left\"},\"paper_bgcolor\":\"white\",\"plot_bgcolor\":\"#E5ECF6\",\"polar\":{\"bgcolor\":\"#E5ECF6\",\"angularaxis\":{\"gridcolor\":\"white\",\"linecolor\":\"white\",\"ticks\":\"\"},\"radialaxis\":{\"gridcolor\":\"white\",\"linecolor\":\"white\",\"ticks\":\"\"}},\"ternary\":{\"bgcolor\":\"#E5ECF6\",\"aaxis\":{\"gridcolor\":\"white\",\"linecolor\":\"white\",\"ticks\":\"\"},\"baxis\":{\"gridcolor\":\"white\",\"linecolor\":\"white\",\"ticks\":\"\"},\"caxis\":{\"gridcolor\":\"white\",\"linecolor\":\"white\",\"ticks\":\"\"}},\"coloraxis\":{\"colorbar\":{\"outlinewidth\":0,\"ticks\":\"\"}},\"colorscale\":{\"sequential\":[[0.0,\"#0d0887\"],[0.1111111111111111,\"#46039f\"],[0.2222222222222222,\"#7201a8\"],[0.3333333333333333,\"#9c179e\"],[0.4444444444444444,\"#bd3786\"],[0.5555555555555556,\"#d8576b\"],[0.6666666666666666,\"#ed7953\"],[0.7777777777777778,\"#fb9f3a\"],[0.8888888888888888,\"#fdca26\"],[1.0,\"#f0f921\"]],\"sequentialminus\":[[0.0,\"#0d0887\"],[0.1111111111111111,\"#46039f\"],[0.2222222222222222,\"#7201a8\"],[0.3333333333333333,\"#9c179e\"],[0.4444444444444444,\"#bd3786\"],[0.5555555555555556,\"#d8576b\"],[0.6666666666666666,\"#ed7953\"],[0.7777777777777778,\"#fb9f3a\"],[0.8888888888888888,\"#fdca26\"],[1.0,\"#f0f921\"]],\"diverging\":[[0,\"#8e0152\"],[0.1,\"#c51b7d\"],[0.2,\"#de77ae\"],[0.3,\"#f1b6da\"],[0.4,\"#fde0ef\"],[0.5,\"#f7f7f7\"],[0.6,\"#e6f5d0\"],[0.7,\"#b8e186\"],[0.8,\"#7fbc41\"],[0.9,\"#4d9221\"],[1,\"#276419\"]]},\"xaxis\":{\"gridcolor\":\"white\",\"linecolor\":\"white\",\"ticks\":\"\",\"title\":{\"standoff\":15},\"zerolinecolor\":\"white\",\"automargin\":true,\"zerolinewidth\":2},\"yaxis\":{\"gridcolor\":\"white\",\"linecolor\":\"white\",\"ticks\":\"\",\"title\":{\"standoff\":15},\"zerolinecolor\":\"white\",\"automargin\":true,\"zerolinewidth\":2},\"scene\":{\"xaxis\":{\"backgroundcolor\":\"#E5ECF6\",\"gridcolor\":\"white\",\"linecolor\":\"white\",\"showbackground\":true,\"ticks\":\"\",\"zerolinecolor\":\"white\",\"gridwidth\":2},\"yaxis\":{\"backgroundcolor\":\"#E5ECF6\",\"gridcolor\":\"white\",\"linecolor\":\"white\",\"showbackground\":true,\"ticks\":\"\",\"zerolinecolor\":\"white\",\"gridwidth\":2},\"zaxis\":{\"backgroundcolor\":\"#E5ECF6\",\"gridcolor\":\"white\",\"linecolor\":\"white\",\"showbackground\":true,\"ticks\":\"\",\"zerolinecolor\":\"white\",\"gridwidth\":2}},\"shapedefaults\":{\"line\":{\"color\":\"#2a3f5f\"}},\"annotationdefaults\":{\"arrowcolor\":\"#2a3f5f\",\"arrowhead\":0,\"arrowwidth\":1},\"geo\":{\"bgcolor\":\"white\",\"landcolor\":\"#E5ECF6\",\"subunitcolor\":\"white\",\"showland\":true,\"showlakes\":true,\"lakecolor\":\"white\"},\"title\":{\"x\":0.05},\"mapbox\":{\"style\":\"light\"}}},\"legend\":{\"tracegroupgap\":0},\"margin\":{\"t\":60},\"showlegend\":false,\"height\":400,\"width\":800,\"title\":{\"text\":\"Distribution of Target\"}},                        {\"responsive\": true}                    ).then(function(){\n",
              "                            \n",
              "var gd = document.getElementById('302f0d74-0d3f-43b0-8d06-08b322aea0ca');\n",
              "var x = new MutationObserver(function (mutations, observer) {{\n",
              "        var display = window.getComputedStyle(gd).display;\n",
              "        if (!display || display === 'none') {{\n",
              "            console.log([gd, 'removed!']);\n",
              "            Plotly.purge(gd);\n",
              "            observer.disconnect();\n",
              "        }}\n",
              "}});\n",
              "\n",
              "// Listen for the removal of the full notebook cells\n",
              "var notebookContainer = gd.closest('#notebook-container');\n",
              "if (notebookContainer) {{\n",
              "    x.observe(notebookContainer, {childList: true});\n",
              "}}\n",
              "\n",
              "// Listen for the clearing of the current output cell\n",
              "var outputEl = gd.closest('.output');\n",
              "if (outputEl) {{\n",
              "    x.observe(outputEl, {childList: true});\n",
              "}}\n",
              "\n",
              "                        })                };                            </script>        </div>\n",
              "</body>\n",
              "</html>"
            ]
          },
          "metadata": {}
        }
      ]
    },
    {
      "cell_type": "markdown",
      "metadata": {
        "id": "lV-anaQKAIdV"
      },
      "source": [
        "**Observation**\n",
        "* The graph shows that majority of the students are Graduates **(49%)**\n",
        "* There are also more Dropouts **(32.1%)** than those currently Enrolled **(17%)**"
      ]
    },
    {
      "cell_type": "markdown",
      "metadata": {
        "id": "F0oqXFWXBTnc"
      },
      "source": [
        "## Age distribution of students"
      ]
    },
    {
      "cell_type": "code",
      "execution_count": 10,
      "metadata": {
        "colab": {
          "base_uri": "https://localhost:8080/",
          "height": 517
        },
        "id": "PaDRiuDmAxYz",
        "outputId": "bc5c243e-ed92-4441-a81c-8fb0ab3a98fb"
      },
      "outputs": [
        {
          "output_type": "display_data",
          "data": {
            "text/html": [
              "<html>\n",
              "<head><meta charset=\"utf-8\" /></head>\n",
              "<body>\n",
              "    <div>            <script src=\"https://cdnjs.cloudflare.com/ajax/libs/mathjax/2.7.5/MathJax.js?config=TeX-AMS-MML_SVG\"></script><script type=\"text/javascript\">if (window.MathJax && window.MathJax.Hub && window.MathJax.Hub.Config) {window.MathJax.Hub.Config({SVG: {font: \"STIX-Web\"}});}</script>                <script type=\"text/javascript\">window.PlotlyConfig = {MathJaxConfig: 'local'};</script>\n",
              "        <script charset=\"utf-8\" src=\"https://cdn.plot.ly/plotly-2.35.2.min.js\"></script>                <div id=\"181d503b-edf9-401d-bda6-30f6d5955e9a\" class=\"plotly-graph-div\" style=\"height:500px; width:800px;\"></div>            <script type=\"text/javascript\">                                    window.PLOTLYENV=window.PLOTLYENV || {};                                    if (document.getElementById(\"181d503b-edf9-401d-bda6-30f6d5955e9a\")) {                    Plotly.newPlot(                        \"181d503b-edf9-401d-bda6-30f6d5955e9a\",                        [{\"alignmentgroup\":\"True\",\"bingroup\":\"x\",\"hovertemplate\":\"Target=Dropout\\u003cbr\\u003eAge at enrollment=%{x}\\u003cbr\\u003ecount=%{y}\\u003cextra\\u003e\\u003c\\u002fextra\\u003e\",\"legendgroup\":\"Dropout\",\"marker\":{\"color\":\"#3366CC\",\"opacity\":0.75,\"pattern\":{\"shape\":\"\"}},\"name\":\"Dropout\",\"offsetgroup\":\"Dropout\",\"orientation\":\"v\",\"showlegend\":true,\"x\":[20,19,22,18,19,20,37,43,55,20,18,20,29,27,39,27,29,19,19,18,18,21,20,35,24,24,26,39,19,21,36,19,19,20,20,18,21,19,19,18,19,19,19,20,21,19,19,21,21,20,20,18,33,27,19,20,20,24,24,21,27,35,36,26,24,27,21,18,28,38,21,25,24,25,29,18,37,22,34,30,20,20,29,19,18,19,34,19,21,25,26,26,18,24,19,22,33,26,19,18,31,34,26,18,20,18,19,25,23,18,29,21,19,19,18,32,22,27,23,28,21,28,19,20,31,27,29,28,18,21,32,40,39,39,23,48,23,18,31,26,18,22,20,27,19,19,25,21,19,20,25,25,25,18,22,19,29,31,29,20,31,23,21,21,19,18,19,19,23,21,18,34,20,25,18,19,30,23,50,20,44,41,70,48,35,18,39,49,43,32,37,50,45,45,29,53,35,33,41,35,18,34,30,20,18,18,27,29,22,30,32,19,18,23,18,22,21,20,18,36,18,20,22,18,19,20,47,31,46,19,22,19,29,23,21,22,28,23,20,18,28,21,25,19,29,29,33,21,25,23,31,32,32,26,21,19,20,20,20,38,32,28,37,18,39,32,19,31,28,31,34,22,61,45,19,26,19,19,28,28,58,49,33,33,39,34,19,18,19,19,18,18,18,18,18,18,19,18,21,18,18,24,19,18,19,25,23,20,23,28,19,20,19,18,20,21,20,22,22,19,20,22,19,20,26,21,20,19,19,32,30,20,18,18,38,36,21,20,25,23,21,29,28,28,43,32,19,31,26,18,19,32,31,31,34,19,18,30,25,19,28,34,35,35,18,19,22,34,24,26,35,19,19,18,18,19,19,23,21,18,19,26,36,19,27,18,28,26,20,21,23,21,21,22,32,22,22,19,20,25,21,22,58,18,24,18,20,26,26,18,18,18,20,18,20,19,20,24,23,20,19,33,25,20,22,24,20,24,20,19,39,22,19,39,24,27,20,21,19,23,27,20,32,19,41,38,35,27,39,37,37,20,19,37,38,55,28,46,18,34,21,19,23,19,19,18,19,27,18,37,26,24,19,50,47,24,48,32,20,24,42,26,20,21,18,20,22,21,18,19,28,20,21,38,19,24,19,31,25,18,30,18,18,25,33,24,24,38,18,20,40,21,38,18,18,19,44,26,24,27,27,25,20,22,18,26,29,27,20,35,27,28,42,23,18,29,22,18,40,20,18,22,38,33,18,44,20,19,18,24,28,18,19,18,19,19,19,41,23,18,35,34,30,20,26,26,31,23,20,29,37,18,18,35,19,30,51,18,18,18,18,24,19,19,19,19,19,19,21,34,20,24,24,18,18,24,22,33,32,35,27,30,21,45,51,22,33,20,19,20,18,20,23,18,30,18,25,29,26,19,20,18,21,18,21,19,19,20,18,19,25,20,18,18,20,24,29,19,20,20,18,35,19,24,29,37,18,18,19,19,20,19,23,47,18,28,20,24,48,23,22,25,27,49,31,54,25,28,22,34,28,50,19,18,59,33,44,37,36,22,47,21,49,31,30,22,21,22,26,20,18,39,18,18,18,31,28,19,50,31,34,40,46,37,31,18,40,25,20,43,30,18,21,21,27,29,21,32,26,27,18,28,25,25,26,25,45,20,21,47,22,41,26,51,22,25,47,41,29,30,26,27,29,35,18,22,32,35,23,35,20,44,28,31,44,18,19,43,18,18,20,29,44,20,36,29,18,24,45,23,44,42,20,26,25,40,19,18,19,20,19,18,33,19,19,19,33,18,37,32,24,27,20,30,26,21,18,19,19,19,18,34,25,18,18,18,19,34,24,28,20,26,21,36,20,25,22,20,50,20,35,43,22,19,32,20,38,43,49,34,21,43,36,46,27,31,21,21,34,20,21,26,20,25,24,20,41,19,30,18,18,28,36,42,47,25,48,38,26,23,26,24,18,20,28,24,33,19,36,34,20,31,21,19,20,46,37,37,39,53,54,20,19,18,18,22,50,41,50,54,34,45,33,27,45,27,37,23,18,21,47,38,27,48,25,20,39,29,36,51,23,21,28,41,45,19,27,26,36,45,18,19,25,19,28,22,20,37,19,19,18,18,19,19,19,28,19,19,20,18,31,19,27,32,18,18,21,51,29,27,57,26,23,19,27,18,19,24,26,27,29,19,19,18,31,19,18,22,18,24,21,20,18,35,18,24,19,30,19,21,19,29,18,20,18,35,33,19,18,28,25,19,20,18,26,19,24,26,31,20,38,19,21,36,21,21,37,21,30,27,45,44,34,22,59,36,19,20,35,27,26,19,18,31,18,40,40,28,21,22,18,27,28,31,21,27,21,35,28,19,37,19,36,29,32,37,27,32,22,32,19,38,21,21,18,25,26,31,35,18,18,21,23,18,30,20,29,27,23,19,18,19,18,19,22,40,32,35,50,24,18,21,25,37,38,36,19,24,21,32,39,33,43,49,19,45,18,29,18,20,29,29,19,18,22,34,24,49,23,18,45,30,28,40,32,19,18,20,28,31,33,22,20,25,31,24,23,26,25,28,24,21,27,25,18,27,27,18,19,23,20,21,20,19,19,18,18,18,23,26,18,19,20,21,27,19,19,47,23,19,18,36,30,24,26,19,26,29,19,18,29,18,20,30,30,19,21,21,27,32,40,20,21,18,30,29,18,18,22,27,21,40,22,18,24,18,18,26,18,20,27,19,18,19,26,29,36,20,18,20,20,24,19,18,22,32,21,18,38,53,54,44,19,22,24,26,24,26,27,19,18,19,30,22,19,21,22,35,20,27,26,20,28,47,55,39,35,32,21,42,25,18,34,20,20,31,19,41,27,19,18,35,39,19,34,34,18,19,20,29,24,27,21,21,26,22,27,32,19,21,28,19,27,18,42,20,34,22,34,31,19,19,31,30,31,19,43,22,29,19,43,19,38,37,19,18,20,28,18,35,18,21,18,18,29,36,34,29,18,32,18,19,24,18,41,32,21,39,18,19,33,21,20,28,36,24,22,20,19,18,20,22,19,28,19,20,19,19,19,20,39,30,40,20,19,23,18,19,48,38,30,19,19,29,21,20,27,20,28,23,20,24,18,25,25,18,19,18,25,38,19,32,21,18,19,28,26,25,31,19,23,19,24,21,20,19,18,35,31,19,18,25,24,27,28,30,29,27,19,21,29,42,19,37,24,28,47,21,46,18,30],\"xaxis\":\"x\",\"yaxis\":\"y\",\"type\":\"histogram\"},{\"alignmentgroup\":\"True\",\"bingroup\":\"x\",\"hovertemplate\":\"Target=Graduate\\u003cbr\\u003eAge at enrollment=%{x}\\u003cbr\\u003ecount=%{y}\\u003cextra\\u003e\\u003c\\u002fextra\\u003e\",\"legendgroup\":\"Graduate\",\"marker\":{\"color\":\"#DC3912\",\"opacity\":0.75,\"pattern\":{\"shape\":\"\"}},\"name\":\"Graduate\",\"offsetgroup\":\"Graduate\",\"orientation\":\"v\",\"showlegend\":true,\"x\":[19,20,45,50,18,21,18,18,21,18,18,20,21,18,19,19,21,20,20,19,34,39,22,22,18,22,21,19,24,19,18,18,18,21,19,23,24,18,19,22,33,33,22,25,20,21,44,18,18,20,43,20,18,19,18,18,18,19,19,19,20,18,19,18,19,20,20,18,18,19,19,19,19,19,18,20,19,18,18,18,20,24,18,18,19,19,19,29,20,19,26,27,35,18,20,21,18,18,18,19,20,18,21,18,18,18,18,19,18,18,20,21,19,18,19,19,19,33,45,20,19,18,19,21,22,18,18,20,20,23,19,21,18,19,18,29,19,20,18,18,18,18,19,19,18,21,20,19,20,18,20,22,47,31,21,21,24,32,19,24,19,19,18,19,18,18,20,18,18,21,18,18,19,26,18,20,18,18,19,18,19,19,19,18,19,18,20,19,18,19,40,18,19,18,33,35,18,39,44,20,18,18,24,18,22,21,21,19,50,19,35,18,19,20,19,18,28,21,18,19,20,22,19,18,21,27,19,18,24,20,26,20,18,19,18,19,30,19,20,20,19,19,18,27,19,19,18,18,36,19,18,18,19,19,20,20,18,18,19,44,36,18,20,20,19,24,23,18,18,20,20,20,21,18,19,18,20,18,19,19,23,19,20,18,18,18,18,18,18,28,50,18,18,20,18,24,18,25,24,21,21,28,21,18,19,18,23,21,18,22,27,20,27,20,19,19,20,20,18,18,19,18,19,18,19,19,18,20,20,21,24,27,18,19,20,24,20,19,18,20,20,19,20,18,23,19,18,19,25,19,24,18,19,18,19,26,27,20,18,24,19,19,22,20,21,18,18,19,19,20,28,20,19,22,18,18,19,22,23,49,46,18,43,41,44,45,22,47,41,60,47,33,18,43,44,22,51,19,20,21,21,34,21,19,52,28,18,21,20,21,20,20,46,27,41,37,26,54,21,20,18,19,18,18,18,20,19,18,18,20,19,19,18,18,18,19,18,19,19,18,19,18,18,18,18,18,18,25,18,19,20,21,18,18,18,19,18,18,34,19,20,19,23,34,18,20,18,20,30,18,19,19,19,19,19,34,21,53,19,20,18,21,26,18,21,19,19,27,18,19,19,18,20,42,22,43,41,29,35,26,19,32,20,19,19,18,18,19,32,30,20,19,19,19,24,18,18,21,25,40,48,24,23,21,18,19,28,18,18,19,31,33,19,18,19,18,18,21,18,18,18,20,18,20,20,19,19,20,21,21,20,19,18,19,18,19,18,18,18,18,20,18,20,40,18,19,19,20,18,18,19,19,19,19,19,20,27,18,19,18,20,18,19,19,18,18,18,19,20,19,19,18,19,20,18,18,19,18,20,19,19,18,20,19,19,19,19,20,20,20,21,19,19,21,28,19,18,18,18,22,18,18,18,20,18,18,22,21,18,18,19,21,20,20,41,18,35,37,23,21,19,18,22,18,21,19,18,19,18,18,18,19,18,39,29,18,23,18,32,20,27,22,35,21,18,18,22,19,18,18,33,19,18,23,20,18,22,20,23,19,19,18,20,21,18,20,20,18,19,19,19,19,19,20,34,18,18,20,20,19,32,19,18,20,18,20,18,20,19,20,22,19,20,22,20,21,19,18,23,18,18,19,21,18,24,20,19,18,18,19,18,21,18,18,18,19,21,18,20,18,18,18,24,19,18,19,18,21,19,19,23,29,20,18,19,18,21,27,18,24,19,18,18,19,19,18,22,31,19,18,21,18,19,19,19,23,18,20,18,18,19,18,19,22,21,18,19,35,19,18,19,25,18,34,25,19,20,20,21,18,18,18,19,21,39,21,19,26,19,20,20,29,20,24,23,20,19,20,18,33,19,22,19,19,21,19,29,19,28,21,18,59,18,18,19,35,49,52,18,30,21,18,22,19,18,21,46,22,21,18,20,22,18,18,19,20,18,18,18,36,19,20,19,21,18,53,52,49,18,37,21,20,19,18,18,20,22,18,19,18,20,20,19,20,27,18,18,18,20,20,18,22,19,27,18,35,23,18,22,21,19,19,22,18,18,18,25,19,20,18,19,20,18,18,22,18,21,29,37,20,21,18,27,19,19,18,20,36,19,21,19,33,23,19,21,27,18,26,19,18,31,18,27,26,19,19,31,25,20,18,18,18,18,19,20,34,19,24,18,19,19,19,20,19,22,20,18,26,20,19,20,20,24,18,18,19,18,18,18,18,23,18,21,20,24,18,18,19,20,18,18,19,18,20,18,18,18,18,20,22,18,18,19,19,18,18,18,19,18,25,19,18,19,18,21,18,18,20,19,30,18,18,18,20,18,19,25,19,20,20,19,31,20,18,20,21,18,20,18,18,18,21,18,18,20,32,23,18,21,18,18,18,32,28,19,44,18,18,18,44,20,24,19,19,19,18,21,19,18,19,26,49,20,18,37,18,19,21,20,18,19,18,18,18,19,24,21,19,19,18,19,21,19,18,17,19,18,20,19,18,19,19,18,18,19,19,19,21,18,19,20,18,18,18,20,21,19,20,18,20,18,22,19,18,20,19,18,19,19,18,18,19,20,19,18,18,19,19,20,21,19,42,19,18,21,20,20,19,21,19,19,22,21,20,23,18,20,18,20,18,20,19,21,33,20,18,18,18,19,18,19,19,18,19,19,24,19,18,18,19,21,18,25,22,24,19,19,19,19,19,21,28,18,21,18,41,23,49,23,28,21,40,22,19,19,19,22,19,18,19,18,22,19,20,21,18,34,18,19,35,23,19,21,20,44,19,22,18,21,18,19,31,20,19,18,19,25,18,19,19,21,19,18,19,19,52,19,35,36,41,23,25,22,43,36,18,24,21,32,32,53,19,20,55,18,20,28,18,22,33,21,45,20,31,19,28,20,43,20,46,26,34,18,18,37,23,26,19,18,22,18,18,18,18,18,19,18,18,18,18,18,20,19,19,19,20,18,18,18,20,19,18,25,19,19,18,18,20,21,18,18,18,31,23,19,20,40,18,18,18,18,19,19,21,18,19,27,22,20,18,20,20,19,21,20,21,20,18,22,19,18,18,22,20,35,19,19,25,19,57,45,19,43,19,31,34,30,22,19,20,18,18,18,20,18,22,21,21,21,18,19,18,24,23,18,20,18,20,22,20,19,18,19,19,24,21,20,21,25,32,37,26,18,27,20,18,18,19,18,23,21,18,18,29,19,37,18,37,19,33,18,19,20,19,19,22,18,19,18,19,18,19,19,30,18,19,19,39,19,24,34,18,46,30,20,19,18,21,18,19,19,34,18,50,41,43,60,47,22,32,47,43,54,39,39,18,19,18,44,18,20,40,18,21,20,32,18,19,41,18,21,18,19,39,19,18,32,18,20,20,18,43,19,26,18,20,18,20,18,39,18,38,62,20,18,23,19,18,41,51,24,20,41,19,21,18,19,19,25,18,19,46,19,18,19,38,18,18,18,19,19,18,18,18,20,20,20,18,18,20,18,19,19,19,18,24,18,18,35,19,21,19,19,18,18,20,18,18,21,19,19,18,18,20,19,18,18,19,24,19,19,36,19,27,20,19,20,22,18,27,19,23,22,18,31,19,19,19,18,19,18,19,19,19,20,20,20,18,19,30,19,22,18,18,19,18,20,18,25,19,26,21,19,18,32,18,39,18,21,21,21,20,19,20,19,18,18,20,25,19,19,18,25,19,19,20,18,18,18,29,20,18,21,20,20,27,24,20,20,24,18,18,19,18,18,18,34,19,18,20,18,18,18,18,18,19,29,20,18,19,19,18,19,19,50,41,23,21,32,20,18,36,25,35,19,19,19,19,19,21,18,33,32,17,32,32,18,19,19,30,20,19,20,30,18,18,18,18,19,19,18,19,22,21,21,20,18,18,19,18,20,19,18,23,21,19,20,18,19,21,18,18,18,18,18,20,19,18,19,20,21,20,23,18,19,19,18,24,20,18,19,18,19,18,20,19,19,36,19,18,19,19,29,18,25,20,20,19,18,22,18,20,20,19,18,19,21,18,19,22,26,17,19,19,18,20,18,18,23,20,20,19,38,20,20,19,18,20,18,19,20,21,24,39,19,21,18,18,18,18,20,20,20,18,21,18,18,21,19,20,33,18,21,19,18,18,20,20,19,19,21,18,20,18,18,20,19,20,20,18,18,19,19,20,19,19,19,39,20,21,22,22,19,20,34,19,21,20,19,22,22,21,18,20,42,21,23,19,19,18,19,19,19,21,19,19,20,18,20,58,18,29,21,20,19,22,19,20,19,18,20,19,18,19,18,18,18,18,19,19,39,30,20,55,28,37,20,23,18,20,18,19,21,19,20,36,34,18,19,21,19,21,20,22,20,19,35,22,20,18,30,18,19,21,18,18,20,34,22,36,21,42,33,20,19,18,24,18,21,19,19,18,38,19,18,18,18,26,19,20,19,18,18,43,18,19,18,18,19,18,19,23,20,20,18,22,26,20,19,31,20,20,21,18,19,18,18,18,19,19,20,18,18,20,28,23,18,20,20,37,39,18,21,22,20,18,20,19,26,19,41,19,19,18,26,18,18,18,19,18,19,18,18,20,22,19,20,19,19,18,22,20,24,20,18,19,18,19,20,18,33,28,32,33,18,38,19,39,37,20,23,18,19,20,19,18,20,20,24,20,18,21,18,19,22,19,18,34,19,18,19,25,18,28,18,41,21,29,21,18,34,18,19,19,18,23,19,18,19,20,20,21,19,18,21,18,20,19,28,20,28,18,18,21,19,20,20,19,20,19,18,18,20,22,18,19,20,19,19,18,18,20,19,19,21,19,28,19,20,27,22,37,41,28,24,19,19,24,19,21,18,19,18,20,21,18,20,19,32,32,21,19,20,19,22,37,19,19,19,19,19,32,20,18,18,24,25,20,18,18,20,20,20,20,18,18,19,19,19,21,19,18,18,19,18,29,18,32,19,29,18,24,27,18,18,26,22,19,18,18,38,20,18,23,20,20,19,20,22],\"xaxis\":\"x\",\"yaxis\":\"y\",\"type\":\"histogram\"},{\"alignmentgroup\":\"True\",\"bingroup\":\"x\",\"hovertemplate\":\"Target=Enrolled\\u003cbr\\u003eAge at enrollment=%{x}\\u003cbr\\u003ecount=%{y}\\u003cextra\\u003e\\u003c\\u002fextra\\u003e\",\"legendgroup\":\"Enrolled\",\"marker\":{\"color\":\"#FF9900\",\"opacity\":0.75,\"pattern\":{\"shape\":\"\"}},\"name\":\"Enrolled\",\"offsetgroup\":\"Enrolled\",\"orientation\":\"v\",\"showlegend\":true,\"x\":[18,18,20,18,18,19,21,18,24,19,20,18,19,19,24,26,18,18,23,18,19,19,20,18,20,20,20,18,20,22,18,18,47,28,18,26,21,23,35,25,19,24,19,18,18,18,18,24,19,20,19,18,18,18,19,26,36,20,30,20,19,19,31,42,18,21,20,19,22,21,26,18,20,19,19,20,20,18,18,20,19,20,20,21,20,22,18,20,18,27,26,18,24,19,20,18,20,25,22,18,20,23,20,20,28,19,19,20,20,18,20,19,19,27,18,18,18,19,21,23,19,18,19,18,21,20,20,37,18,23,18,32,19,20,40,20,20,19,19,20,18,18,22,20,23,20,21,20,20,20,21,18,23,22,18,22,18,21,21,20,37,37,28,18,34,31,18,31,18,24,18,41,34,20,22,18,18,18,18,19,21,18,18,18,21,20,25,25,24,19,19,20,18,18,19,19,19,32,24,19,45,18,37,20,18,21,25,21,19,23,18,24,20,18,26,18,19,20,18,21,18,20,19,27,19,19,23,20,20,18,21,20,18,19,19,19,18,19,21,18,18,19,20,20,18,19,19,20,21,18,20,20,25,28,35,27,31,47,20,18,39,30,41,18,18,20,21,20,20,19,45,28,18,18,18,21,18,19,19,22,21,18,20,18,18,54,19,27,20,20,19,25,19,19,20,19,18,19,31,24,33,20,44,18,19,21,20,20,18,19,26,32,23,24,25,19,21,19,25,21,19,18,24,19,19,19,21,18,39,20,19,27,34,41,48,18,19,21,19,20,20,18,18,17,18,24,20,18,18,20,19,20,34,18,25,21,34,17,22,19,20,19,21,21,18,18,18,19,18,18,18,18,21,18,19,18,18,18,19,20,19,20,22,22,19,19,18,18,19,24,25,37,19,19,21,20,19,42,21,19,21,20,19,23,18,22,19,22,38,27,19,20,18,19,24,22,19,23,29,20,22,20,24,21,20,22,18,22,19,43,24,18,21,39,34,18,21,27,18,20,19,23,22,20,20,19,18,20,18,19,19,19,20,18,18,18,19,20,26,41,26,21,24,18,22,23,21,18,22,29,19,18,28,20,26,20,20,43,18,40,27,26,20,20,20,30,21,19,25,26,19,21,21,26,20,18,20,23,20,45,26,25,19,19,18,19,23,20,19,29,18,19,19,18,19,19,18,18,34,22,50,25,50,48,41,28,53,49,22,40,36,48,34,19,34,28,35,18,18,20,18,20,24,19,18,18,19,19,19,19,20,33,20,27,33,20,19,18,19,21,19,21,21,18,19,20,20,20,18,18,21,20,19,19,28,21,24,23,20,18,23,23,39,22,30,35,26,30,25,18,23,18,31,20,19,34,21,21,24,20,19,26,20,21,26,19,19,19,21,19,18,20,32,19,19,18,20,19,24,29,19,19,24,28,38,19,20,29,19,28,27,18,20,23,21,34,20,24,39,19,38,21,19,25,19,33,18,19,19,18,19,22,18,22,19,19,24,18,20,18,21,33,26,21,20,20,43,26,33,19,18,21,20,19,24,21,28,28,20,23,23,25,19,20,19,18,18,22,18,19,34,19,20,20,19,21,18,21,22,33,20,35,22,20,20,21,23,24,19,19,22,36,20,40,19,20,38,19,21,18,19,22,22,20,31,18,21,19,25,33,20,19,20,18,19,24,19,21,18,24,22,44,20,19,18,18,21,20,18,18,27,18,20,19,20,22,22,20,18,45,25,20,22,20,18,21,21,18,18,25,18,21,24,22,28,18,21,28,21,20,18,18,30,18,18,19,20,32,18,21,18,20,19,25],\"xaxis\":\"x\",\"yaxis\":\"y\",\"type\":\"histogram\"}],                        {\"template\":{\"data\":{\"histogram2dcontour\":[{\"type\":\"histogram2dcontour\",\"colorbar\":{\"outlinewidth\":0,\"ticks\":\"\"},\"colorscale\":[[0.0,\"#0d0887\"],[0.1111111111111111,\"#46039f\"],[0.2222222222222222,\"#7201a8\"],[0.3333333333333333,\"#9c179e\"],[0.4444444444444444,\"#bd3786\"],[0.5555555555555556,\"#d8576b\"],[0.6666666666666666,\"#ed7953\"],[0.7777777777777778,\"#fb9f3a\"],[0.8888888888888888,\"#fdca26\"],[1.0,\"#f0f921\"]]}],\"choropleth\":[{\"type\":\"choropleth\",\"colorbar\":{\"outlinewidth\":0,\"ticks\":\"\"}}],\"histogram2d\":[{\"type\":\"histogram2d\",\"colorbar\":{\"outlinewidth\":0,\"ticks\":\"\"},\"colorscale\":[[0.0,\"#0d0887\"],[0.1111111111111111,\"#46039f\"],[0.2222222222222222,\"#7201a8\"],[0.3333333333333333,\"#9c179e\"],[0.4444444444444444,\"#bd3786\"],[0.5555555555555556,\"#d8576b\"],[0.6666666666666666,\"#ed7953\"],[0.7777777777777778,\"#fb9f3a\"],[0.8888888888888888,\"#fdca26\"],[1.0,\"#f0f921\"]]}],\"heatmap\":[{\"type\":\"heatmap\",\"colorbar\":{\"outlinewidth\":0,\"ticks\":\"\"},\"colorscale\":[[0.0,\"#0d0887\"],[0.1111111111111111,\"#46039f\"],[0.2222222222222222,\"#7201a8\"],[0.3333333333333333,\"#9c179e\"],[0.4444444444444444,\"#bd3786\"],[0.5555555555555556,\"#d8576b\"],[0.6666666666666666,\"#ed7953\"],[0.7777777777777778,\"#fb9f3a\"],[0.8888888888888888,\"#fdca26\"],[1.0,\"#f0f921\"]]}],\"heatmapgl\":[{\"type\":\"heatmapgl\",\"colorbar\":{\"outlinewidth\":0,\"ticks\":\"\"},\"colorscale\":[[0.0,\"#0d0887\"],[0.1111111111111111,\"#46039f\"],[0.2222222222222222,\"#7201a8\"],[0.3333333333333333,\"#9c179e\"],[0.4444444444444444,\"#bd3786\"],[0.5555555555555556,\"#d8576b\"],[0.6666666666666666,\"#ed7953\"],[0.7777777777777778,\"#fb9f3a\"],[0.8888888888888888,\"#fdca26\"],[1.0,\"#f0f921\"]]}],\"contourcarpet\":[{\"type\":\"contourcarpet\",\"colorbar\":{\"outlinewidth\":0,\"ticks\":\"\"}}],\"contour\":[{\"type\":\"contour\",\"colorbar\":{\"outlinewidth\":0,\"ticks\":\"\"},\"colorscale\":[[0.0,\"#0d0887\"],[0.1111111111111111,\"#46039f\"],[0.2222222222222222,\"#7201a8\"],[0.3333333333333333,\"#9c179e\"],[0.4444444444444444,\"#bd3786\"],[0.5555555555555556,\"#d8576b\"],[0.6666666666666666,\"#ed7953\"],[0.7777777777777778,\"#fb9f3a\"],[0.8888888888888888,\"#fdca26\"],[1.0,\"#f0f921\"]]}],\"surface\":[{\"type\":\"surface\",\"colorbar\":{\"outlinewidth\":0,\"ticks\":\"\"},\"colorscale\":[[0.0,\"#0d0887\"],[0.1111111111111111,\"#46039f\"],[0.2222222222222222,\"#7201a8\"],[0.3333333333333333,\"#9c179e\"],[0.4444444444444444,\"#bd3786\"],[0.5555555555555556,\"#d8576b\"],[0.6666666666666666,\"#ed7953\"],[0.7777777777777778,\"#fb9f3a\"],[0.8888888888888888,\"#fdca26\"],[1.0,\"#f0f921\"]]}],\"mesh3d\":[{\"type\":\"mesh3d\",\"colorbar\":{\"outlinewidth\":0,\"ticks\":\"\"}}],\"scatter\":[{\"fillpattern\":{\"fillmode\":\"overlay\",\"size\":10,\"solidity\":0.2},\"type\":\"scatter\"}],\"parcoords\":[{\"type\":\"parcoords\",\"line\":{\"colorbar\":{\"outlinewidth\":0,\"ticks\":\"\"}}}],\"scatterpolargl\":[{\"type\":\"scatterpolargl\",\"marker\":{\"colorbar\":{\"outlinewidth\":0,\"ticks\":\"\"}}}],\"bar\":[{\"error_x\":{\"color\":\"#2a3f5f\"},\"error_y\":{\"color\":\"#2a3f5f\"},\"marker\":{\"line\":{\"color\":\"#E5ECF6\",\"width\":0.5},\"pattern\":{\"fillmode\":\"overlay\",\"size\":10,\"solidity\":0.2}},\"type\":\"bar\"}],\"scattergeo\":[{\"type\":\"scattergeo\",\"marker\":{\"colorbar\":{\"outlinewidth\":0,\"ticks\":\"\"}}}],\"scatterpolar\":[{\"type\":\"scatterpolar\",\"marker\":{\"colorbar\":{\"outlinewidth\":0,\"ticks\":\"\"}}}],\"histogram\":[{\"marker\":{\"pattern\":{\"fillmode\":\"overlay\",\"size\":10,\"solidity\":0.2}},\"type\":\"histogram\"}],\"scattergl\":[{\"type\":\"scattergl\",\"marker\":{\"colorbar\":{\"outlinewidth\":0,\"ticks\":\"\"}}}],\"scatter3d\":[{\"type\":\"scatter3d\",\"line\":{\"colorbar\":{\"outlinewidth\":0,\"ticks\":\"\"}},\"marker\":{\"colorbar\":{\"outlinewidth\":0,\"ticks\":\"\"}}}],\"scattermapbox\":[{\"type\":\"scattermapbox\",\"marker\":{\"colorbar\":{\"outlinewidth\":0,\"ticks\":\"\"}}}],\"scatterternary\":[{\"type\":\"scatterternary\",\"marker\":{\"colorbar\":{\"outlinewidth\":0,\"ticks\":\"\"}}}],\"scattercarpet\":[{\"type\":\"scattercarpet\",\"marker\":{\"colorbar\":{\"outlinewidth\":0,\"ticks\":\"\"}}}],\"carpet\":[{\"aaxis\":{\"endlinecolor\":\"#2a3f5f\",\"gridcolor\":\"white\",\"linecolor\":\"white\",\"minorgridcolor\":\"white\",\"startlinecolor\":\"#2a3f5f\"},\"baxis\":{\"endlinecolor\":\"#2a3f5f\",\"gridcolor\":\"white\",\"linecolor\":\"white\",\"minorgridcolor\":\"white\",\"startlinecolor\":\"#2a3f5f\"},\"type\":\"carpet\"}],\"table\":[{\"cells\":{\"fill\":{\"color\":\"#EBF0F8\"},\"line\":{\"color\":\"white\"}},\"header\":{\"fill\":{\"color\":\"#C8D4E3\"},\"line\":{\"color\":\"white\"}},\"type\":\"table\"}],\"barpolar\":[{\"marker\":{\"line\":{\"color\":\"#E5ECF6\",\"width\":0.5},\"pattern\":{\"fillmode\":\"overlay\",\"size\":10,\"solidity\":0.2}},\"type\":\"barpolar\"}],\"pie\":[{\"automargin\":true,\"type\":\"pie\"}]},\"layout\":{\"autotypenumbers\":\"strict\",\"colorway\":[\"#636efa\",\"#EF553B\",\"#00cc96\",\"#ab63fa\",\"#FFA15A\",\"#19d3f3\",\"#FF6692\",\"#B6E880\",\"#FF97FF\",\"#FECB52\"],\"font\":{\"color\":\"#2a3f5f\"},\"hovermode\":\"closest\",\"hoverlabel\":{\"align\":\"left\"},\"paper_bgcolor\":\"white\",\"plot_bgcolor\":\"#E5ECF6\",\"polar\":{\"bgcolor\":\"#E5ECF6\",\"angularaxis\":{\"gridcolor\":\"white\",\"linecolor\":\"white\",\"ticks\":\"\"},\"radialaxis\":{\"gridcolor\":\"white\",\"linecolor\":\"white\",\"ticks\":\"\"}},\"ternary\":{\"bgcolor\":\"#E5ECF6\",\"aaxis\":{\"gridcolor\":\"white\",\"linecolor\":\"white\",\"ticks\":\"\"},\"baxis\":{\"gridcolor\":\"white\",\"linecolor\":\"white\",\"ticks\":\"\"},\"caxis\":{\"gridcolor\":\"white\",\"linecolor\":\"white\",\"ticks\":\"\"}},\"coloraxis\":{\"colorbar\":{\"outlinewidth\":0,\"ticks\":\"\"}},\"colorscale\":{\"sequential\":[[0.0,\"#0d0887\"],[0.1111111111111111,\"#46039f\"],[0.2222222222222222,\"#7201a8\"],[0.3333333333333333,\"#9c179e\"],[0.4444444444444444,\"#bd3786\"],[0.5555555555555556,\"#d8576b\"],[0.6666666666666666,\"#ed7953\"],[0.7777777777777778,\"#fb9f3a\"],[0.8888888888888888,\"#fdca26\"],[1.0,\"#f0f921\"]],\"sequentialminus\":[[0.0,\"#0d0887\"],[0.1111111111111111,\"#46039f\"],[0.2222222222222222,\"#7201a8\"],[0.3333333333333333,\"#9c179e\"],[0.4444444444444444,\"#bd3786\"],[0.5555555555555556,\"#d8576b\"],[0.6666666666666666,\"#ed7953\"],[0.7777777777777778,\"#fb9f3a\"],[0.8888888888888888,\"#fdca26\"],[1.0,\"#f0f921\"]],\"diverging\":[[0,\"#8e0152\"],[0.1,\"#c51b7d\"],[0.2,\"#de77ae\"],[0.3,\"#f1b6da\"],[0.4,\"#fde0ef\"],[0.5,\"#f7f7f7\"],[0.6,\"#e6f5d0\"],[0.7,\"#b8e186\"],[0.8,\"#7fbc41\"],[0.9,\"#4d9221\"],[1,\"#276419\"]]},\"xaxis\":{\"gridcolor\":\"white\",\"linecolor\":\"white\",\"ticks\":\"\",\"title\":{\"standoff\":15},\"zerolinecolor\":\"white\",\"automargin\":true,\"zerolinewidth\":2},\"yaxis\":{\"gridcolor\":\"white\",\"linecolor\":\"white\",\"ticks\":\"\",\"title\":{\"standoff\":15},\"zerolinecolor\":\"white\",\"automargin\":true,\"zerolinewidth\":2},\"scene\":{\"xaxis\":{\"backgroundcolor\":\"#E5ECF6\",\"gridcolor\":\"white\",\"linecolor\":\"white\",\"showbackground\":true,\"ticks\":\"\",\"zerolinecolor\":\"white\",\"gridwidth\":2},\"yaxis\":{\"backgroundcolor\":\"#E5ECF6\",\"gridcolor\":\"white\",\"linecolor\":\"white\",\"showbackground\":true,\"ticks\":\"\",\"zerolinecolor\":\"white\",\"gridwidth\":2},\"zaxis\":{\"backgroundcolor\":\"#E5ECF6\",\"gridcolor\":\"white\",\"linecolor\":\"white\",\"showbackground\":true,\"ticks\":\"\",\"zerolinecolor\":\"white\",\"gridwidth\":2}},\"shapedefaults\":{\"line\":{\"color\":\"#2a3f5f\"}},\"annotationdefaults\":{\"arrowcolor\":\"#2a3f5f\",\"arrowhead\":0,\"arrowwidth\":1},\"geo\":{\"bgcolor\":\"white\",\"landcolor\":\"#E5ECF6\",\"subunitcolor\":\"white\",\"showland\":true,\"showlakes\":true,\"lakecolor\":\"white\"},\"title\":{\"x\":0.05},\"mapbox\":{\"style\":\"light\"}}},\"xaxis\":{\"anchor\":\"y\",\"domain\":[0.0,1.0],\"title\":{\"text\":\"Age at enrollment\"}},\"yaxis\":{\"anchor\":\"x\",\"domain\":[0.0,1.0],\"title\":{\"text\":\"count\"}},\"legend\":{\"title\":{\"text\":\"Target\"},\"tracegroupgap\":0},\"margin\":{\"t\":60},\"barmode\":\"overlay\",\"height\":500,\"width\":800,\"title\":{\"text\":\"Age distribution of students\"}},                        {\"responsive\": true}                    ).then(function(){\n",
              "                            \n",
              "var gd = document.getElementById('181d503b-edf9-401d-bda6-30f6d5955e9a');\n",
              "var x = new MutationObserver(function (mutations, observer) {{\n",
              "        var display = window.getComputedStyle(gd).display;\n",
              "        if (!display || display === 'none') {{\n",
              "            console.log([gd, 'removed!']);\n",
              "            Plotly.purge(gd);\n",
              "            observer.disconnect();\n",
              "        }}\n",
              "}});\n",
              "\n",
              "// Listen for the removal of the full notebook cells\n",
              "var notebookContainer = gd.closest('#notebook-container');\n",
              "if (notebookContainer) {{\n",
              "    x.observe(notebookContainer, {childList: true});\n",
              "}}\n",
              "\n",
              "// Listen for the clearing of the current output cell\n",
              "var outputEl = gd.closest('.output');\n",
              "if (outputEl) {{\n",
              "    x.observe(outputEl, {childList: true});\n",
              "}}\n",
              "\n",
              "                        })                };                            </script>        </div>\n",
              "</body>\n",
              "</html>"
            ]
          },
          "metadata": {}
        }
      ],
      "source": [
        "# Histogram for Age\n",
        "fig = px.histogram(data_viz, x='Age at enrollment', color = 'Target',\n",
        "                   opacity = 0.75, barmode = 'overlay',\n",
        "                    width = 800, height = 500, color_discrete_sequence=px.colors.qualitative.G10)\n",
        "fig.update_layout(title='Age distribution of students')\n",
        "fig.show()"
      ]
    },
    {
      "cell_type": "markdown",
      "metadata": {
        "id": "jM4zhPhZCevN"
      },
      "source": [
        "**Observation**\n",
        "\n",
        "* Distribution shows that the data is right skewed indicating that majority of the students are in their late teen's to early 20's\n",
        "* It is also observed that there was an increase in dropout rate from students in their mid 20's to early 30's"
      ]
    },
    {
      "cell_type": "markdown",
      "metadata": {
        "id": "CSRG-sOxWCRy"
      },
      "source": [
        "For the next set of data visualizations, we would be dealing with pie charts mostly. To reduce repeatability of code, two functions are created;\n",
        "\n",
        "One to create dictionaries of all categories with respect to number of students enrolled, students who dropped out or graduated, the other would be to create pie charts based on the dictionaries created for visualization."
      ]
    },
    {
      "cell_type": "code",
      "execution_count": 11,
      "metadata": {
        "id": "OT_tA51-L3yx"
      },
      "outputs": [],
      "source": [
        "def get_dictionaries(category_list, dfcolumn_name, target_col, dictionary_list):\n",
        "  '''This function returns a list of dictionaries for value count of each target label per category'''\n",
        "  for each_category in category_list:\n",
        "    a_dictionary = dict(data_viz[data_viz[dfcolumn_name]== each_category][target_col].value_counts())\n",
        "    dictionary_list.append(a_dictionary)\n",
        "  return dictionary_list"
      ]
    },
    {
      "cell_type": "code",
      "execution_count": 12,
      "metadata": {
        "id": "P4eP42g0D7Rg"
      },
      "outputs": [],
      "source": [
        "def make_pie(dictionary_list, trace_list, colors_list, textposition = 'inside'):\n",
        "  '''This function returns a list of traces for pie charts'''\n",
        "  for dictionary in dictionary_list:\n",
        "    trace = go.Pie(values = list(dictionary.values()), labels = list(dictionary.keys()),\n",
        "           textposition = textposition, textinfo='percent+label',\n",
        "           marker=dict(colors=colors_list))\n",
        "    trace_list.append(trace)\n",
        "  return trace_list\n",
        "\n"
      ]
    },
    {
      "cell_type": "markdown",
      "metadata": {
        "id": "q6V2CtjGBcfh"
      },
      "source": [
        "## Gender distribution of students"
      ]
    },
    {
      "cell_type": "code",
      "execution_count": 13,
      "metadata": {
        "id": "WkuTNfiZKnlh"
      },
      "outputs": [],
      "source": [
        "# Change gender from numerical to catgorical\n",
        "data_viz['Gender'] = data_viz['Gender'].map({1:'Male', 0:'Female'})"
      ]
    },
    {
      "cell_type": "code",
      "source": [
        "# Calculate percentage count for gender\n",
        "percent_count = round(data_viz['Gender'].value_counts(normalize=True) * 100, 1)\n",
        "\n",
        "fig = px.bar(percent_count,  orientation= 'h', text_auto=True)\n",
        "\n",
        "fig.update_traces(marker=dict(color=['red']))\n",
        "\n",
        "fig.update_layout(height=400, width=700,\n",
        "                  title='Gender Percentage Count of Students',\n",
        "                  showlegend = False,\n",
        "                  font=dict(size=14),\n",
        "                  xaxis_title = '%count',\n",
        "                  yaxis_title = 'Gender')\n",
        "fig.show()"
      ],
      "metadata": {
        "colab": {
          "base_uri": "https://localhost:8080/",
          "height": 417
        },
        "id": "ekTr2HJ3C1nz",
        "outputId": "5be193af-aad8-4113-a143-23f339542dab"
      },
      "execution_count": 14,
      "outputs": [
        {
          "output_type": "display_data",
          "data": {
            "text/html": [
              "<html>\n",
              "<head><meta charset=\"utf-8\" /></head>\n",
              "<body>\n",
              "    <div>            <script src=\"https://cdnjs.cloudflare.com/ajax/libs/mathjax/2.7.5/MathJax.js?config=TeX-AMS-MML_SVG\"></script><script type=\"text/javascript\">if (window.MathJax && window.MathJax.Hub && window.MathJax.Hub.Config) {window.MathJax.Hub.Config({SVG: {font: \"STIX-Web\"}});}</script>                <script type=\"text/javascript\">window.PlotlyConfig = {MathJaxConfig: 'local'};</script>\n",
              "        <script charset=\"utf-8\" src=\"https://cdn.plot.ly/plotly-2.35.2.min.js\"></script>                <div id=\"56fdc87d-20ff-4592-a89c-a4eee9823e5e\" class=\"plotly-graph-div\" style=\"height:400px; width:700px;\"></div>            <script type=\"text/javascript\">                                    window.PLOTLYENV=window.PLOTLYENV || {};                                    if (document.getElementById(\"56fdc87d-20ff-4592-a89c-a4eee9823e5e\")) {                    Plotly.newPlot(                        \"56fdc87d-20ff-4592-a89c-a4eee9823e5e\",                        [{\"alignmentgroup\":\"True\",\"hovertemplate\":\"variable=proportion\\u003cbr\\u003evalue=%{x}\\u003cbr\\u003eGender=%{y}\\u003cextra\\u003e\\u003c\\u002fextra\\u003e\",\"legendgroup\":\"proportion\",\"marker\":{\"color\":[\"red\"],\"pattern\":{\"shape\":\"\"}},\"name\":\"proportion\",\"offsetgroup\":\"proportion\",\"orientation\":\"h\",\"showlegend\":true,\"textposition\":\"auto\",\"texttemplate\":\"%{x}\",\"x\":[64.8,35.2],\"xaxis\":\"x\",\"y\":[\"Female\",\"Male\"],\"yaxis\":\"y\",\"type\":\"bar\"}],                        {\"template\":{\"data\":{\"histogram2dcontour\":[{\"type\":\"histogram2dcontour\",\"colorbar\":{\"outlinewidth\":0,\"ticks\":\"\"},\"colorscale\":[[0.0,\"#0d0887\"],[0.1111111111111111,\"#46039f\"],[0.2222222222222222,\"#7201a8\"],[0.3333333333333333,\"#9c179e\"],[0.4444444444444444,\"#bd3786\"],[0.5555555555555556,\"#d8576b\"],[0.6666666666666666,\"#ed7953\"],[0.7777777777777778,\"#fb9f3a\"],[0.8888888888888888,\"#fdca26\"],[1.0,\"#f0f921\"]]}],\"choropleth\":[{\"type\":\"choropleth\",\"colorbar\":{\"outlinewidth\":0,\"ticks\":\"\"}}],\"histogram2d\":[{\"type\":\"histogram2d\",\"colorbar\":{\"outlinewidth\":0,\"ticks\":\"\"},\"colorscale\":[[0.0,\"#0d0887\"],[0.1111111111111111,\"#46039f\"],[0.2222222222222222,\"#7201a8\"],[0.3333333333333333,\"#9c179e\"],[0.4444444444444444,\"#bd3786\"],[0.5555555555555556,\"#d8576b\"],[0.6666666666666666,\"#ed7953\"],[0.7777777777777778,\"#fb9f3a\"],[0.8888888888888888,\"#fdca26\"],[1.0,\"#f0f921\"]]}],\"heatmap\":[{\"type\":\"heatmap\",\"colorbar\":{\"outlinewidth\":0,\"ticks\":\"\"},\"colorscale\":[[0.0,\"#0d0887\"],[0.1111111111111111,\"#46039f\"],[0.2222222222222222,\"#7201a8\"],[0.3333333333333333,\"#9c179e\"],[0.4444444444444444,\"#bd3786\"],[0.5555555555555556,\"#d8576b\"],[0.6666666666666666,\"#ed7953\"],[0.7777777777777778,\"#fb9f3a\"],[0.8888888888888888,\"#fdca26\"],[1.0,\"#f0f921\"]]}],\"heatmapgl\":[{\"type\":\"heatmapgl\",\"colorbar\":{\"outlinewidth\":0,\"ticks\":\"\"},\"colorscale\":[[0.0,\"#0d0887\"],[0.1111111111111111,\"#46039f\"],[0.2222222222222222,\"#7201a8\"],[0.3333333333333333,\"#9c179e\"],[0.4444444444444444,\"#bd3786\"],[0.5555555555555556,\"#d8576b\"],[0.6666666666666666,\"#ed7953\"],[0.7777777777777778,\"#fb9f3a\"],[0.8888888888888888,\"#fdca26\"],[1.0,\"#f0f921\"]]}],\"contourcarpet\":[{\"type\":\"contourcarpet\",\"colorbar\":{\"outlinewidth\":0,\"ticks\":\"\"}}],\"contour\":[{\"type\":\"contour\",\"colorbar\":{\"outlinewidth\":0,\"ticks\":\"\"},\"colorscale\":[[0.0,\"#0d0887\"],[0.1111111111111111,\"#46039f\"],[0.2222222222222222,\"#7201a8\"],[0.3333333333333333,\"#9c179e\"],[0.4444444444444444,\"#bd3786\"],[0.5555555555555556,\"#d8576b\"],[0.6666666666666666,\"#ed7953\"],[0.7777777777777778,\"#fb9f3a\"],[0.8888888888888888,\"#fdca26\"],[1.0,\"#f0f921\"]]}],\"surface\":[{\"type\":\"surface\",\"colorbar\":{\"outlinewidth\":0,\"ticks\":\"\"},\"colorscale\":[[0.0,\"#0d0887\"],[0.1111111111111111,\"#46039f\"],[0.2222222222222222,\"#7201a8\"],[0.3333333333333333,\"#9c179e\"],[0.4444444444444444,\"#bd3786\"],[0.5555555555555556,\"#d8576b\"],[0.6666666666666666,\"#ed7953\"],[0.7777777777777778,\"#fb9f3a\"],[0.8888888888888888,\"#fdca26\"],[1.0,\"#f0f921\"]]}],\"mesh3d\":[{\"type\":\"mesh3d\",\"colorbar\":{\"outlinewidth\":0,\"ticks\":\"\"}}],\"scatter\":[{\"fillpattern\":{\"fillmode\":\"overlay\",\"size\":10,\"solidity\":0.2},\"type\":\"scatter\"}],\"parcoords\":[{\"type\":\"parcoords\",\"line\":{\"colorbar\":{\"outlinewidth\":0,\"ticks\":\"\"}}}],\"scatterpolargl\":[{\"type\":\"scatterpolargl\",\"marker\":{\"colorbar\":{\"outlinewidth\":0,\"ticks\":\"\"}}}],\"bar\":[{\"error_x\":{\"color\":\"#2a3f5f\"},\"error_y\":{\"color\":\"#2a3f5f\"},\"marker\":{\"line\":{\"color\":\"#E5ECF6\",\"width\":0.5},\"pattern\":{\"fillmode\":\"overlay\",\"size\":10,\"solidity\":0.2}},\"type\":\"bar\"}],\"scattergeo\":[{\"type\":\"scattergeo\",\"marker\":{\"colorbar\":{\"outlinewidth\":0,\"ticks\":\"\"}}}],\"scatterpolar\":[{\"type\":\"scatterpolar\",\"marker\":{\"colorbar\":{\"outlinewidth\":0,\"ticks\":\"\"}}}],\"histogram\":[{\"marker\":{\"pattern\":{\"fillmode\":\"overlay\",\"size\":10,\"solidity\":0.2}},\"type\":\"histogram\"}],\"scattergl\":[{\"type\":\"scattergl\",\"marker\":{\"colorbar\":{\"outlinewidth\":0,\"ticks\":\"\"}}}],\"scatter3d\":[{\"type\":\"scatter3d\",\"line\":{\"colorbar\":{\"outlinewidth\":0,\"ticks\":\"\"}},\"marker\":{\"colorbar\":{\"outlinewidth\":0,\"ticks\":\"\"}}}],\"scattermapbox\":[{\"type\":\"scattermapbox\",\"marker\":{\"colorbar\":{\"outlinewidth\":0,\"ticks\":\"\"}}}],\"scatterternary\":[{\"type\":\"scatterternary\",\"marker\":{\"colorbar\":{\"outlinewidth\":0,\"ticks\":\"\"}}}],\"scattercarpet\":[{\"type\":\"scattercarpet\",\"marker\":{\"colorbar\":{\"outlinewidth\":0,\"ticks\":\"\"}}}],\"carpet\":[{\"aaxis\":{\"endlinecolor\":\"#2a3f5f\",\"gridcolor\":\"white\",\"linecolor\":\"white\",\"minorgridcolor\":\"white\",\"startlinecolor\":\"#2a3f5f\"},\"baxis\":{\"endlinecolor\":\"#2a3f5f\",\"gridcolor\":\"white\",\"linecolor\":\"white\",\"minorgridcolor\":\"white\",\"startlinecolor\":\"#2a3f5f\"},\"type\":\"carpet\"}],\"table\":[{\"cells\":{\"fill\":{\"color\":\"#EBF0F8\"},\"line\":{\"color\":\"white\"}},\"header\":{\"fill\":{\"color\":\"#C8D4E3\"},\"line\":{\"color\":\"white\"}},\"type\":\"table\"}],\"barpolar\":[{\"marker\":{\"line\":{\"color\":\"#E5ECF6\",\"width\":0.5},\"pattern\":{\"fillmode\":\"overlay\",\"size\":10,\"solidity\":0.2}},\"type\":\"barpolar\"}],\"pie\":[{\"automargin\":true,\"type\":\"pie\"}]},\"layout\":{\"autotypenumbers\":\"strict\",\"colorway\":[\"#636efa\",\"#EF553B\",\"#00cc96\",\"#ab63fa\",\"#FFA15A\",\"#19d3f3\",\"#FF6692\",\"#B6E880\",\"#FF97FF\",\"#FECB52\"],\"font\":{\"color\":\"#2a3f5f\"},\"hovermode\":\"closest\",\"hoverlabel\":{\"align\":\"left\"},\"paper_bgcolor\":\"white\",\"plot_bgcolor\":\"#E5ECF6\",\"polar\":{\"bgcolor\":\"#E5ECF6\",\"angularaxis\":{\"gridcolor\":\"white\",\"linecolor\":\"white\",\"ticks\":\"\"},\"radialaxis\":{\"gridcolor\":\"white\",\"linecolor\":\"white\",\"ticks\":\"\"}},\"ternary\":{\"bgcolor\":\"#E5ECF6\",\"aaxis\":{\"gridcolor\":\"white\",\"linecolor\":\"white\",\"ticks\":\"\"},\"baxis\":{\"gridcolor\":\"white\",\"linecolor\":\"white\",\"ticks\":\"\"},\"caxis\":{\"gridcolor\":\"white\",\"linecolor\":\"white\",\"ticks\":\"\"}},\"coloraxis\":{\"colorbar\":{\"outlinewidth\":0,\"ticks\":\"\"}},\"colorscale\":{\"sequential\":[[0.0,\"#0d0887\"],[0.1111111111111111,\"#46039f\"],[0.2222222222222222,\"#7201a8\"],[0.3333333333333333,\"#9c179e\"],[0.4444444444444444,\"#bd3786\"],[0.5555555555555556,\"#d8576b\"],[0.6666666666666666,\"#ed7953\"],[0.7777777777777778,\"#fb9f3a\"],[0.8888888888888888,\"#fdca26\"],[1.0,\"#f0f921\"]],\"sequentialminus\":[[0.0,\"#0d0887\"],[0.1111111111111111,\"#46039f\"],[0.2222222222222222,\"#7201a8\"],[0.3333333333333333,\"#9c179e\"],[0.4444444444444444,\"#bd3786\"],[0.5555555555555556,\"#d8576b\"],[0.6666666666666666,\"#ed7953\"],[0.7777777777777778,\"#fb9f3a\"],[0.8888888888888888,\"#fdca26\"],[1.0,\"#f0f921\"]],\"diverging\":[[0,\"#8e0152\"],[0.1,\"#c51b7d\"],[0.2,\"#de77ae\"],[0.3,\"#f1b6da\"],[0.4,\"#fde0ef\"],[0.5,\"#f7f7f7\"],[0.6,\"#e6f5d0\"],[0.7,\"#b8e186\"],[0.8,\"#7fbc41\"],[0.9,\"#4d9221\"],[1,\"#276419\"]]},\"xaxis\":{\"gridcolor\":\"white\",\"linecolor\":\"white\",\"ticks\":\"\",\"title\":{\"standoff\":15},\"zerolinecolor\":\"white\",\"automargin\":true,\"zerolinewidth\":2},\"yaxis\":{\"gridcolor\":\"white\",\"linecolor\":\"white\",\"ticks\":\"\",\"title\":{\"standoff\":15},\"zerolinecolor\":\"white\",\"automargin\":true,\"zerolinewidth\":2},\"scene\":{\"xaxis\":{\"backgroundcolor\":\"#E5ECF6\",\"gridcolor\":\"white\",\"linecolor\":\"white\",\"showbackground\":true,\"ticks\":\"\",\"zerolinecolor\":\"white\",\"gridwidth\":2},\"yaxis\":{\"backgroundcolor\":\"#E5ECF6\",\"gridcolor\":\"white\",\"linecolor\":\"white\",\"showbackground\":true,\"ticks\":\"\",\"zerolinecolor\":\"white\",\"gridwidth\":2},\"zaxis\":{\"backgroundcolor\":\"#E5ECF6\",\"gridcolor\":\"white\",\"linecolor\":\"white\",\"showbackground\":true,\"ticks\":\"\",\"zerolinecolor\":\"white\",\"gridwidth\":2}},\"shapedefaults\":{\"line\":{\"color\":\"#2a3f5f\"}},\"annotationdefaults\":{\"arrowcolor\":\"#2a3f5f\",\"arrowhead\":0,\"arrowwidth\":1},\"geo\":{\"bgcolor\":\"white\",\"landcolor\":\"#E5ECF6\",\"subunitcolor\":\"white\",\"showland\":true,\"showlakes\":true,\"lakecolor\":\"white\"},\"title\":{\"x\":0.05},\"mapbox\":{\"style\":\"light\"}}},\"xaxis\":{\"anchor\":\"y\",\"domain\":[0.0,1.0],\"title\":{\"text\":\"%count\"}},\"yaxis\":{\"anchor\":\"x\",\"domain\":[0.0,1.0],\"title\":{\"text\":\"Gender\"}},\"legend\":{\"title\":{\"text\":\"variable\"},\"tracegroupgap\":0},\"margin\":{\"t\":60},\"barmode\":\"relative\",\"font\":{\"size\":14},\"height\":400,\"width\":700,\"title\":{\"text\":\"Gender Percentage Count of Students\"},\"showlegend\":false},                        {\"responsive\": true}                    ).then(function(){\n",
              "                            \n",
              "var gd = document.getElementById('56fdc87d-20ff-4592-a89c-a4eee9823e5e');\n",
              "var x = new MutationObserver(function (mutations, observer) {{\n",
              "        var display = window.getComputedStyle(gd).display;\n",
              "        if (!display || display === 'none') {{\n",
              "            console.log([gd, 'removed!']);\n",
              "            Plotly.purge(gd);\n",
              "            observer.disconnect();\n",
              "        }}\n",
              "}});\n",
              "\n",
              "// Listen for the removal of the full notebook cells\n",
              "var notebookContainer = gd.closest('#notebook-container');\n",
              "if (notebookContainer) {{\n",
              "    x.observe(notebookContainer, {childList: true});\n",
              "}}\n",
              "\n",
              "// Listen for the clearing of the current output cell\n",
              "var outputEl = gd.closest('.output');\n",
              "if (outputEl) {{\n",
              "    x.observe(outputEl, {childList: true});\n",
              "}}\n",
              "\n",
              "                        })                };                            </script>        </div>\n",
              "</body>\n",
              "</html>"
            ]
          },
          "metadata": {}
        }
      ]
    },
    {
      "cell_type": "code",
      "execution_count": 15,
      "metadata": {
        "colab": {
          "base_uri": "https://localhost:8080/"
        },
        "id": "6iedtbFWQAF2",
        "outputId": "70ae6fdb-a76c-4123-a9d1-edd94fcdaecf"
      },
      "outputs": [
        {
          "output_type": "execute_result",
          "data": {
            "text/plain": [
              "[{'Dropout': np.int64(701),\n",
              "  'Graduate': np.int64(548),\n",
              "  'Enrolled': np.int64(307)},\n",
              " {'Graduate': np.int64(1661),\n",
              "  'Dropout': np.int64(720),\n",
              "  'Enrolled': np.int64(487)}]"
            ]
          },
          "metadata": {},
          "execution_count": 15
        }
      ],
      "source": [
        "# Getting dictionaries for genders\n",
        "genders = data_viz['Gender'].unique()\n",
        "genders_dictionaries = get_dictionaries(genders, 'Gender', 'Target', [])\n",
        "genders_dictionaries"
      ]
    },
    {
      "cell_type": "code",
      "source": [
        "# Creating subplots for Gender distribution of students\n",
        "fig = make_subplots(rows=1, cols=2, subplot_titles=[ 'Male Students', 'Female Students'],\n",
        "                    specs=[[{'type': 'pie'}, {'type': 'pie'}]])\n",
        "\n",
        "# Creating empty trace list\n",
        "traces = []\n",
        "make_pie(genders_dictionaries, traces, ['teal', 'goldenrod', 'slateblue'])\n",
        "\n",
        "# Adding pie charts\n",
        "fig.add_trace(traces[0], row=1, col=1)\n",
        "fig.add_trace(traces[1], row=1, col=2)\n",
        "\n",
        "# Updating layout\n",
        "fig.update_layout(height=500, width=800,\n",
        "                  title='Gender distribution of students',\n",
        "                  showlegend = False,\n",
        "                  font=dict(size=14))\n",
        "\n",
        "fig.show()"
      ],
      "metadata": {
        "colab": {
          "base_uri": "https://localhost:8080/",
          "height": 517
        },
        "id": "GOZIdUCW_YNv",
        "outputId": "0795da03-4916-4819-cbda-580692854462"
      },
      "execution_count": 16,
      "outputs": [
        {
          "output_type": "display_data",
          "data": {
            "text/html": [
              "<html>\n",
              "<head><meta charset=\"utf-8\" /></head>\n",
              "<body>\n",
              "    <div>            <script src=\"https://cdnjs.cloudflare.com/ajax/libs/mathjax/2.7.5/MathJax.js?config=TeX-AMS-MML_SVG\"></script><script type=\"text/javascript\">if (window.MathJax && window.MathJax.Hub && window.MathJax.Hub.Config) {window.MathJax.Hub.Config({SVG: {font: \"STIX-Web\"}});}</script>                <script type=\"text/javascript\">window.PlotlyConfig = {MathJaxConfig: 'local'};</script>\n",
              "        <script charset=\"utf-8\" src=\"https://cdn.plot.ly/plotly-2.35.2.min.js\"></script>                <div id=\"72003f81-2072-47cc-806a-d61251e1d1ac\" class=\"plotly-graph-div\" style=\"height:500px; width:800px;\"></div>            <script type=\"text/javascript\">                                    window.PLOTLYENV=window.PLOTLYENV || {};                                    if (document.getElementById(\"72003f81-2072-47cc-806a-d61251e1d1ac\")) {                    Plotly.newPlot(                        \"72003f81-2072-47cc-806a-d61251e1d1ac\",                        [{\"labels\":[\"Dropout\",\"Graduate\",\"Enrolled\"],\"marker\":{\"colors\":[\"teal\",\"goldenrod\",\"slateblue\"]},\"textinfo\":\"percent+label\",\"textposition\":\"inside\",\"values\":[701,548,307],\"type\":\"pie\",\"domain\":{\"x\":[0.0,0.45],\"y\":[0.0,1.0]}},{\"labels\":[\"Graduate\",\"Dropout\",\"Enrolled\"],\"marker\":{\"colors\":[\"teal\",\"goldenrod\",\"slateblue\"]},\"textinfo\":\"percent+label\",\"textposition\":\"inside\",\"values\":[1661,720,487],\"type\":\"pie\",\"domain\":{\"x\":[0.55,1.0],\"y\":[0.0,1.0]}}],                        {\"template\":{\"data\":{\"histogram2dcontour\":[{\"type\":\"histogram2dcontour\",\"colorbar\":{\"outlinewidth\":0,\"ticks\":\"\"},\"colorscale\":[[0.0,\"#0d0887\"],[0.1111111111111111,\"#46039f\"],[0.2222222222222222,\"#7201a8\"],[0.3333333333333333,\"#9c179e\"],[0.4444444444444444,\"#bd3786\"],[0.5555555555555556,\"#d8576b\"],[0.6666666666666666,\"#ed7953\"],[0.7777777777777778,\"#fb9f3a\"],[0.8888888888888888,\"#fdca26\"],[1.0,\"#f0f921\"]]}],\"choropleth\":[{\"type\":\"choropleth\",\"colorbar\":{\"outlinewidth\":0,\"ticks\":\"\"}}],\"histogram2d\":[{\"type\":\"histogram2d\",\"colorbar\":{\"outlinewidth\":0,\"ticks\":\"\"},\"colorscale\":[[0.0,\"#0d0887\"],[0.1111111111111111,\"#46039f\"],[0.2222222222222222,\"#7201a8\"],[0.3333333333333333,\"#9c179e\"],[0.4444444444444444,\"#bd3786\"],[0.5555555555555556,\"#d8576b\"],[0.6666666666666666,\"#ed7953\"],[0.7777777777777778,\"#fb9f3a\"],[0.8888888888888888,\"#fdca26\"],[1.0,\"#f0f921\"]]}],\"heatmap\":[{\"type\":\"heatmap\",\"colorbar\":{\"outlinewidth\":0,\"ticks\":\"\"},\"colorscale\":[[0.0,\"#0d0887\"],[0.1111111111111111,\"#46039f\"],[0.2222222222222222,\"#7201a8\"],[0.3333333333333333,\"#9c179e\"],[0.4444444444444444,\"#bd3786\"],[0.5555555555555556,\"#d8576b\"],[0.6666666666666666,\"#ed7953\"],[0.7777777777777778,\"#fb9f3a\"],[0.8888888888888888,\"#fdca26\"],[1.0,\"#f0f921\"]]}],\"heatmapgl\":[{\"type\":\"heatmapgl\",\"colorbar\":{\"outlinewidth\":0,\"ticks\":\"\"},\"colorscale\":[[0.0,\"#0d0887\"],[0.1111111111111111,\"#46039f\"],[0.2222222222222222,\"#7201a8\"],[0.3333333333333333,\"#9c179e\"],[0.4444444444444444,\"#bd3786\"],[0.5555555555555556,\"#d8576b\"],[0.6666666666666666,\"#ed7953\"],[0.7777777777777778,\"#fb9f3a\"],[0.8888888888888888,\"#fdca26\"],[1.0,\"#f0f921\"]]}],\"contourcarpet\":[{\"type\":\"contourcarpet\",\"colorbar\":{\"outlinewidth\":0,\"ticks\":\"\"}}],\"contour\":[{\"type\":\"contour\",\"colorbar\":{\"outlinewidth\":0,\"ticks\":\"\"},\"colorscale\":[[0.0,\"#0d0887\"],[0.1111111111111111,\"#46039f\"],[0.2222222222222222,\"#7201a8\"],[0.3333333333333333,\"#9c179e\"],[0.4444444444444444,\"#bd3786\"],[0.5555555555555556,\"#d8576b\"],[0.6666666666666666,\"#ed7953\"],[0.7777777777777778,\"#fb9f3a\"],[0.8888888888888888,\"#fdca26\"],[1.0,\"#f0f921\"]]}],\"surface\":[{\"type\":\"surface\",\"colorbar\":{\"outlinewidth\":0,\"ticks\":\"\"},\"colorscale\":[[0.0,\"#0d0887\"],[0.1111111111111111,\"#46039f\"],[0.2222222222222222,\"#7201a8\"],[0.3333333333333333,\"#9c179e\"],[0.4444444444444444,\"#bd3786\"],[0.5555555555555556,\"#d8576b\"],[0.6666666666666666,\"#ed7953\"],[0.7777777777777778,\"#fb9f3a\"],[0.8888888888888888,\"#fdca26\"],[1.0,\"#f0f921\"]]}],\"mesh3d\":[{\"type\":\"mesh3d\",\"colorbar\":{\"outlinewidth\":0,\"ticks\":\"\"}}],\"scatter\":[{\"fillpattern\":{\"fillmode\":\"overlay\",\"size\":10,\"solidity\":0.2},\"type\":\"scatter\"}],\"parcoords\":[{\"type\":\"parcoords\",\"line\":{\"colorbar\":{\"outlinewidth\":0,\"ticks\":\"\"}}}],\"scatterpolargl\":[{\"type\":\"scatterpolargl\",\"marker\":{\"colorbar\":{\"outlinewidth\":0,\"ticks\":\"\"}}}],\"bar\":[{\"error_x\":{\"color\":\"#2a3f5f\"},\"error_y\":{\"color\":\"#2a3f5f\"},\"marker\":{\"line\":{\"color\":\"#E5ECF6\",\"width\":0.5},\"pattern\":{\"fillmode\":\"overlay\",\"size\":10,\"solidity\":0.2}},\"type\":\"bar\"}],\"scattergeo\":[{\"type\":\"scattergeo\",\"marker\":{\"colorbar\":{\"outlinewidth\":0,\"ticks\":\"\"}}}],\"scatterpolar\":[{\"type\":\"scatterpolar\",\"marker\":{\"colorbar\":{\"outlinewidth\":0,\"ticks\":\"\"}}}],\"histogram\":[{\"marker\":{\"pattern\":{\"fillmode\":\"overlay\",\"size\":10,\"solidity\":0.2}},\"type\":\"histogram\"}],\"scattergl\":[{\"type\":\"scattergl\",\"marker\":{\"colorbar\":{\"outlinewidth\":0,\"ticks\":\"\"}}}],\"scatter3d\":[{\"type\":\"scatter3d\",\"line\":{\"colorbar\":{\"outlinewidth\":0,\"ticks\":\"\"}},\"marker\":{\"colorbar\":{\"outlinewidth\":0,\"ticks\":\"\"}}}],\"scattermapbox\":[{\"type\":\"scattermapbox\",\"marker\":{\"colorbar\":{\"outlinewidth\":0,\"ticks\":\"\"}}}],\"scatterternary\":[{\"type\":\"scatterternary\",\"marker\":{\"colorbar\":{\"outlinewidth\":0,\"ticks\":\"\"}}}],\"scattercarpet\":[{\"type\":\"scattercarpet\",\"marker\":{\"colorbar\":{\"outlinewidth\":0,\"ticks\":\"\"}}}],\"carpet\":[{\"aaxis\":{\"endlinecolor\":\"#2a3f5f\",\"gridcolor\":\"white\",\"linecolor\":\"white\",\"minorgridcolor\":\"white\",\"startlinecolor\":\"#2a3f5f\"},\"baxis\":{\"endlinecolor\":\"#2a3f5f\",\"gridcolor\":\"white\",\"linecolor\":\"white\",\"minorgridcolor\":\"white\",\"startlinecolor\":\"#2a3f5f\"},\"type\":\"carpet\"}],\"table\":[{\"cells\":{\"fill\":{\"color\":\"#EBF0F8\"},\"line\":{\"color\":\"white\"}},\"header\":{\"fill\":{\"color\":\"#C8D4E3\"},\"line\":{\"color\":\"white\"}},\"type\":\"table\"}],\"barpolar\":[{\"marker\":{\"line\":{\"color\":\"#E5ECF6\",\"width\":0.5},\"pattern\":{\"fillmode\":\"overlay\",\"size\":10,\"solidity\":0.2}},\"type\":\"barpolar\"}],\"pie\":[{\"automargin\":true,\"type\":\"pie\"}]},\"layout\":{\"autotypenumbers\":\"strict\",\"colorway\":[\"#636efa\",\"#EF553B\",\"#00cc96\",\"#ab63fa\",\"#FFA15A\",\"#19d3f3\",\"#FF6692\",\"#B6E880\",\"#FF97FF\",\"#FECB52\"],\"font\":{\"color\":\"#2a3f5f\"},\"hovermode\":\"closest\",\"hoverlabel\":{\"align\":\"left\"},\"paper_bgcolor\":\"white\",\"plot_bgcolor\":\"#E5ECF6\",\"polar\":{\"bgcolor\":\"#E5ECF6\",\"angularaxis\":{\"gridcolor\":\"white\",\"linecolor\":\"white\",\"ticks\":\"\"},\"radialaxis\":{\"gridcolor\":\"white\",\"linecolor\":\"white\",\"ticks\":\"\"}},\"ternary\":{\"bgcolor\":\"#E5ECF6\",\"aaxis\":{\"gridcolor\":\"white\",\"linecolor\":\"white\",\"ticks\":\"\"},\"baxis\":{\"gridcolor\":\"white\",\"linecolor\":\"white\",\"ticks\":\"\"},\"caxis\":{\"gridcolor\":\"white\",\"linecolor\":\"white\",\"ticks\":\"\"}},\"coloraxis\":{\"colorbar\":{\"outlinewidth\":0,\"ticks\":\"\"}},\"colorscale\":{\"sequential\":[[0.0,\"#0d0887\"],[0.1111111111111111,\"#46039f\"],[0.2222222222222222,\"#7201a8\"],[0.3333333333333333,\"#9c179e\"],[0.4444444444444444,\"#bd3786\"],[0.5555555555555556,\"#d8576b\"],[0.6666666666666666,\"#ed7953\"],[0.7777777777777778,\"#fb9f3a\"],[0.8888888888888888,\"#fdca26\"],[1.0,\"#f0f921\"]],\"sequentialminus\":[[0.0,\"#0d0887\"],[0.1111111111111111,\"#46039f\"],[0.2222222222222222,\"#7201a8\"],[0.3333333333333333,\"#9c179e\"],[0.4444444444444444,\"#bd3786\"],[0.5555555555555556,\"#d8576b\"],[0.6666666666666666,\"#ed7953\"],[0.7777777777777778,\"#fb9f3a\"],[0.8888888888888888,\"#fdca26\"],[1.0,\"#f0f921\"]],\"diverging\":[[0,\"#8e0152\"],[0.1,\"#c51b7d\"],[0.2,\"#de77ae\"],[0.3,\"#f1b6da\"],[0.4,\"#fde0ef\"],[0.5,\"#f7f7f7\"],[0.6,\"#e6f5d0\"],[0.7,\"#b8e186\"],[0.8,\"#7fbc41\"],[0.9,\"#4d9221\"],[1,\"#276419\"]]},\"xaxis\":{\"gridcolor\":\"white\",\"linecolor\":\"white\",\"ticks\":\"\",\"title\":{\"standoff\":15},\"zerolinecolor\":\"white\",\"automargin\":true,\"zerolinewidth\":2},\"yaxis\":{\"gridcolor\":\"white\",\"linecolor\":\"white\",\"ticks\":\"\",\"title\":{\"standoff\":15},\"zerolinecolor\":\"white\",\"automargin\":true,\"zerolinewidth\":2},\"scene\":{\"xaxis\":{\"backgroundcolor\":\"#E5ECF6\",\"gridcolor\":\"white\",\"linecolor\":\"white\",\"showbackground\":true,\"ticks\":\"\",\"zerolinecolor\":\"white\",\"gridwidth\":2},\"yaxis\":{\"backgroundcolor\":\"#E5ECF6\",\"gridcolor\":\"white\",\"linecolor\":\"white\",\"showbackground\":true,\"ticks\":\"\",\"zerolinecolor\":\"white\",\"gridwidth\":2},\"zaxis\":{\"backgroundcolor\":\"#E5ECF6\",\"gridcolor\":\"white\",\"linecolor\":\"white\",\"showbackground\":true,\"ticks\":\"\",\"zerolinecolor\":\"white\",\"gridwidth\":2}},\"shapedefaults\":{\"line\":{\"color\":\"#2a3f5f\"}},\"annotationdefaults\":{\"arrowcolor\":\"#2a3f5f\",\"arrowhead\":0,\"arrowwidth\":1},\"geo\":{\"bgcolor\":\"white\",\"landcolor\":\"#E5ECF6\",\"subunitcolor\":\"white\",\"showland\":true,\"showlakes\":true,\"lakecolor\":\"white\"},\"title\":{\"x\":0.05},\"mapbox\":{\"style\":\"light\"}}},\"annotations\":[{\"font\":{\"size\":16},\"showarrow\":false,\"text\":\"Male Students\",\"x\":0.225,\"xanchor\":\"center\",\"xref\":\"paper\",\"y\":1.0,\"yanchor\":\"bottom\",\"yref\":\"paper\"},{\"font\":{\"size\":16},\"showarrow\":false,\"text\":\"Female Students\",\"x\":0.775,\"xanchor\":\"center\",\"xref\":\"paper\",\"y\":1.0,\"yanchor\":\"bottom\",\"yref\":\"paper\"}],\"font\":{\"size\":14},\"height\":500,\"width\":800,\"title\":{\"text\":\"Gender distribution of students\"},\"showlegend\":false},                        {\"responsive\": true}                    ).then(function(){\n",
              "                            \n",
              "var gd = document.getElementById('72003f81-2072-47cc-806a-d61251e1d1ac');\n",
              "var x = new MutationObserver(function (mutations, observer) {{\n",
              "        var display = window.getComputedStyle(gd).display;\n",
              "        if (!display || display === 'none') {{\n",
              "            console.log([gd, 'removed!']);\n",
              "            Plotly.purge(gd);\n",
              "            observer.disconnect();\n",
              "        }}\n",
              "}});\n",
              "\n",
              "// Listen for the removal of the full notebook cells\n",
              "var notebookContainer = gd.closest('#notebook-container');\n",
              "if (notebookContainer) {{\n",
              "    x.observe(notebookContainer, {childList: true});\n",
              "}}\n",
              "\n",
              "// Listen for the clearing of the current output cell\n",
              "var outputEl = gd.closest('.output');\n",
              "if (outputEl) {{\n",
              "    x.observe(outputEl, {childList: true});\n",
              "}}\n",
              "\n",
              "                        })                };                            </script>        </div>\n",
              "</body>\n",
              "</html>"
            ]
          },
          "metadata": {}
        }
      ]
    },
    {
      "cell_type": "markdown",
      "metadata": {
        "id": "go2nYQJhYCvN"
      },
      "source": [
        "**Observation**\n",
        "* There was a significant number of female students (64.8%) compared to the males (35.2%).\n",
        "* Also it is observed that there was a higher rate of dropout students that were male (45.1%), compared to the females (25.1%)."
      ]
    },
    {
      "cell_type": "markdown",
      "metadata": {
        "id": "pzU4YLvw-3Dg"
      },
      "source": [
        "## Students courses"
      ]
    },
    {
      "cell_type": "code",
      "execution_count": 17,
      "metadata": {
        "id": "ANccRsf3Cm3O"
      },
      "outputs": [],
      "source": [
        "# Converting the courses back to categorical\n",
        "data_viz['Course'] = data_viz['Course'].map({1: 'Biofuel Production Technologies',\n",
        " 2: 'Animation and Multimedia Design', 3: 'Social Service (evening attendance)',\n",
        " 4: 'Agronomy', 5: 'Communication Design', 6: 'Veterinary Nursing',\n",
        " 7: 'Informatics Engineering', 8: 'Equiniculture', 9: 'Management',\n",
        " 10: 'Social Service', 11: 'Tourism', 12: 'Nursing', 13: 'Oral Hygiene',\n",
        " 14: 'Advertising and Marketing Management', 15: 'Journalism and Communication',\n",
        " 16: 'Basic Education', 17: 'Management (evening attendance)'})"
      ]
    },
    {
      "cell_type": "code",
      "source": [
        "# Bar chart for courses\n",
        "percent_count = data_viz['Course'].value_counts()\n",
        "fig = px.bar(percent_count,  orientation= 'h', text_auto=True)\n",
        "\n",
        "\n",
        "fig.update_traces(marker=dict(color=['red','orangered', 'darkorange', 'orange', 'yellow']))\n",
        "fig.update_layout(height=500, width=1000,\n",
        "                  title='Courses enrolled by students',\n",
        "                  showlegend = False,\n",
        "                  font=dict(size=14),\n",
        "                  xaxis_title = 'Total',\n",
        "                  yaxis_title = 'Courses')\n",
        "fig.show()"
      ],
      "metadata": {
        "colab": {
          "base_uri": "https://localhost:8080/",
          "height": 517
        },
        "id": "BD0rawKF22TN",
        "outputId": "53e047d7-dd75-4661-8106-2cb362f0e3ea"
      },
      "execution_count": 18,
      "outputs": [
        {
          "output_type": "display_data",
          "data": {
            "text/html": [
              "<html>\n",
              "<head><meta charset=\"utf-8\" /></head>\n",
              "<body>\n",
              "    <div>            <script src=\"https://cdnjs.cloudflare.com/ajax/libs/mathjax/2.7.5/MathJax.js?config=TeX-AMS-MML_SVG\"></script><script type=\"text/javascript\">if (window.MathJax && window.MathJax.Hub && window.MathJax.Hub.Config) {window.MathJax.Hub.Config({SVG: {font: \"STIX-Web\"}});}</script>                <script type=\"text/javascript\">window.PlotlyConfig = {MathJaxConfig: 'local'};</script>\n",
              "        <script charset=\"utf-8\" src=\"https://cdn.plot.ly/plotly-2.35.2.min.js\"></script>                <div id=\"c9ea0c99-ef19-4902-80e1-f2bbf7d0964a\" class=\"plotly-graph-div\" style=\"height:500px; width:1000px;\"></div>            <script type=\"text/javascript\">                                    window.PLOTLYENV=window.PLOTLYENV || {};                                    if (document.getElementById(\"c9ea0c99-ef19-4902-80e1-f2bbf7d0964a\")) {                    Plotly.newPlot(                        \"c9ea0c99-ef19-4902-80e1-f2bbf7d0964a\",                        [{\"alignmentgroup\":\"True\",\"hovertemplate\":\"variable=count\\u003cbr\\u003evalue=%{x}\\u003cbr\\u003eCourse=%{y}\\u003cextra\\u003e\\u003c\\u002fextra\\u003e\",\"legendgroup\":\"count\",\"marker\":{\"color\":[\"red\",\"orangered\",\"darkorange\",\"orange\",\"yellow\"],\"pattern\":{\"shape\":\"\"}},\"name\":\"count\",\"offsetgroup\":\"count\",\"orientation\":\"h\",\"showlegend\":true,\"textposition\":\"auto\",\"texttemplate\":\"%{x}\",\"x\":[766,380,355,337,331,268,268,252,226,215,215,210,192,170,141,86,12],\"xaxis\":\"x\",\"y\":[\"Nursing\",\"Management\",\"Social Service\",\"Veterinary Nursing\",\"Journalism and Communication\",\"Advertising and Marketing Management\",\"Management (evening attendance)\",\"Tourism\",\"Communication Design\",\"Animation and Multimedia Design\",\"Social Service (evening attendance)\",\"Agronomy\",\"Basic Education\",\"Informatics Engineering\",\"Equiniculture\",\"Oral Hygiene\",\"Biofuel Production Technologies\"],\"yaxis\":\"y\",\"type\":\"bar\"}],                        {\"template\":{\"data\":{\"histogram2dcontour\":[{\"type\":\"histogram2dcontour\",\"colorbar\":{\"outlinewidth\":0,\"ticks\":\"\"},\"colorscale\":[[0.0,\"#0d0887\"],[0.1111111111111111,\"#46039f\"],[0.2222222222222222,\"#7201a8\"],[0.3333333333333333,\"#9c179e\"],[0.4444444444444444,\"#bd3786\"],[0.5555555555555556,\"#d8576b\"],[0.6666666666666666,\"#ed7953\"],[0.7777777777777778,\"#fb9f3a\"],[0.8888888888888888,\"#fdca26\"],[1.0,\"#f0f921\"]]}],\"choropleth\":[{\"type\":\"choropleth\",\"colorbar\":{\"outlinewidth\":0,\"ticks\":\"\"}}],\"histogram2d\":[{\"type\":\"histogram2d\",\"colorbar\":{\"outlinewidth\":0,\"ticks\":\"\"},\"colorscale\":[[0.0,\"#0d0887\"],[0.1111111111111111,\"#46039f\"],[0.2222222222222222,\"#7201a8\"],[0.3333333333333333,\"#9c179e\"],[0.4444444444444444,\"#bd3786\"],[0.5555555555555556,\"#d8576b\"],[0.6666666666666666,\"#ed7953\"],[0.7777777777777778,\"#fb9f3a\"],[0.8888888888888888,\"#fdca26\"],[1.0,\"#f0f921\"]]}],\"heatmap\":[{\"type\":\"heatmap\",\"colorbar\":{\"outlinewidth\":0,\"ticks\":\"\"},\"colorscale\":[[0.0,\"#0d0887\"],[0.1111111111111111,\"#46039f\"],[0.2222222222222222,\"#7201a8\"],[0.3333333333333333,\"#9c179e\"],[0.4444444444444444,\"#bd3786\"],[0.5555555555555556,\"#d8576b\"],[0.6666666666666666,\"#ed7953\"],[0.7777777777777778,\"#fb9f3a\"],[0.8888888888888888,\"#fdca26\"],[1.0,\"#f0f921\"]]}],\"heatmapgl\":[{\"type\":\"heatmapgl\",\"colorbar\":{\"outlinewidth\":0,\"ticks\":\"\"},\"colorscale\":[[0.0,\"#0d0887\"],[0.1111111111111111,\"#46039f\"],[0.2222222222222222,\"#7201a8\"],[0.3333333333333333,\"#9c179e\"],[0.4444444444444444,\"#bd3786\"],[0.5555555555555556,\"#d8576b\"],[0.6666666666666666,\"#ed7953\"],[0.7777777777777778,\"#fb9f3a\"],[0.8888888888888888,\"#fdca26\"],[1.0,\"#f0f921\"]]}],\"contourcarpet\":[{\"type\":\"contourcarpet\",\"colorbar\":{\"outlinewidth\":0,\"ticks\":\"\"}}],\"contour\":[{\"type\":\"contour\",\"colorbar\":{\"outlinewidth\":0,\"ticks\":\"\"},\"colorscale\":[[0.0,\"#0d0887\"],[0.1111111111111111,\"#46039f\"],[0.2222222222222222,\"#7201a8\"],[0.3333333333333333,\"#9c179e\"],[0.4444444444444444,\"#bd3786\"],[0.5555555555555556,\"#d8576b\"],[0.6666666666666666,\"#ed7953\"],[0.7777777777777778,\"#fb9f3a\"],[0.8888888888888888,\"#fdca26\"],[1.0,\"#f0f921\"]]}],\"surface\":[{\"type\":\"surface\",\"colorbar\":{\"outlinewidth\":0,\"ticks\":\"\"},\"colorscale\":[[0.0,\"#0d0887\"],[0.1111111111111111,\"#46039f\"],[0.2222222222222222,\"#7201a8\"],[0.3333333333333333,\"#9c179e\"],[0.4444444444444444,\"#bd3786\"],[0.5555555555555556,\"#d8576b\"],[0.6666666666666666,\"#ed7953\"],[0.7777777777777778,\"#fb9f3a\"],[0.8888888888888888,\"#fdca26\"],[1.0,\"#f0f921\"]]}],\"mesh3d\":[{\"type\":\"mesh3d\",\"colorbar\":{\"outlinewidth\":0,\"ticks\":\"\"}}],\"scatter\":[{\"fillpattern\":{\"fillmode\":\"overlay\",\"size\":10,\"solidity\":0.2},\"type\":\"scatter\"}],\"parcoords\":[{\"type\":\"parcoords\",\"line\":{\"colorbar\":{\"outlinewidth\":0,\"ticks\":\"\"}}}],\"scatterpolargl\":[{\"type\":\"scatterpolargl\",\"marker\":{\"colorbar\":{\"outlinewidth\":0,\"ticks\":\"\"}}}],\"bar\":[{\"error_x\":{\"color\":\"#2a3f5f\"},\"error_y\":{\"color\":\"#2a3f5f\"},\"marker\":{\"line\":{\"color\":\"#E5ECF6\",\"width\":0.5},\"pattern\":{\"fillmode\":\"overlay\",\"size\":10,\"solidity\":0.2}},\"type\":\"bar\"}],\"scattergeo\":[{\"type\":\"scattergeo\",\"marker\":{\"colorbar\":{\"outlinewidth\":0,\"ticks\":\"\"}}}],\"scatterpolar\":[{\"type\":\"scatterpolar\",\"marker\":{\"colorbar\":{\"outlinewidth\":0,\"ticks\":\"\"}}}],\"histogram\":[{\"marker\":{\"pattern\":{\"fillmode\":\"overlay\",\"size\":10,\"solidity\":0.2}},\"type\":\"histogram\"}],\"scattergl\":[{\"type\":\"scattergl\",\"marker\":{\"colorbar\":{\"outlinewidth\":0,\"ticks\":\"\"}}}],\"scatter3d\":[{\"type\":\"scatter3d\",\"line\":{\"colorbar\":{\"outlinewidth\":0,\"ticks\":\"\"}},\"marker\":{\"colorbar\":{\"outlinewidth\":0,\"ticks\":\"\"}}}],\"scattermapbox\":[{\"type\":\"scattermapbox\",\"marker\":{\"colorbar\":{\"outlinewidth\":0,\"ticks\":\"\"}}}],\"scatterternary\":[{\"type\":\"scatterternary\",\"marker\":{\"colorbar\":{\"outlinewidth\":0,\"ticks\":\"\"}}}],\"scattercarpet\":[{\"type\":\"scattercarpet\",\"marker\":{\"colorbar\":{\"outlinewidth\":0,\"ticks\":\"\"}}}],\"carpet\":[{\"aaxis\":{\"endlinecolor\":\"#2a3f5f\",\"gridcolor\":\"white\",\"linecolor\":\"white\",\"minorgridcolor\":\"white\",\"startlinecolor\":\"#2a3f5f\"},\"baxis\":{\"endlinecolor\":\"#2a3f5f\",\"gridcolor\":\"white\",\"linecolor\":\"white\",\"minorgridcolor\":\"white\",\"startlinecolor\":\"#2a3f5f\"},\"type\":\"carpet\"}],\"table\":[{\"cells\":{\"fill\":{\"color\":\"#EBF0F8\"},\"line\":{\"color\":\"white\"}},\"header\":{\"fill\":{\"color\":\"#C8D4E3\"},\"line\":{\"color\":\"white\"}},\"type\":\"table\"}],\"barpolar\":[{\"marker\":{\"line\":{\"color\":\"#E5ECF6\",\"width\":0.5},\"pattern\":{\"fillmode\":\"overlay\",\"size\":10,\"solidity\":0.2}},\"type\":\"barpolar\"}],\"pie\":[{\"automargin\":true,\"type\":\"pie\"}]},\"layout\":{\"autotypenumbers\":\"strict\",\"colorway\":[\"#636efa\",\"#EF553B\",\"#00cc96\",\"#ab63fa\",\"#FFA15A\",\"#19d3f3\",\"#FF6692\",\"#B6E880\",\"#FF97FF\",\"#FECB52\"],\"font\":{\"color\":\"#2a3f5f\"},\"hovermode\":\"closest\",\"hoverlabel\":{\"align\":\"left\"},\"paper_bgcolor\":\"white\",\"plot_bgcolor\":\"#E5ECF6\",\"polar\":{\"bgcolor\":\"#E5ECF6\",\"angularaxis\":{\"gridcolor\":\"white\",\"linecolor\":\"white\",\"ticks\":\"\"},\"radialaxis\":{\"gridcolor\":\"white\",\"linecolor\":\"white\",\"ticks\":\"\"}},\"ternary\":{\"bgcolor\":\"#E5ECF6\",\"aaxis\":{\"gridcolor\":\"white\",\"linecolor\":\"white\",\"ticks\":\"\"},\"baxis\":{\"gridcolor\":\"white\",\"linecolor\":\"white\",\"ticks\":\"\"},\"caxis\":{\"gridcolor\":\"white\",\"linecolor\":\"white\",\"ticks\":\"\"}},\"coloraxis\":{\"colorbar\":{\"outlinewidth\":0,\"ticks\":\"\"}},\"colorscale\":{\"sequential\":[[0.0,\"#0d0887\"],[0.1111111111111111,\"#46039f\"],[0.2222222222222222,\"#7201a8\"],[0.3333333333333333,\"#9c179e\"],[0.4444444444444444,\"#bd3786\"],[0.5555555555555556,\"#d8576b\"],[0.6666666666666666,\"#ed7953\"],[0.7777777777777778,\"#fb9f3a\"],[0.8888888888888888,\"#fdca26\"],[1.0,\"#f0f921\"]],\"sequentialminus\":[[0.0,\"#0d0887\"],[0.1111111111111111,\"#46039f\"],[0.2222222222222222,\"#7201a8\"],[0.3333333333333333,\"#9c179e\"],[0.4444444444444444,\"#bd3786\"],[0.5555555555555556,\"#d8576b\"],[0.6666666666666666,\"#ed7953\"],[0.7777777777777778,\"#fb9f3a\"],[0.8888888888888888,\"#fdca26\"],[1.0,\"#f0f921\"]],\"diverging\":[[0,\"#8e0152\"],[0.1,\"#c51b7d\"],[0.2,\"#de77ae\"],[0.3,\"#f1b6da\"],[0.4,\"#fde0ef\"],[0.5,\"#f7f7f7\"],[0.6,\"#e6f5d0\"],[0.7,\"#b8e186\"],[0.8,\"#7fbc41\"],[0.9,\"#4d9221\"],[1,\"#276419\"]]},\"xaxis\":{\"gridcolor\":\"white\",\"linecolor\":\"white\",\"ticks\":\"\",\"title\":{\"standoff\":15},\"zerolinecolor\":\"white\",\"automargin\":true,\"zerolinewidth\":2},\"yaxis\":{\"gridcolor\":\"white\",\"linecolor\":\"white\",\"ticks\":\"\",\"title\":{\"standoff\":15},\"zerolinecolor\":\"white\",\"automargin\":true,\"zerolinewidth\":2},\"scene\":{\"xaxis\":{\"backgroundcolor\":\"#E5ECF6\",\"gridcolor\":\"white\",\"linecolor\":\"white\",\"showbackground\":true,\"ticks\":\"\",\"zerolinecolor\":\"white\",\"gridwidth\":2},\"yaxis\":{\"backgroundcolor\":\"#E5ECF6\",\"gridcolor\":\"white\",\"linecolor\":\"white\",\"showbackground\":true,\"ticks\":\"\",\"zerolinecolor\":\"white\",\"gridwidth\":2},\"zaxis\":{\"backgroundcolor\":\"#E5ECF6\",\"gridcolor\":\"white\",\"linecolor\":\"white\",\"showbackground\":true,\"ticks\":\"\",\"zerolinecolor\":\"white\",\"gridwidth\":2}},\"shapedefaults\":{\"line\":{\"color\":\"#2a3f5f\"}},\"annotationdefaults\":{\"arrowcolor\":\"#2a3f5f\",\"arrowhead\":0,\"arrowwidth\":1},\"geo\":{\"bgcolor\":\"white\",\"landcolor\":\"#E5ECF6\",\"subunitcolor\":\"white\",\"showland\":true,\"showlakes\":true,\"lakecolor\":\"white\"},\"title\":{\"x\":0.05},\"mapbox\":{\"style\":\"light\"}}},\"xaxis\":{\"anchor\":\"y\",\"domain\":[0.0,1.0],\"title\":{\"text\":\"Total\"}},\"yaxis\":{\"anchor\":\"x\",\"domain\":[0.0,1.0],\"title\":{\"text\":\"Courses\"}},\"legend\":{\"title\":{\"text\":\"variable\"},\"tracegroupgap\":0},\"margin\":{\"t\":60},\"barmode\":\"relative\",\"font\":{\"size\":14},\"height\":500,\"width\":1000,\"title\":{\"text\":\"Courses enrolled by students\"},\"showlegend\":false},                        {\"responsive\": true}                    ).then(function(){\n",
              "                            \n",
              "var gd = document.getElementById('c9ea0c99-ef19-4902-80e1-f2bbf7d0964a');\n",
              "var x = new MutationObserver(function (mutations, observer) {{\n",
              "        var display = window.getComputedStyle(gd).display;\n",
              "        if (!display || display === 'none') {{\n",
              "            console.log([gd, 'removed!']);\n",
              "            Plotly.purge(gd);\n",
              "            observer.disconnect();\n",
              "        }}\n",
              "}});\n",
              "\n",
              "// Listen for the removal of the full notebook cells\n",
              "var notebookContainer = gd.closest('#notebook-container');\n",
              "if (notebookContainer) {{\n",
              "    x.observe(notebookContainer, {childList: true});\n",
              "}}\n",
              "\n",
              "// Listen for the clearing of the current output cell\n",
              "var outputEl = gd.closest('.output');\n",
              "if (outputEl) {{\n",
              "    x.observe(outputEl, {childList: true});\n",
              "}}\n",
              "\n",
              "                        })                };                            </script>        </div>\n",
              "</body>\n",
              "</html>"
            ]
          },
          "metadata": {}
        }
      ]
    },
    {
      "cell_type": "code",
      "execution_count": 19,
      "metadata": {
        "colab": {
          "base_uri": "https://localhost:8080/",
          "height": 1000
        },
        "id": "lAWl_N-qGJYZ",
        "outputId": "9408477e-932d-4b4f-a728-e7f8a4c49337"
      },
      "outputs": [
        {
          "output_type": "display_data",
          "data": {
            "text/html": [
              "<html>\n",
              "<head><meta charset=\"utf-8\" /></head>\n",
              "<body>\n",
              "    <div>            <script src=\"https://cdnjs.cloudflare.com/ajax/libs/mathjax/2.7.5/MathJax.js?config=TeX-AMS-MML_SVG\"></script><script type=\"text/javascript\">if (window.MathJax && window.MathJax.Hub && window.MathJax.Hub.Config) {window.MathJax.Hub.Config({SVG: {font: \"STIX-Web\"}});}</script>                <script type=\"text/javascript\">window.PlotlyConfig = {MathJaxConfig: 'local'};</script>\n",
              "        <script charset=\"utf-8\" src=\"https://cdn.plot.ly/plotly-2.35.2.min.js\"></script>                <div id=\"d6ea0681-4198-49a7-b6ce-b429a7fd0c19\" class=\"plotly-graph-div\" style=\"height:1600px; width:1200px;\"></div>            <script type=\"text/javascript\">                                    window.PLOTLYENV=window.PLOTLYENV || {};                                    if (document.getElementById(\"d6ea0681-4198-49a7-b6ce-b429a7fd0c19\")) {                    Plotly.newPlot(                        \"d6ea0681-4198-49a7-b6ce-b429a7fd0c19\",                        [{\"alignmentgroup\":\"True\",\"bingroup\":\"y\",\"hovertemplate\":\"Target=Dropout\\u003cbr\\u003ecount (normalized as percent)=%{x}\\u003cbr\\u003eCourse=%{y}\\u003cextra\\u003e\\u003c\\u002fextra\\u003e\",\"legendgroup\":\"Dropout\",\"marker\":{\"color\":\"rgb(27,158,119)\",\"pattern\":{\"shape\":\"\"}},\"name\":\"Dropout\",\"offsetgroup\":\"Dropout\",\"orientation\":\"h\",\"showlegend\":true,\"texttemplate\":\"%{value:.1f}\",\"xaxis\":\"x\",\"y\":[\"Animation and Multimedia Design\",\"Communication Design\",\"Tourism\",\"Social Service\",\"Basic Education\",\"Journalism and Communication\",\"Biofuel Production Technologies\",\"Informatics Engineering\",\"Management\",\"Equiniculture\",\"Journalism and Communication\",\"Journalism and Communication\",\"Management (evening attendance)\",\"Management (evening attendance)\",\"Tourism\",\"Equiniculture\",\"Nursing\",\"Management\",\"Animation and Multimedia Design\",\"Tourism\",\"Management\",\"Tourism\",\"Basic Education\",\"Management (evening attendance)\",\"Agronomy\",\"Nursing\",\"Equiniculture\",\"Basic Education\",\"Nursing\",\"Veterinary Nursing\",\"Social Service (evening attendance)\",\"Basic Education\",\"Social Service\",\"Veterinary Nursing\",\"Nursing\",\"Nursing\",\"Tourism\",\"Animation and Multimedia Design\",\"Oral Hygiene\",\"Nursing\",\"Nursing\",\"Advertising and Marketing Management\",\"Tourism\",\"Tourism\",\"Basic Education\",\"Basic Education\",\"Advertising and Marketing Management\",\"Basic Education\",\"Social Service\",\"Tourism\",\"Nursing\",\"Basic Education\",\"Nursing\",\"Journalism and Communication\",\"Communication Design\",\"Tourism\",\"Management\",\"Veterinary Nursing\",\"Management\",\"Basic Education\",\"Management (evening attendance)\",\"Informatics Engineering\",\"Tourism\",\"Management (evening attendance)\",\"Social Service (evening attendance)\",\"Social Service (evening attendance)\",\"Veterinary Nursing\",\"Tourism\",\"Advertising and Marketing Management\",\"Tourism\",\"Management\",\"Equiniculture\",\"Veterinary Nursing\",\"Management\",\"Agronomy\",\"Journalism and Communication\",\"Oral Hygiene\",\"Social Service\",\"Social Service (evening attendance)\",\"Informatics Engineering\",\"Management\",\"Basic Education\",\"Equiniculture\",\"Communication Design\",\"Advertising and Marketing Management\",\"Social Service\",\"Equiniculture\",\"Equiniculture\",\"Basic Education\",\"Management\",\"Veterinary Nursing\",\"Informatics Engineering\",\"Animation and Multimedia Design\",\"Tourism\",\"Animation and Multimedia Design\",\"Tourism\",\"Management (evening attendance)\",\"Veterinary Nursing\",\"Journalism and Communication\",\"Nursing\",\"Veterinary Nursing\",\"Management\",\"Nursing\",\"Journalism and Communication\",\"Veterinary Nursing\",\"Advertising and Marketing Management\",\"Management\",\"Veterinary Nursing\",\"Basic Education\",\"Nursing\",\"Veterinary Nursing\",\"Veterinary Nursing\",\"Nursing\",\"Advertising and Marketing Management\",\"Nursing\",\"Agronomy\",\"Basic Education\",\"Social Service (evening attendance)\",\"Advertising and Marketing Management\",\"Tourism\",\"Oral Hygiene\",\"Nursing\",\"Nursing\",\"Advertising and Marketing Management\",\"Advertising and Marketing Management\",\"Equiniculture\",\"Oral Hygiene\",\"Veterinary Nursing\",\"Equiniculture\",\"Management\",\"Social Service (evening attendance)\",\"Management (evening attendance)\",\"Social Service (evening attendance)\",\"Social Service\",\"Basic Education\",\"Social Service (evening attendance)\",\"Basic Education\",\"Oral Hygiene\",\"Informatics Engineering\",\"Management\",\"Equiniculture\",\"Advertising and Marketing Management\",\"Communication Design\",\"Informatics Engineering\",\"Journalism and Communication\",\"Informatics Engineering\",\"Journalism and Communication\",\"Communication Design\",\"Informatics Engineering\",\"Management\",\"Agronomy\",\"Management (evening attendance)\",\"Agronomy\",\"Informatics Engineering\",\"Management\",\"Informatics Engineering\",\"Veterinary Nursing\",\"Social Service (evening attendance)\",\"Management (evening attendance)\",\"Basic Education\",\"Basic Education\",\"Equiniculture\",\"Communication Design\",\"Animation and Multimedia Design\",\"Equiniculture\",\"Veterinary Nursing\",\"Management\",\"Basic Education\",\"Communication Design\",\"Basic Education\",\"Journalism and Communication\",\"Advertising and Marketing Management\",\"Journalism and Communication\",\"Agronomy\",\"Journalism and Communication\",\"Nursing\",\"Social Service (evening attendance)\",\"Basic Education\",\"Journalism and Communication\",\"Veterinary Nursing\",\"Social Service\",\"Veterinary Nursing\",\"Management\",\"Equiniculture\",\"Biofuel Production Technologies\",\"Management\",\"Informatics Engineering\",\"Management\",\"Oral Hygiene\",\"Management (evening attendance)\",\"Management (evening attendance)\",\"Social Service (evening attendance)\",\"Management (evening attendance)\",\"Informatics Engineering\",\"Equiniculture\",\"Advertising and Marketing Management\",\"Biofuel Production Technologies\",\"Social Service (evening attendance)\",\"Equiniculture\",\"Management (evening attendance)\",\"Journalism and Communication\",\"Equiniculture\",\"Tourism\",\"Journalism and Communication\",\"Communication Design\",\"Nursing\",\"Management (evening attendance)\",\"Agronomy\",\"Agronomy\",\"Advertising and Marketing Management\",\"Management (evening attendance)\",\"Animation and Multimedia Design\",\"Advertising and Marketing Management\",\"Management (evening attendance)\",\"Journalism and Communication\",\"Veterinary Nursing\",\"Animation and Multimedia Design\",\"Advertising and Marketing Management\",\"Veterinary Nursing\",\"Nursing\",\"Social Service\",\"Journalism and Communication\",\"Social Service\",\"Basic Education\",\"Advertising and Marketing Management\",\"Tourism\",\"Social Service\",\"Equiniculture\",\"Informatics Engineering\",\"Informatics Engineering\",\"Equiniculture\",\"Management\",\"Equiniculture\",\"Animation and Multimedia Design\",\"Journalism and Communication\",\"Social Service\",\"Agronomy\",\"Informatics Engineering\",\"Journalism and Communication\",\"Informatics Engineering\",\"Management\",\"Communication Design\",\"Advertising and Marketing Management\",\"Veterinary Nursing\",\"Informatics Engineering\",\"Informatics Engineering\",\"Informatics Engineering\",\"Communication Design\",\"Oral Hygiene\",\"Communication Design\",\"Agronomy\",\"Agronomy\",\"Animation and Multimedia Design\",\"Social Service (evening attendance)\",\"Management (evening attendance)\",\"Management\",\"Management\",\"Advertising and Marketing Management\",\"Animation and Multimedia Design\",\"Management (evening attendance)\",\"Nursing\",\"Management (evening attendance)\",\"Social Service (evening attendance)\",\"Social Service\",\"Nursing\",\"Veterinary Nursing\",\"Social Service\",\"Management\",\"Nursing\",\"Social Service (evening attendance)\",\"Veterinary Nursing\",\"Journalism and Communication\",\"Management\",\"Management (evening attendance)\",\"Nursing\",\"Informatics Engineering\",\"Advertising and Marketing Management\",\"Advertising and Marketing Management\",\"Advertising and Marketing Management\",\"Management (evening attendance)\",\"Agronomy\",\"Management (evening attendance)\",\"Management\",\"Informatics Engineering\",\"Management (evening attendance)\",\"Informatics Engineering\",\"Management\",\"Communication Design\",\"Social Service\",\"Veterinary Nursing\",\"Journalism and Communication\",\"Communication Design\",\"Communication Design\",\"Advertising and Marketing Management\",\"Social Service\",\"Journalism and Communication\",\"Management\",\"Advertising and Marketing Management\",\"Veterinary Nursing\",\"Communication Design\",\"Social Service\",\"Management (evening attendance)\",\"Journalism and Communication\",\"Nursing\",\"Nursing\",\"Advertising and Marketing Management\",\"Social Service\",\"Communication Design\",\"Social Service (evening attendance)\",\"Basic Education\",\"Tourism\",\"Animation and Multimedia Design\",\"Equiniculture\",\"Journalism and Communication\",\"Journalism and Communication\",\"Basic Education\",\"Advertising and Marketing Management\",\"Veterinary Nursing\",\"Equiniculture\",\"Animation and Multimedia Design\",\"Nursing\",\"Management (evening attendance)\",\"Communication Design\",\"Tourism\",\"Animation and Multimedia Design\",\"Tourism\",\"Advertising and Marketing Management\",\"Animation and Multimedia Design\",\"Tourism\",\"Nursing\",\"Management\",\"Journalism and Communication\",\"Informatics Engineering\",\"Tourism\",\"Nursing\",\"Nursing\",\"Veterinary Nursing\",\"Management\",\"Equiniculture\",\"Communication Design\",\"Basic Education\",\"Management\",\"Social Service\",\"Social Service (evening attendance)\",\"Agronomy\",\"Oral Hygiene\",\"Animation and Multimedia Design\",\"Management (evening attendance)\",\"Management (evening attendance)\",\"Informatics Engineering\",\"Advertising and Marketing Management\",\"Management (evening attendance)\",\"Equiniculture\",\"Management (evening attendance)\",\"Basic Education\",\"Social Service\",\"Basic Education\",\"Equiniculture\",\"Informatics Engineering\",\"Journalism and Communication\",\"Advertising and Marketing Management\",\"Management\",\"Basic Education\",\"Management\",\"Tourism\",\"Basic Education\",\"Agronomy\",\"Agronomy\",\"Social Service (evening attendance)\",\"Advertising and Marketing Management\",\"Nursing\",\"Management\",\"Tourism\",\"Nursing\",\"Journalism and Communication\",\"Tourism\",\"Tourism\",\"Equiniculture\",\"Equiniculture\",\"Communication Design\",\"Basic Education\",\"Journalism and Communication\",\"Tourism\",\"Animation and Multimedia Design\",\"Informatics Engineering\",\"Informatics Engineering\",\"Communication Design\",\"Advertising and Marketing Management\",\"Informatics Engineering\",\"Management\",\"Oral Hygiene\",\"Animation and Multimedia Design\",\"Communication Design\",\"Social Service\",\"Nursing\",\"Equiniculture\",\"Equiniculture\",\"Informatics Engineering\",\"Animation and Multimedia Design\",\"Management\",\"Informatics Engineering\",\"Tourism\",\"Social Service (evening attendance)\",\"Veterinary Nursing\",\"Equiniculture\",\"Basic Education\",\"Basic Education\",\"Management\",\"Agronomy\",\"Tourism\",\"Animation and Multimedia Design\",\"Informatics Engineering\",\"Agronomy\",\"Equiniculture\",\"Animation and Multimedia Design\",\"Management\",\"Management\",\"Advertising and Marketing Management\",\"Informatics Engineering\",\"Informatics Engineering\",\"Journalism and Communication\",\"Management (evening attendance)\",\"Agronomy\",\"Veterinary Nursing\",\"Veterinary Nursing\",\"Social Service (evening attendance)\",\"Equiniculture\",\"Nursing\",\"Advertising and Marketing Management\",\"Journalism and Communication\",\"Nursing\",\"Tourism\",\"Nursing\",\"Nursing\",\"Management\",\"Management (evening attendance)\",\"Veterinary Nursing\",\"Advertising and Marketing Management\",\"Journalism and Communication\",\"Nursing\",\"Nursing\",\"Basic Education\",\"Informatics Engineering\",\"Management\",\"Basic Education\",\"Social Service (evening attendance)\",\"Equiniculture\",\"Social Service (evening attendance)\",\"Management (evening attendance)\",\"Tourism\",\"Nursing\",\"Informatics Engineering\",\"Animation and Multimedia Design\",\"Equiniculture\",\"Agronomy\",\"Management (evening attendance)\",\"Agronomy\",\"Advertising and Marketing Management\",\"Veterinary Nursing\",\"Management (evening attendance)\",\"Basic Education\",\"Tourism\",\"Agronomy\",\"Animation and Multimedia Design\",\"Animation and Multimedia Design\",\"Social Service\",\"Journalism and Communication\",\"Agronomy\",\"Management\",\"Social Service (evening attendance)\",\"Veterinary Nursing\",\"Social Service (evening attendance)\",\"Journalism and Communication\",\"Oral Hygiene\",\"Oral Hygiene\",\"Basic Education\",\"Management (evening attendance)\",\"Management (evening attendance)\",\"Advertising and Marketing Management\",\"Informatics Engineering\",\"Journalism and Communication\",\"Advertising and Marketing Management\",\"Tourism\",\"Animation and Multimedia Design\",\"Nursing\",\"Basic Education\",\"Communication Design\",\"Equiniculture\",\"Tourism\",\"Oral Hygiene\",\"Nursing\",\"Advertising and Marketing Management\",\"Advertising and Marketing Management\",\"Oral Hygiene\",\"Animation and Multimedia Design\",\"Informatics Engineering\",\"Communication Design\",\"Informatics Engineering\",\"Veterinary Nursing\",\"Nursing\",\"Nursing\",\"Journalism and Communication\",\"Animation and Multimedia Design\",\"Oral Hygiene\",\"Nursing\",\"Informatics Engineering\",\"Management (evening attendance)\",\"Management (evening attendance)\",\"Tourism\",\"Equiniculture\",\"Informatics Engineering\",\"Management\",\"Communication Design\",\"Equiniculture\",\"Equiniculture\",\"Journalism and Communication\",\"Advertising and Marketing Management\",\"Veterinary Nursing\",\"Equiniculture\",\"Agronomy\",\"Agronomy\",\"Communication Design\",\"Informatics Engineering\",\"Equiniculture\",\"Animation and Multimedia Design\",\"Management\",\"Agronomy\",\"Nursing\",\"Journalism and Communication\",\"Management (evening attendance)\",\"Nursing\",\"Nursing\",\"Social Service\",\"Communication Design\",\"Management\",\"Management (evening attendance)\",\"Veterinary Nursing\",\"Veterinary Nursing\",\"Agronomy\",\"Tourism\",\"Nursing\",\"Advertising and Marketing Management\",\"Management\",\"Management (evening attendance)\",\"Advertising and Marketing Management\",\"Nursing\",\"Communication Design\",\"Journalism and Communication\",\"Nursing\",\"Advertising and Marketing Management\",\"Nursing\",\"Basic Education\",\"Management\",\"Journalism and Communication\",\"Equiniculture\",\"Equiniculture\",\"Agronomy\",\"Management (evening attendance)\",\"Nursing\",\"Informatics Engineering\",\"Veterinary Nursing\",\"Advertising and Marketing Management\",\"Informatics Engineering\",\"Tourism\",\"Equiniculture\",\"Management\",\"Management (evening attendance)\",\"Advertising and Marketing Management\",\"Nursing\",\"Social Service (evening attendance)\",\"Oral Hygiene\",\"Nursing\",\"Animation and Multimedia Design\",\"Agronomy\",\"Tourism\",\"Agronomy\",\"Journalism and Communication\",\"Equiniculture\",\"Journalism and Communication\",\"Social Service (evening attendance)\",\"Advertising and Marketing Management\",\"Veterinary Nursing\",\"Journalism and Communication\",\"Tourism\",\"Tourism\",\"Animation and Multimedia Design\",\"Social Service\",\"Advertising and Marketing Management\",\"Communication Design\",\"Animation and Multimedia Design\",\"Tourism\",\"Social Service (evening attendance)\",\"Tourism\",\"Social Service\",\"Basic Education\",\"Basic Education\",\"Journalism and Communication\",\"Basic Education\",\"Basic Education\",\"Agronomy\",\"Agronomy\",\"Basic Education\",\"Animation and Multimedia Design\",\"Tourism\",\"Management (evening attendance)\",\"Management\",\"Equiniculture\",\"Basic Education\",\"Nursing\",\"Oral Hygiene\",\"Journalism and Communication\",\"Veterinary Nursing\",\"Management\",\"Journalism and Communication\",\"Social Service (evening attendance)\",\"Equiniculture\",\"Advertising and Marketing Management\",\"Basic Education\",\"Nursing\",\"Tourism\",\"Journalism and Communication\",\"Basic Education\",\"Advertising and Marketing Management\",\"Nursing\",\"Veterinary Nursing\",\"Social Service\",\"Tourism\",\"Nursing\",\"Nursing\",\"Animation and Multimedia Design\",\"Tourism\",\"Management\",\"Tourism\",\"Advertising and Marketing Management\",\"Social Service\",\"Veterinary Nursing\",\"Social Service (evening attendance)\",\"Animation and Multimedia Design\",\"Basic Education\",\"Journalism and Communication\",\"Nursing\",\"Agronomy\",\"Management\",\"Oral Hygiene\",\"Social Service (evening attendance)\",\"Animation and Multimedia Design\",\"Management\",\"Journalism and Communication\",\"Social Service\",\"Management\",\"Animation and Multimedia Design\",\"Tourism\",\"Agronomy\",\"Journalism and Communication\",\"Animation and Multimedia Design\",\"Management\",\"Tourism\",\"Tourism\",\"Tourism\",\"Informatics Engineering\",\"Social Service\",\"Animation and Multimedia Design\",\"Veterinary Nursing\",\"Informatics Engineering\",\"Management (evening attendance)\",\"Tourism\",\"Biofuel Production Technologies\",\"Communication Design\",\"Management\",\"Tourism\",\"Agronomy\",\"Agronomy\",\"Management\",\"Nursing\",\"Management (evening attendance)\",\"Management (evening attendance)\",\"Management (evening attendance)\",\"Social Service (evening attendance)\",\"Animation and Multimedia Design\",\"Management (evening attendance)\",\"Social Service (evening attendance)\",\"Tourism\",\"Management\",\"Management (evening attendance)\",\"Informatics Engineering\",\"Management\",\"Animation and Multimedia Design\",\"Management\",\"Tourism\",\"Management\",\"Equiniculture\",\"Management (evening attendance)\",\"Nursing\",\"Management\",\"Equiniculture\",\"Informatics Engineering\",\"Management (evening attendance)\",\"Communication Design\",\"Social Service\",\"Management (evening attendance)\",\"Informatics Engineering\",\"Management (evening attendance)\",\"Communication Design\",\"Social Service (evening attendance)\",\"Agronomy\",\"Animation and Multimedia Design\",\"Management (evening attendance)\",\"Equiniculture\",\"Informatics Engineering\",\"Agronomy\",\"Advertising and Marketing Management\",\"Veterinary Nursing\",\"Agronomy\",\"Tourism\",\"Journalism and Communication\",\"Equiniculture\",\"Advertising and Marketing Management\",\"Management\",\"Management (evening attendance)\",\"Informatics Engineering\",\"Management\",\"Social Service\",\"Agronomy\",\"Agronomy\",\"Tourism\",\"Agronomy\",\"Social Service (evening attendance)\",\"Management\",\"Nursing\",\"Nursing\",\"Management (evening attendance)\",\"Management (evening attendance)\",\"Informatics Engineering\",\"Social Service (evening attendance)\",\"Social Service\",\"Communication Design\",\"Veterinary Nursing\",\"Management (evening attendance)\",\"Agronomy\",\"Informatics Engineering\",\"Management\",\"Management (evening attendance)\",\"Agronomy\",\"Informatics Engineering\",\"Journalism and Communication\",\"Informatics Engineering\",\"Agronomy\",\"Advertising and Marketing Management\",\"Management\",\"Advertising and Marketing Management\",\"Basic Education\",\"Management (evening attendance)\",\"Informatics Engineering\",\"Management (evening attendance)\",\"Agronomy\",\"Informatics Engineering\",\"Informatics Engineering\",\"Journalism and Communication\",\"Tourism\",\"Animation and Multimedia Design\",\"Tourism\",\"Management (evening attendance)\",\"Equiniculture\",\"Communication Design\",\"Management\",\"Veterinary Nursing\",\"Advertising and Marketing Management\",\"Agronomy\",\"Social Service (evening attendance)\",\"Management\",\"Agronomy\",\"Advertising and Marketing Management\",\"Management\",\"Social Service (evening attendance)\",\"Animation and Multimedia Design\",\"Social Service\",\"Basic Education\",\"Journalism and Communication\",\"Advertising and Marketing Management\",\"Basic Education\",\"Social Service\",\"Communication Design\",\"Management\",\"Basic Education\",\"Communication Design\",\"Tourism\",\"Management (evening attendance)\",\"Journalism and Communication\",\"Nursing\",\"Veterinary Nursing\",\"Tourism\",\"Agronomy\",\"Basic Education\",\"Agronomy\",\"Oral Hygiene\",\"Communication Design\",\"Animation and Multimedia Design\",\"Basic Education\",\"Veterinary Nursing\",\"Social Service\",\"Journalism and Communication\",\"Management (evening attendance)\",\"Management (evening attendance)\",\"Informatics Engineering\",\"Equiniculture\",\"Basic Education\",\"Basic Education\",\"Management (evening attendance)\",\"Management (evening attendance)\",\"Management (evening attendance)\",\"Tourism\",\"Oral Hygiene\",\"Tourism\",\"Informatics Engineering\",\"Advertising and Marketing Management\",\"Management (evening attendance)\",\"Animation and Multimedia Design\",\"Agronomy\",\"Social Service (evening attendance)\",\"Nursing\",\"Agronomy\",\"Management\",\"Animation and Multimedia Design\",\"Tourism\",\"Management (evening attendance)\",\"Nursing\",\"Management (evening attendance)\",\"Journalism and Communication\",\"Management (evening attendance)\",\"Social Service (evening attendance)\",\"Tourism\",\"Oral Hygiene\",\"Nursing\",\"Management (evening attendance)\",\"Agronomy\",\"Informatics Engineering\",\"Journalism and Communication\",\"Management\",\"Tourism\",\"Communication Design\",\"Animation and Multimedia Design\",\"Agronomy\",\"Informatics Engineering\",\"Agronomy\",\"Management\",\"Management\",\"Social Service (evening attendance)\",\"Management\",\"Veterinary Nursing\",\"Management\",\"Equiniculture\",\"Tourism\",\"Agronomy\",\"Management (evening attendance)\",\"Management (evening attendance)\",\"Informatics Engineering\",\"Social Service (evening attendance)\",\"Management (evening attendance)\",\"Management\",\"Veterinary Nursing\",\"Nursing\",\"Social Service (evening attendance)\",\"Nursing\",\"Basic Education\",\"Journalism and Communication\",\"Advertising and Marketing Management\",\"Animation and Multimedia Design\",\"Management\",\"Nursing\",\"Informatics Engineering\",\"Equiniculture\",\"Nursing\",\"Veterinary Nursing\",\"Equiniculture\",\"Animation and Multimedia Design\",\"Management (evening attendance)\",\"Management (evening attendance)\",\"Management (evening attendance)\",\"Oral Hygiene\",\"Journalism and Communication\",\"Management\",\"Journalism and Communication\",\"Nursing\",\"Nursing\",\"Animation and Multimedia Design\",\"Journalism and Communication\",\"Social Service (evening attendance)\",\"Nursing\",\"Management (evening attendance)\",\"Oral Hygiene\",\"Basic Education\",\"Social Service (evening attendance)\",\"Management (evening attendance)\",\"Management (evening attendance)\",\"Social Service (evening attendance)\",\"Social Service (evening attendance)\",\"Social Service (evening attendance)\",\"Agronomy\",\"Journalism and Communication\",\"Veterinary Nursing\",\"Management\",\"Management (evening attendance)\",\"Agronomy\",\"Social Service\",\"Advertising and Marketing Management\",\"Animation and Multimedia Design\",\"Management (evening attendance)\",\"Equiniculture\",\"Management (evening attendance)\",\"Social Service (evening attendance)\",\"Journalism and Communication\",\"Veterinary Nursing\",\"Basic Education\",\"Social Service (evening attendance)\",\"Basic Education\",\"Basic Education\",\"Veterinary Nursing\",\"Animation and Multimedia Design\",\"Nursing\",\"Basic Education\",\"Communication Design\",\"Communication Design\",\"Management (evening attendance)\",\"Animation and Multimedia Design\",\"Basic Education\",\"Veterinary Nursing\",\"Journalism and Communication\",\"Social Service (evening attendance)\",\"Journalism and Communication\",\"Oral Hygiene\",\"Equiniculture\",\"Veterinary Nursing\",\"Nursing\",\"Basic Education\",\"Journalism and Communication\",\"Basic Education\",\"Nursing\",\"Basic Education\",\"Journalism and Communication\",\"Journalism and Communication\",\"Oral Hygiene\",\"Veterinary Nursing\",\"Equiniculture\",\"Social Service (evening attendance)\",\"Tourism\",\"Advertising and Marketing Management\",\"Tourism\",\"Veterinary Nursing\",\"Social Service (evening attendance)\",\"Social Service\",\"Management\",\"Advertising and Marketing Management\",\"Veterinary Nursing\",\"Equiniculture\",\"Management (evening attendance)\",\"Tourism\",\"Journalism and Communication\",\"Social Service (evening attendance)\",\"Advertising and Marketing Management\",\"Animation and Multimedia Design\",\"Veterinary Nursing\",\"Animation and Multimedia Design\",\"Tourism\",\"Nursing\",\"Management (evening attendance)\",\"Management\",\"Animation and Multimedia Design\",\"Management\",\"Basic Education\",\"Management (evening attendance)\",\"Tourism\",\"Basic Education\",\"Tourism\",\"Biofuel Production Technologies\",\"Advertising and Marketing Management\",\"Equiniculture\",\"Informatics Engineering\",\"Equiniculture\",\"Nursing\",\"Management\",\"Animation and Multimedia Design\",\"Agronomy\",\"Advertising and Marketing Management\",\"Communication Design\",\"Journalism and Communication\",\"Tourism\",\"Social Service\",\"Journalism and Communication\",\"Journalism and Communication\",\"Management (evening attendance)\",\"Journalism and Communication\",\"Social Service\",\"Agronomy\",\"Tourism\",\"Management (evening attendance)\",\"Advertising and Marketing Management\",\"Oral Hygiene\",\"Management (evening attendance)\",\"Management\",\"Veterinary Nursing\",\"Social Service (evening attendance)\",\"Basic Education\",\"Journalism and Communication\",\"Oral Hygiene\",\"Equiniculture\",\"Equiniculture\",\"Social Service (evening attendance)\",\"Basic Education\",\"Nursing\",\"Journalism and Communication\",\"Tourism\",\"Agronomy\",\"Biofuel Production Technologies\",\"Management\",\"Social Service (evening attendance)\",\"Oral Hygiene\",\"Advertising and Marketing Management\",\"Social Service\",\"Agronomy\",\"Social Service\",\"Nursing\",\"Nursing\",\"Animation and Multimedia Design\",\"Nursing\",\"Veterinary Nursing\",\"Management (evening attendance)\",\"Informatics Engineering\",\"Management (evening attendance)\",\"Management\",\"Management\",\"Informatics Engineering\",\"Animation and Multimedia Design\",\"Equiniculture\",\"Tourism\",\"Informatics Engineering\",\"Advertising and Marketing Management\",\"Agronomy\",\"Advertising and Marketing Management\",\"Veterinary Nursing\",\"Journalism and Communication\",\"Veterinary Nursing\",\"Tourism\",\"Nursing\",\"Management\",\"Advertising and Marketing Management\",\"Agronomy\",\"Informatics Engineering\",\"Agronomy\",\"Agronomy\",\"Nursing\",\"Advertising and Marketing Management\",\"Management\",\"Basic Education\",\"Social Service\",\"Tourism\",\"Management\",\"Nursing\",\"Management\",\"Management\",\"Nursing\",\"Nursing\",\"Tourism\",\"Veterinary Nursing\",\"Social Service\",\"Management (evening attendance)\",\"Veterinary Nursing\",\"Management\",\"Social Service (evening attendance)\",\"Management\",\"Nursing\",\"Journalism and Communication\",\"Oral Hygiene\",\"Communication Design\",\"Veterinary Nursing\",\"Management\",\"Management (evening attendance)\",\"Veterinary Nursing\",\"Management\",\"Social Service (evening attendance)\",\"Management\",\"Informatics Engineering\",\"Management (evening attendance)\",\"Agronomy\",\"Nursing\",\"Nursing\",\"Advertising and Marketing Management\",\"Advertising and Marketing Management\",\"Equiniculture\",\"Animation and Multimedia Design\",\"Management (evening attendance)\",\"Management (evening attendance)\",\"Informatics Engineering\",\"Management (evening attendance)\",\"Management (evening attendance)\",\"Management\",\"Communication Design\",\"Management\",\"Tourism\",\"Nursing\",\"Animation and Multimedia Design\",\"Advertising and Marketing Management\",\"Advertising and Marketing Management\",\"Animation and Multimedia Design\",\"Informatics Engineering\",\"Tourism\",\"Management (evening attendance)\",\"Animation and Multimedia Design\",\"Agronomy\",\"Nursing\",\"Informatics Engineering\",\"Tourism\",\"Management (evening attendance)\",\"Management (evening attendance)\",\"Management (evening attendance)\",\"Management\",\"Tourism\",\"Informatics Engineering\",\"Advertising and Marketing Management\",\"Equiniculture\",\"Advertising and Marketing Management\",\"Social Service\",\"Management\",\"Informatics Engineering\",\"Agronomy\",\"Equiniculture\",\"Informatics Engineering\",\"Informatics Engineering\",\"Management (evening attendance)\",\"Veterinary Nursing\",\"Management (evening attendance)\",\"Nursing\",\"Veterinary Nursing\",\"Management (evening attendance)\",\"Biofuel Production Technologies\",\"Animation and Multimedia Design\",\"Management (evening attendance)\",\"Advertising and Marketing Management\",\"Journalism and Communication\",\"Agronomy\",\"Management\",\"Animation and Multimedia Design\",\"Communication Design\",\"Informatics Engineering\",\"Veterinary Nursing\",\"Informatics Engineering\",\"Advertising and Marketing Management\",\"Social Service\",\"Veterinary Nursing\",\"Social Service (evening attendance)\",\"Social Service (evening attendance)\",\"Animation and Multimedia Design\",\"Journalism and Communication\",\"Tourism\",\"Social Service\",\"Basic Education\",\"Social Service\",\"Nursing\",\"Communication Design\",\"Management\",\"Journalism and Communication\",\"Animation and Multimedia Design\",\"Management (evening attendance)\",\"Management\",\"Agronomy\",\"Management\",\"Management\",\"Informatics Engineering\",\"Advertising and Marketing Management\",\"Informatics Engineering\",\"Animation and Multimedia Design\",\"Management (evening attendance)\",\"Veterinary Nursing\",\"Management\",\"Informatics Engineering\",\"Management\",\"Communication Design\",\"Advertising and Marketing Management\",\"Animation and Multimedia Design\",\"Management\",\"Biofuel Production Technologies\",\"Advertising and Marketing Management\",\"Equiniculture\",\"Management\",\"Advertising and Marketing Management\",\"Communication Design\",\"Agronomy\",\"Informatics Engineering\",\"Advertising and Marketing Management\",\"Agronomy\",\"Management (evening attendance)\",\"Communication Design\",\"Social Service\",\"Management\",\"Informatics Engineering\",\"Advertising and Marketing Management\",\"Basic Education\",\"Nursing\",\"Veterinary Nursing\",\"Nursing\",\"Management (evening attendance)\",\"Social Service\",\"Journalism and Communication\",\"Journalism and Communication\",\"Equiniculture\",\"Veterinary Nursing\",\"Veterinary Nursing\",\"Social Service (evening attendance)\",\"Animation and Multimedia Design\",\"Social Service\",\"Social Service\",\"Equiniculture\",\"Informatics Engineering\",\"Journalism and Communication\",\"Informatics Engineering\",\"Advertising and Marketing Management\",\"Veterinary Nursing\",\"Basic Education\",\"Management\",\"Management (evening attendance)\",\"Communication Design\",\"Social Service (evening attendance)\",\"Social Service (evening attendance)\",\"Social Service\",\"Social Service\",\"Tourism\",\"Agronomy\",\"Equiniculture\",\"Animation and Multimedia Design\",\"Tourism\",\"Informatics Engineering\",\"Veterinary Nursing\",\"Social Service\",\"Agronomy\",\"Journalism and Communication\",\"Management\",\"Management\",\"Animation and Multimedia Design\",\"Agronomy\",\"Management\",\"Veterinary Nursing\",\"Journalism and Communication\",\"Journalism and Communication\",\"Agronomy\",\"Management (evening attendance)\",\"Journalism and Communication\",\"Agronomy\",\"Agronomy\",\"Social Service\",\"Advertising and Marketing Management\",\"Management (evening attendance)\",\"Agronomy\",\"Journalism and Communication\",\"Veterinary Nursing\",\"Journalism and Communication\",\"Nursing\",\"Veterinary Nursing\",\"Communication Design\",\"Equiniculture\",\"Nursing\",\"Nursing\",\"Advertising and Marketing Management\",\"Veterinary Nursing\",\"Management\",\"Nursing\",\"Informatics Engineering\",\"Management (evening attendance)\",\"Journalism and Communication\",\"Advertising and Marketing Management\",\"Equiniculture\",\"Basic Education\",\"Management\",\"Agronomy\",\"Oral Hygiene\",\"Veterinary Nursing\",\"Management\",\"Journalism and Communication\",\"Nursing\",\"Veterinary Nursing\",\"Social Service\",\"Agronomy\",\"Agronomy\",\"Basic Education\",\"Management (evening attendance)\",\"Basic Education\",\"Nursing\",\"Nursing\",\"Informatics Engineering\",\"Informatics Engineering\",\"Veterinary Nursing\",\"Agronomy\",\"Basic Education\",\"Tourism\",\"Oral Hygiene\",\"Advertising and Marketing Management\",\"Management (evening attendance)\",\"Tourism\",\"Social Service (evening attendance)\",\"Advertising and Marketing Management\",\"Nursing\",\"Nursing\",\"Nursing\",\"Animation and Multimedia Design\",\"Social Service (evening attendance)\",\"Equiniculture\",\"Nursing\",\"Equiniculture\",\"Tourism\",\"Veterinary Nursing\",\"Journalism and Communication\",\"Social Service (evening attendance)\",\"Tourism\",\"Veterinary Nursing\",\"Communication Design\",\"Animation and Multimedia Design\",\"Management\",\"Equiniculture\",\"Social Service (evening attendance)\",\"Management (evening attendance)\",\"Nursing\",\"Oral Hygiene\",\"Social Service\",\"Nursing\",\"Oral Hygiene\",\"Basic Education\",\"Social Service\",\"Communication Design\",\"Social Service\",\"Nursing\",\"Basic Education\",\"Equiniculture\",\"Basic Education\",\"Animation and Multimedia Design\",\"Journalism and Communication\",\"Basic Education\",\"Oral Hygiene\",\"Management (evening attendance)\",\"Management\",\"Social Service\",\"Animation and Multimedia Design\",\"Animation and Multimedia Design\",\"Journalism and Communication\",\"Advertising and Marketing Management\",\"Social Service (evening attendance)\",\"Veterinary Nursing\",\"Advertising and Marketing Management\",\"Veterinary Nursing\",\"Nursing\",\"Social Service\",\"Animation and Multimedia Design\",\"Basic Education\",\"Management (evening attendance)\",\"Nursing\",\"Nursing\",\"Management\",\"Basic Education\",\"Advertising and Marketing Management\",\"Social Service (evening attendance)\",\"Journalism and Communication\",\"Agronomy\",\"Management (evening attendance)\",\"Management (evening attendance)\",\"Management (evening attendance)\",\"Informatics Engineering\",\"Management\",\"Informatics Engineering\",\"Tourism\",\"Management (evening attendance)\",\"Management\",\"Management\",\"Agronomy\",\"Tourism\",\"Management (evening attendance)\",\"Management\",\"Animation and Multimedia Design\",\"Management\",\"Journalism and Communication\",\"Management\",\"Management\",\"Management\",\"Animation and Multimedia Design\",\"Animation and Multimedia Design\",\"Management (evening attendance)\",\"Informatics Engineering\",\"Tourism\",\"Journalism and Communication\",\"Management (evening attendance)\",\"Social Service (evening attendance)\",\"Management\",\"Basic Education\",\"Social Service\",\"Animation and Multimedia Design\",\"Social Service\",\"Advertising and Marketing Management\",\"Social Service\",\"Tourism\",\"Management\",\"Basic Education\",\"Veterinary Nursing\",\"Social Service (evening attendance)\",\"Tourism\",\"Basic Education\",\"Management (evening attendance)\",\"Agronomy\",\"Management (evening attendance)\",\"Management (evening attendance)\",\"Management (evening attendance)\",\"Nursing\",\"Social Service\",\"Social Service\",\"Advertising and Marketing Management\",\"Management (evening attendance)\",\"Management\",\"Journalism and Communication\",\"Management (evening attendance)\",\"Veterinary Nursing\",\"Equiniculture\",\"Journalism and Communication\",\"Equiniculture\",\"Nursing\",\"Journalism and Communication\",\"Nursing\"],\"yaxis\":\"y\",\"type\":\"histogram\"},{\"alignmentgroup\":\"True\",\"bingroup\":\"y\",\"hovertemplate\":\"Target=Graduate\\u003cbr\\u003ecount (normalized as percent)=%{x}\\u003cbr\\u003eCourse=%{y}\\u003cextra\\u003e\\u003c\\u002fextra\\u003e\",\"legendgroup\":\"Graduate\",\"marker\":{\"color\":\"rgb(217,95,2)\",\"pattern\":{\"shape\":\"\"}},\"name\":\"Graduate\",\"offsetgroup\":\"Graduate\",\"orientation\":\"h\",\"showlegend\":true,\"texttemplate\":\"%{value:.1f}\",\"xaxis\":\"x\",\"y\":[\"Tourism\",\"Journalism and Communication\",\"Social Service (evening attendance)\",\"Management (evening attendance)\",\"Nursing\",\"Social Service\",\"Advertising and Marketing Management\",\"Nursing\",\"Tourism\",\"Veterinary Nursing\",\"Nursing\",\"Equiniculture\",\"Animation and Multimedia Design\",\"Nursing\",\"Advertising and Marketing Management\",\"Nursing\",\"Social Service\",\"Management\",\"Communication Design\",\"Social Service (evening attendance)\",\"Management (evening attendance)\",\"Management (evening attendance)\",\"Management\",\"Nursing\",\"Social Service\",\"Nursing\",\"Social Service (evening attendance)\",\"Social Service\",\"Tourism\",\"Equiniculture\",\"Nursing\",\"Nursing\",\"Nursing\",\"Social Service\",\"Animation and Multimedia Design\",\"Agronomy\",\"Nursing\",\"Journalism and Communication\",\"Journalism and Communication\",\"Nursing\",\"Social Service (evening attendance)\",\"Social Service (evening attendance)\",\"Nursing\",\"Advertising and Marketing Management\",\"Communication Design\",\"Journalism and Communication\",\"Social Service (evening attendance)\",\"Journalism and Communication\",\"Nursing\",\"Animation and Multimedia Design\",\"Agronomy\",\"Communication Design\",\"Social Service\",\"Veterinary Nursing\",\"Journalism and Communication\",\"Veterinary Nursing\",\"Management\",\"Management\",\"Advertising and Marketing Management\",\"Veterinary Nursing\",\"Veterinary Nursing\",\"Social Service\",\"Nursing\",\"Communication Design\",\"Management\",\"Social Service\",\"Advertising and Marketing Management\",\"Journalism and Communication\",\"Nursing\",\"Nursing\",\"Journalism and Communication\",\"Social Service\",\"Nursing\",\"Basic Education\",\"Management\",\"Nursing\",\"Veterinary Nursing\",\"Basic Education\",\"Management\",\"Social Service\",\"Social Service\",\"Social Service (evening attendance)\",\"Nursing\",\"Nursing\",\"Advertising and Marketing Management\",\"Journalism and Communication\",\"Social Service\",\"Nursing\",\"Oral Hygiene\",\"Nursing\",\"Social Service (evening attendance)\",\"Basic Education\",\"Basic Education\",\"Nursing\",\"Communication Design\",\"Tourism\",\"Nursing\",\"Nursing\",\"Basic Education\",\"Veterinary Nursing\",\"Social Service\",\"Nursing\",\"Social Service\",\"Social Service\",\"Social Service\",\"Nursing\",\"Journalism and Communication\",\"Veterinary Nursing\",\"Nursing\",\"Nursing\",\"Equiniculture\",\"Journalism and Communication\",\"Management\",\"Management\",\"Basic Education\",\"Nursing\",\"Nursing\",\"Management (evening attendance)\",\"Management\",\"Social Service\",\"Nursing\",\"Tourism\",\"Advertising and Marketing Management\",\"Tourism\",\"Social Service\",\"Basic Education\",\"Social Service\",\"Management\",\"Management\",\"Nursing\",\"Nursing\",\"Tourism\",\"Advertising and Marketing Management\",\"Veterinary Nursing\",\"Management\",\"Management (evening attendance)\",\"Social Service\",\"Tourism\",\"Social Service\",\"Social Service\",\"Journalism and Communication\",\"Nursing\",\"Journalism and Communication\",\"Communication Design\",\"Nursing\",\"Agronomy\",\"Management\",\"Nursing\",\"Social Service\",\"Nursing\",\"Nursing\",\"Management\",\"Social Service (evening attendance)\",\"Management (evening attendance)\",\"Communication Design\",\"Social Service (evening attendance)\",\"Journalism and Communication\",\"Social Service (evening attendance)\",\"Social Service (evening attendance)\",\"Nursing\",\"Veterinary Nursing\",\"Agronomy\",\"Social Service\",\"Nursing\",\"Journalism and Communication\",\"Social Service\",\"Oral Hygiene\",\"Nursing\",\"Advertising and Marketing Management\",\"Veterinary Nursing\",\"Nursing\",\"Advertising and Marketing Management\",\"Veterinary Nursing\",\"Social Service\",\"Management\",\"Basic Education\",\"Management\",\"Nursing\",\"Nursing\",\"Social Service\",\"Nursing\",\"Nursing\",\"Management\",\"Tourism\",\"Nursing\",\"Social Service\",\"Social Service\",\"Social Service (evening attendance)\",\"Social Service\",\"Social Service\",\"Basic Education\",\"Nursing\",\"Social Service\",\"Equiniculture\",\"Social Service (evening attendance)\",\"Agronomy\",\"Journalism and Communication\",\"Management (evening attendance)\",\"Social Service\",\"Journalism and Communication\",\"Nursing\",\"Veterinary Nursing\",\"Nursing\",\"Basic Education\",\"Veterinary Nursing\",\"Veterinary Nursing\",\"Nursing\",\"Basic Education\",\"Social Service (evening attendance)\",\"Journalism and Communication\",\"Management (evening attendance)\",\"Nursing\",\"Basic Education\",\"Management\",\"Social Service\",\"Basic Education\",\"Management (evening attendance)\",\"Social Service (evening attendance)\",\"Veterinary Nursing\",\"Nursing\",\"Social Service\",\"Veterinary Nursing\",\"Nursing\",\"Animation and Multimedia Design\",\"Communication Design\",\"Management (evening attendance)\",\"Social Service\",\"Nursing\",\"Nursing\",\"Nursing\",\"Management (evening attendance)\",\"Social Service\",\"Veterinary Nursing\",\"Veterinary Nursing\",\"Nursing\",\"Nursing\",\"Management (evening attendance)\",\"Nursing\",\"Oral Hygiene\",\"Nursing\",\"Advertising and Marketing Management\",\"Advertising and Marketing Management\",\"Nursing\",\"Social Service (evening attendance)\",\"Management\",\"Journalism and Communication\",\"Nursing\",\"Advertising and Marketing Management\",\"Nursing\",\"Nursing\",\"Nursing\",\"Advertising and Marketing Management\",\"Social Service\",\"Nursing\",\"Journalism and Communication\",\"Nursing\",\"Nursing\",\"Nursing\",\"Veterinary Nursing\",\"Social Service (evening attendance)\",\"Agronomy\",\"Journalism and Communication\",\"Equiniculture\",\"Communication Design\",\"Social Service\",\"Management\",\"Social Service\",\"Nursing\",\"Social Service\",\"Nursing\",\"Tourism\",\"Nursing\",\"Advertising and Marketing Management\",\"Nursing\",\"Nursing\",\"Nursing\",\"Nursing\",\"Basic Education\",\"Nursing\",\"Nursing\",\"Communication Design\",\"Advertising and Marketing Management\",\"Nursing\",\"Tourism\",\"Communication Design\",\"Nursing\",\"Tourism\",\"Nursing\",\"Journalism and Communication\",\"Advertising and Marketing Management\",\"Agronomy\",\"Nursing\",\"Equiniculture\",\"Social Service\",\"Veterinary Nursing\",\"Animation and Multimedia Design\",\"Nursing\",\"Animation and Multimedia Design\",\"Management (evening attendance)\",\"Tourism\",\"Agronomy\",\"Nursing\",\"Agronomy\",\"Nursing\",\"Management\",\"Animation and Multimedia Design\",\"Nursing\",\"Agronomy\",\"Equiniculture\",\"Communication Design\",\"Advertising and Marketing Management\",\"Veterinary Nursing\",\"Agronomy\",\"Social Service (evening attendance)\",\"Animation and Multimedia Design\",\"Nursing\",\"Social Service\",\"Communication Design\",\"Nursing\",\"Management\",\"Tourism\",\"Management\",\"Veterinary Nursing\",\"Journalism and Communication\",\"Tourism\",\"Oral Hygiene\",\"Advertising and Marketing Management\",\"Advertising and Marketing Management\",\"Advertising and Marketing Management\",\"Agronomy\",\"Nursing\",\"Social Service (evening attendance)\",\"Nursing\",\"Nursing\",\"Basic Education\",\"Social Service (evening attendance)\",\"Communication Design\",\"Nursing\",\"Nursing\",\"Social Service\",\"Nursing\",\"Nursing\",\"Journalism and Communication\",\"Nursing\",\"Social Service (evening attendance)\",\"Nursing\",\"Journalism and Communication\",\"Journalism and Communication\",\"Nursing\",\"Nursing\",\"Oral Hygiene\",\"Advertising and Marketing Management\",\"Social Service\",\"Nursing\",\"Social Service\",\"Management (evening attendance)\",\"Oral Hygiene\",\"Advertising and Marketing Management\",\"Social Service\",\"Nursing\",\"Social Service\",\"Journalism and Communication\",\"Social Service (evening attendance)\",\"Communication Design\",\"Agronomy\",\"Journalism and Communication\",\"Advertising and Marketing Management\",\"Nursing\",\"Veterinary Nursing\",\"Social Service\",\"Nursing\",\"Social Service\",\"Nursing\",\"Communication Design\",\"Tourism\",\"Communication Design\",\"Animation and Multimedia Design\",\"Tourism\",\"Social Service\",\"Agronomy\",\"Management (evening attendance)\",\"Nursing\",\"Management (evening attendance)\",\"Agronomy\",\"Equiniculture\",\"Social Service (evening attendance)\",\"Agronomy\",\"Social Service\",\"Social Service (evening attendance)\",\"Agronomy\",\"Tourism\",\"Veterinary Nursing\",\"Nursing\",\"Veterinary Nursing\",\"Social Service (evening attendance)\",\"Animation and Multimedia Design\",\"Nursing\",\"Advertising and Marketing Management\",\"Animation and Multimedia Design\",\"Agronomy\",\"Tourism\",\"Management\",\"Advertising and Marketing Management\",\"Tourism\",\"Journalism and Communication\",\"Veterinary Nursing\",\"Nursing\",\"Advertising and Marketing Management\",\"Communication Design\",\"Nursing\",\"Communication Design\",\"Tourism\",\"Management\",\"Agronomy\",\"Social Service (evening attendance)\",\"Social Service (evening attendance)\",\"Management (evening attendance)\",\"Social Service (evening attendance)\",\"Advertising and Marketing Management\",\"Veterinary Nursing\",\"Social Service\",\"Veterinary Nursing\",\"Journalism and Communication\",\"Journalism and Communication\",\"Nursing\",\"Journalism and Communication\",\"Social Service\",\"Communication Design\",\"Nursing\",\"Animation and Multimedia Design\",\"Journalism and Communication\",\"Social Service\",\"Social Service\",\"Journalism and Communication\",\"Journalism and Communication\",\"Communication Design\",\"Nursing\",\"Equiniculture\",\"Management\",\"Journalism and Communication\",\"Basic Education\",\"Communication Design\",\"Basic Education\",\"Nursing\",\"Nursing\",\"Basic Education\",\"Communication Design\",\"Social Service (evening attendance)\",\"Management\",\"Animation and Multimedia Design\",\"Social Service\",\"Journalism and Communication\",\"Advertising and Marketing Management\",\"Communication Design\",\"Nursing\",\"Management\",\"Nursing\",\"Social Service\",\"Management (evening attendance)\",\"Management\",\"Nursing\",\"Nursing\",\"Social Service\",\"Nursing\",\"Nursing\",\"Tourism\",\"Animation and Multimedia Design\",\"Tourism\",\"Management (evening attendance)\",\"Agronomy\",\"Nursing\",\"Advertising and Marketing Management\",\"Communication Design\",\"Animation and Multimedia Design\",\"Nursing\",\"Journalism and Communication\",\"Journalism and Communication\",\"Social Service\",\"Nursing\",\"Journalism and Communication\",\"Journalism and Communication\",\"Nursing\",\"Veterinary Nursing\",\"Journalism and Communication\",\"Communication Design\",\"Advertising and Marketing Management\",\"Social Service\",\"Nursing\",\"Nursing\",\"Nursing\",\"Social Service\",\"Basic Education\",\"Veterinary Nursing\",\"Social Service (evening attendance)\",\"Journalism and Communication\",\"Agronomy\",\"Social Service (evening attendance)\",\"Social Service (evening attendance)\",\"Social Service (evening attendance)\",\"Nursing\",\"Basic Education\",\"Advertising and Marketing Management\",\"Animation and Multimedia Design\",\"Journalism and Communication\",\"Social Service\",\"Oral Hygiene\",\"Tourism\",\"Management\",\"Advertising and Marketing Management\",\"Management (evening attendance)\",\"Agronomy\",\"Journalism and Communication\",\"Journalism and Communication\",\"Management\",\"Management\",\"Equiniculture\",\"Journalism and Communication\",\"Agronomy\",\"Advertising and Marketing Management\",\"Basic Education\",\"Management (evening attendance)\",\"Nursing\",\"Veterinary Nursing\",\"Agronomy\",\"Journalism and Communication\",\"Nursing\",\"Agronomy\",\"Nursing\",\"Equiniculture\",\"Social Service\",\"Social Service\",\"Social Service (evening attendance)\",\"Tourism\",\"Animation and Multimedia Design\",\"Management\",\"Veterinary Nursing\",\"Nursing\",\"Social Service\",\"Nursing\",\"Advertising and Marketing Management\",\"Nursing\",\"Nursing\",\"Management\",\"Management\",\"Tourism\",\"Communication Design\",\"Journalism and Communication\",\"Nursing\",\"Management\",\"Nursing\",\"Communication Design\",\"Basic Education\",\"Veterinary Nursing\",\"Tourism\",\"Nursing\",\"Nursing\",\"Management\",\"Journalism and Communication\",\"Veterinary Nursing\",\"Social Service\",\"Veterinary Nursing\",\"Communication Design\",\"Nursing\",\"Advertising and Marketing Management\",\"Nursing\",\"Tourism\",\"Nursing\",\"Nursing\",\"Nursing\",\"Animation and Multimedia Design\",\"Nursing\",\"Veterinary Nursing\",\"Nursing\",\"Nursing\",\"Nursing\",\"Nursing\",\"Social Service (evening attendance)\",\"Nursing\",\"Nursing\",\"Management\",\"Nursing\",\"Advertising and Marketing Management\",\"Nursing\",\"Social Service\",\"Veterinary Nursing\",\"Social Service\",\"Journalism and Communication\",\"Nursing\",\"Communication Design\",\"Tourism\",\"Basic Education\",\"Communication Design\",\"Advertising and Marketing Management\",\"Journalism and Communication\",\"Equiniculture\",\"Social Service\",\"Nursing\",\"Tourism\",\"Journalism and Communication\",\"Nursing\",\"Social Service\",\"Nursing\",\"Veterinary Nursing\",\"Agronomy\",\"Nursing\",\"Nursing\",\"Nursing\",\"Nursing\",\"Nursing\",\"Advertising and Marketing Management\",\"Nursing\",\"Agronomy\",\"Journalism and Communication\",\"Advertising and Marketing Management\",\"Nursing\",\"Social Service\",\"Management\",\"Nursing\",\"Nursing\",\"Nursing\",\"Nursing\",\"Communication Design\",\"Nursing\",\"Veterinary Nursing\",\"Nursing\",\"Basic Education\",\"Social Service (evening attendance)\",\"Management (evening attendance)\",\"Nursing\",\"Communication Design\",\"Nursing\",\"Tourism\",\"Journalism and Communication\",\"Management\",\"Management (evening attendance)\",\"Nursing\",\"Social Service (evening attendance)\",\"Social Service (evening attendance)\",\"Journalism and Communication\",\"Advertising and Marketing Management\",\"Management\",\"Nursing\",\"Advertising and Marketing Management\",\"Social Service\",\"Communication Design\",\"Oral Hygiene\",\"Veterinary Nursing\",\"Nursing\",\"Social Service\",\"Tourism\",\"Advertising and Marketing Management\",\"Nursing\",\"Animation and Multimedia Design\",\"Tourism\",\"Agronomy\",\"Social Service\",\"Veterinary Nursing\",\"Equiniculture\",\"Social Service (evening attendance)\",\"Social Service\",\"Management\",\"Nursing\",\"Nursing\",\"Advertising and Marketing Management\",\"Nursing\",\"Social Service\",\"Social Service (evening attendance)\",\"Nursing\",\"Management\",\"Nursing\",\"Social Service (evening attendance)\",\"Nursing\",\"Social Service\",\"Management\",\"Social Service\",\"Nursing\",\"Social Service\",\"Social Service\",\"Nursing\",\"Journalism and Communication\",\"Nursing\",\"Nursing\",\"Agronomy\",\"Veterinary Nursing\",\"Social Service\",\"Tourism\",\"Journalism and Communication\",\"Advertising and Marketing Management\",\"Social Service\",\"Social Service\",\"Oral Hygiene\",\"Nursing\",\"Veterinary Nursing\",\"Social Service\",\"Basic Education\",\"Nursing\",\"Nursing\",\"Advertising and Marketing Management\",\"Nursing\",\"Management\",\"Management (evening attendance)\",\"Tourism\",\"Advertising and Marketing Management\",\"Social Service\",\"Journalism and Communication\",\"Nursing\",\"Informatics Engineering\",\"Advertising and Marketing Management\",\"Social Service\",\"Journalism and Communication\",\"Nursing\",\"Nursing\",\"Informatics Engineering\",\"Management (evening attendance)\",\"Animation and Multimedia Design\",\"Advertising and Marketing Management\",\"Journalism and Communication\",\"Journalism and Communication\",\"Agronomy\",\"Management\",\"Nursing\",\"Nursing\",\"Management\",\"Veterinary Nursing\",\"Journalism and Communication\",\"Nursing\",\"Basic Education\",\"Social Service\",\"Nursing\",\"Oral Hygiene\",\"Nursing\",\"Nursing\",\"Oral Hygiene\",\"Nursing\",\"Nursing\",\"Nursing\",\"Social Service\",\"Journalism and Communication\",\"Veterinary Nursing\",\"Basic Education\",\"Veterinary Nursing\",\"Journalism and Communication\",\"Veterinary Nursing\",\"Animation and Multimedia Design\",\"Nursing\",\"Communication Design\",\"Nursing\",\"Animation and Multimedia Design\",\"Nursing\",\"Nursing\",\"Advertising and Marketing Management\",\"Social Service (evening attendance)\",\"Nursing\",\"Social Service\",\"Journalism and Communication\",\"Animation and Multimedia Design\",\"Oral Hygiene\",\"Agronomy\",\"Nursing\",\"Communication Design\",\"Management\",\"Nursing\",\"Tourism\",\"Social Service\",\"Journalism and Communication\",\"Tourism\",\"Communication Design\",\"Oral Hygiene\",\"Basic Education\",\"Tourism\",\"Veterinary Nursing\",\"Nursing\",\"Nursing\",\"Management\",\"Social Service\",\"Advertising and Marketing Management\",\"Nursing\",\"Veterinary Nursing\",\"Advertising and Marketing Management\",\"Management\",\"Social Service\",\"Tourism\",\"Animation and Multimedia Design\",\"Veterinary Nursing\",\"Journalism and Communication\",\"Nursing\",\"Communication Design\",\"Social Service (evening attendance)\",\"Advertising and Marketing Management\",\"Veterinary Nursing\",\"Advertising and Marketing Management\",\"Animation and Multimedia Design\",\"Tourism\",\"Management (evening attendance)\",\"Communication Design\",\"Agronomy\",\"Social Service\",\"Agronomy\",\"Social Service (evening attendance)\",\"Journalism and Communication\",\"Tourism\",\"Journalism and Communication\",\"Equiniculture\",\"Animation and Multimedia Design\",\"Journalism and Communication\",\"Advertising and Marketing Management\",\"Tourism\",\"Nursing\",\"Social Service\",\"Veterinary Nursing\",\"Informatics Engineering\",\"Agronomy\",\"Journalism and Communication\",\"Advertising and Marketing Management\",\"Informatics Engineering\",\"Oral Hygiene\",\"Advertising and Marketing Management\",\"Agronomy\",\"Communication Design\",\"Management (evening attendance)\",\"Animation and Multimedia Design\",\"Communication Design\",\"Animation and Multimedia Design\",\"Tourism\",\"Animation and Multimedia Design\",\"Animation and Multimedia Design\",\"Management (evening attendance)\",\"Nursing\",\"Informatics Engineering\",\"Tourism\",\"Nursing\",\"Journalism and Communication\",\"Veterinary Nursing\",\"Social Service\",\"Communication Design\",\"Social Service (evening attendance)\",\"Management\",\"Management\",\"Veterinary Nursing\",\"Social Service (evening attendance)\",\"Nursing\",\"Nursing\",\"Management\",\"Social Service\",\"Nursing\",\"Management\",\"Management (evening attendance)\",\"Animation and Multimedia Design\",\"Journalism and Communication\",\"Journalism and Communication\",\"Animation and Multimedia Design\",\"Social Service (evening attendance)\",\"Journalism and Communication\",\"Animation and Multimedia Design\",\"Agronomy\",\"Tourism\",\"Nursing\",\"Communication Design\",\"Nursing\",\"Social Service (evening attendance)\",\"Veterinary Nursing\",\"Advertising and Marketing Management\",\"Advertising and Marketing Management\",\"Veterinary Nursing\",\"Veterinary Nursing\",\"Equiniculture\",\"Management (evening attendance)\",\"Management (evening attendance)\",\"Advertising and Marketing Management\",\"Equiniculture\",\"Nursing\",\"Communication Design\",\"Nursing\",\"Communication Design\",\"Nursing\",\"Social Service (evening attendance)\",\"Animation and Multimedia Design\",\"Nursing\",\"Nursing\",\"Nursing\",\"Oral Hygiene\",\"Veterinary Nursing\",\"Management\",\"Animation and Multimedia Design\",\"Veterinary Nursing\",\"Veterinary Nursing\",\"Nursing\",\"Nursing\",\"Veterinary Nursing\",\"Social Service\",\"Nursing\",\"Social Service (evening attendance)\",\"Veterinary Nursing\",\"Nursing\",\"Nursing\",\"Management (evening attendance)\",\"Veterinary Nursing\",\"Communication Design\",\"Communication Design\",\"Veterinary Nursing\",\"Nursing\",\"Advertising and Marketing Management\",\"Communication Design\",\"Nursing\",\"Journalism and Communication\",\"Social Service\",\"Advertising and Marketing Management\",\"Nursing\",\"Nursing\",\"Social Service\",\"Nursing\",\"Nursing\",\"Veterinary Nursing\",\"Tourism\",\"Veterinary Nursing\",\"Journalism and Communication\",\"Animation and Multimedia Design\",\"Social Service\",\"Management (evening attendance)\",\"Management\",\"Communication Design\",\"Nursing\",\"Agronomy\",\"Animation and Multimedia Design\",\"Advertising and Marketing Management\",\"Nursing\",\"Social Service\",\"Journalism and Communication\",\"Management\",\"Management\",\"Journalism and Communication\",\"Tourism\",\"Management\",\"Nursing\",\"Communication Design\",\"Management (evening attendance)\",\"Tourism\",\"Nursing\",\"Nursing\",\"Social Service\",\"Social Service (evening attendance)\",\"Management\",\"Management (evening attendance)\",\"Tourism\",\"Nursing\",\"Management\",\"Management (evening attendance)\",\"Communication Design\",\"Social Service\",\"Tourism\",\"Social Service\",\"Social Service\",\"Management\",\"Nursing\",\"Social Service\",\"Social Service (evening attendance)\",\"Nursing\",\"Communication Design\",\"Management\",\"Nursing\",\"Nursing\",\"Management\",\"Agronomy\",\"Communication Design\",\"Social Service\",\"Communication Design\",\"Communication Design\",\"Management (evening attendance)\",\"Animation and Multimedia Design\",\"Journalism and Communication\",\"Nursing\",\"Journalism and Communication\",\"Nursing\",\"Nursing\",\"Animation and Multimedia Design\",\"Nursing\",\"Veterinary Nursing\",\"Animation and Multimedia Design\",\"Animation and Multimedia Design\",\"Nursing\",\"Animation and Multimedia Design\",\"Animation and Multimedia Design\",\"Veterinary Nursing\",\"Journalism and Communication\",\"Veterinary Nursing\",\"Equiniculture\",\"Nursing\",\"Journalism and Communication\",\"Social Service\",\"Nursing\",\"Nursing\",\"Nursing\",\"Advertising and Marketing Management\",\"Nursing\",\"Oral Hygiene\",\"Basic Education\",\"Nursing\",\"Nursing\",\"Nursing\",\"Communication Design\",\"Social Service\",\"Management\",\"Social Service\",\"Veterinary Nursing\",\"Journalism and Communication\",\"Nursing\",\"Nursing\",\"Advertising and Marketing Management\",\"Social Service\",\"Nursing\",\"Nursing\",\"Nursing\",\"Equiniculture\",\"Nursing\",\"Journalism and Communication\",\"Tourism\",\"Social Service\",\"Communication Design\",\"Communication Design\",\"Nursing\",\"Nursing\",\"Veterinary Nursing\",\"Journalism and Communication\",\"Nursing\",\"Tourism\",\"Basic Education\",\"Nursing\",\"Social Service\",\"Advertising and Marketing Management\",\"Nursing\",\"Veterinary Nursing\",\"Agronomy\",\"Veterinary Nursing\",\"Advertising and Marketing Management\",\"Veterinary Nursing\",\"Management\",\"Nursing\",\"Social Service\",\"Advertising and Marketing Management\",\"Management\",\"Social Service\",\"Veterinary Nursing\",\"Nursing\",\"Nursing\",\"Tourism\",\"Nursing\",\"Nursing\",\"Social Service (evening attendance)\",\"Management\",\"Social Service\",\"Veterinary Nursing\",\"Journalism and Communication\",\"Management\",\"Tourism\",\"Veterinary Nursing\",\"Social Service (evening attendance)\",\"Veterinary Nursing\",\"Animation and Multimedia Design\",\"Basic Education\",\"Management (evening attendance)\",\"Social Service\",\"Tourism\",\"Nursing\",\"Journalism and Communication\",\"Communication Design\",\"Nursing\",\"Animation and Multimedia Design\",\"Nursing\",\"Journalism and Communication\",\"Nursing\",\"Veterinary Nursing\",\"Journalism and Communication\",\"Advertising and Marketing Management\",\"Social Service\",\"Management (evening attendance)\",\"Tourism\",\"Tourism\",\"Veterinary Nursing\",\"Nursing\",\"Nursing\",\"Nursing\",\"Social Service\",\"Social Service\",\"Oral Hygiene\",\"Communication Design\",\"Agronomy\",\"Management\",\"Nursing\",\"Oral Hygiene\",\"Nursing\",\"Veterinary Nursing\",\"Management\",\"Basic Education\",\"Tourism\",\"Communication Design\",\"Advertising and Marketing Management\",\"Nursing\",\"Advertising and Marketing Management\",\"Veterinary Nursing\",\"Social Service\",\"Social Service\",\"Social Service\",\"Nursing\",\"Nursing\",\"Nursing\",\"Nursing\",\"Nursing\",\"Nursing\",\"Journalism and Communication\",\"Journalism and Communication\",\"Nursing\",\"Nursing\",\"Nursing\",\"Nursing\",\"Equiniculture\",\"Social Service\",\"Nursing\",\"Social Service (evening attendance)\",\"Nursing\",\"Social Service\",\"Journalism and Communication\",\"Veterinary Nursing\",\"Agronomy\",\"Oral Hygiene\",\"Social Service\",\"Social Service\",\"Journalism and Communication\",\"Management\",\"Management\",\"Animation and Multimedia Design\",\"Communication Design\",\"Social Service\",\"Management\",\"Nursing\",\"Nursing\",\"Communication Design\",\"Journalism and Communication\",\"Oral Hygiene\",\"Veterinary Nursing\",\"Social Service\",\"Animation and Multimedia Design\",\"Social Service (evening attendance)\",\"Communication Design\",\"Tourism\",\"Veterinary Nursing\",\"Social Service\",\"Basic Education\",\"Nursing\",\"Social Service\",\"Communication Design\",\"Nursing\",\"Veterinary Nursing\",\"Basic Education\",\"Nursing\",\"Nursing\",\"Journalism and Communication\",\"Social Service\",\"Nursing\",\"Management\",\"Nursing\",\"Advertising and Marketing Management\",\"Nursing\",\"Veterinary Nursing\",\"Communication Design\",\"Social Service\",\"Animation and Multimedia Design\",\"Communication Design\",\"Nursing\",\"Journalism and Communication\",\"Social Service\",\"Nursing\",\"Tourism\",\"Nursing\",\"Tourism\",\"Animation and Multimedia Design\",\"Nursing\",\"Tourism\",\"Communication Design\",\"Nursing\",\"Communication Design\",\"Agronomy\",\"Oral Hygiene\",\"Journalism and Communication\",\"Communication Design\",\"Nursing\",\"Nursing\",\"Nursing\",\"Advertising and Marketing Management\",\"Communication Design\",\"Animation and Multimedia Design\",\"Animation and Multimedia Design\",\"Tourism\",\"Nursing\",\"Social Service\",\"Equiniculture\",\"Social Service (evening attendance)\",\"Communication Design\",\"Social Service (evening attendance)\",\"Journalism and Communication\",\"Agronomy\",\"Social Service\",\"Management (evening attendance)\",\"Tourism\",\"Social Service\",\"Journalism and Communication\",\"Advertising and Marketing Management\",\"Social Service\",\"Social Service\",\"Informatics Engineering\",\"Social Service\",\"Nursing\",\"Equiniculture\",\"Social Service\",\"Tourism\",\"Social Service\",\"Animation and Multimedia Design\",\"Agronomy\",\"Advertising and Marketing Management\",\"Communication Design\",\"Agronomy\",\"Management (evening attendance)\",\"Nursing\",\"Veterinary Nursing\",\"Informatics Engineering\",\"Tourism\",\"Nursing\",\"Equiniculture\",\"Equiniculture\",\"Advertising and Marketing Management\",\"Advertising and Marketing Management\",\"Animation and Multimedia Design\",\"Agronomy\",\"Management\",\"Journalism and Communication\",\"Equiniculture\",\"Animation and Multimedia Design\",\"Management\",\"Equiniculture\",\"Tourism\",\"Communication Design\",\"Communication Design\",\"Animation and Multimedia Design\",\"Management\",\"Journalism and Communication\",\"Nursing\",\"Management (evening attendance)\",\"Nursing\",\"Social Service (evening attendance)\",\"Animation and Multimedia Design\",\"Social Service (evening attendance)\",\"Management\",\"Management (evening attendance)\",\"Animation and Multimedia Design\",\"Agronomy\",\"Advertising and Marketing Management\",\"Journalism and Communication\",\"Management (evening attendance)\",\"Informatics Engineering\",\"Agronomy\",\"Agronomy\",\"Tourism\",\"Veterinary Nursing\",\"Agronomy\",\"Communication Design\",\"Management\",\"Journalism and Communication\",\"Nursing\",\"Nursing\",\"Communication Design\",\"Management (evening attendance)\",\"Agronomy\",\"Management\",\"Tourism\",\"Agronomy\",\"Journalism and Communication\",\"Journalism and Communication\",\"Animation and Multimedia Design\",\"Social Service (evening attendance)\",\"Veterinary Nursing\",\"Social Service (evening attendance)\",\"Biofuel Production Technologies\",\"Nursing\",\"Nursing\",\"Oral Hygiene\",\"Social Service (evening attendance)\",\"Animation and Multimedia Design\",\"Communication Design\",\"Nursing\",\"Veterinary Nursing\",\"Communication Design\",\"Nursing\",\"Tourism\",\"Journalism and Communication\",\"Tourism\",\"Tourism\",\"Nursing\",\"Veterinary Nursing\",\"Nursing\",\"Journalism and Communication\",\"Management\",\"Journalism and Communication\",\"Agronomy\",\"Social Service\",\"Social Service\",\"Advertising and Marketing Management\",\"Advertising and Marketing Management\",\"Equiniculture\",\"Oral Hygiene\",\"Journalism and Communication\",\"Social Service\",\"Nursing\",\"Journalism and Communication\",\"Social Service (evening attendance)\",\"Social Service (evening attendance)\",\"Management\",\"Basic Education\",\"Nursing\",\"Tourism\",\"Social Service\",\"Nursing\",\"Journalism and Communication\",\"Nursing\",\"Nursing\",\"Social Service\",\"Nursing\",\"Journalism and Communication\",\"Social Service (evening attendance)\",\"Nursing\",\"Social Service\",\"Social Service\",\"Management\",\"Basic Education\",\"Social Service (evening attendance)\",\"Management\",\"Communication Design\",\"Social Service\",\"Veterinary Nursing\",\"Veterinary Nursing\",\"Tourism\",\"Nursing\",\"Journalism and Communication\",\"Equiniculture\",\"Tourism\",\"Social Service\",\"Communication Design\",\"Social Service (evening attendance)\",\"Journalism and Communication\",\"Nursing\",\"Nursing\",\"Nursing\",\"Animation and Multimedia Design\",\"Management\",\"Animation and Multimedia Design\",\"Journalism and Communication\",\"Agronomy\",\"Advertising and Marketing Management\",\"Nursing\",\"Nursing\",\"Animation and Multimedia Design\",\"Journalism and Communication\",\"Management (evening attendance)\",\"Communication Design\",\"Management (evening attendance)\",\"Advertising and Marketing Management\",\"Management (evening attendance)\",\"Management (evening attendance)\",\"Nursing\",\"Veterinary Nursing\",\"Management\",\"Management\",\"Agronomy\",\"Journalism and Communication\",\"Nursing\",\"Equiniculture\",\"Communication Design\",\"Tourism\",\"Equiniculture\",\"Nursing\",\"Advertising and Marketing Management\",\"Nursing\",\"Veterinary Nursing\",\"Veterinary Nursing\",\"Nursing\",\"Veterinary Nursing\",\"Nursing\",\"Equiniculture\",\"Social Service\",\"Social Service\",\"Journalism and Communication\",\"Nursing\",\"Nursing\",\"Management\",\"Veterinary Nursing\",\"Communication Design\",\"Social Service (evening attendance)\",\"Social Service\",\"Social Service\",\"Basic Education\",\"Advertising and Marketing Management\",\"Management (evening attendance)\",\"Social Service\",\"Social Service (evening attendance)\",\"Nursing\",\"Nursing\",\"Management\",\"Oral Hygiene\",\"Nursing\",\"Nursing\",\"Nursing\",\"Agronomy\",\"Social Service\",\"Nursing\",\"Communication Design\",\"Social Service (evening attendance)\",\"Veterinary Nursing\",\"Social Service (evening attendance)\",\"Animation and Multimedia Design\",\"Nursing\",\"Advertising and Marketing Management\",\"Nursing\",\"Tourism\",\"Journalism and Communication\",\"Veterinary Nursing\",\"Social Service\",\"Nursing\",\"Journalism and Communication\",\"Journalism and Communication\",\"Basic Education\",\"Nursing\",\"Social Service\",\"Animation and Multimedia Design\",\"Social Service\",\"Nursing\",\"Social Service (evening attendance)\",\"Nursing\",\"Social Service\",\"Advertising and Marketing Management\",\"Management (evening attendance)\",\"Management\",\"Veterinary Nursing\",\"Management\",\"Veterinary Nursing\",\"Agronomy\",\"Communication Design\",\"Agronomy\",\"Veterinary Nursing\",\"Journalism and Communication\",\"Agronomy\",\"Communication Design\",\"Journalism and Communication\",\"Advertising and Marketing Management\",\"Social Service\",\"Veterinary Nursing\",\"Social Service (evening attendance)\",\"Basic Education\",\"Management\",\"Agronomy\",\"Management (evening attendance)\",\"Animation and Multimedia Design\",\"Tourism\",\"Social Service (evening attendance)\",\"Social Service (evening attendance)\",\"Agronomy\",\"Social Service (evening attendance)\",\"Management (evening attendance)\",\"Basic Education\",\"Social Service\",\"Advertising and Marketing Management\",\"Social Service (evening attendance)\",\"Advertising and Marketing Management\",\"Basic Education\",\"Social Service (evening attendance)\",\"Nursing\",\"Nursing\",\"Animation and Multimedia Design\",\"Oral Hygiene\",\"Social Service\",\"Journalism and Communication\",\"Social Service (evening attendance)\",\"Nursing\",\"Veterinary Nursing\",\"Nursing\",\"Social Service\",\"Social Service (evening attendance)\",\"Nursing\",\"Animation and Multimedia Design\",\"Nursing\",\"Journalism and Communication\",\"Social Service (evening attendance)\",\"Management\",\"Nursing\",\"Social Service (evening attendance)\",\"Animation and Multimedia Design\",\"Agronomy\",\"Nursing\",\"Advertising and Marketing Management\",\"Basic Education\",\"Agronomy\",\"Veterinary Nursing\",\"Social Service\",\"Animation and Multimedia Design\",\"Social Service (evening attendance)\",\"Tourism\",\"Advertising and Marketing Management\",\"Nursing\",\"Management (evening attendance)\",\"Management\",\"Nursing\",\"Social Service (evening attendance)\",\"Advertising and Marketing Management\",\"Social Service\",\"Management\",\"Management (evening attendance)\",\"Tourism\",\"Communication Design\",\"Journalism and Communication\",\"Communication Design\",\"Nursing\",\"Basic Education\",\"Nursing\",\"Communication Design\",\"Social Service (evening attendance)\",\"Animation and Multimedia Design\",\"Equiniculture\",\"Nursing\",\"Social Service (evening attendance)\",\"Journalism and Communication\",\"Nursing\",\"Social Service\",\"Equiniculture\",\"Nursing\",\"Management\",\"Nursing\",\"Management\",\"Nursing\",\"Veterinary Nursing\",\"Nursing\",\"Advertising and Marketing Management\",\"Nursing\",\"Veterinary Nursing\",\"Nursing\",\"Veterinary Nursing\",\"Social Service\",\"Equiniculture\",\"Nursing\",\"Animation and Multimedia Design\",\"Animation and Multimedia Design\",\"Nursing\",\"Social Service (evening attendance)\",\"Management\",\"Nursing\",\"Nursing\",\"Social Service\",\"Veterinary Nursing\",\"Tourism\",\"Advertising and Marketing Management\",\"Journalism and Communication\",\"Advertising and Marketing Management\",\"Communication Design\",\"Tourism\",\"Basic Education\",\"Management\",\"Veterinary Nursing\",\"Veterinary Nursing\",\"Social Service\",\"Journalism and Communication\",\"Nursing\",\"Nursing\",\"Journalism and Communication\",\"Social Service\",\"Communication Design\",\"Oral Hygiene\",\"Advertising and Marketing Management\",\"Management (evening attendance)\",\"Nursing\",\"Communication Design\",\"Communication Design\",\"Management (evening attendance)\",\"Management\",\"Nursing\",\"Social Service\",\"Social Service (evening attendance)\",\"Nursing\",\"Social Service\",\"Social Service (evening attendance)\",\"Nursing\",\"Management\",\"Social Service\",\"Nursing\",\"Nursing\",\"Management\",\"Nursing\",\"Journalism and Communication\",\"Social Service\",\"Journalism and Communication\",\"Tourism\",\"Oral Hygiene\",\"Nursing\",\"Nursing\",\"Social Service\",\"Management\",\"Management\",\"Journalism and Communication\",\"Social Service\",\"Nursing\",\"Equiniculture\",\"Animation and Multimedia Design\",\"Veterinary Nursing\",\"Veterinary Nursing\",\"Journalism and Communication\",\"Veterinary Nursing\",\"Management\",\"Nursing\",\"Social Service\",\"Management (evening attendance)\",\"Social Service\",\"Advertising and Marketing Management\",\"Journalism and Communication\",\"Animation and Multimedia Design\",\"Agronomy\",\"Animation and Multimedia Design\",\"Tourism\",\"Nursing\",\"Social Service\",\"Veterinary Nursing\",\"Veterinary Nursing\",\"Nursing\",\"Management\",\"Oral Hygiene\",\"Nursing\",\"Nursing\",\"Communication Design\",\"Social Service (evening attendance)\",\"Veterinary Nursing\",\"Management\",\"Nursing\",\"Journalism and Communication\",\"Management\",\"Communication Design\",\"Agronomy\",\"Tourism\",\"Communication Design\",\"Tourism\",\"Informatics Engineering\",\"Advertising and Marketing Management\",\"Nursing\",\"Veterinary Nursing\",\"Nursing\",\"Nursing\",\"Nursing\",\"Journalism and Communication\",\"Nursing\",\"Nursing\",\"Veterinary Nursing\",\"Nursing\",\"Social Service\",\"Social Service\",\"Nursing\",\"Journalism and Communication\",\"Veterinary Nursing\",\"Management\",\"Communication Design\",\"Management\",\"Veterinary Nursing\",\"Advertising and Marketing Management\",\"Nursing\",\"Agronomy\",\"Management\",\"Nursing\",\"Veterinary Nursing\",\"Management\",\"Veterinary Nursing\",\"Social Service\",\"Advertising and Marketing Management\",\"Social Service (evening attendance)\",\"Management\",\"Management\",\"Management\",\"Social Service (evening attendance)\",\"Oral Hygiene\",\"Tourism\",\"Management (evening attendance)\",\"Management (evening attendance)\",\"Agronomy\",\"Social Service (evening attendance)\",\"Social Service\",\"Nursing\",\"Nursing\",\"Veterinary Nursing\",\"Social Service (evening attendance)\",\"Journalism and Communication\",\"Tourism\",\"Social Service (evening attendance)\",\"Nursing\",\"Social Service (evening attendance)\",\"Management (evening attendance)\",\"Animation and Multimedia Design\",\"Communication Design\",\"Journalism and Communication\",\"Management (evening attendance)\",\"Social Service\",\"Journalism and Communication\",\"Communication Design\",\"Agronomy\",\"Journalism and Communication\",\"Nursing\",\"Journalism and Communication\",\"Management\",\"Nursing\",\"Nursing\",\"Tourism\",\"Management\",\"Social Service\",\"Agronomy\",\"Veterinary Nursing\",\"Basic Education\",\"Nursing\",\"Social Service\",\"Social Service\",\"Nursing\",\"Veterinary Nursing\",\"Animation and Multimedia Design\",\"Basic Education\",\"Nursing\",\"Communication Design\",\"Management\",\"Veterinary Nursing\",\"Nursing\",\"Nursing\",\"Communication Design\",\"Social Service\",\"Journalism and Communication\",\"Nursing\",\"Animation and Multimedia Design\",\"Nursing\",\"Journalism and Communication\",\"Nursing\",\"Nursing\",\"Basic Education\",\"Social Service\",\"Nursing\",\"Social Service\",\"Communication Design\",\"Nursing\",\"Journalism and Communication\",\"Communication Design\",\"Journalism and Communication\",\"Oral Hygiene\",\"Tourism\",\"Journalism and Communication\",\"Nursing\",\"Animation and Multimedia Design\",\"Journalism and Communication\",\"Nursing\",\"Nursing\",\"Nursing\",\"Social Service\",\"Social Service\",\"Agronomy\",\"Social Service\",\"Nursing\",\"Communication Design\",\"Basic Education\",\"Nursing\",\"Social Service (evening attendance)\",\"Veterinary Nursing\",\"Agronomy\",\"Tourism\",\"Nursing\",\"Animation and Multimedia Design\",\"Nursing\",\"Social Service\",\"Advertising and Marketing Management\",\"Agronomy\",\"Journalism and Communication\",\"Advertising and Marketing Management\",\"Agronomy\",\"Advertising and Marketing Management\",\"Advertising and Marketing Management\",\"Communication Design\",\"Management (evening attendance)\",\"Advertising and Marketing Management\",\"Agronomy\",\"Advertising and Marketing Management\",\"Management\",\"Communication Design\",\"Nursing\",\"Nursing\",\"Nursing\",\"Veterinary Nursing\",\"Advertising and Marketing Management\",\"Journalism and Communication\",\"Communication Design\",\"Informatics Engineering\",\"Informatics Engineering\",\"Communication Design\",\"Informatics Engineering\",\"Tourism\",\"Equiniculture\",\"Management\",\"Advertising and Marketing Management\",\"Agronomy\",\"Oral Hygiene\",\"Social Service (evening attendance)\",\"Communication Design\",\"Journalism and Communication\",\"Social Service\",\"Journalism and Communication\",\"Journalism and Communication\",\"Journalism and Communication\",\"Journalism and Communication\",\"Journalism and Communication\",\"Advertising and Marketing Management\",\"Journalism and Communication\",\"Social Service\",\"Nursing\",\"Social Service\",\"Management\",\"Advertising and Marketing Management\",\"Nursing\",\"Tourism\",\"Veterinary Nursing\",\"Nursing\",\"Journalism and Communication\",\"Nursing\",\"Advertising and Marketing Management\",\"Journalism and Communication\",\"Social Service (evening attendance)\",\"Veterinary Nursing\",\"Social Service\",\"Social Service\",\"Nursing\",\"Communication Design\",\"Oral Hygiene\",\"Journalism and Communication\",\"Social Service\",\"Veterinary Nursing\",\"Nursing\",\"Management (evening attendance)\",\"Journalism and Communication\",\"Veterinary Nursing\",\"Nursing\",\"Social Service\",\"Nursing\",\"Animation and Multimedia Design\",\"Veterinary Nursing\",\"Veterinary Nursing\",\"Social Service (evening attendance)\",\"Communication Design\",\"Communication Design\",\"Social Service\",\"Advertising and Marketing Management\",\"Basic Education\",\"Animation and Multimedia Design\",\"Social Service\",\"Management\",\"Tourism\",\"Nursing\",\"Advertising and Marketing Management\",\"Management\",\"Animation and Multimedia Design\",\"Veterinary Nursing\",\"Animation and Multimedia Design\",\"Advertising and Marketing Management\",\"Social Service (evening attendance)\",\"Agronomy\",\"Nursing\",\"Animation and Multimedia Design\",\"Nursing\",\"Informatics Engineering\",\"Advertising and Marketing Management\",\"Animation and Multimedia Design\",\"Nursing\",\"Equiniculture\",\"Communication Design\",\"Nursing\",\"Communication Design\",\"Journalism and Communication\",\"Nursing\",\"Social Service (evening attendance)\",\"Nursing\",\"Management\",\"Veterinary Nursing\",\"Social Service\",\"Social Service\",\"Nursing\",\"Communication Design\",\"Agronomy\",\"Social Service\",\"Social Service\",\"Agronomy\",\"Communication Design\",\"Nursing\",\"Communication Design\",\"Basic Education\",\"Nursing\",\"Informatics Engineering\",\"Tourism\",\"Advertising and Marketing Management\",\"Nursing\",\"Social Service (evening attendance)\",\"Social Service (evening attendance)\",\"Communication Design\",\"Social Service (evening attendance)\",\"Social Service\",\"Social Service (evening attendance)\",\"Social Service\",\"Agronomy\",\"Journalism and Communication\",\"Agronomy\",\"Nursing\",\"Journalism and Communication\",\"Equiniculture\",\"Journalism and Communication\",\"Journalism and Communication\",\"Tourism\",\"Management (evening attendance)\",\"Journalism and Communication\",\"Social Service\",\"Nursing\",\"Agronomy\",\"Advertising and Marketing Management\",\"Management\",\"Nursing\",\"Nursing\",\"Nursing\",\"Management (evening attendance)\",\"Journalism and Communication\",\"Tourism\",\"Social Service\",\"Nursing\",\"Social Service\",\"Veterinary Nursing\",\"Oral Hygiene\",\"Management\",\"Nursing\",\"Nursing\",\"Tourism\",\"Nursing\",\"Tourism\",\"Nursing\",\"Social Service\",\"Social Service (evening attendance)\",\"Tourism\",\"Advertising and Marketing Management\",\"Management\",\"Social Service (evening attendance)\",\"Basic Education\",\"Nursing\",\"Social Service\",\"Nursing\",\"Social Service\",\"Social Service (evening attendance)\",\"Nursing\",\"Animation and Multimedia Design\",\"Journalism and Communication\",\"Equiniculture\",\"Management (evening attendance)\",\"Nursing\",\"Nursing\",\"Social Service\",\"Journalism and Communication\",\"Animation and Multimedia Design\",\"Advertising and Marketing Management\",\"Management\",\"Nursing\",\"Veterinary Nursing\",\"Management\",\"Veterinary Nursing\",\"Nursing\",\"Veterinary Nursing\",\"Nursing\",\"Nursing\",\"Animation and Multimedia Design\",\"Nursing\",\"Veterinary Nursing\",\"Management (evening attendance)\",\"Communication Design\",\"Nursing\",\"Management (evening attendance)\",\"Nursing\",\"Veterinary Nursing\",\"Nursing\",\"Nursing\",\"Nursing\",\"Basic Education\",\"Social Service\",\"Veterinary Nursing\",\"Nursing\",\"Social Service\",\"Communication Design\",\"Journalism and Communication\",\"Nursing\",\"Veterinary Nursing\",\"Social Service\",\"Basic Education\",\"Social Service\",\"Journalism and Communication\",\"Animation and Multimedia Design\",\"Oral Hygiene\",\"Tourism\",\"Nursing\",\"Communication Design\",\"Agronomy\",\"Nursing\",\"Nursing\",\"Tourism\",\"Nursing\",\"Social Service (evening attendance)\",\"Management\",\"Agronomy\",\"Communication Design\",\"Equiniculture\",\"Nursing\",\"Advertising and Marketing Management\",\"Veterinary Nursing\",\"Basic Education\",\"Veterinary Nursing\",\"Social Service\",\"Journalism and Communication\",\"Social Service\",\"Tourism\",\"Nursing\",\"Nursing\",\"Oral Hygiene\",\"Tourism\",\"Journalism and Communication\",\"Veterinary Nursing\",\"Veterinary Nursing\",\"Equiniculture\",\"Equiniculture\",\"Veterinary Nursing\",\"Management (evening attendance)\",\"Oral Hygiene\",\"Advertising and Marketing Management\",\"Social Service\",\"Nursing\",\"Social Service\",\"Nursing\",\"Nursing\",\"Management (evening attendance)\",\"Management (evening attendance)\",\"Social Service (evening attendance)\",\"Social Service (evening attendance)\",\"Journalism and Communication\",\"Social Service\",\"Nursing\",\"Social Service (evening attendance)\",\"Management (evening attendance)\",\"Communication Design\",\"Veterinary Nursing\",\"Social Service\",\"Management\",\"Journalism and Communication\",\"Nursing\",\"Social Service\",\"Nursing\",\"Nursing\",\"Nursing\",\"Journalism and Communication\",\"Nursing\",\"Veterinary Nursing\",\"Basic Education\",\"Nursing\",\"Veterinary Nursing\",\"Social Service\",\"Nursing\",\"Social Service (evening attendance)\",\"Veterinary Nursing\",\"Nursing\",\"Nursing\",\"Nursing\",\"Social Service\",\"Social Service (evening attendance)\",\"Nursing\",\"Tourism\",\"Social Service\",\"Social Service (evening attendance)\",\"Nursing\",\"Journalism and Communication\",\"Agronomy\",\"Veterinary Nursing\",\"Veterinary Nursing\",\"Nursing\",\"Advertising and Marketing Management\",\"Management (evening attendance)\",\"Social Service\",\"Nursing\",\"Communication Design\",\"Journalism and Communication\",\"Nursing\",\"Social Service\",\"Nursing\",\"Tourism\",\"Nursing\",\"Nursing\",\"Veterinary Nursing\",\"Social Service\",\"Social Service (evening attendance)\",\"Advertising and Marketing Management\",\"Tourism\",\"Tourism\",\"Tourism\",\"Nursing\",\"Journalism and Communication\",\"Nursing\",\"Management\",\"Social Service (evening attendance)\",\"Communication Design\",\"Nursing\",\"Tourism\",\"Nursing\",\"Management\",\"Tourism\",\"Social Service\",\"Journalism and Communication\",\"Social Service\",\"Nursing\",\"Journalism and Communication\",\"Social Service\",\"Social Service\",\"Social Service\",\"Tourism\",\"Nursing\",\"Social Service\",\"Social Service\",\"Nursing\",\"Nursing\",\"Journalism and Communication\",\"Veterinary Nursing\",\"Veterinary Nursing\",\"Social Service (evening attendance)\",\"Management (evening attendance)\",\"Management (evening attendance)\",\"Nursing\",\"Nursing\",\"Management\",\"Agronomy\",\"Journalism and Communication\",\"Tourism\",\"Communication Design\",\"Nursing\",\"Journalism and Communication\",\"Veterinary Nursing\",\"Veterinary Nursing\",\"Social Service\",\"Animation and Multimedia Design\",\"Animation and Multimedia Design\",\"Nursing\",\"Agronomy\",\"Communication Design\",\"Journalism and Communication\",\"Agronomy\",\"Journalism and Communication\",\"Veterinary Nursing\",\"Basic Education\",\"Communication Design\",\"Advertising and Marketing Management\",\"Animation and Multimedia Design\",\"Journalism and Communication\",\"Nursing\",\"Social Service (evening attendance)\",\"Social Service\",\"Social Service\",\"Tourism\",\"Veterinary Nursing\",\"Nursing\",\"Veterinary Nursing\",\"Nursing\",\"Journalism and Communication\",\"Nursing\",\"Nursing\",\"Veterinary Nursing\",\"Communication Design\",\"Animation and Multimedia Design\",\"Veterinary Nursing\",\"Social Service\",\"Nursing\",\"Nursing\",\"Veterinary Nursing\",\"Animation and Multimedia Design\",\"Advertising and Marketing Management\",\"Veterinary Nursing\",\"Animation and Multimedia Design\",\"Nursing\",\"Nursing\",\"Nursing\",\"Basic Education\",\"Nursing\",\"Social Service (evening attendance)\",\"Social Service\",\"Veterinary Nursing\",\"Management (evening attendance)\",\"Nursing\",\"Journalism and Communication\",\"Management\",\"Tourism\",\"Nursing\",\"Nursing\",\"Journalism and Communication\",\"Management (evening attendance)\",\"Communication Design\",\"Equiniculture\",\"Nursing\",\"Communication Design\",\"Communication Design\",\"Journalism and Communication\",\"Management\",\"Journalism and Communication\"],\"yaxis\":\"y\",\"type\":\"histogram\"},{\"alignmentgroup\":\"True\",\"bingroup\":\"y\",\"hovertemplate\":\"Target=Enrolled\\u003cbr\\u003ecount (normalized as percent)=%{x}\\u003cbr\\u003eCourse=%{y}\\u003cextra\\u003e\\u003c\\u002fextra\\u003e\",\"legendgroup\":\"Enrolled\",\"marker\":{\"color\":\"rgb(117,112,179)\",\"pattern\":{\"shape\":\"\"}},\"name\":\"Enrolled\",\"offsetgroup\":\"Enrolled\",\"orientation\":\"h\",\"showlegend\":true,\"texttemplate\":\"%{value:.1f}\",\"xaxis\":\"x\",\"y\":[\"Social Service\",\"Basic Education\",\"Oral Hygiene\",\"Social Service\",\"Veterinary Nursing\",\"Nursing\",\"Agronomy\",\"Management\",\"Management (evening attendance)\",\"Nursing\",\"Journalism and Communication\",\"Animation and Multimedia Design\",\"Animation and Multimedia Design\",\"Communication Design\",\"Communication Design\",\"Tourism\",\"Management\",\"Tourism\",\"Management\",\"Informatics Engineering\",\"Informatics Engineering\",\"Veterinary Nursing\",\"Basic Education\",\"Management\",\"Nursing\",\"Social Service\",\"Management\",\"Basic Education\",\"Nursing\",\"Management\",\"Animation and Multimedia Design\",\"Basic Education\",\"Agronomy\",\"Veterinary Nursing\",\"Advertising and Marketing Management\",\"Management (evening attendance)\",\"Social Service\",\"Social Service (evening attendance)\",\"Nursing\",\"Oral Hygiene\",\"Nursing\",\"Animation and Multimedia Design\",\"Communication Design\",\"Journalism and Communication\",\"Communication Design\",\"Nursing\",\"Communication Design\",\"Agronomy\",\"Advertising and Marketing Management\",\"Nursing\",\"Veterinary Nursing\",\"Basic Education\",\"Veterinary Nursing\",\"Basic Education\",\"Veterinary Nursing\",\"Management\",\"Social Service\",\"Social Service (evening attendance)\",\"Agronomy\",\"Management\",\"Nursing\",\"Veterinary Nursing\",\"Management (evening attendance)\",\"Social Service (evening attendance)\",\"Basic Education\",\"Veterinary Nursing\",\"Nursing\",\"Social Service\",\"Basic Education\",\"Veterinary Nursing\",\"Nursing\",\"Communication Design\",\"Tourism\",\"Journalism and Communication\",\"Tourism\",\"Management\",\"Tourism\",\"Oral Hygiene\",\"Equiniculture\",\"Tourism\",\"Management\",\"Social Service\",\"Basic Education\",\"Social Service\",\"Veterinary Nursing\",\"Veterinary Nursing\",\"Basic Education\",\"Veterinary Nursing\",\"Communication Design\",\"Nursing\",\"Biofuel Production Technologies\",\"Communication Design\",\"Informatics Engineering\",\"Management\",\"Management\",\"Informatics Engineering\",\"Management\",\"Informatics Engineering\",\"Advertising and Marketing Management\",\"Nursing\",\"Management\",\"Tourism\",\"Equiniculture\",\"Management\",\"Management (evening attendance)\",\"Advertising and Marketing Management\",\"Nursing\",\"Advertising and Marketing Management\",\"Agronomy\",\"Nursing\",\"Management\",\"Veterinary Nursing\",\"Basic Education\",\"Management (evening attendance)\",\"Management\",\"Management\",\"Nursing\",\"Management\",\"Social Service\",\"Veterinary Nursing\",\"Social Service\",\"Social Service\",\"Nursing\",\"Basic Education\",\"Tourism\",\"Tourism\",\"Veterinary Nursing\",\"Management (evening attendance)\",\"Advertising and Marketing Management\",\"Tourism\",\"Advertising and Marketing Management\",\"Journalism and Communication\",\"Animation and Multimedia Design\",\"Animation and Multimedia Design\",\"Management\",\"Management\",\"Equiniculture\",\"Nursing\",\"Veterinary Nursing\",\"Basic Education\",\"Nursing\",\"Basic Education\",\"Communication Design\",\"Management\",\"Equiniculture\",\"Communication Design\",\"Management\",\"Communication Design\",\"Nursing\",\"Veterinary Nursing\",\"Equiniculture\",\"Informatics Engineering\",\"Oral Hygiene\",\"Management\",\"Veterinary Nursing\",\"Basic Education\",\"Informatics Engineering\",\"Oral Hygiene\",\"Tourism\",\"Social Service\",\"Management (evening attendance)\",\"Social Service (evening attendance)\",\"Veterinary Nursing\",\"Management\",\"Nursing\",\"Management (evening attendance)\",\"Journalism and Communication\",\"Social Service\",\"Informatics Engineering\",\"Informatics Engineering\",\"Informatics Engineering\",\"Management (evening attendance)\",\"Management (evening attendance)\",\"Nursing\",\"Veterinary Nursing\",\"Basic Education\",\"Communication Design\",\"Basic Education\",\"Basic Education\",\"Basic Education\",\"Communication Design\",\"Basic Education\",\"Animation and Multimedia Design\",\"Basic Education\",\"Management\",\"Nursing\",\"Management (evening attendance)\",\"Oral Hygiene\",\"Social Service\",\"Management\",\"Management\",\"Management\",\"Animation and Multimedia Design\",\"Basic Education\",\"Management\",\"Nursing\",\"Management\",\"Nursing\",\"Management (evening attendance)\",\"Nursing\",\"Nursing\",\"Basic Education\",\"Agronomy\",\"Social Service\",\"Nursing\",\"Veterinary Nursing\",\"Informatics Engineering\",\"Advertising and Marketing Management\",\"Veterinary Nursing\",\"Management (evening attendance)\",\"Journalism and Communication\",\"Social Service (evening attendance)\",\"Communication Design\",\"Informatics Engineering\",\"Tourism\",\"Advertising and Marketing Management\",\"Veterinary Nursing\",\"Basic Education\",\"Management\",\"Veterinary Nursing\",\"Veterinary Nursing\",\"Social Service\",\"Basic Education\",\"Nursing\",\"Management\",\"Nursing\",\"Veterinary Nursing\",\"Social Service\",\"Veterinary Nursing\",\"Management\",\"Veterinary Nursing\",\"Equiniculture\",\"Animation and Multimedia Design\",\"Journalism and Communication\",\"Journalism and Communication\",\"Management\",\"Equiniculture\",\"Tourism\",\"Social Service\",\"Tourism\",\"Nursing\",\"Informatics Engineering\",\"Informatics Engineering\",\"Management\",\"Nursing\",\"Advertising and Marketing Management\",\"Advertising and Marketing Management\",\"Tourism\",\"Informatics Engineering\",\"Management\",\"Agronomy\",\"Informatics Engineering\",\"Advertising and Marketing Management\",\"Agronomy\",\"Nursing\",\"Nursing\",\"Management (evening attendance)\",\"Management (evening attendance)\",\"Animation and Multimedia Design\",\"Animation and Multimedia Design\",\"Agronomy\",\"Informatics Engineering\",\"Management (evening attendance)\",\"Journalism and Communication\",\"Management\",\"Biofuel Production Technologies\",\"Equiniculture\",\"Equiniculture\",\"Veterinary Nursing\",\"Oral Hygiene\",\"Social Service (evening attendance)\",\"Management (evening attendance)\",\"Animation and Multimedia Design\",\"Communication Design\",\"Management\",\"Informatics Engineering\",\"Management\",\"Management\",\"Advertising and Marketing Management\",\"Nursing\",\"Advertising and Marketing Management\",\"Tourism\",\"Agronomy\",\"Journalism and Communication\",\"Veterinary Nursing\",\"Social Service (evening attendance)\",\"Nursing\",\"Management (evening attendance)\",\"Veterinary Nursing\",\"Animation and Multimedia Design\",\"Journalism and Communication\",\"Management (evening attendance)\",\"Informatics Engineering\",\"Journalism and Communication\",\"Animation and Multimedia Design\",\"Management\",\"Informatics Engineering\",\"Management\",\"Management (evening attendance)\",\"Veterinary Nursing\",\"Nursing\",\"Equiniculture\",\"Social Service (evening attendance)\",\"Nursing\",\"Tourism\",\"Agronomy\",\"Communication Design\",\"Informatics Engineering\",\"Informatics Engineering\",\"Animation and Multimedia Design\",\"Tourism\",\"Management\",\"Basic Education\",\"Management\",\"Agronomy\",\"Tourism\",\"Advertising and Marketing Management\",\"Management\",\"Management\",\"Nursing\",\"Informatics Engineering\",\"Informatics Engineering\",\"Agronomy\",\"Veterinary Nursing\",\"Nursing\",\"Management\",\"Veterinary Nursing\",\"Management\",\"Nursing\",\"Management\",\"Tourism\",\"Management (evening attendance)\",\"Informatics Engineering\",\"Informatics Engineering\",\"Nursing\",\"Animation and Multimedia Design\",\"Communication Design\",\"Veterinary Nursing\",\"Basic Education\",\"Advertising and Marketing Management\",\"Veterinary Nursing\",\"Basic Education\",\"Communication Design\",\"Nursing\",\"Social Service\",\"Veterinary Nursing\",\"Nursing\",\"Veterinary Nursing\",\"Basic Education\",\"Social Service\",\"Nursing\",\"Veterinary Nursing\",\"Management (evening attendance)\",\"Advertising and Marketing Management\",\"Social Service (evening attendance)\",\"Tourism\",\"Management (evening attendance)\",\"Animation and Multimedia Design\",\"Nursing\",\"Nursing\",\"Veterinary Nursing\",\"Basic Education\",\"Veterinary Nursing\",\"Journalism and Communication\",\"Nursing\",\"Communication Design\",\"Veterinary Nursing\",\"Veterinary Nursing\",\"Animation and Multimedia Design\",\"Veterinary Nursing\",\"Nursing\",\"Equiniculture\",\"Veterinary Nursing\",\"Animation and Multimedia Design\",\"Social Service\",\"Communication Design\",\"Animation and Multimedia Design\",\"Informatics Engineering\",\"Journalism and Communication\",\"Management\",\"Communication Design\",\"Informatics Engineering\",\"Management\",\"Management\",\"Informatics Engineering\",\"Journalism and Communication\",\"Informatics Engineering\",\"Tourism\",\"Tourism\",\"Equiniculture\",\"Veterinary Nursing\",\"Management (evening attendance)\",\"Informatics Engineering\",\"Nursing\",\"Nursing\",\"Agronomy\",\"Advertising and Marketing Management\",\"Basic Education\",\"Veterinary Nursing\",\"Communication Design\",\"Agronomy\",\"Communication Design\",\"Informatics Engineering\",\"Informatics Engineering\",\"Communication Design\",\"Management\",\"Informatics Engineering\",\"Communication Design\",\"Communication Design\",\"Nursing\",\"Informatics Engineering\",\"Informatics Engineering\",\"Informatics Engineering\",\"Advertising and Marketing Management\",\"Informatics Engineering\",\"Informatics Engineering\",\"Agronomy\",\"Animation and Multimedia Design\",\"Journalism and Communication\",\"Agronomy\",\"Animation and Multimedia Design\",\"Advertising and Marketing Management\",\"Equiniculture\",\"Agronomy\",\"Informatics Engineering\",\"Journalism and Communication\",\"Management\",\"Journalism and Communication\",\"Journalism and Communication\",\"Management (evening attendance)\",\"Agronomy\",\"Informatics Engineering\",\"Veterinary Nursing\",\"Social Service (evening attendance)\",\"Nursing\",\"Animation and Multimedia Design\",\"Animation and Multimedia Design\",\"Management\",\"Informatics Engineering\",\"Agronomy\",\"Equiniculture\",\"Tourism\",\"Animation and Multimedia Design\",\"Management\",\"Journalism and Communication\",\"Management\",\"Nursing\",\"Informatics Engineering\",\"Equiniculture\",\"Basic Education\",\"Equiniculture\",\"Agronomy\",\"Communication Design\",\"Informatics Engineering\",\"Informatics Engineering\",\"Animation and Multimedia Design\",\"Management\",\"Social Service\",\"Social Service (evening attendance)\",\"Management\",\"Management (evening attendance)\",\"Management\",\"Management\",\"Basic Education\",\"Basic Education\",\"Management\",\"Veterinary Nursing\",\"Basic Education\",\"Tourism\",\"Communication Design\",\"Nursing\",\"Management\",\"Management (evening attendance)\",\"Advertising and Marketing Management\",\"Communication Design\",\"Nursing\",\"Basic Education\",\"Nursing\",\"Informatics Engineering\",\"Management (evening attendance)\",\"Tourism\",\"Agronomy\",\"Informatics Engineering\",\"Management\",\"Informatics Engineering\",\"Nursing\",\"Advertising and Marketing Management\",\"Advertising and Marketing Management\",\"Oral Hygiene\",\"Oral Hygiene\",\"Management\",\"Veterinary Nursing\",\"Equiniculture\",\"Veterinary Nursing\",\"Nursing\",\"Social Service\",\"Nursing\",\"Agronomy\",\"Agronomy\",\"Social Service (evening attendance)\",\"Social Service (evening attendance)\",\"Management (evening attendance)\",\"Nursing\",\"Nursing\",\"Animation and Multimedia Design\",\"Advertising and Marketing Management\",\"Journalism and Communication\",\"Social Service\",\"Advertising and Marketing Management\",\"Management (evening attendance)\",\"Advertising and Marketing Management\",\"Nursing\",\"Management\",\"Journalism and Communication\",\"Advertising and Marketing Management\",\"Nursing\",\"Communication Design\",\"Management\",\"Agronomy\",\"Advertising and Marketing Management\",\"Management\",\"Veterinary Nursing\",\"Management (evening attendance)\",\"Social Service (evening attendance)\",\"Management\",\"Management (evening attendance)\",\"Management\",\"Social Service (evening attendance)\",\"Social Service\",\"Management (evening attendance)\",\"Management (evening attendance)\",\"Social Service (evening attendance)\",\"Social Service (evening attendance)\",\"Nursing\",\"Management (evening attendance)\",\"Oral Hygiene\",\"Advertising and Marketing Management\",\"Nursing\",\"Veterinary Nursing\",\"Basic Education\",\"Tourism\",\"Management\",\"Nursing\",\"Management\",\"Journalism and Communication\",\"Nursing\",\"Veterinary Nursing\",\"Management\",\"Journalism and Communication\",\"Nursing\",\"Advertising and Marketing Management\",\"Informatics Engineering\",\"Advertising and Marketing Management\",\"Informatics Engineering\",\"Management\",\"Basic Education\",\"Social Service\",\"Journalism and Communication\",\"Advertising and Marketing Management\",\"Veterinary Nursing\",\"Advertising and Marketing Management\",\"Social Service\",\"Nursing\",\"Nursing\",\"Basic Education\",\"Nursing\",\"Management\",\"Equiniculture\",\"Nursing\",\"Management\",\"Tourism\",\"Communication Design\",\"Social Service\",\"Nursing\",\"Informatics Engineering\",\"Management\",\"Management (evening attendance)\",\"Agronomy\",\"Journalism and Communication\",\"Animation and Multimedia Design\",\"Social Service (evening attendance)\",\"Veterinary Nursing\",\"Management\",\"Advertising and Marketing Management\",\"Management (evening attendance)\",\"Management (evening attendance)\",\"Nursing\",\"Management\",\"Management (evening attendance)\",\"Nursing\",\"Nursing\",\"Nursing\",\"Communication Design\",\"Tourism\",\"Animation and Multimedia Design\",\"Informatics Engineering\",\"Management\",\"Journalism and Communication\",\"Advertising and Marketing Management\",\"Advertising and Marketing Management\",\"Informatics Engineering\",\"Social Service (evening attendance)\",\"Informatics Engineering\",\"Management\",\"Management (evening attendance)\",\"Nursing\",\"Management\",\"Veterinary Nursing\",\"Social Service\",\"Management\",\"Management\",\"Advertising and Marketing Management\",\"Management (evening attendance)\",\"Basic Education\",\"Advertising and Marketing Management\",\"Management\",\"Nursing\",\"Journalism and Communication\",\"Management\",\"Management (evening attendance)\",\"Oral Hygiene\",\"Advertising and Marketing Management\",\"Management (evening attendance)\",\"Nursing\",\"Nursing\",\"Basic Education\",\"Management\",\"Management (evening attendance)\",\"Nursing\",\"Social Service\",\"Agronomy\",\"Management\",\"Equiniculture\",\"Journalism and Communication\",\"Advertising and Marketing Management\",\"Management (evening attendance)\",\"Nursing\",\"Agronomy\",\"Management (evening attendance)\",\"Veterinary Nursing\",\"Management (evening attendance)\",\"Nursing\",\"Advertising and Marketing Management\",\"Tourism\",\"Communication Design\",\"Nursing\",\"Informatics Engineering\",\"Management\",\"Management\",\"Nursing\",\"Equiniculture\",\"Agronomy\",\"Informatics Engineering\",\"Animation and Multimedia Design\",\"Animation and Multimedia Design\",\"Informatics Engineering\",\"Informatics Engineering\",\"Informatics Engineering\",\"Social Service\",\"Journalism and Communication\",\"Social Service\",\"Basic Education\",\"Veterinary Nursing\",\"Advertising and Marketing Management\",\"Veterinary Nursing\",\"Veterinary Nursing\",\"Agronomy\",\"Management\",\"Equiniculture\",\"Tourism\",\"Communication Design\",\"Management\",\"Management\",\"Agronomy\",\"Informatics Engineering\",\"Tourism\",\"Informatics Engineering\",\"Veterinary Nursing\",\"Veterinary Nursing\",\"Basic Education\",\"Veterinary Nursing\",\"Oral Hygiene\",\"Nursing\",\"Agronomy\",\"Agronomy\",\"Nursing\",\"Nursing\",\"Agronomy\",\"Informatics Engineering\",\"Advertising and Marketing Management\",\"Communication Design\",\"Tourism\",\"Social Service\",\"Tourism\",\"Social Service\",\"Basic Education\",\"Advertising and Marketing Management\",\"Nursing\",\"Communication Design\",\"Management\",\"Tourism\",\"Management\",\"Social Service\",\"Journalism and Communication\",\"Advertising and Marketing Management\",\"Animation and Multimedia Design\",\"Management\",\"Agronomy\",\"Management\",\"Tourism\",\"Tourism\",\"Management\",\"Nursing\",\"Journalism and Communication\",\"Management\",\"Oral Hygiene\",\"Management (evening attendance)\",\"Animation and Multimedia Design\",\"Social Service\",\"Nursing\",\"Communication Design\",\"Agronomy\",\"Animation and Multimedia Design\",\"Social Service (evening attendance)\",\"Social Service\",\"Advertising and Marketing Management\",\"Veterinary Nursing\",\"Tourism\",\"Nursing\",\"Management (evening attendance)\",\"Oral Hygiene\",\"Management\",\"Communication Design\",\"Veterinary Nursing\",\"Veterinary Nursing\",\"Nursing\",\"Veterinary Nursing\",\"Veterinary Nursing\",\"Tourism\",\"Oral Hygiene\",\"Oral Hygiene\",\"Veterinary Nursing\",\"Management\",\"Animation and Multimedia Design\",\"Nursing\",\"Tourism\",\"Management (evening attendance)\",\"Basic Education\",\"Social Service\",\"Management\",\"Veterinary Nursing\",\"Basic Education\",\"Management (evening attendance)\",\"Veterinary Nursing\",\"Veterinary Nursing\",\"Basic Education\",\"Basic Education\",\"Animation and Multimedia Design\",\"Journalism and Communication\",\"Social Service (evening attendance)\",\"Management (evening attendance)\",\"Management\",\"Social Service\",\"Nursing\",\"Communication Design\",\"Advertising and Marketing Management\",\"Animation and Multimedia Design\",\"Communication Design\",\"Veterinary Nursing\",\"Tourism\",\"Informatics Engineering\",\"Veterinary Nursing\",\"Oral Hygiene\",\"Management\",\"Agronomy\",\"Informatics Engineering\",\"Management\",\"Management (evening attendance)\",\"Management\",\"Journalism and Communication\",\"Advertising and Marketing Management\",\"Nursing\",\"Management (evening attendance)\",\"Social Service\",\"Nursing\",\"Social Service\",\"Social Service\",\"Nursing\",\"Management\",\"Basic Education\",\"Basic Education\",\"Communication Design\",\"Communication Design\",\"Biofuel Production Technologies\"],\"yaxis\":\"y\",\"type\":\"histogram\"}],                        {\"template\":{\"data\":{\"histogram2dcontour\":[{\"type\":\"histogram2dcontour\",\"colorbar\":{\"outlinewidth\":0,\"ticks\":\"\"},\"colorscale\":[[0.0,\"#0d0887\"],[0.1111111111111111,\"#46039f\"],[0.2222222222222222,\"#7201a8\"],[0.3333333333333333,\"#9c179e\"],[0.4444444444444444,\"#bd3786\"],[0.5555555555555556,\"#d8576b\"],[0.6666666666666666,\"#ed7953\"],[0.7777777777777778,\"#fb9f3a\"],[0.8888888888888888,\"#fdca26\"],[1.0,\"#f0f921\"]]}],\"choropleth\":[{\"type\":\"choropleth\",\"colorbar\":{\"outlinewidth\":0,\"ticks\":\"\"}}],\"histogram2d\":[{\"type\":\"histogram2d\",\"colorbar\":{\"outlinewidth\":0,\"ticks\":\"\"},\"colorscale\":[[0.0,\"#0d0887\"],[0.1111111111111111,\"#46039f\"],[0.2222222222222222,\"#7201a8\"],[0.3333333333333333,\"#9c179e\"],[0.4444444444444444,\"#bd3786\"],[0.5555555555555556,\"#d8576b\"],[0.6666666666666666,\"#ed7953\"],[0.7777777777777778,\"#fb9f3a\"],[0.8888888888888888,\"#fdca26\"],[1.0,\"#f0f921\"]]}],\"heatmap\":[{\"type\":\"heatmap\",\"colorbar\":{\"outlinewidth\":0,\"ticks\":\"\"},\"colorscale\":[[0.0,\"#0d0887\"],[0.1111111111111111,\"#46039f\"],[0.2222222222222222,\"#7201a8\"],[0.3333333333333333,\"#9c179e\"],[0.4444444444444444,\"#bd3786\"],[0.5555555555555556,\"#d8576b\"],[0.6666666666666666,\"#ed7953\"],[0.7777777777777778,\"#fb9f3a\"],[0.8888888888888888,\"#fdca26\"],[1.0,\"#f0f921\"]]}],\"heatmapgl\":[{\"type\":\"heatmapgl\",\"colorbar\":{\"outlinewidth\":0,\"ticks\":\"\"},\"colorscale\":[[0.0,\"#0d0887\"],[0.1111111111111111,\"#46039f\"],[0.2222222222222222,\"#7201a8\"],[0.3333333333333333,\"#9c179e\"],[0.4444444444444444,\"#bd3786\"],[0.5555555555555556,\"#d8576b\"],[0.6666666666666666,\"#ed7953\"],[0.7777777777777778,\"#fb9f3a\"],[0.8888888888888888,\"#fdca26\"],[1.0,\"#f0f921\"]]}],\"contourcarpet\":[{\"type\":\"contourcarpet\",\"colorbar\":{\"outlinewidth\":0,\"ticks\":\"\"}}],\"contour\":[{\"type\":\"contour\",\"colorbar\":{\"outlinewidth\":0,\"ticks\":\"\"},\"colorscale\":[[0.0,\"#0d0887\"],[0.1111111111111111,\"#46039f\"],[0.2222222222222222,\"#7201a8\"],[0.3333333333333333,\"#9c179e\"],[0.4444444444444444,\"#bd3786\"],[0.5555555555555556,\"#d8576b\"],[0.6666666666666666,\"#ed7953\"],[0.7777777777777778,\"#fb9f3a\"],[0.8888888888888888,\"#fdca26\"],[1.0,\"#f0f921\"]]}],\"surface\":[{\"type\":\"surface\",\"colorbar\":{\"outlinewidth\":0,\"ticks\":\"\"},\"colorscale\":[[0.0,\"#0d0887\"],[0.1111111111111111,\"#46039f\"],[0.2222222222222222,\"#7201a8\"],[0.3333333333333333,\"#9c179e\"],[0.4444444444444444,\"#bd3786\"],[0.5555555555555556,\"#d8576b\"],[0.6666666666666666,\"#ed7953\"],[0.7777777777777778,\"#fb9f3a\"],[0.8888888888888888,\"#fdca26\"],[1.0,\"#f0f921\"]]}],\"mesh3d\":[{\"type\":\"mesh3d\",\"colorbar\":{\"outlinewidth\":0,\"ticks\":\"\"}}],\"scatter\":[{\"fillpattern\":{\"fillmode\":\"overlay\",\"size\":10,\"solidity\":0.2},\"type\":\"scatter\"}],\"parcoords\":[{\"type\":\"parcoords\",\"line\":{\"colorbar\":{\"outlinewidth\":0,\"ticks\":\"\"}}}],\"scatterpolargl\":[{\"type\":\"scatterpolargl\",\"marker\":{\"colorbar\":{\"outlinewidth\":0,\"ticks\":\"\"}}}],\"bar\":[{\"error_x\":{\"color\":\"#2a3f5f\"},\"error_y\":{\"color\":\"#2a3f5f\"},\"marker\":{\"line\":{\"color\":\"#E5ECF6\",\"width\":0.5},\"pattern\":{\"fillmode\":\"overlay\",\"size\":10,\"solidity\":0.2}},\"type\":\"bar\"}],\"scattergeo\":[{\"type\":\"scattergeo\",\"marker\":{\"colorbar\":{\"outlinewidth\":0,\"ticks\":\"\"}}}],\"scatterpolar\":[{\"type\":\"scatterpolar\",\"marker\":{\"colorbar\":{\"outlinewidth\":0,\"ticks\":\"\"}}}],\"histogram\":[{\"marker\":{\"pattern\":{\"fillmode\":\"overlay\",\"size\":10,\"solidity\":0.2}},\"type\":\"histogram\"}],\"scattergl\":[{\"type\":\"scattergl\",\"marker\":{\"colorbar\":{\"outlinewidth\":0,\"ticks\":\"\"}}}],\"scatter3d\":[{\"type\":\"scatter3d\",\"line\":{\"colorbar\":{\"outlinewidth\":0,\"ticks\":\"\"}},\"marker\":{\"colorbar\":{\"outlinewidth\":0,\"ticks\":\"\"}}}],\"scattermapbox\":[{\"type\":\"scattermapbox\",\"marker\":{\"colorbar\":{\"outlinewidth\":0,\"ticks\":\"\"}}}],\"scatterternary\":[{\"type\":\"scatterternary\",\"marker\":{\"colorbar\":{\"outlinewidth\":0,\"ticks\":\"\"}}}],\"scattercarpet\":[{\"type\":\"scattercarpet\",\"marker\":{\"colorbar\":{\"outlinewidth\":0,\"ticks\":\"\"}}}],\"carpet\":[{\"aaxis\":{\"endlinecolor\":\"#2a3f5f\",\"gridcolor\":\"white\",\"linecolor\":\"white\",\"minorgridcolor\":\"white\",\"startlinecolor\":\"#2a3f5f\"},\"baxis\":{\"endlinecolor\":\"#2a3f5f\",\"gridcolor\":\"white\",\"linecolor\":\"white\",\"minorgridcolor\":\"white\",\"startlinecolor\":\"#2a3f5f\"},\"type\":\"carpet\"}],\"table\":[{\"cells\":{\"fill\":{\"color\":\"#EBF0F8\"},\"line\":{\"color\":\"white\"}},\"header\":{\"fill\":{\"color\":\"#C8D4E3\"},\"line\":{\"color\":\"white\"}},\"type\":\"table\"}],\"barpolar\":[{\"marker\":{\"line\":{\"color\":\"#E5ECF6\",\"width\":0.5},\"pattern\":{\"fillmode\":\"overlay\",\"size\":10,\"solidity\":0.2}},\"type\":\"barpolar\"}],\"pie\":[{\"automargin\":true,\"type\":\"pie\"}]},\"layout\":{\"autotypenumbers\":\"strict\",\"colorway\":[\"#636efa\",\"#EF553B\",\"#00cc96\",\"#ab63fa\",\"#FFA15A\",\"#19d3f3\",\"#FF6692\",\"#B6E880\",\"#FF97FF\",\"#FECB52\"],\"font\":{\"color\":\"#2a3f5f\"},\"hovermode\":\"closest\",\"hoverlabel\":{\"align\":\"left\"},\"paper_bgcolor\":\"white\",\"plot_bgcolor\":\"#E5ECF6\",\"polar\":{\"bgcolor\":\"#E5ECF6\",\"angularaxis\":{\"gridcolor\":\"white\",\"linecolor\":\"white\",\"ticks\":\"\"},\"radialaxis\":{\"gridcolor\":\"white\",\"linecolor\":\"white\",\"ticks\":\"\"}},\"ternary\":{\"bgcolor\":\"#E5ECF6\",\"aaxis\":{\"gridcolor\":\"white\",\"linecolor\":\"white\",\"ticks\":\"\"},\"baxis\":{\"gridcolor\":\"white\",\"linecolor\":\"white\",\"ticks\":\"\"},\"caxis\":{\"gridcolor\":\"white\",\"linecolor\":\"white\",\"ticks\":\"\"}},\"coloraxis\":{\"colorbar\":{\"outlinewidth\":0,\"ticks\":\"\"}},\"colorscale\":{\"sequential\":[[0.0,\"#0d0887\"],[0.1111111111111111,\"#46039f\"],[0.2222222222222222,\"#7201a8\"],[0.3333333333333333,\"#9c179e\"],[0.4444444444444444,\"#bd3786\"],[0.5555555555555556,\"#d8576b\"],[0.6666666666666666,\"#ed7953\"],[0.7777777777777778,\"#fb9f3a\"],[0.8888888888888888,\"#fdca26\"],[1.0,\"#f0f921\"]],\"sequentialminus\":[[0.0,\"#0d0887\"],[0.1111111111111111,\"#46039f\"],[0.2222222222222222,\"#7201a8\"],[0.3333333333333333,\"#9c179e\"],[0.4444444444444444,\"#bd3786\"],[0.5555555555555556,\"#d8576b\"],[0.6666666666666666,\"#ed7953\"],[0.7777777777777778,\"#fb9f3a\"],[0.8888888888888888,\"#fdca26\"],[1.0,\"#f0f921\"]],\"diverging\":[[0,\"#8e0152\"],[0.1,\"#c51b7d\"],[0.2,\"#de77ae\"],[0.3,\"#f1b6da\"],[0.4,\"#fde0ef\"],[0.5,\"#f7f7f7\"],[0.6,\"#e6f5d0\"],[0.7,\"#b8e186\"],[0.8,\"#7fbc41\"],[0.9,\"#4d9221\"],[1,\"#276419\"]]},\"xaxis\":{\"gridcolor\":\"white\",\"linecolor\":\"white\",\"ticks\":\"\",\"title\":{\"standoff\":15},\"zerolinecolor\":\"white\",\"automargin\":true,\"zerolinewidth\":2},\"yaxis\":{\"gridcolor\":\"white\",\"linecolor\":\"white\",\"ticks\":\"\",\"title\":{\"standoff\":15},\"zerolinecolor\":\"white\",\"automargin\":true,\"zerolinewidth\":2},\"scene\":{\"xaxis\":{\"backgroundcolor\":\"#E5ECF6\",\"gridcolor\":\"white\",\"linecolor\":\"white\",\"showbackground\":true,\"ticks\":\"\",\"zerolinecolor\":\"white\",\"gridwidth\":2},\"yaxis\":{\"backgroundcolor\":\"#E5ECF6\",\"gridcolor\":\"white\",\"linecolor\":\"white\",\"showbackground\":true,\"ticks\":\"\",\"zerolinecolor\":\"white\",\"gridwidth\":2},\"zaxis\":{\"backgroundcolor\":\"#E5ECF6\",\"gridcolor\":\"white\",\"linecolor\":\"white\",\"showbackground\":true,\"ticks\":\"\",\"zerolinecolor\":\"white\",\"gridwidth\":2}},\"shapedefaults\":{\"line\":{\"color\":\"#2a3f5f\"}},\"annotationdefaults\":{\"arrowcolor\":\"#2a3f5f\",\"arrowhead\":0,\"arrowwidth\":1},\"geo\":{\"bgcolor\":\"white\",\"landcolor\":\"#E5ECF6\",\"subunitcolor\":\"white\",\"showland\":true,\"showlakes\":true,\"lakecolor\":\"white\"},\"title\":{\"x\":0.05},\"mapbox\":{\"style\":\"light\"}}},\"xaxis\":{\"anchor\":\"y\",\"domain\":[0.0,1.0],\"title\":{\"text\":\"%count\"}},\"yaxis\":{\"anchor\":\"x\",\"domain\":[0.0,1.0],\"title\":{\"text\":\"Course\"}},\"legend\":{\"title\":{\"text\":\"Target\"},\"tracegroupgap\":0},\"margin\":{\"t\":60},\"barmode\":\"group\",\"barnorm\":\"percent\",\"height\":1600,\"width\":1200,\"title\":{\"text\":\"Courses\"}},                        {\"responsive\": true}                    ).then(function(){\n",
              "                            \n",
              "var gd = document.getElementById('d6ea0681-4198-49a7-b6ce-b429a7fd0c19');\n",
              "var x = new MutationObserver(function (mutations, observer) {{\n",
              "        var display = window.getComputedStyle(gd).display;\n",
              "        if (!display || display === 'none') {{\n",
              "            console.log([gd, 'removed!']);\n",
              "            Plotly.purge(gd);\n",
              "            observer.disconnect();\n",
              "        }}\n",
              "}});\n",
              "\n",
              "// Listen for the removal of the full notebook cells\n",
              "var notebookContainer = gd.closest('#notebook-container');\n",
              "if (notebookContainer) {{\n",
              "    x.observe(notebookContainer, {childList: true});\n",
              "}}\n",
              "\n",
              "// Listen for the clearing of the current output cell\n",
              "var outputEl = gd.closest('.output');\n",
              "if (outputEl) {{\n",
              "    x.observe(outputEl, {childList: true});\n",
              "}}\n",
              "\n",
              "                        })                };                            </script>        </div>\n",
              "</body>\n",
              "</html>"
            ]
          },
          "metadata": {}
        }
      ],
      "source": [
        "# Histogram plot for students courses based on traget status\n",
        "fig = px.histogram(data_viz, y='Course', color = 'Target',\n",
        "                   width = 1200, height = 1600,\n",
        "                   text_auto='.1f', color_discrete_sequence=px.colors.qualitative.Dark2,\n",
        "                   barnorm = 'percent', barmode = 'group')\n",
        "\n",
        "# Update layout\n",
        "fig.update_layout(title='Courses', xaxis_title = '%count')\n",
        "\n",
        "fig.show()"
      ]
    },
    {
      "cell_type": "markdown",
      "metadata": {
        "id": "PyLT6F6i1kFi"
      },
      "source": [
        "**Observation**\n",
        "\n",
        "Majority of the students are enrolled in Nursing and it also had the lowest droput rate of about **15.4%**.\n",
        "\n",
        "The course that had the highest dropout rate was **Biofuel Production Technologies (66.7%)** which is also had the least number of enrolled students followed by **Equiniculture (55.3%)**.\n"
      ]
    },
    {
      "cell_type": "markdown",
      "metadata": {
        "id": "MouBuYXm876G"
      },
      "source": [
        "## Martial status\n"
      ]
    },
    {
      "cell_type": "code",
      "execution_count": 20,
      "metadata": {
        "id": "3blTUKuI9lmh"
      },
      "outputs": [],
      "source": [
        "# Converting back to categorical\n",
        "data_viz['Marital status'] = data_viz['Marital status'].map({1:'Single', 2: 'Married',\n",
        "                                                             3: 'Widower', 4: 'Divorced',\n",
        "                                                             5: 'Facto union', 6: 'Legally Separated'})"
      ]
    },
    {
      "cell_type": "code",
      "source": [
        "# Bar chart for Marital status\n",
        "count = data_viz['Marital status'].value_counts()\n",
        "fig = px.bar(count,  orientation= 'h', text_auto=True)\n",
        "\n",
        "fig.update_traces(marker=dict(color=['red', 'orange']))\n",
        "fig.update_layout(height=500, width=800,\n",
        "                  title='Total Marital status of Students',\n",
        "                  showlegend = False,\n",
        "                  font=dict(size=14),\n",
        "                  xaxis_title = 'Total',\n",
        "                  yaxis_title = 'Marital status')\n",
        "fig.show()"
      ],
      "metadata": {
        "colab": {
          "base_uri": "https://localhost:8080/",
          "height": 517
        },
        "id": "OjszWt8_q7OK",
        "outputId": "15a22571-352d-49f4-ae53-feab2ed62b49"
      },
      "execution_count": 21,
      "outputs": [
        {
          "output_type": "display_data",
          "data": {
            "text/html": [
              "<html>\n",
              "<head><meta charset=\"utf-8\" /></head>\n",
              "<body>\n",
              "    <div>            <script src=\"https://cdnjs.cloudflare.com/ajax/libs/mathjax/2.7.5/MathJax.js?config=TeX-AMS-MML_SVG\"></script><script type=\"text/javascript\">if (window.MathJax && window.MathJax.Hub && window.MathJax.Hub.Config) {window.MathJax.Hub.Config({SVG: {font: \"STIX-Web\"}});}</script>                <script type=\"text/javascript\">window.PlotlyConfig = {MathJaxConfig: 'local'};</script>\n",
              "        <script charset=\"utf-8\" src=\"https://cdn.plot.ly/plotly-2.35.2.min.js\"></script>                <div id=\"4fb61804-9556-4487-a2aa-5511084e5375\" class=\"plotly-graph-div\" style=\"height:500px; width:800px;\"></div>            <script type=\"text/javascript\">                                    window.PLOTLYENV=window.PLOTLYENV || {};                                    if (document.getElementById(\"4fb61804-9556-4487-a2aa-5511084e5375\")) {                    Plotly.newPlot(                        \"4fb61804-9556-4487-a2aa-5511084e5375\",                        [{\"alignmentgroup\":\"True\",\"hovertemplate\":\"variable=count\\u003cbr\\u003evalue=%{x}\\u003cbr\\u003eMarital status=%{y}\\u003cextra\\u003e\\u003c\\u002fextra\\u003e\",\"legendgroup\":\"count\",\"marker\":{\"color\":[\"red\",\"orange\"],\"pattern\":{\"shape\":\"\"}},\"name\":\"count\",\"offsetgroup\":\"count\",\"orientation\":\"h\",\"showlegend\":true,\"textposition\":\"auto\",\"texttemplate\":\"%{x}\",\"x\":[3919,379,91,25,6,4],\"xaxis\":\"x\",\"y\":[\"Single\",\"Married\",\"Divorced\",\"Facto union\",\"Legally Separated\",\"Widower\"],\"yaxis\":\"y\",\"type\":\"bar\"}],                        {\"template\":{\"data\":{\"histogram2dcontour\":[{\"type\":\"histogram2dcontour\",\"colorbar\":{\"outlinewidth\":0,\"ticks\":\"\"},\"colorscale\":[[0.0,\"#0d0887\"],[0.1111111111111111,\"#46039f\"],[0.2222222222222222,\"#7201a8\"],[0.3333333333333333,\"#9c179e\"],[0.4444444444444444,\"#bd3786\"],[0.5555555555555556,\"#d8576b\"],[0.6666666666666666,\"#ed7953\"],[0.7777777777777778,\"#fb9f3a\"],[0.8888888888888888,\"#fdca26\"],[1.0,\"#f0f921\"]]}],\"choropleth\":[{\"type\":\"choropleth\",\"colorbar\":{\"outlinewidth\":0,\"ticks\":\"\"}}],\"histogram2d\":[{\"type\":\"histogram2d\",\"colorbar\":{\"outlinewidth\":0,\"ticks\":\"\"},\"colorscale\":[[0.0,\"#0d0887\"],[0.1111111111111111,\"#46039f\"],[0.2222222222222222,\"#7201a8\"],[0.3333333333333333,\"#9c179e\"],[0.4444444444444444,\"#bd3786\"],[0.5555555555555556,\"#d8576b\"],[0.6666666666666666,\"#ed7953\"],[0.7777777777777778,\"#fb9f3a\"],[0.8888888888888888,\"#fdca26\"],[1.0,\"#f0f921\"]]}],\"heatmap\":[{\"type\":\"heatmap\",\"colorbar\":{\"outlinewidth\":0,\"ticks\":\"\"},\"colorscale\":[[0.0,\"#0d0887\"],[0.1111111111111111,\"#46039f\"],[0.2222222222222222,\"#7201a8\"],[0.3333333333333333,\"#9c179e\"],[0.4444444444444444,\"#bd3786\"],[0.5555555555555556,\"#d8576b\"],[0.6666666666666666,\"#ed7953\"],[0.7777777777777778,\"#fb9f3a\"],[0.8888888888888888,\"#fdca26\"],[1.0,\"#f0f921\"]]}],\"heatmapgl\":[{\"type\":\"heatmapgl\",\"colorbar\":{\"outlinewidth\":0,\"ticks\":\"\"},\"colorscale\":[[0.0,\"#0d0887\"],[0.1111111111111111,\"#46039f\"],[0.2222222222222222,\"#7201a8\"],[0.3333333333333333,\"#9c179e\"],[0.4444444444444444,\"#bd3786\"],[0.5555555555555556,\"#d8576b\"],[0.6666666666666666,\"#ed7953\"],[0.7777777777777778,\"#fb9f3a\"],[0.8888888888888888,\"#fdca26\"],[1.0,\"#f0f921\"]]}],\"contourcarpet\":[{\"type\":\"contourcarpet\",\"colorbar\":{\"outlinewidth\":0,\"ticks\":\"\"}}],\"contour\":[{\"type\":\"contour\",\"colorbar\":{\"outlinewidth\":0,\"ticks\":\"\"},\"colorscale\":[[0.0,\"#0d0887\"],[0.1111111111111111,\"#46039f\"],[0.2222222222222222,\"#7201a8\"],[0.3333333333333333,\"#9c179e\"],[0.4444444444444444,\"#bd3786\"],[0.5555555555555556,\"#d8576b\"],[0.6666666666666666,\"#ed7953\"],[0.7777777777777778,\"#fb9f3a\"],[0.8888888888888888,\"#fdca26\"],[1.0,\"#f0f921\"]]}],\"surface\":[{\"type\":\"surface\",\"colorbar\":{\"outlinewidth\":0,\"ticks\":\"\"},\"colorscale\":[[0.0,\"#0d0887\"],[0.1111111111111111,\"#46039f\"],[0.2222222222222222,\"#7201a8\"],[0.3333333333333333,\"#9c179e\"],[0.4444444444444444,\"#bd3786\"],[0.5555555555555556,\"#d8576b\"],[0.6666666666666666,\"#ed7953\"],[0.7777777777777778,\"#fb9f3a\"],[0.8888888888888888,\"#fdca26\"],[1.0,\"#f0f921\"]]}],\"mesh3d\":[{\"type\":\"mesh3d\",\"colorbar\":{\"outlinewidth\":0,\"ticks\":\"\"}}],\"scatter\":[{\"fillpattern\":{\"fillmode\":\"overlay\",\"size\":10,\"solidity\":0.2},\"type\":\"scatter\"}],\"parcoords\":[{\"type\":\"parcoords\",\"line\":{\"colorbar\":{\"outlinewidth\":0,\"ticks\":\"\"}}}],\"scatterpolargl\":[{\"type\":\"scatterpolargl\",\"marker\":{\"colorbar\":{\"outlinewidth\":0,\"ticks\":\"\"}}}],\"bar\":[{\"error_x\":{\"color\":\"#2a3f5f\"},\"error_y\":{\"color\":\"#2a3f5f\"},\"marker\":{\"line\":{\"color\":\"#E5ECF6\",\"width\":0.5},\"pattern\":{\"fillmode\":\"overlay\",\"size\":10,\"solidity\":0.2}},\"type\":\"bar\"}],\"scattergeo\":[{\"type\":\"scattergeo\",\"marker\":{\"colorbar\":{\"outlinewidth\":0,\"ticks\":\"\"}}}],\"scatterpolar\":[{\"type\":\"scatterpolar\",\"marker\":{\"colorbar\":{\"outlinewidth\":0,\"ticks\":\"\"}}}],\"histogram\":[{\"marker\":{\"pattern\":{\"fillmode\":\"overlay\",\"size\":10,\"solidity\":0.2}},\"type\":\"histogram\"}],\"scattergl\":[{\"type\":\"scattergl\",\"marker\":{\"colorbar\":{\"outlinewidth\":0,\"ticks\":\"\"}}}],\"scatter3d\":[{\"type\":\"scatter3d\",\"line\":{\"colorbar\":{\"outlinewidth\":0,\"ticks\":\"\"}},\"marker\":{\"colorbar\":{\"outlinewidth\":0,\"ticks\":\"\"}}}],\"scattermapbox\":[{\"type\":\"scattermapbox\",\"marker\":{\"colorbar\":{\"outlinewidth\":0,\"ticks\":\"\"}}}],\"scatterternary\":[{\"type\":\"scatterternary\",\"marker\":{\"colorbar\":{\"outlinewidth\":0,\"ticks\":\"\"}}}],\"scattercarpet\":[{\"type\":\"scattercarpet\",\"marker\":{\"colorbar\":{\"outlinewidth\":0,\"ticks\":\"\"}}}],\"carpet\":[{\"aaxis\":{\"endlinecolor\":\"#2a3f5f\",\"gridcolor\":\"white\",\"linecolor\":\"white\",\"minorgridcolor\":\"white\",\"startlinecolor\":\"#2a3f5f\"},\"baxis\":{\"endlinecolor\":\"#2a3f5f\",\"gridcolor\":\"white\",\"linecolor\":\"white\",\"minorgridcolor\":\"white\",\"startlinecolor\":\"#2a3f5f\"},\"type\":\"carpet\"}],\"table\":[{\"cells\":{\"fill\":{\"color\":\"#EBF0F8\"},\"line\":{\"color\":\"white\"}},\"header\":{\"fill\":{\"color\":\"#C8D4E3\"},\"line\":{\"color\":\"white\"}},\"type\":\"table\"}],\"barpolar\":[{\"marker\":{\"line\":{\"color\":\"#E5ECF6\",\"width\":0.5},\"pattern\":{\"fillmode\":\"overlay\",\"size\":10,\"solidity\":0.2}},\"type\":\"barpolar\"}],\"pie\":[{\"automargin\":true,\"type\":\"pie\"}]},\"layout\":{\"autotypenumbers\":\"strict\",\"colorway\":[\"#636efa\",\"#EF553B\",\"#00cc96\",\"#ab63fa\",\"#FFA15A\",\"#19d3f3\",\"#FF6692\",\"#B6E880\",\"#FF97FF\",\"#FECB52\"],\"font\":{\"color\":\"#2a3f5f\"},\"hovermode\":\"closest\",\"hoverlabel\":{\"align\":\"left\"},\"paper_bgcolor\":\"white\",\"plot_bgcolor\":\"#E5ECF6\",\"polar\":{\"bgcolor\":\"#E5ECF6\",\"angularaxis\":{\"gridcolor\":\"white\",\"linecolor\":\"white\",\"ticks\":\"\"},\"radialaxis\":{\"gridcolor\":\"white\",\"linecolor\":\"white\",\"ticks\":\"\"}},\"ternary\":{\"bgcolor\":\"#E5ECF6\",\"aaxis\":{\"gridcolor\":\"white\",\"linecolor\":\"white\",\"ticks\":\"\"},\"baxis\":{\"gridcolor\":\"white\",\"linecolor\":\"white\",\"ticks\":\"\"},\"caxis\":{\"gridcolor\":\"white\",\"linecolor\":\"white\",\"ticks\":\"\"}},\"coloraxis\":{\"colorbar\":{\"outlinewidth\":0,\"ticks\":\"\"}},\"colorscale\":{\"sequential\":[[0.0,\"#0d0887\"],[0.1111111111111111,\"#46039f\"],[0.2222222222222222,\"#7201a8\"],[0.3333333333333333,\"#9c179e\"],[0.4444444444444444,\"#bd3786\"],[0.5555555555555556,\"#d8576b\"],[0.6666666666666666,\"#ed7953\"],[0.7777777777777778,\"#fb9f3a\"],[0.8888888888888888,\"#fdca26\"],[1.0,\"#f0f921\"]],\"sequentialminus\":[[0.0,\"#0d0887\"],[0.1111111111111111,\"#46039f\"],[0.2222222222222222,\"#7201a8\"],[0.3333333333333333,\"#9c179e\"],[0.4444444444444444,\"#bd3786\"],[0.5555555555555556,\"#d8576b\"],[0.6666666666666666,\"#ed7953\"],[0.7777777777777778,\"#fb9f3a\"],[0.8888888888888888,\"#fdca26\"],[1.0,\"#f0f921\"]],\"diverging\":[[0,\"#8e0152\"],[0.1,\"#c51b7d\"],[0.2,\"#de77ae\"],[0.3,\"#f1b6da\"],[0.4,\"#fde0ef\"],[0.5,\"#f7f7f7\"],[0.6,\"#e6f5d0\"],[0.7,\"#b8e186\"],[0.8,\"#7fbc41\"],[0.9,\"#4d9221\"],[1,\"#276419\"]]},\"xaxis\":{\"gridcolor\":\"white\",\"linecolor\":\"white\",\"ticks\":\"\",\"title\":{\"standoff\":15},\"zerolinecolor\":\"white\",\"automargin\":true,\"zerolinewidth\":2},\"yaxis\":{\"gridcolor\":\"white\",\"linecolor\":\"white\",\"ticks\":\"\",\"title\":{\"standoff\":15},\"zerolinecolor\":\"white\",\"automargin\":true,\"zerolinewidth\":2},\"scene\":{\"xaxis\":{\"backgroundcolor\":\"#E5ECF6\",\"gridcolor\":\"white\",\"linecolor\":\"white\",\"showbackground\":true,\"ticks\":\"\",\"zerolinecolor\":\"white\",\"gridwidth\":2},\"yaxis\":{\"backgroundcolor\":\"#E5ECF6\",\"gridcolor\":\"white\",\"linecolor\":\"white\",\"showbackground\":true,\"ticks\":\"\",\"zerolinecolor\":\"white\",\"gridwidth\":2},\"zaxis\":{\"backgroundcolor\":\"#E5ECF6\",\"gridcolor\":\"white\",\"linecolor\":\"white\",\"showbackground\":true,\"ticks\":\"\",\"zerolinecolor\":\"white\",\"gridwidth\":2}},\"shapedefaults\":{\"line\":{\"color\":\"#2a3f5f\"}},\"annotationdefaults\":{\"arrowcolor\":\"#2a3f5f\",\"arrowhead\":0,\"arrowwidth\":1},\"geo\":{\"bgcolor\":\"white\",\"landcolor\":\"#E5ECF6\",\"subunitcolor\":\"white\",\"showland\":true,\"showlakes\":true,\"lakecolor\":\"white\"},\"title\":{\"x\":0.05},\"mapbox\":{\"style\":\"light\"}}},\"xaxis\":{\"anchor\":\"y\",\"domain\":[0.0,1.0],\"title\":{\"text\":\"Total\"}},\"yaxis\":{\"anchor\":\"x\",\"domain\":[0.0,1.0],\"title\":{\"text\":\"Marital status\"}},\"legend\":{\"title\":{\"text\":\"variable\"},\"tracegroupgap\":0},\"margin\":{\"t\":60},\"barmode\":\"relative\",\"font\":{\"size\":14},\"height\":500,\"width\":800,\"title\":{\"text\":\"Total Marital status of Students\"},\"showlegend\":false},                        {\"responsive\": true}                    ).then(function(){\n",
              "                            \n",
              "var gd = document.getElementById('4fb61804-9556-4487-a2aa-5511084e5375');\n",
              "var x = new MutationObserver(function (mutations, observer) {{\n",
              "        var display = window.getComputedStyle(gd).display;\n",
              "        if (!display || display === 'none') {{\n",
              "            console.log([gd, 'removed!']);\n",
              "            Plotly.purge(gd);\n",
              "            observer.disconnect();\n",
              "        }}\n",
              "}});\n",
              "\n",
              "// Listen for the removal of the full notebook cells\n",
              "var notebookContainer = gd.closest('#notebook-container');\n",
              "if (notebookContainer) {{\n",
              "    x.observe(notebookContainer, {childList: true});\n",
              "}}\n",
              "\n",
              "// Listen for the clearing of the current output cell\n",
              "var outputEl = gd.closest('.output');\n",
              "if (outputEl) {{\n",
              "    x.observe(outputEl, {childList: true});\n",
              "}}\n",
              "\n",
              "                        })                };                            </script>        </div>\n",
              "</body>\n",
              "</html>"
            ]
          },
          "metadata": {}
        }
      ]
    },
    {
      "cell_type": "code",
      "source": [
        "fig = px.histogram(data_viz, x='Marital status', color = 'Target',\n",
        "                   width = 1200, height = 500,\n",
        "                   text_auto='.1f', color_discrete_sequence=px.colors.qualitative.Dark2,\n",
        "                   barnorm = 'percent', barmode = 'group')\n",
        "\n",
        "fig.update_layout(title='Marital status', yaxis_title = '%count')\n",
        "\n",
        "fig.show()"
      ],
      "metadata": {
        "colab": {
          "base_uri": "https://localhost:8080/",
          "height": 537
        },
        "id": "zQXgFy6SgEst",
        "outputId": "200cf5a8-21fc-46f7-ada5-758a427b9488"
      },
      "execution_count": 22,
      "outputs": [
        {
          "output_type": "display_data",
          "data": {
            "text/html": [
              "<html>\n",
              "<head><meta charset=\"utf-8\" /></head>\n",
              "<body>\n",
              "    <div>            <script src=\"https://cdnjs.cloudflare.com/ajax/libs/mathjax/2.7.5/MathJax.js?config=TeX-AMS-MML_SVG\"></script><script type=\"text/javascript\">if (window.MathJax && window.MathJax.Hub && window.MathJax.Hub.Config) {window.MathJax.Hub.Config({SVG: {font: \"STIX-Web\"}});}</script>                <script type=\"text/javascript\">window.PlotlyConfig = {MathJaxConfig: 'local'};</script>\n",
              "        <script charset=\"utf-8\" src=\"https://cdn.plot.ly/plotly-2.35.2.min.js\"></script>                <div id=\"c165b5a6-aeb8-4a1f-ac66-5b974b4c77db\" class=\"plotly-graph-div\" style=\"height:500px; width:1200px;\"></div>            <script type=\"text/javascript\">                                    window.PLOTLYENV=window.PLOTLYENV || {};                                    if (document.getElementById(\"c165b5a6-aeb8-4a1f-ac66-5b974b4c77db\")) {                    Plotly.newPlot(                        \"c165b5a6-aeb8-4a1f-ac66-5b974b4c77db\",                        [{\"alignmentgroup\":\"True\",\"bingroup\":\"x\",\"hovertemplate\":\"Target=Dropout\\u003cbr\\u003eMarital status=%{x}\\u003cbr\\u003ecount (normalized as percent)=%{y}\\u003cextra\\u003e\\u003c\\u002fextra\\u003e\",\"legendgroup\":\"Dropout\",\"marker\":{\"color\":\"rgb(27,158,119)\",\"pattern\":{\"shape\":\"\"}},\"name\":\"Dropout\",\"offsetgroup\":\"Dropout\",\"orientation\":\"v\",\"showlegend\":true,\"texttemplate\":\"%{value:.1f}\",\"x\":[\"Single\",\"Single\",\"Single\",\"Single\",\"Single\",\"Single\",\"Single\",\"Single\",\"Single\",\"Single\",\"Single\",\"Single\",\"Single\",\"Single\",\"Married\",\"Single\",\"Divorced\",\"Single\",\"Single\",\"Single\",\"Single\",\"Single\",\"Single\",\"Single\",\"Single\",\"Single\",\"Single\",\"Married\",\"Single\",\"Single\",\"Married\",\"Single\",\"Single\",\"Single\",\"Single\",\"Single\",\"Single\",\"Single\",\"Single\",\"Single\",\"Single\",\"Single\",\"Single\",\"Single\",\"Single\",\"Single\",\"Single\",\"Single\",\"Single\",\"Single\",\"Single\",\"Single\",\"Single\",\"Single\",\"Single\",\"Single\",\"Single\",\"Single\",\"Single\",\"Single\",\"Single\",\"Single\",\"Single\",\"Single\",\"Single\",\"Single\",\"Single\",\"Single\",\"Single\",\"Single\",\"Single\",\"Single\",\"Single\",\"Single\",\"Single\",\"Single\",\"Married\",\"Single\",\"Single\",\"Single\",\"Single\",\"Single\",\"Married\",\"Single\",\"Single\",\"Single\",\"Single\",\"Single\",\"Single\",\"Single\",\"Single\",\"Single\",\"Single\",\"Single\",\"Single\",\"Single\",\"Single\",\"Single\",\"Single\",\"Single\",\"Married\",\"Single\",\"Divorced\",\"Single\",\"Single\",\"Single\",\"Single\",\"Divorced\",\"Single\",\"Single\",\"Single\",\"Widower\",\"Single\",\"Single\",\"Single\",\"Single\",\"Single\",\"Single\",\"Single\",\"Single\",\"Single\",\"Single\",\"Single\",\"Single\",\"Single\",\"Single\",\"Single\",\"Single\",\"Single\",\"Single\",\"Married\",\"Single\",\"Married\",\"Married\",\"Single\",\"Divorced\",\"Single\",\"Single\",\"Single\",\"Single\",\"Single\",\"Single\",\"Single\",\"Single\",\"Single\",\"Single\",\"Single\",\"Single\",\"Single\",\"Single\",\"Single\",\"Single\",\"Single\",\"Single\",\"Single\",\"Single\",\"Married\",\"Single\",\"Single\",\"Single\",\"Divorced\",\"Single\",\"Single\",\"Single\",\"Single\",\"Single\",\"Single\",\"Single\",\"Single\",\"Single\",\"Single\",\"Married\",\"Single\",\"Single\",\"Single\",\"Single\",\"Single\",\"Single\",\"Married\",\"Single\",\"Divorced\",\"Single\",\"Divorced\",\"Divorced\",\"Single\",\"Single\",\"Single\",\"Married\",\"Single\",\"Married\",\"Facto union\",\"Single\",\"Married\",\"Single\",\"Single\",\"Divorced\",\"Single\",\"Single\",\"Single\",\"Single\",\"Single\",\"Divorced\",\"Single\",\"Single\",\"Single\",\"Single\",\"Single\",\"Married\",\"Single\",\"Single\",\"Married\",\"Single\",\"Single\",\"Single\",\"Single\",\"Single\",\"Single\",\"Single\",\"Single\",\"Single\",\"Single\",\"Single\",\"Single\",\"Single\",\"Single\",\"Single\",\"Single\",\"Married\",\"Married\",\"Single\",\"Single\",\"Single\",\"Single\",\"Single\",\"Single\",\"Single\",\"Single\",\"Single\",\"Single\",\"Single\",\"Single\",\"Single\",\"Single\",\"Single\",\"Single\",\"Single\",\"Married\",\"Single\",\"Single\",\"Single\",\"Single\",\"Single\",\"Single\",\"Single\",\"Married\",\"Single\",\"Single\",\"Single\",\"Single\",\"Married\",\"Single\",\"Married\",\"Married\",\"Single\",\"Single\",\"Single\",\"Single\",\"Married\",\"Single\",\"Divorced\",\"Single\",\"Single\",\"Single\",\"Married\",\"Single\",\"Single\",\"Single\",\"Single\",\"Single\",\"Married\",\"Single\",\"Married\",\"Divorced\",\"Married\",\"Single\",\"Single\",\"Single\",\"Single\",\"Single\",\"Single\",\"Single\",\"Single\",\"Single\",\"Single\",\"Single\",\"Single\",\"Single\",\"Single\",\"Single\",\"Single\",\"Single\",\"Single\",\"Single\",\"Single\",\"Single\",\"Single\",\"Single\",\"Single\",\"Single\",\"Single\",\"Single\",\"Single\",\"Single\",\"Single\",\"Single\",\"Single\",\"Single\",\"Single\",\"Single\",\"Single\",\"Single\",\"Single\",\"Single\",\"Single\",\"Single\",\"Single\",\"Single\",\"Single\",\"Single\",\"Single\",\"Married\",\"Single\",\"Single\",\"Single\",\"Divorced\",\"Legally Separated\",\"Single\",\"Single\",\"Single\",\"Single\",\"Single\",\"Married\",\"Single\",\"Single\",\"Married\",\"Single\",\"Single\",\"Married\",\"Single\",\"Single\",\"Single\",\"Single\",\"Married\",\"Married\",\"Married\",\"Single\",\"Single\",\"Divorced\",\"Single\",\"Single\",\"Single\",\"Married\",\"Married\",\"Married\",\"Single\",\"Single\",\"Single\",\"Married\",\"Married\",\"Single\",\"Single\",\"Single\",\"Single\",\"Single\",\"Single\",\"Single\",\"Single\",\"Single\",\"Single\",\"Single\",\"Single\",\"Single\",\"Single\",\"Single\",\"Single\",\"Single\",\"Single\",\"Single\",\"Single\",\"Single\",\"Single\",\"Single\",\"Single\",\"Single\",\"Single\",\"Single\",\"Single\",\"Single\",\"Single\",\"Single\",\"Single\",\"Single\",\"Single\",\"Single\",\"Single\",\"Single\",\"Single\",\"Single\",\"Single\",\"Single\",\"Single\",\"Single\",\"Single\",\"Single\",\"Single\",\"Single\",\"Single\",\"Single\",\"Single\",\"Single\",\"Single\",\"Single\",\"Married\",\"Single\",\"Single\",\"Single\",\"Single\",\"Single\",\"Single\",\"Single\",\"Single\",\"Single\",\"Single\",\"Single\",\"Single\",\"Single\",\"Single\",\"Single\",\"Single\",\"Single\",\"Single\",\"Single\",\"Married\",\"Single\",\"Married\",\"Divorced\",\"Single\",\"Single\",\"Married\",\"Married\",\"Facto union\",\"Single\",\"Single\",\"Single\",\"Single\",\"Legally Separated\",\"Facto union\",\"Married\",\"Single\",\"Single\",\"Single\",\"Single\",\"Single\",\"Single\",\"Single\",\"Single\",\"Single\",\"Single\",\"Single\",\"Single\",\"Married\",\"Single\",\"Single\",\"Married\",\"Married\",\"Single\",\"Single\",\"Single\",\"Single\",\"Single\",\"Married\",\"Single\",\"Single\",\"Single\",\"Single\",\"Single\",\"Single\",\"Single\",\"Single\",\"Single\",\"Single\",\"Single\",\"Single\",\"Single\",\"Single\",\"Single\",\"Single\",\"Single\",\"Single\",\"Single\",\"Single\",\"Single\",\"Single\",\"Single\",\"Single\",\"Single\",\"Single\",\"Married\",\"Single\",\"Single\",\"Married\",\"Single\",\"Married\",\"Single\",\"Single\",\"Single\",\"Single\",\"Single\",\"Single\",\"Single\",\"Single\",\"Single\",\"Single\",\"Single\",\"Single\",\"Single\",\"Single\",\"Single\",\"Single\",\"Married\",\"Single\",\"Single\",\"Married\",\"Single\",\"Single\",\"Single\",\"Single\",\"Single\",\"Single\",\"Single\",\"Single\",\"Single\",\"Single\",\"Single\",\"Single\",\"Married\",\"Single\",\"Single\",\"Single\",\"Single\",\"Single\",\"Single\",\"Single\",\"Single\",\"Single\",\"Single\",\"Single\",\"Married\",\"Single\",\"Single\",\"Single\",\"Divorced\",\"Married\",\"Single\",\"Single\",\"Single\",\"Single\",\"Single\",\"Single\",\"Single\",\"Single\",\"Single\",\"Single\",\"Single\",\"Single\",\"Single\",\"Married\",\"Single\",\"Single\",\"Married\",\"Single\",\"Single\",\"Single\",\"Single\",\"Single\",\"Single\",\"Single\",\"Single\",\"Single\",\"Single\",\"Single\",\"Single\",\"Single\",\"Single\",\"Single\",\"Single\",\"Single\",\"Facto union\",\"Married\",\"Married\",\"Single\",\"Single\",\"Single\",\"Divorced\",\"Married\",\"Single\",\"Married\",\"Single\",\"Single\",\"Single\",\"Single\",\"Single\",\"Single\",\"Single\",\"Single\",\"Single\",\"Single\",\"Single\",\"Single\",\"Single\",\"Single\",\"Single\",\"Single\",\"Single\",\"Single\",\"Single\",\"Single\",\"Single\",\"Single\",\"Single\",\"Single\",\"Single\",\"Single\",\"Single\",\"Single\",\"Single\",\"Single\",\"Single\",\"Single\",\"Single\",\"Single\",\"Single\",\"Single\",\"Single\",\"Single\",\"Married\",\"Single\",\"Single\",\"Single\",\"Single\",\"Single\",\"Single\",\"Single\",\"Married\",\"Single\",\"Single\",\"Single\",\"Single\",\"Single\",\"Single\",\"Single\",\"Single\",\"Single\",\"Single\",\"Single\",\"Single\",\"Single\",\"Single\",\"Single\",\"Single\",\"Single\",\"Single\",\"Single\",\"Single\",\"Married\",\"Married\",\"Married\",\"Married\",\"Married\",\"Single\",\"Married\",\"Single\",\"Married\",\"Single\",\"Single\",\"Single\",\"Single\",\"Single\",\"Single\",\"Single\",\"Single\",\"Divorced\",\"Single\",\"Single\",\"Single\",\"Single\",\"Single\",\"Single\",\"Divorced\",\"Married\",\"Married\",\"Married\",\"Married\",\"Single\",\"Single\",\"Single\",\"Single\",\"Single\",\"Single\",\"Single\",\"Single\",\"Single\",\"Single\",\"Single\",\"Single\",\"Single\",\"Single\",\"Single\",\"Single\",\"Single\",\"Single\",\"Single\",\"Married\",\"Single\",\"Single\",\"Single\",\"Divorced\",\"Single\",\"Single\",\"Divorced\",\"Single\",\"Married\",\"Single\",\"Married\",\"Single\",\"Single\",\"Single\",\"Married\",\"Single\",\"Single\",\"Single\",\"Single\",\"Single\",\"Single\",\"Single\",\"Single\",\"Single\",\"Single\",\"Single\",\"Married\",\"Single\",\"Single\",\"Single\",\"Single\",\"Single\",\"Single\",\"Single\",\"Married\",\"Single\",\"Single\",\"Single\",\"Married\",\"Single\",\"Single\",\"Married\",\"Married\",\"Single\",\"Single\",\"Married\",\"Single\",\"Married\",\"Divorced\",\"Single\",\"Single\",\"Single\",\"Single\",\"Single\",\"Single\",\"Single\",\"Single\",\"Single\",\"Single\",\"Single\",\"Single\",\"Single\",\"Single\",\"Single\",\"Single\",\"Married\",\"Single\",\"Single\",\"Single\",\"Single\",\"Single\",\"Single\",\"Single\",\"Single\",\"Single\",\"Single\",\"Single\",\"Single\",\"Married\",\"Single\",\"Single\",\"Single\",\"Single\",\"Single\",\"Single\",\"Single\",\"Single\",\"Single\",\"Single\",\"Single\",\"Married\",\"Single\",\"Single\",\"Single\",\"Single\",\"Single\",\"Single\",\"Single\",\"Married\",\"Single\",\"Single\",\"Married\",\"Single\",\"Single\",\"Married\",\"Married\",\"Single\",\"Single\",\"Married\",\"Married\",\"Single\",\"Single\",\"Single\",\"Single\",\"Single\",\"Single\",\"Single\",\"Single\",\"Married\",\"Single\",\"Single\",\"Single\",\"Single\",\"Single\",\"Single\",\"Single\",\"Single\",\"Single\",\"Single\",\"Single\",\"Married\",\"Married\",\"Single\",\"Married\",\"Single\",\"Single\",\"Single\",\"Single\",\"Legally Separated\",\"Single\",\"Single\",\"Single\",\"Single\",\"Single\",\"Single\",\"Single\",\"Single\",\"Single\",\"Single\",\"Single\",\"Single\",\"Single\",\"Married\",\"Single\",\"Divorced\",\"Married\",\"Married\",\"Married\",\"Single\",\"Single\",\"Single\",\"Single\",\"Single\",\"Married\",\"Married\",\"Married\",\"Single\",\"Married\",\"Divorced\",\"Married\",\"Single\",\"Married\",\"Married\",\"Single\",\"Single\",\"Single\",\"Single\",\"Legally Separated\",\"Single\",\"Facto union\",\"Married\",\"Single\",\"Single\",\"Single\",\"Single\",\"Single\",\"Married\",\"Single\",\"Single\",\"Single\",\"Single\",\"Married\",\"Single\",\"Single\",\"Single\",\"Single\",\"Married\",\"Single\",\"Single\",\"Single\",\"Single\",\"Single\",\"Single\",\"Single\",\"Divorced\",\"Single\",\"Single\",\"Single\",\"Single\",\"Single\",\"Single\",\"Single\",\"Single\",\"Single\",\"Single\",\"Single\",\"Single\",\"Married\",\"Single\",\"Facto union\",\"Single\",\"Single\",\"Single\",\"Single\",\"Single\",\"Single\",\"Single\",\"Married\",\"Single\",\"Single\",\"Single\",\"Single\",\"Single\",\"Single\",\"Single\",\"Single\",\"Single\",\"Married\",\"Single\",\"Single\",\"Single\",\"Married\",\"Single\",\"Single\",\"Single\",\"Single\",\"Single\",\"Single\",\"Single\",\"Single\",\"Married\",\"Single\",\"Single\",\"Single\",\"Single\",\"Single\",\"Single\",\"Single\",\"Single\",\"Single\",\"Single\",\"Single\",\"Single\",\"Married\",\"Single\",\"Single\",\"Single\",\"Single\",\"Single\",\"Single\",\"Single\",\"Single\",\"Single\",\"Single\",\"Single\",\"Single\",\"Single\",\"Single\",\"Single\",\"Single\",\"Single\",\"Single\",\"Single\",\"Single\",\"Single\",\"Married\",\"Single\",\"Married\",\"Single\",\"Single\",\"Single\",\"Married\",\"Single\",\"Single\",\"Single\",\"Single\",\"Single\",\"Single\",\"Single\",\"Single\",\"Married\",\"Single\",\"Single\",\"Single\",\"Single\",\"Single\",\"Single\",\"Single\",\"Single\",\"Single\",\"Single\",\"Single\",\"Single\",\"Single\",\"Single\",\"Single\",\"Single\",\"Single\",\"Single\",\"Single\",\"Single\",\"Single\",\"Married\",\"Single\",\"Married\",\"Single\",\"Divorced\",\"Single\",\"Single\",\"Single\",\"Single\",\"Single\",\"Single\",\"Single\",\"Single\",\"Divorced\",\"Single\",\"Single\",\"Single\",\"Single\",\"Single\",\"Married\",\"Single\",\"Married\",\"Single\",\"Married\",\"Single\",\"Single\",\"Single\",\"Single\",\"Single\",\"Single\",\"Divorced\",\"Single\",\"Married\",\"Divorced\",\"Married\",\"Single\",\"Single\",\"Single\",\"Married\",\"Single\",\"Married\",\"Single\",\"Single\",\"Single\",\"Married\",\"Married\",\"Single\",\"Married\",\"Married\",\"Single\",\"Single\",\"Single\",\"Single\",\"Single\",\"Single\",\"Divorced\",\"Single\",\"Single\",\"Single\",\"Married\",\"Single\",\"Single\",\"Married\",\"Single\",\"Single\",\"Married\",\"Single\",\"Single\",\"Single\",\"Single\",\"Single\",\"Single\",\"Single\",\"Married\",\"Single\",\"Single\",\"Single\",\"Single\",\"Single\",\"Single\",\"Single\",\"Single\",\"Married\",\"Single\",\"Single\",\"Single\",\"Single\",\"Single\",\"Single\",\"Single\",\"Single\",\"Single\",\"Single\",\"Single\",\"Single\",\"Single\",\"Single\",\"Single\",\"Single\",\"Single\",\"Single\",\"Single\",\"Single\",\"Single\",\"Single\",\"Single\",\"Single\",\"Single\",\"Single\",\"Facto union\",\"Single\",\"Single\",\"Married\",\"Single\",\"Single\",\"Single\",\"Single\",\"Married\",\"Single\",\"Single\",\"Single\",\"Single\",\"Single\",\"Single\",\"Single\",\"Single\",\"Single\",\"Single\",\"Single\",\"Single\",\"Single\",\"Single\",\"Single\",\"Single\",\"Single\",\"Single\",\"Single\",\"Single\",\"Single\",\"Facto union\",\"Single\",\"Single\",\"Single\",\"Single\",\"Single\",\"Single\",\"Married\",\"Single\",\"Single\",\"Single\",\"Single\",\"Single\",\"Single\",\"Single\",\"Single\",\"Single\",\"Single\",\"Single\",\"Single\",\"Single\",\"Single\",\"Single\",\"Single\",\"Single\",\"Single\",\"Single\",\"Single\",\"Single\",\"Single\",\"Single\",\"Married\",\"Single\",\"Single\",\"Married\",\"Divorced\",\"Married\",\"Single\",\"Single\",\"Single\",\"Single\",\"Single\",\"Single\",\"Single\",\"Single\",\"Single\",\"Single\",\"Single\",\"Married\",\"Single\",\"Single\",\"Single\",\"Single\",\"Single\",\"Single\",\"Single\",\"Single\",\"Single\",\"Single\",\"Single\",\"Divorced\",\"Single\",\"Married\",\"Single\",\"Single\",\"Single\",\"Single\",\"Single\",\"Single\",\"Single\",\"Single\",\"Single\",\"Single\",\"Single\",\"Single\",\"Single\",\"Single\",\"Divorced\",\"Married\",\"Single\",\"Single\",\"Married\",\"Single\",\"Single\",\"Single\",\"Single\",\"Facto union\",\"Facto union\",\"Single\",\"Single\",\"Single\",\"Single\",\"Single\",\"Single\",\"Single\",\"Single\",\"Single\",\"Single\",\"Married\",\"Single\",\"Divorced\",\"Single\",\"Married\",\"Single\",\"Married\",\"Single\",\"Single\",\"Single\",\"Single\",\"Married\",\"Divorced\",\"Single\",\"Divorced\",\"Single\",\"Single\",\"Single\",\"Divorced\",\"Single\",\"Married\",\"Married\",\"Single\",\"Single\",\"Single\",\"Single\",\"Single\",\"Married\",\"Single\",\"Single\",\"Single\",\"Single\",\"Married\",\"Single\",\"Married\",\"Single\",\"Single\",\"Single\",\"Single\",\"Single\",\"Divorced\",\"Single\",\"Divorced\",\"Single\",\"Single\",\"Married\",\"Single\",\"Single\",\"Divorced\",\"Single\",\"Single\",\"Single\",\"Single\",\"Single\",\"Single\",\"Single\",\"Single\",\"Single\",\"Single\",\"Single\",\"Single\",\"Married\",\"Single\",\"Single\",\"Single\",\"Single\",\"Single\",\"Single\",\"Married\",\"Married\",\"Divorced\",\"Single\",\"Single\",\"Single\",\"Single\",\"Single\",\"Single\",\"Married\",\"Married\",\"Single\",\"Single\",\"Facto union\",\"Single\",\"Single\",\"Single\",\"Single\",\"Single\",\"Single\",\"Single\",\"Single\",\"Single\",\"Single\",\"Single\",\"Single\",\"Single\",\"Single\",\"Single\",\"Single\",\"Single\",\"Single\",\"Single\",\"Single\",\"Single\",\"Single\",\"Single\",\"Married\",\"Married\",\"Single\",\"Single\",\"Single\",\"Single\",\"Single\",\"Single\",\"Single\",\"Single\",\"Single\",\"Single\",\"Single\",\"Single\",\"Single\",\"Single\",\"Single\",\"Married\",\"Single\",\"Single\",\"Married\",\"Single\",\"Single\",\"Married\",\"Married\",\"Single\",\"Married\",\"Single\",\"Married\",\"Married\",\"Single\",\"Divorced\",\"Single\",\"Single\"],\"xaxis\":\"x\",\"yaxis\":\"y\",\"type\":\"histogram\"},{\"alignmentgroup\":\"True\",\"bingroup\":\"x\",\"hovertemplate\":\"Target=Graduate\\u003cbr\\u003eMarital status=%{x}\\u003cbr\\u003ecount (normalized as percent)=%{y}\\u003cextra\\u003e\\u003c\\u002fextra\\u003e\",\"legendgroup\":\"Graduate\",\"marker\":{\"color\":\"rgb(217,95,2)\",\"pattern\":{\"shape\":\"\"}},\"name\":\"Graduate\",\"offsetgroup\":\"Graduate\",\"orientation\":\"v\",\"showlegend\":true,\"texttemplate\":\"%{value:.1f}\",\"x\":[\"Single\",\"Single\",\"Married\",\"Married\",\"Single\",\"Single\",\"Single\",\"Single\",\"Single\",\"Single\",\"Single\",\"Single\",\"Single\",\"Single\",\"Single\",\"Single\",\"Single\",\"Single\",\"Single\",\"Single\",\"Single\",\"Divorced\",\"Single\",\"Single\",\"Single\",\"Single\",\"Single\",\"Single\",\"Single\",\"Single\",\"Single\",\"Single\",\"Single\",\"Single\",\"Single\",\"Single\",\"Single\",\"Single\",\"Single\",\"Single\",\"Married\",\"Married\",\"Single\",\"Single\",\"Single\",\"Single\",\"Married\",\"Single\",\"Single\",\"Single\",\"Divorced\",\"Single\",\"Single\",\"Single\",\"Single\",\"Single\",\"Single\",\"Single\",\"Single\",\"Single\",\"Single\",\"Single\",\"Single\",\"Single\",\"Single\",\"Single\",\"Single\",\"Single\",\"Single\",\"Single\",\"Single\",\"Single\",\"Single\",\"Single\",\"Single\",\"Single\",\"Single\",\"Single\",\"Single\",\"Single\",\"Single\",\"Single\",\"Single\",\"Single\",\"Single\",\"Single\",\"Single\",\"Single\",\"Single\",\"Single\",\"Single\",\"Single\",\"Single\",\"Single\",\"Single\",\"Single\",\"Single\",\"Single\",\"Single\",\"Single\",\"Single\",\"Single\",\"Single\",\"Single\",\"Single\",\"Single\",\"Single\",\"Single\",\"Single\",\"Single\",\"Single\",\"Single\",\"Single\",\"Single\",\"Married\",\"Single\",\"Single\",\"Married\",\"Married\",\"Single\",\"Single\",\"Single\",\"Single\",\"Single\",\"Single\",\"Single\",\"Single\",\"Single\",\"Single\",\"Single\",\"Single\",\"Single\",\"Single\",\"Single\",\"Single\",\"Single\",\"Single\",\"Single\",\"Single\",\"Single\",\"Single\",\"Single\",\"Single\",\"Single\",\"Single\",\"Single\",\"Single\",\"Single\",\"Single\",\"Single\",\"Single\",\"Single\",\"Divorced\",\"Married\",\"Single\",\"Single\",\"Married\",\"Single\",\"Single\",\"Single\",\"Single\",\"Single\",\"Single\",\"Married\",\"Single\",\"Single\",\"Single\",\"Single\",\"Single\",\"Single\",\"Single\",\"Single\",\"Single\",\"Single\",\"Single\",\"Single\",\"Single\",\"Single\",\"Single\",\"Single\",\"Single\",\"Single\",\"Single\",\"Single\",\"Single\",\"Single\",\"Single\",\"Single\",\"Single\",\"Single\",\"Single\",\"Single\",\"Single\",\"Single\",\"Married\",\"Single\",\"Single\",\"Divorced\",\"Married\",\"Single\",\"Married\",\"Single\",\"Single\",\"Single\",\"Single\",\"Single\",\"Single\",\"Single\",\"Married\",\"Single\",\"Divorced\",\"Single\",\"Single\",\"Single\",\"Single\",\"Single\",\"Single\",\"Single\",\"Single\",\"Single\",\"Single\",\"Single\",\"Single\",\"Single\",\"Single\",\"Single\",\"Single\",\"Single\",\"Single\",\"Single\",\"Single\",\"Single\",\"Single\",\"Single\",\"Single\",\"Single\",\"Single\",\"Single\",\"Single\",\"Single\",\"Single\",\"Single\",\"Single\",\"Single\",\"Single\",\"Single\",\"Single\",\"Single\",\"Married\",\"Single\",\"Single\",\"Single\",\"Single\",\"Single\",\"Single\",\"Single\",\"Single\",\"Single\",\"Single\",\"Married\",\"Married\",\"Single\",\"Single\",\"Single\",\"Single\",\"Single\",\"Single\",\"Single\",\"Single\",\"Single\",\"Single\",\"Single\",\"Single\",\"Single\",\"Single\",\"Single\",\"Single\",\"Single\",\"Single\",\"Single\",\"Single\",\"Single\",\"Single\",\"Single\",\"Single\",\"Single\",\"Single\",\"Single\",\"Single\",\"Single\",\"Married\",\"Single\",\"Single\",\"Single\",\"Single\",\"Single\",\"Single\",\"Single\",\"Single\",\"Single\",\"Single\",\"Single\",\"Single\",\"Single\",\"Single\",\"Single\",\"Single\",\"Single\",\"Single\",\"Single\",\"Single\",\"Single\",\"Single\",\"Single\",\"Single\",\"Single\",\"Married\",\"Single\",\"Single\",\"Single\",\"Single\",\"Single\",\"Single\",\"Single\",\"Single\",\"Single\",\"Single\",\"Single\",\"Single\",\"Single\",\"Single\",\"Single\",\"Single\",\"Single\",\"Single\",\"Married\",\"Single\",\"Single\",\"Single\",\"Single\",\"Single\",\"Single\",\"Single\",\"Single\",\"Single\",\"Single\",\"Single\",\"Single\",\"Single\",\"Single\",\"Single\",\"Single\",\"Single\",\"Single\",\"Single\",\"Married\",\"Single\",\"Single\",\"Single\",\"Single\",\"Single\",\"Single\",\"Single\",\"Single\",\"Single\",\"Single\",\"Single\",\"Single\",\"Single\",\"Single\",\"Single\",\"Single\",\"Single\",\"Single\",\"Single\",\"Single\",\"Single\",\"Single\",\"Single\",\"Divorced\",\"Married\",\"Single\",\"Widower\",\"Married\",\"Married\",\"Married\",\"Single\",\"Single\",\"Married\",\"Married\",\"Married\",\"Married\",\"Single\",\"Married\",\"Single\",\"Single\",\"Divorced\",\"Single\",\"Single\",\"Single\",\"Single\",\"Married\",\"Single\",\"Single\",\"Single\",\"Single\",\"Single\",\"Single\",\"Single\",\"Single\",\"Single\",\"Single\",\"Married\",\"Single\",\"Married\",\"Married\",\"Single\",\"Married\",\"Single\",\"Single\",\"Single\",\"Single\",\"Single\",\"Single\",\"Single\",\"Single\",\"Single\",\"Single\",\"Single\",\"Single\",\"Single\",\"Single\",\"Single\",\"Single\",\"Single\",\"Single\",\"Single\",\"Single\",\"Single\",\"Single\",\"Single\",\"Single\",\"Single\",\"Single\",\"Single\",\"Single\",\"Single\",\"Single\",\"Single\",\"Single\",\"Single\",\"Single\",\"Single\",\"Single\",\"Single\",\"Single\",\"Single\",\"Single\",\"Married\",\"Single\",\"Single\",\"Single\",\"Single\",\"Married\",\"Single\",\"Single\",\"Single\",\"Single\",\"Single\",\"Single\",\"Single\",\"Single\",\"Single\",\"Single\",\"Single\",\"Single\",\"Single\",\"Single\",\"Single\",\"Single\",\"Single\",\"Single\",\"Single\",\"Single\",\"Single\",\"Single\",\"Single\",\"Single\",\"Single\",\"Single\",\"Single\",\"Single\",\"Single\",\"Divorced\",\"Single\",\"Married\",\"Legally Separated\",\"Divorced\",\"Single\",\"Single\",\"Single\",\"Married\",\"Single\",\"Single\",\"Single\",\"Single\",\"Single\",\"Single\",\"Married\",\"Single\",\"Single\",\"Single\",\"Single\",\"Single\",\"Single\",\"Single\",\"Single\",\"Single\",\"Single\",\"Married\",\"Married\",\"Single\",\"Married\",\"Single\",\"Single\",\"Single\",\"Single\",\"Single\",\"Single\",\"Single\",\"Married\",\"Single\",\"Single\",\"Single\",\"Single\",\"Single\",\"Single\",\"Single\",\"Single\",\"Single\",\"Single\",\"Single\",\"Single\",\"Single\",\"Single\",\"Single\",\"Single\",\"Single\",\"Single\",\"Single\",\"Single\",\"Single\",\"Single\",\"Single\",\"Single\",\"Single\",\"Single\",\"Single\",\"Single\",\"Single\",\"Single\",\"Single\",\"Single\",\"Divorced\",\"Single\",\"Single\",\"Single\",\"Single\",\"Single\",\"Single\",\"Single\",\"Single\",\"Single\",\"Single\",\"Single\",\"Single\",\"Single\",\"Single\",\"Single\",\"Single\",\"Single\",\"Single\",\"Single\",\"Single\",\"Single\",\"Single\",\"Single\",\"Single\",\"Single\",\"Single\",\"Single\",\"Single\",\"Single\",\"Single\",\"Single\",\"Single\",\"Single\",\"Single\",\"Single\",\"Single\",\"Single\",\"Single\",\"Single\",\"Single\",\"Single\",\"Single\",\"Single\",\"Single\",\"Single\",\"Single\",\"Single\",\"Single\",\"Single\",\"Single\",\"Single\",\"Single\",\"Single\",\"Facto union\",\"Single\",\"Single\",\"Single\",\"Single\",\"Single\",\"Single\",\"Single\",\"Single\",\"Single\",\"Single\",\"Single\",\"Single\",\"Single\",\"Single\",\"Single\",\"Single\",\"Single\",\"Single\",\"Divorced\",\"Single\",\"Single\",\"Single\",\"Single\",\"Single\",\"Single\",\"Single\",\"Single\",\"Single\",\"Single\",\"Single\",\"Single\",\"Single\",\"Single\",\"Single\",\"Single\",\"Single\",\"Married\",\"Single\",\"Single\",\"Single\",\"Married\",\"Single\",\"Single\",\"Single\",\"Divorced\",\"Single\",\"Single\",\"Single\",\"Single\",\"Single\",\"Single\",\"Single\",\"Married\",\"Single\",\"Single\",\"Single\",\"Single\",\"Single\",\"Single\",\"Single\",\"Single\",\"Single\",\"Single\",\"Single\",\"Single\",\"Single\",\"Single\",\"Single\",\"Single\",\"Single\",\"Single\",\"Single\",\"Single\",\"Single\",\"Single\",\"Single\",\"Married\",\"Single\",\"Single\",\"Single\",\"Single\",\"Single\",\"Single\",\"Single\",\"Single\",\"Single\",\"Single\",\"Single\",\"Single\",\"Single\",\"Single\",\"Single\",\"Single\",\"Single\",\"Single\",\"Single\",\"Single\",\"Single\",\"Single\",\"Single\",\"Single\",\"Single\",\"Single\",\"Single\",\"Single\",\"Single\",\"Single\",\"Single\",\"Single\",\"Single\",\"Single\",\"Single\",\"Single\",\"Single\",\"Single\",\"Single\",\"Single\",\"Single\",\"Single\",\"Single\",\"Single\",\"Single\",\"Single\",\"Single\",\"Single\",\"Single\",\"Single\",\"Single\",\"Single\",\"Single\",\"Single\",\"Single\",\"Single\",\"Single\",\"Single\",\"Single\",\"Single\",\"Single\",\"Single\",\"Single\",\"Single\",\"Single\",\"Single\",\"Single\",\"Single\",\"Single\",\"Single\",\"Single\",\"Single\",\"Married\",\"Single\",\"Single\",\"Single\",\"Single\",\"Single\",\"Single\",\"Single\",\"Single\",\"Single\",\"Single\",\"Single\",\"Single\",\"Single\",\"Single\",\"Single\",\"Single\",\"Single\",\"Single\",\"Single\",\"Married\",\"Single\",\"Single\",\"Single\",\"Single\",\"Single\",\"Single\",\"Single\",\"Single\",\"Single\",\"Single\",\"Single\",\"Single\",\"Single\",\"Single\",\"Single\",\"Single\",\"Divorced\",\"Single\",\"Single\",\"Single\",\"Single\",\"Single\",\"Single\",\"Married\",\"Single\",\"Single\",\"Single\",\"Single\",\"Single\",\"Single\",\"Single\",\"Married\",\"Single\",\"Single\",\"Single\",\"Single\",\"Single\",\"Single\",\"Married\",\"Single\",\"Single\",\"Single\",\"Single\",\"Married\",\"Single\",\"Single\",\"Single\",\"Married\",\"Single\",\"Single\",\"Single\",\"Single\",\"Single\",\"Single\",\"Single\",\"Single\",\"Single\",\"Single\",\"Facto union\",\"Single\",\"Single\",\"Single\",\"Single\",\"Single\",\"Single\",\"Single\",\"Single\",\"Single\",\"Single\",\"Single\",\"Single\",\"Married\",\"Single\",\"Single\",\"Single\",\"Single\",\"Single\",\"Married\",\"Married\",\"Married\",\"Single\",\"Married\",\"Single\",\"Single\",\"Single\",\"Single\",\"Single\",\"Single\",\"Single\",\"Single\",\"Single\",\"Single\",\"Single\",\"Single\",\"Single\",\"Single\",\"Single\",\"Single\",\"Single\",\"Single\",\"Single\",\"Single\",\"Single\",\"Single\",\"Single\",\"Single\",\"Single\",\"Facto union\",\"Single\",\"Single\",\"Single\",\"Single\",\"Single\",\"Single\",\"Single\",\"Single\",\"Single\",\"Single\",\"Single\",\"Single\",\"Single\",\"Single\",\"Single\",\"Single\",\"Single\",\"Single\",\"Single\",\"Single\",\"Single\",\"Single\",\"Married\",\"Single\",\"Single\",\"Single\",\"Single\",\"Single\",\"Single\",\"Single\",\"Single\",\"Single\",\"Single\",\"Single\",\"Single\",\"Married\",\"Single\",\"Single\",\"Single\",\"Single\",\"Single\",\"Married\",\"Single\",\"Single\",\"Single\",\"Single\",\"Single\",\"Single\",\"Single\",\"Single\",\"Divorced\",\"Single\",\"Single\",\"Single\",\"Single\",\"Single\",\"Single\",\"Single\",\"Single\",\"Married\",\"Single\",\"Single\",\"Single\",\"Single\",\"Single\",\"Single\",\"Single\",\"Single\",\"Single\",\"Single\",\"Single\",\"Single\",\"Single\",\"Single\",\"Single\",\"Single\",\"Single\",\"Single\",\"Single\",\"Single\",\"Single\",\"Single\",\"Single\",\"Single\",\"Single\",\"Single\",\"Single\",\"Single\",\"Single\",\"Single\",\"Single\",\"Single\",\"Single\",\"Single\",\"Single\",\"Single\",\"Single\",\"Single\",\"Single\",\"Single\",\"Single\",\"Single\",\"Single\",\"Single\",\"Single\",\"Single\",\"Single\",\"Single\",\"Single\",\"Single\",\"Single\",\"Single\",\"Single\",\"Single\",\"Single\",\"Single\",\"Single\",\"Married\",\"Single\",\"Single\",\"Single\",\"Married\",\"Single\",\"Single\",\"Single\",\"Single\",\"Single\",\"Single\",\"Single\",\"Single\",\"Single\",\"Single\",\"Single\",\"Single\",\"Single\",\"Single\",\"Single\",\"Single\",\"Single\",\"Single\",\"Single\",\"Single\",\"Single\",\"Single\",\"Single\",\"Single\",\"Single\",\"Single\",\"Single\",\"Married\",\"Single\",\"Single\",\"Single\",\"Single\",\"Single\",\"Single\",\"Single\",\"Single\",\"Single\",\"Married\",\"Single\",\"Single\",\"Single\",\"Married\",\"Single\",\"Single\",\"Single\",\"Single\",\"Single\",\"Single\",\"Single\",\"Single\",\"Single\",\"Single\",\"Single\",\"Married\",\"Single\",\"Single\",\"Married\",\"Single\",\"Single\",\"Single\",\"Single\",\"Single\",\"Single\",\"Single\",\"Single\",\"Single\",\"Single\",\"Single\",\"Single\",\"Single\",\"Single\",\"Single\",\"Single\",\"Single\",\"Single\",\"Single\",\"Single\",\"Single\",\"Single\",\"Single\",\"Single\",\"Single\",\"Single\",\"Single\",\"Single\",\"Single\",\"Single\",\"Single\",\"Single\",\"Single\",\"Single\",\"Single\",\"Single\",\"Single\",\"Single\",\"Single\",\"Single\",\"Single\",\"Single\",\"Single\",\"Single\",\"Single\",\"Single\",\"Single\",\"Single\",\"Single\",\"Single\",\"Single\",\"Single\",\"Single\",\"Single\",\"Single\",\"Single\",\"Single\",\"Single\",\"Single\",\"Single\",\"Single\",\"Single\",\"Single\",\"Single\",\"Single\",\"Single\",\"Married\",\"Single\",\"Single\",\"Single\",\"Single\",\"Single\",\"Single\",\"Single\",\"Single\",\"Single\",\"Single\",\"Single\",\"Single\",\"Single\",\"Single\",\"Single\",\"Single\",\"Single\",\"Single\",\"Single\",\"Single\",\"Single\",\"Married\",\"Single\",\"Single\",\"Single\",\"Single\",\"Single\",\"Single\",\"Single\",\"Single\",\"Single\",\"Single\",\"Single\",\"Single\",\"Single\",\"Single\",\"Single\",\"Single\",\"Single\",\"Single\",\"Single\",\"Single\",\"Single\",\"Single\",\"Single\",\"Single\",\"Single\",\"Single\",\"Single\",\"Single\",\"Single\",\"Single\",\"Single\",\"Married\",\"Single\",\"Married\",\"Single\",\"Single\",\"Single\",\"Single\",\"Single\",\"Single\",\"Single\",\"Single\",\"Single\",\"Single\",\"Single\",\"Single\",\"Single\",\"Single\",\"Single\",\"Single\",\"Single\",\"Single\",\"Single\",\"Single\",\"Single\",\"Single\",\"Single\",\"Single\",\"Single\",\"Single\",\"Divorced\",\"Single\",\"Single\",\"Single\",\"Single\",\"Single\",\"Single\",\"Single\",\"Single\",\"Single\",\"Single\",\"Single\",\"Single\",\"Single\",\"Single\",\"Single\",\"Single\",\"Single\",\"Single\",\"Single\",\"Single\",\"Married\",\"Single\",\"Married\",\"Married\",\"Married\",\"Single\",\"Single\",\"Single\",\"Single\",\"Married\",\"Single\",\"Single\",\"Single\",\"Single\",\"Married\",\"Married\",\"Single\",\"Single\",\"Single\",\"Single\",\"Single\",\"Single\",\"Single\",\"Single\",\"Single\",\"Single\",\"Married\",\"Single\",\"Married\",\"Single\",\"Single\",\"Single\",\"Married\",\"Single\",\"Married\",\"Single\",\"Married\",\"Single\",\"Single\",\"Single\",\"Single\",\"Single\",\"Single\",\"Single\",\"Single\",\"Single\",\"Single\",\"Single\",\"Single\",\"Single\",\"Single\",\"Single\",\"Single\",\"Single\",\"Single\",\"Single\",\"Single\",\"Single\",\"Single\",\"Single\",\"Single\",\"Single\",\"Single\",\"Single\",\"Single\",\"Single\",\"Single\",\"Single\",\"Single\",\"Single\",\"Single\",\"Single\",\"Single\",\"Single\",\"Single\",\"Single\",\"Single\",\"Single\",\"Single\",\"Single\",\"Single\",\"Married\",\"Single\",\"Single\",\"Single\",\"Single\",\"Single\",\"Single\",\"Single\",\"Single\",\"Single\",\"Married\",\"Single\",\"Single\",\"Single\",\"Single\",\"Single\",\"Single\",\"Single\",\"Single\",\"Single\",\"Single\",\"Single\",\"Single\",\"Single\",\"Single\",\"Single\",\"Single\",\"Single\",\"Single\",\"Single\",\"Single\",\"Single\",\"Single\",\"Married\",\"Married\",\"Single\",\"Married\",\"Single\",\"Single\",\"Single\",\"Divorced\",\"Single\",\"Single\",\"Single\",\"Single\",\"Single\",\"Single\",\"Single\",\"Single\",\"Single\",\"Single\",\"Single\",\"Single\",\"Single\",\"Single\",\"Single\",\"Single\",\"Single\",\"Single\",\"Single\",\"Single\",\"Single\",\"Single\",\"Single\",\"Single\",\"Single\",\"Single\",\"Single\",\"Single\",\"Single\",\"Single\",\"Single\",\"Single\",\"Single\",\"Single\",\"Single\",\"Single\",\"Single\",\"Single\",\"Single\",\"Single\",\"Single\",\"Single\",\"Single\",\"Single\",\"Single\",\"Single\",\"Single\",\"Single\",\"Divorced\",\"Single\",\"Married\",\"Single\",\"Single\",\"Single\",\"Single\",\"Single\",\"Single\",\"Single\",\"Single\",\"Single\",\"Single\",\"Single\",\"Single\",\"Single\",\"Single\",\"Single\",\"Married\",\"Single\",\"Single\",\"Single\",\"Married\",\"Single\",\"Single\",\"Married\",\"Single\",\"Married\",\"Married\",\"Single\",\"Single\",\"Single\",\"Single\",\"Single\",\"Single\",\"Single\",\"Divorced\",\"Single\",\"Married\",\"Single\",\"Divorced\",\"Single\",\"Married\",\"Single\",\"Facto union\",\"Divorced\",\"Married\",\"Single\",\"Single\",\"Married\",\"Single\",\"Single\",\"Single\",\"Married\",\"Single\",\"Single\",\"Married\",\"Single\",\"Single\",\"Single\",\"Married\",\"Single\",\"Single\",\"Divorced\",\"Married\",\"Single\",\"Single\",\"Single\",\"Married\",\"Single\",\"Single\",\"Married\",\"Single\",\"Single\",\"Single\",\"Single\",\"Divorced\",\"Single\",\"Single\",\"Single\",\"Single\",\"Single\",\"Married\",\"Single\",\"Divorced\",\"Single\",\"Married\",\"Facto union\",\"Single\",\"Single\",\"Married\",\"Single\",\"Single\",\"Single\",\"Single\",\"Single\",\"Single\",\"Facto union\",\"Single\",\"Single\",\"Single\",\"Single\",\"Single\",\"Single\",\"Single\",\"Single\",\"Married\",\"Single\",\"Single\",\"Single\",\"Married\",\"Single\",\"Single\",\"Single\",\"Single\",\"Single\",\"Single\",\"Single\",\"Single\",\"Single\",\"Single\",\"Single\",\"Single\",\"Single\",\"Single\",\"Single\",\"Single\",\"Single\",\"Single\",\"Single\",\"Single\",\"Single\",\"Single\",\"Single\",\"Single\",\"Single\",\"Single\",\"Single\",\"Single\",\"Single\",\"Single\",\"Single\",\"Single\",\"Single\",\"Single\",\"Single\",\"Single\",\"Single\",\"Single\",\"Single\",\"Single\",\"Single\",\"Single\",\"Single\",\"Single\",\"Single\",\"Single\",\"Single\",\"Single\",\"Single\",\"Single\",\"Single\",\"Single\",\"Single\",\"Facto union\",\"Single\",\"Single\",\"Single\",\"Single\",\"Single\",\"Single\",\"Single\",\"Single\",\"Single\",\"Single\",\"Single\",\"Single\",\"Single\",\"Single\",\"Single\",\"Single\",\"Single\",\"Single\",\"Single\",\"Single\",\"Single\",\"Single\",\"Single\",\"Single\",\"Single\",\"Single\",\"Single\",\"Single\",\"Single\",\"Single\",\"Single\",\"Single\",\"Single\",\"Single\",\"Married\",\"Single\",\"Divorced\",\"Single\",\"Single\",\"Single\",\"Single\",\"Single\",\"Single\",\"Single\",\"Single\",\"Single\",\"Single\",\"Single\",\"Single\",\"Single\",\"Single\",\"Single\",\"Single\",\"Single\",\"Single\",\"Single\",\"Single\",\"Single\",\"Single\",\"Single\",\"Single\",\"Single\",\"Single\",\"Single\",\"Single\",\"Married\",\"Single\",\"Single\",\"Single\",\"Single\",\"Single\",\"Single\",\"Single\",\"Single\",\"Single\",\"Single\",\"Married\",\"Single\",\"Single\",\"Single\",\"Single\",\"Single\",\"Single\",\"Single\",\"Single\",\"Single\",\"Married\",\"Single\",\"Single\",\"Single\",\"Single\",\"Single\",\"Single\",\"Single\",\"Married\",\"Divorced\",\"Facto union\",\"Single\",\"Divorced\",\"Single\",\"Single\",\"Divorced\",\"Single\",\"Single\",\"Single\",\"Single\",\"Single\",\"Single\",\"Single\",\"Single\",\"Single\",\"Married\",\"Single\",\"Single\",\"Married\",\"Married\",\"Single\",\"Single\",\"Single\",\"Married\",\"Single\",\"Single\",\"Single\",\"Single\",\"Single\",\"Single\",\"Single\",\"Single\",\"Single\",\"Single\",\"Single\",\"Single\",\"Single\",\"Single\",\"Single\",\"Single\",\"Single\",\"Single\",\"Single\",\"Single\",\"Single\",\"Single\",\"Single\",\"Single\",\"Single\",\"Single\",\"Single\",\"Single\",\"Married\",\"Single\",\"Single\",\"Single\",\"Single\",\"Single\",\"Single\",\"Single\",\"Single\",\"Single\",\"Single\",\"Single\",\"Single\",\"Single\",\"Single\",\"Single\",\"Single\",\"Single\",\"Single\",\"Single\",\"Single\",\"Single\",\"Single\",\"Single\",\"Single\",\"Single\",\"Single\",\"Single\",\"Single\",\"Single\",\"Single\",\"Single\",\"Single\",\"Single\",\"Single\",\"Single\",\"Married\",\"Single\",\"Single\",\"Single\",\"Single\",\"Single\",\"Single\",\"Single\",\"Single\",\"Single\",\"Single\",\"Single\",\"Single\",\"Single\",\"Single\",\"Single\",\"Single\",\"Single\",\"Single\",\"Single\",\"Single\",\"Single\",\"Single\",\"Single\",\"Single\",\"Single\",\"Single\",\"Single\",\"Married\",\"Single\",\"Single\",\"Single\",\"Single\",\"Single\",\"Single\",\"Single\",\"Single\",\"Single\",\"Married\",\"Single\",\"Single\",\"Single\",\"Single\",\"Single\",\"Single\",\"Single\",\"Single\",\"Single\",\"Single\",\"Single\",\"Single\",\"Single\",\"Single\",\"Single\",\"Single\",\"Single\",\"Single\",\"Single\",\"Single\",\"Single\",\"Married\",\"Single\",\"Single\",\"Single\",\"Single\",\"Single\",\"Single\",\"Single\",\"Single\",\"Single\",\"Single\",\"Single\",\"Single\",\"Single\",\"Single\",\"Single\",\"Single\",\"Single\",\"Single\",\"Single\",\"Single\",\"Single\",\"Single\",\"Single\",\"Single\",\"Single\",\"Single\",\"Single\",\"Single\",\"Single\",\"Facto union\",\"Single\",\"Single\",\"Single\",\"Single\",\"Single\",\"Single\",\"Single\",\"Single\",\"Single\",\"Single\",\"Single\",\"Single\",\"Single\",\"Single\",\"Single\",\"Single\",\"Single\",\"Single\",\"Single\",\"Single\",\"Single\",\"Single\",\"Single\",\"Single\",\"Single\",\"Single\",\"Single\",\"Single\",\"Single\",\"Single\",\"Single\",\"Single\",\"Single\",\"Single\",\"Single\",\"Single\",\"Single\",\"Single\",\"Single\",\"Single\",\"Single\",\"Single\",\"Single\",\"Single\",\"Single\",\"Divorced\",\"Single\",\"Single\",\"Single\",\"Single\",\"Single\",\"Single\",\"Single\",\"Single\",\"Single\",\"Single\",\"Single\",\"Single\",\"Single\",\"Single\",\"Single\",\"Single\",\"Single\",\"Single\",\"Single\",\"Single\",\"Single\",\"Single\",\"Single\",\"Single\",\"Single\",\"Married\",\"Single\",\"Single\",\"Single\",\"Single\",\"Single\",\"Single\",\"Single\",\"Single\",\"Single\",\"Single\",\"Married\",\"Single\",\"Divorced\",\"Single\",\"Married\",\"Married\",\"Single\",\"Single\",\"Single\",\"Single\",\"Single\",\"Single\",\"Single\",\"Single\",\"Single\",\"Divorced\",\"Single\",\"Single\",\"Single\",\"Single\",\"Single\",\"Single\",\"Single\",\"Single\",\"Single\",\"Single\",\"Married\",\"Single\",\"Single\",\"Single\",\"Single\",\"Single\",\"Single\",\"Single\",\"Single\",\"Single\",\"Single\",\"Single\",\"Single\",\"Single\",\"Single\",\"Single\",\"Single\",\"Single\",\"Single\",\"Single\",\"Single\",\"Single\",\"Single\",\"Single\",\"Single\",\"Single\",\"Single\",\"Single\",\"Single\",\"Single\",\"Single\",\"Single\",\"Single\",\"Single\",\"Single\",\"Single\",\"Divorced\",\"Married\",\"Single\",\"Single\",\"Single\",\"Single\",\"Single\",\"Single\",\"Single\",\"Single\",\"Single\",\"Single\",\"Single\",\"Single\",\"Single\",\"Single\",\"Single\",\"Single\",\"Single\",\"Single\",\"Single\",\"Single\",\"Single\",\"Married\",\"Single\",\"Single\",\"Single\",\"Single\",\"Single\",\"Single\",\"Single\",\"Single\",\"Single\",\"Single\",\"Single\",\"Single\",\"Single\",\"Single\",\"Single\",\"Single\",\"Single\",\"Married\",\"Single\",\"Single\",\"Married\",\"Single\",\"Married\",\"Single\",\"Divorced\",\"Single\",\"Single\",\"Single\",\"Single\",\"Single\",\"Single\",\"Single\",\"Single\",\"Single\",\"Single\",\"Divorced\",\"Single\",\"Single\",\"Single\",\"Single\",\"Single\",\"Single\",\"Single\",\"Single\",\"Single\",\"Single\",\"Single\",\"Single\",\"Single\",\"Single\",\"Single\",\"Facto union\",\"Married\",\"Single\",\"Single\",\"Single\",\"Single\",\"Single\",\"Single\",\"Single\",\"Single\",\"Single\",\"Single\",\"Single\",\"Single\",\"Single\",\"Single\",\"Single\",\"Single\",\"Single\",\"Single\",\"Single\",\"Single\",\"Single\",\"Single\",\"Married\",\"Single\",\"Single\",\"Single\",\"Single\",\"Single\",\"Single\",\"Single\",\"Single\",\"Single\",\"Single\",\"Single\",\"Single\",\"Single\",\"Single\",\"Single\",\"Single\",\"Single\",\"Single\",\"Single\",\"Single\",\"Single\",\"Single\",\"Single\",\"Single\",\"Single\",\"Single\",\"Single\",\"Married\",\"Single\",\"Single\",\"Single\",\"Single\",\"Married\",\"Married\",\"Married\",\"Single\",\"Single\",\"Single\",\"Single\",\"Single\",\"Single\",\"Single\",\"Single\",\"Single\",\"Single\",\"Single\",\"Single\",\"Single\",\"Single\",\"Married\",\"Single\",\"Single\",\"Single\",\"Single\",\"Single\",\"Single\",\"Single\",\"Single\",\"Single\",\"Single\",\"Single\",\"Single\",\"Married\",\"Single\",\"Single\",\"Single\",\"Single\",\"Single\",\"Single\",\"Single\",\"Single\",\"Single\",\"Single\",\"Single\",\"Single\",\"Single\",\"Single\",\"Single\",\"Single\",\"Single\",\"Single\",\"Single\",\"Single\",\"Single\",\"Single\",\"Single\",\"Facto union\",\"Single\",\"Married\",\"Single\",\"Single\",\"Single\",\"Single\",\"Single\",\"Single\",\"Single\",\"Single\",\"Single\",\"Single\",\"Single\",\"Single\",\"Married\",\"Single\",\"Single\",\"Single\",\"Single\",\"Single\",\"Single\",\"Single\",\"Single\"],\"xaxis\":\"x\",\"yaxis\":\"y\",\"type\":\"histogram\"},{\"alignmentgroup\":\"True\",\"bingroup\":\"x\",\"hovertemplate\":\"Target=Enrolled\\u003cbr\\u003eMarital status=%{x}\\u003cbr\\u003ecount (normalized as percent)=%{y}\\u003cextra\\u003e\\u003c\\u002fextra\\u003e\",\"legendgroup\":\"Enrolled\",\"marker\":{\"color\":\"rgb(117,112,179)\",\"pattern\":{\"shape\":\"\"}},\"name\":\"Enrolled\",\"offsetgroup\":\"Enrolled\",\"orientation\":\"v\",\"showlegend\":true,\"texttemplate\":\"%{value:.1f}\",\"x\":[\"Single\",\"Single\",\"Single\",\"Single\",\"Single\",\"Single\",\"Single\",\"Single\",\"Single\",\"Single\",\"Single\",\"Single\",\"Single\",\"Single\",\"Single\",\"Single\",\"Single\",\"Single\",\"Single\",\"Single\",\"Single\",\"Single\",\"Single\",\"Single\",\"Single\",\"Single\",\"Single\",\"Single\",\"Single\",\"Single\",\"Single\",\"Single\",\"Widower\",\"Single\",\"Single\",\"Single\",\"Single\",\"Single\",\"Single\",\"Single\",\"Single\",\"Single\",\"Single\",\"Single\",\"Single\",\"Single\",\"Single\",\"Single\",\"Single\",\"Single\",\"Single\",\"Single\",\"Single\",\"Single\",\"Single\",\"Single\",\"Single\",\"Single\",\"Single\",\"Single\",\"Single\",\"Single\",\"Divorced\",\"Married\",\"Single\",\"Single\",\"Single\",\"Single\",\"Single\",\"Single\",\"Single\",\"Single\",\"Single\",\"Single\",\"Single\",\"Single\",\"Single\",\"Single\",\"Single\",\"Single\",\"Single\",\"Single\",\"Single\",\"Single\",\"Single\",\"Single\",\"Single\",\"Single\",\"Single\",\"Single\",\"Single\",\"Single\",\"Single\",\"Single\",\"Single\",\"Single\",\"Single\",\"Single\",\"Single\",\"Single\",\"Single\",\"Single\",\"Single\",\"Single\",\"Single\",\"Single\",\"Single\",\"Single\",\"Single\",\"Single\",\"Single\",\"Single\",\"Single\",\"Single\",\"Single\",\"Single\",\"Single\",\"Single\",\"Single\",\"Single\",\"Single\",\"Single\",\"Single\",\"Single\",\"Single\",\"Single\",\"Single\",\"Married\",\"Single\",\"Single\",\"Single\",\"Single\",\"Single\",\"Single\",\"Single\",\"Single\",\"Single\",\"Single\",\"Single\",\"Single\",\"Single\",\"Single\",\"Single\",\"Single\",\"Single\",\"Single\",\"Single\",\"Single\",\"Single\",\"Single\",\"Single\",\"Single\",\"Single\",\"Single\",\"Single\",\"Single\",\"Single\",\"Single\",\"Single\",\"Single\",\"Divorced\",\"Married\",\"Single\",\"Single\",\"Single\",\"Single\",\"Single\",\"Married\",\"Single\",\"Single\",\"Single\",\"Married\",\"Married\",\"Single\",\"Single\",\"Single\",\"Single\",\"Single\",\"Single\",\"Single\",\"Single\",\"Single\",\"Single\",\"Single\",\"Single\",\"Single\",\"Single\",\"Single\",\"Single\",\"Single\",\"Single\",\"Single\",\"Single\",\"Single\",\"Single\",\"Single\",\"Single\",\"Divorced\",\"Single\",\"Single\",\"Married\",\"Single\",\"Married\",\"Single\",\"Single\",\"Single\",\"Single\",\"Single\",\"Single\",\"Single\",\"Single\",\"Single\",\"Single\",\"Single\",\"Single\",\"Single\",\"Single\",\"Single\",\"Single\",\"Single\",\"Single\",\"Single\",\"Single\",\"Single\",\"Single\",\"Single\",\"Single\",\"Single\",\"Single\",\"Single\",\"Single\",\"Single\",\"Single\",\"Single\",\"Single\",\"Single\",\"Single\",\"Single\",\"Widower\",\"Single\",\"Single\",\"Single\",\"Single\",\"Single\",\"Single\",\"Single\",\"Single\",\"Single\",\"Married\",\"Single\",\"Single\",\"Single\",\"Single\",\"Divorced\",\"Married\",\"Single\",\"Single\",\"Married\",\"Single\",\"Single\",\"Divorced\",\"Single\",\"Married\",\"Single\",\"Single\",\"Single\",\"Single\",\"Single\",\"Single\",\"Single\",\"Married\",\"Single\",\"Single\",\"Single\",\"Single\",\"Single\",\"Single\",\"Single\",\"Single\",\"Single\",\"Single\",\"Single\",\"Single\",\"Single\",\"Single\",\"Single\",\"Single\",\"Single\",\"Single\",\"Single\",\"Single\",\"Single\",\"Single\",\"Single\",\"Single\",\"Single\",\"Single\",\"Single\",\"Single\",\"Single\",\"Married\",\"Single\",\"Married\",\"Single\",\"Single\",\"Single\",\"Single\",\"Single\",\"Single\",\"Single\",\"Single\",\"Single\",\"Single\",\"Single\",\"Single\",\"Single\",\"Single\",\"Single\",\"Single\",\"Single\",\"Single\",\"Single\",\"Single\",\"Single\",\"Single\",\"Single\",\"Single\",\"Single\",\"Married\",\"Single\",\"Single\",\"Married\",\"Single\",\"Married\",\"Married\",\"Single\",\"Single\",\"Single\",\"Single\",\"Single\",\"Single\",\"Single\",\"Single\",\"Single\",\"Single\",\"Single\",\"Single\",\"Single\",\"Single\",\"Single\",\"Single\",\"Single\",\"Married\",\"Single\",\"Single\",\"Single\",\"Married\",\"Single\",\"Single\",\"Single\",\"Single\",\"Single\",\"Facto union\",\"Single\",\"Single\",\"Single\",\"Single\",\"Single\",\"Single\",\"Single\",\"Single\",\"Single\",\"Single\",\"Single\",\"Single\",\"Single\",\"Single\",\"Single\",\"Single\",\"Single\",\"Single\",\"Single\",\"Single\",\"Single\",\"Single\",\"Single\",\"Single\",\"Single\",\"Single\",\"Single\",\"Single\",\"Married\",\"Single\",\"Single\",\"Single\",\"Single\",\"Single\",\"Single\",\"Single\",\"Single\",\"Single\",\"Single\",\"Single\",\"Single\",\"Single\",\"Single\",\"Single\",\"Single\",\"Single\",\"Single\",\"Single\",\"Single\",\"Single\",\"Single\",\"Single\",\"Single\",\"Single\",\"Single\",\"Single\",\"Single\",\"Single\",\"Single\",\"Single\",\"Single\",\"Single\",\"Single\",\"Single\",\"Single\",\"Single\",\"Married\",\"Single\",\"Single\",\"Married\",\"Single\",\"Single\",\"Single\",\"Single\",\"Single\",\"Single\",\"Single\",\"Single\",\"Single\",\"Single\",\"Single\",\"Single\",\"Single\",\"Single\",\"Single\",\"Single\",\"Single\",\"Single\",\"Single\",\"Single\",\"Single\",\"Single\",\"Single\",\"Single\",\"Single\",\"Single\",\"Single\",\"Single\",\"Single\",\"Single\",\"Single\",\"Single\",\"Single\",\"Single\",\"Single\",\"Single\",\"Single\",\"Single\",\"Single\",\"Single\",\"Single\",\"Single\",\"Single\",\"Single\",\"Married\",\"Single\",\"Married\",\"Single\",\"Single\",\"Single\",\"Single\",\"Single\",\"Single\",\"Single\",\"Single\",\"Divorced\",\"Married\",\"Single\",\"Single\",\"Single\",\"Single\",\"Single\",\"Single\",\"Single\",\"Single\",\"Single\",\"Single\",\"Single\",\"Single\",\"Single\",\"Single\",\"Single\",\"Single\",\"Single\",\"Single\",\"Single\",\"Divorced\",\"Single\",\"Single\",\"Single\",\"Single\",\"Single\",\"Single\",\"Single\",\"Single\",\"Married\",\"Single\",\"Married\",\"Single\",\"Married\",\"Divorced\",\"Married\",\"Married\",\"Single\",\"Single\",\"Single\",\"Single\",\"Married\",\"Legally Separated\",\"Single\",\"Single\",\"Married\",\"Married\",\"Married\",\"Single\",\"Single\",\"Single\",\"Single\",\"Single\",\"Single\",\"Single\",\"Single\",\"Single\",\"Single\",\"Single\",\"Single\",\"Single\",\"Single\",\"Single\",\"Single\",\"Single\",\"Married\",\"Single\",\"Single\",\"Single\",\"Single\",\"Single\",\"Single\",\"Single\",\"Single\",\"Single\",\"Single\",\"Single\",\"Single\",\"Single\",\"Single\",\"Single\",\"Single\",\"Single\",\"Single\",\"Single\",\"Single\",\"Single\",\"Single\",\"Single\",\"Single\",\"Single\",\"Single\",\"Single\",\"Married\",\"Single\",\"Divorced\",\"Married\",\"Single\",\"Married\",\"Married\",\"Single\",\"Single\",\"Single\",\"Single\",\"Single\",\"Single\",\"Facto union\",\"Single\",\"Single\",\"Single\",\"Single\",\"Single\",\"Single\",\"Single\",\"Single\",\"Single\",\"Single\",\"Married\",\"Single\",\"Single\",\"Single\",\"Single\",\"Single\",\"Married\",\"Single\",\"Single\",\"Single\",\"Single\",\"Single\",\"Single\",\"Single\",\"Single\",\"Single\",\"Single\",\"Single\",\"Divorced\",\"Single\",\"Single\",\"Single\",\"Single\",\"Single\",\"Single\",\"Single\",\"Single\",\"Single\",\"Single\",\"Married\",\"Single\",\"Single\",\"Single\",\"Single\",\"Single\",\"Single\",\"Single\",\"Single\",\"Single\",\"Married\",\"Single\",\"Single\",\"Single\",\"Single\",\"Single\",\"Single\",\"Single\",\"Single\",\"Single\",\"Single\",\"Single\",\"Single\",\"Single\",\"Single\",\"Single\",\"Divorced\",\"Single\",\"Single\",\"Single\",\"Single\",\"Single\",\"Facto union\",\"Single\",\"Single\",\"Single\",\"Single\",\"Single\",\"Single\",\"Single\",\"Single\",\"Single\",\"Single\",\"Single\",\"Single\",\"Single\",\"Single\",\"Single\",\"Single\",\"Single\",\"Single\",\"Single\",\"Single\",\"Single\",\"Single\",\"Single\",\"Single\",\"Single\",\"Single\",\"Single\",\"Single\",\"Single\",\"Single\",\"Single\",\"Married\",\"Single\",\"Married\",\"Single\",\"Single\",\"Single\",\"Single\",\"Single\",\"Single\",\"Single\",\"Single\",\"Single\",\"Married\",\"Single\",\"Divorced\",\"Single\",\"Single\",\"Divorced\",\"Single\",\"Single\",\"Single\",\"Single\",\"Single\",\"Single\",\"Single\",\"Married\",\"Single\",\"Single\",\"Single\",\"Single\",\"Married\",\"Single\",\"Single\",\"Single\",\"Single\",\"Single\",\"Single\",\"Single\",\"Single\",\"Single\",\"Single\",\"Single\",\"Divorced\",\"Single\",\"Single\",\"Single\",\"Single\",\"Single\",\"Single\",\"Single\",\"Single\",\"Single\",\"Single\",\"Single\",\"Single\",\"Single\",\"Single\",\"Single\",\"Single\",\"Single\",\"Married\",\"Single\",\"Single\",\"Single\",\"Single\",\"Single\",\"Single\",\"Single\",\"Single\",\"Single\",\"Single\",\"Single\",\"Single\",\"Single\",\"Single\",\"Single\",\"Single\",\"Single\",\"Divorced\",\"Single\",\"Single\",\"Single\",\"Single\",\"Divorced\",\"Single\",\"Single\",\"Single\",\"Single\",\"Married\",\"Single\",\"Single\",\"Single\",\"Single\",\"Single\",\"Single\"],\"xaxis\":\"x\",\"yaxis\":\"y\",\"type\":\"histogram\"}],                        {\"template\":{\"data\":{\"histogram2dcontour\":[{\"type\":\"histogram2dcontour\",\"colorbar\":{\"outlinewidth\":0,\"ticks\":\"\"},\"colorscale\":[[0.0,\"#0d0887\"],[0.1111111111111111,\"#46039f\"],[0.2222222222222222,\"#7201a8\"],[0.3333333333333333,\"#9c179e\"],[0.4444444444444444,\"#bd3786\"],[0.5555555555555556,\"#d8576b\"],[0.6666666666666666,\"#ed7953\"],[0.7777777777777778,\"#fb9f3a\"],[0.8888888888888888,\"#fdca26\"],[1.0,\"#f0f921\"]]}],\"choropleth\":[{\"type\":\"choropleth\",\"colorbar\":{\"outlinewidth\":0,\"ticks\":\"\"}}],\"histogram2d\":[{\"type\":\"histogram2d\",\"colorbar\":{\"outlinewidth\":0,\"ticks\":\"\"},\"colorscale\":[[0.0,\"#0d0887\"],[0.1111111111111111,\"#46039f\"],[0.2222222222222222,\"#7201a8\"],[0.3333333333333333,\"#9c179e\"],[0.4444444444444444,\"#bd3786\"],[0.5555555555555556,\"#d8576b\"],[0.6666666666666666,\"#ed7953\"],[0.7777777777777778,\"#fb9f3a\"],[0.8888888888888888,\"#fdca26\"],[1.0,\"#f0f921\"]]}],\"heatmap\":[{\"type\":\"heatmap\",\"colorbar\":{\"outlinewidth\":0,\"ticks\":\"\"},\"colorscale\":[[0.0,\"#0d0887\"],[0.1111111111111111,\"#46039f\"],[0.2222222222222222,\"#7201a8\"],[0.3333333333333333,\"#9c179e\"],[0.4444444444444444,\"#bd3786\"],[0.5555555555555556,\"#d8576b\"],[0.6666666666666666,\"#ed7953\"],[0.7777777777777778,\"#fb9f3a\"],[0.8888888888888888,\"#fdca26\"],[1.0,\"#f0f921\"]]}],\"heatmapgl\":[{\"type\":\"heatmapgl\",\"colorbar\":{\"outlinewidth\":0,\"ticks\":\"\"},\"colorscale\":[[0.0,\"#0d0887\"],[0.1111111111111111,\"#46039f\"],[0.2222222222222222,\"#7201a8\"],[0.3333333333333333,\"#9c179e\"],[0.4444444444444444,\"#bd3786\"],[0.5555555555555556,\"#d8576b\"],[0.6666666666666666,\"#ed7953\"],[0.7777777777777778,\"#fb9f3a\"],[0.8888888888888888,\"#fdca26\"],[1.0,\"#f0f921\"]]}],\"contourcarpet\":[{\"type\":\"contourcarpet\",\"colorbar\":{\"outlinewidth\":0,\"ticks\":\"\"}}],\"contour\":[{\"type\":\"contour\",\"colorbar\":{\"outlinewidth\":0,\"ticks\":\"\"},\"colorscale\":[[0.0,\"#0d0887\"],[0.1111111111111111,\"#46039f\"],[0.2222222222222222,\"#7201a8\"],[0.3333333333333333,\"#9c179e\"],[0.4444444444444444,\"#bd3786\"],[0.5555555555555556,\"#d8576b\"],[0.6666666666666666,\"#ed7953\"],[0.7777777777777778,\"#fb9f3a\"],[0.8888888888888888,\"#fdca26\"],[1.0,\"#f0f921\"]]}],\"surface\":[{\"type\":\"surface\",\"colorbar\":{\"outlinewidth\":0,\"ticks\":\"\"},\"colorscale\":[[0.0,\"#0d0887\"],[0.1111111111111111,\"#46039f\"],[0.2222222222222222,\"#7201a8\"],[0.3333333333333333,\"#9c179e\"],[0.4444444444444444,\"#bd3786\"],[0.5555555555555556,\"#d8576b\"],[0.6666666666666666,\"#ed7953\"],[0.7777777777777778,\"#fb9f3a\"],[0.8888888888888888,\"#fdca26\"],[1.0,\"#f0f921\"]]}],\"mesh3d\":[{\"type\":\"mesh3d\",\"colorbar\":{\"outlinewidth\":0,\"ticks\":\"\"}}],\"scatter\":[{\"fillpattern\":{\"fillmode\":\"overlay\",\"size\":10,\"solidity\":0.2},\"type\":\"scatter\"}],\"parcoords\":[{\"type\":\"parcoords\",\"line\":{\"colorbar\":{\"outlinewidth\":0,\"ticks\":\"\"}}}],\"scatterpolargl\":[{\"type\":\"scatterpolargl\",\"marker\":{\"colorbar\":{\"outlinewidth\":0,\"ticks\":\"\"}}}],\"bar\":[{\"error_x\":{\"color\":\"#2a3f5f\"},\"error_y\":{\"color\":\"#2a3f5f\"},\"marker\":{\"line\":{\"color\":\"#E5ECF6\",\"width\":0.5},\"pattern\":{\"fillmode\":\"overlay\",\"size\":10,\"solidity\":0.2}},\"type\":\"bar\"}],\"scattergeo\":[{\"type\":\"scattergeo\",\"marker\":{\"colorbar\":{\"outlinewidth\":0,\"ticks\":\"\"}}}],\"scatterpolar\":[{\"type\":\"scatterpolar\",\"marker\":{\"colorbar\":{\"outlinewidth\":0,\"ticks\":\"\"}}}],\"histogram\":[{\"marker\":{\"pattern\":{\"fillmode\":\"overlay\",\"size\":10,\"solidity\":0.2}},\"type\":\"histogram\"}],\"scattergl\":[{\"type\":\"scattergl\",\"marker\":{\"colorbar\":{\"outlinewidth\":0,\"ticks\":\"\"}}}],\"scatter3d\":[{\"type\":\"scatter3d\",\"line\":{\"colorbar\":{\"outlinewidth\":0,\"ticks\":\"\"}},\"marker\":{\"colorbar\":{\"outlinewidth\":0,\"ticks\":\"\"}}}],\"scattermapbox\":[{\"type\":\"scattermapbox\",\"marker\":{\"colorbar\":{\"outlinewidth\":0,\"ticks\":\"\"}}}],\"scatterternary\":[{\"type\":\"scatterternary\",\"marker\":{\"colorbar\":{\"outlinewidth\":0,\"ticks\":\"\"}}}],\"scattercarpet\":[{\"type\":\"scattercarpet\",\"marker\":{\"colorbar\":{\"outlinewidth\":0,\"ticks\":\"\"}}}],\"carpet\":[{\"aaxis\":{\"endlinecolor\":\"#2a3f5f\",\"gridcolor\":\"white\",\"linecolor\":\"white\",\"minorgridcolor\":\"white\",\"startlinecolor\":\"#2a3f5f\"},\"baxis\":{\"endlinecolor\":\"#2a3f5f\",\"gridcolor\":\"white\",\"linecolor\":\"white\",\"minorgridcolor\":\"white\",\"startlinecolor\":\"#2a3f5f\"},\"type\":\"carpet\"}],\"table\":[{\"cells\":{\"fill\":{\"color\":\"#EBF0F8\"},\"line\":{\"color\":\"white\"}},\"header\":{\"fill\":{\"color\":\"#C8D4E3\"},\"line\":{\"color\":\"white\"}},\"type\":\"table\"}],\"barpolar\":[{\"marker\":{\"line\":{\"color\":\"#E5ECF6\",\"width\":0.5},\"pattern\":{\"fillmode\":\"overlay\",\"size\":10,\"solidity\":0.2}},\"type\":\"barpolar\"}],\"pie\":[{\"automargin\":true,\"type\":\"pie\"}]},\"layout\":{\"autotypenumbers\":\"strict\",\"colorway\":[\"#636efa\",\"#EF553B\",\"#00cc96\",\"#ab63fa\",\"#FFA15A\",\"#19d3f3\",\"#FF6692\",\"#B6E880\",\"#FF97FF\",\"#FECB52\"],\"font\":{\"color\":\"#2a3f5f\"},\"hovermode\":\"closest\",\"hoverlabel\":{\"align\":\"left\"},\"paper_bgcolor\":\"white\",\"plot_bgcolor\":\"#E5ECF6\",\"polar\":{\"bgcolor\":\"#E5ECF6\",\"angularaxis\":{\"gridcolor\":\"white\",\"linecolor\":\"white\",\"ticks\":\"\"},\"radialaxis\":{\"gridcolor\":\"white\",\"linecolor\":\"white\",\"ticks\":\"\"}},\"ternary\":{\"bgcolor\":\"#E5ECF6\",\"aaxis\":{\"gridcolor\":\"white\",\"linecolor\":\"white\",\"ticks\":\"\"},\"baxis\":{\"gridcolor\":\"white\",\"linecolor\":\"white\",\"ticks\":\"\"},\"caxis\":{\"gridcolor\":\"white\",\"linecolor\":\"white\",\"ticks\":\"\"}},\"coloraxis\":{\"colorbar\":{\"outlinewidth\":0,\"ticks\":\"\"}},\"colorscale\":{\"sequential\":[[0.0,\"#0d0887\"],[0.1111111111111111,\"#46039f\"],[0.2222222222222222,\"#7201a8\"],[0.3333333333333333,\"#9c179e\"],[0.4444444444444444,\"#bd3786\"],[0.5555555555555556,\"#d8576b\"],[0.6666666666666666,\"#ed7953\"],[0.7777777777777778,\"#fb9f3a\"],[0.8888888888888888,\"#fdca26\"],[1.0,\"#f0f921\"]],\"sequentialminus\":[[0.0,\"#0d0887\"],[0.1111111111111111,\"#46039f\"],[0.2222222222222222,\"#7201a8\"],[0.3333333333333333,\"#9c179e\"],[0.4444444444444444,\"#bd3786\"],[0.5555555555555556,\"#d8576b\"],[0.6666666666666666,\"#ed7953\"],[0.7777777777777778,\"#fb9f3a\"],[0.8888888888888888,\"#fdca26\"],[1.0,\"#f0f921\"]],\"diverging\":[[0,\"#8e0152\"],[0.1,\"#c51b7d\"],[0.2,\"#de77ae\"],[0.3,\"#f1b6da\"],[0.4,\"#fde0ef\"],[0.5,\"#f7f7f7\"],[0.6,\"#e6f5d0\"],[0.7,\"#b8e186\"],[0.8,\"#7fbc41\"],[0.9,\"#4d9221\"],[1,\"#276419\"]]},\"xaxis\":{\"gridcolor\":\"white\",\"linecolor\":\"white\",\"ticks\":\"\",\"title\":{\"standoff\":15},\"zerolinecolor\":\"white\",\"automargin\":true,\"zerolinewidth\":2},\"yaxis\":{\"gridcolor\":\"white\",\"linecolor\":\"white\",\"ticks\":\"\",\"title\":{\"standoff\":15},\"zerolinecolor\":\"white\",\"automargin\":true,\"zerolinewidth\":2},\"scene\":{\"xaxis\":{\"backgroundcolor\":\"#E5ECF6\",\"gridcolor\":\"white\",\"linecolor\":\"white\",\"showbackground\":true,\"ticks\":\"\",\"zerolinecolor\":\"white\",\"gridwidth\":2},\"yaxis\":{\"backgroundcolor\":\"#E5ECF6\",\"gridcolor\":\"white\",\"linecolor\":\"white\",\"showbackground\":true,\"ticks\":\"\",\"zerolinecolor\":\"white\",\"gridwidth\":2},\"zaxis\":{\"backgroundcolor\":\"#E5ECF6\",\"gridcolor\":\"white\",\"linecolor\":\"white\",\"showbackground\":true,\"ticks\":\"\",\"zerolinecolor\":\"white\",\"gridwidth\":2}},\"shapedefaults\":{\"line\":{\"color\":\"#2a3f5f\"}},\"annotationdefaults\":{\"arrowcolor\":\"#2a3f5f\",\"arrowhead\":0,\"arrowwidth\":1},\"geo\":{\"bgcolor\":\"white\",\"landcolor\":\"#E5ECF6\",\"subunitcolor\":\"white\",\"showland\":true,\"showlakes\":true,\"lakecolor\":\"white\"},\"title\":{\"x\":0.05},\"mapbox\":{\"style\":\"light\"}}},\"xaxis\":{\"anchor\":\"y\",\"domain\":[0.0,1.0],\"title\":{\"text\":\"Marital status\"}},\"yaxis\":{\"anchor\":\"x\",\"domain\":[0.0,1.0],\"title\":{\"text\":\"%count\"}},\"legend\":{\"title\":{\"text\":\"Target\"},\"tracegroupgap\":0},\"margin\":{\"t\":60},\"barmode\":\"group\",\"barnorm\":\"percent\",\"height\":500,\"width\":1200,\"title\":{\"text\":\"Marital status\"}},                        {\"responsive\": true}                    ).then(function(){\n",
              "                            \n",
              "var gd = document.getElementById('c165b5a6-aeb8-4a1f-ac66-5b974b4c77db');\n",
              "var x = new MutationObserver(function (mutations, observer) {{\n",
              "        var display = window.getComputedStyle(gd).display;\n",
              "        if (!display || display === 'none') {{\n",
              "            console.log([gd, 'removed!']);\n",
              "            Plotly.purge(gd);\n",
              "            observer.disconnect();\n",
              "        }}\n",
              "}});\n",
              "\n",
              "// Listen for the removal of the full notebook cells\n",
              "var notebookContainer = gd.closest('#notebook-container');\n",
              "if (notebookContainer) {{\n",
              "    x.observe(notebookContainer, {childList: true});\n",
              "}}\n",
              "\n",
              "// Listen for the clearing of the current output cell\n",
              "var outputEl = gd.closest('.output');\n",
              "if (outputEl) {{\n",
              "    x.observe(outputEl, {childList: true});\n",
              "}}\n",
              "\n",
              "                        })                };                            </script>        </div>\n",
              "</body>\n",
              "</html>"
            ]
          },
          "metadata": {}
        }
      ]
    },
    {
      "cell_type": "markdown",
      "metadata": {
        "id": "n5JNPK3fCIGJ"
      },
      "source": [
        "**Observation**\n",
        "\n",
        "* Vast majority of the students are single, however **30.2% of single students** droppout.\n",
        "* Another thing to note is that **legally seperated students (66.7)** had the highest percentage of dropouts followed by **Married students (47.2%)**."
      ]
    },
    {
      "cell_type": "markdown",
      "metadata": {
        "id": "MAVKZKnKeTQR"
      },
      "source": [
        "For function below is created to simplify the process and reduce repeatability."
      ]
    },
    {
      "cell_type": "code",
      "execution_count": 23,
      "metadata": {
        "id": "x_v5rJCSdJJb"
      },
      "outputs": [],
      "source": [
        "def sub_plots(chart_to_plot, row, col):\n",
        "  '''This function generates the list of subplots'''\n",
        "  cols = chart_to_plot * col\n",
        "  rows = [cols] * row\n",
        "  return rows\n"
      ]
    },
    {
      "cell_type": "markdown",
      "metadata": {
        "id": "yDl11V8RAIdS"
      },
      "source": [
        "## Student's Financial Status\n",
        "\n",
        "Next, we will analyze the financial status of students to understand how scholarship status, debt status, and tuition payment status correlate with dropout rates.\n",
        "\n"
      ]
    },
    {
      "cell_type": "code",
      "execution_count": 24,
      "metadata": {
        "id": "0KWZTJCzAIdS"
      },
      "outputs": [],
      "source": [
        "# Converting columns back to categorical\n",
        "to_convert = ['Debtor', 'Tuition fees up to date', 'Scholarship holder']\n",
        "for i in to_convert:\n",
        "    data_viz[i] = data_viz[i].map({1:'Yes', 0: 'No'})"
      ]
    },
    {
      "cell_type": "code",
      "execution_count": 25,
      "metadata": {
        "colab": {
          "base_uri": "https://localhost:8080/"
        },
        "id": "DtNJJYG819ig",
        "outputId": "464a57fa-b7ce-4601-e149-27b55014beb0"
      },
      "outputs": [
        {
          "output_type": "execute_result",
          "data": {
            "text/plain": [
              "[{'Graduate': np.int64(2108),\n",
              "  'Dropout': np.int64(1109),\n",
              "  'Enrolled': np.int64(704)},\n",
              " {'Dropout': np.int64(312),\n",
              "  'Graduate': np.int64(101),\n",
              "  'Enrolled': np.int64(90)}]"
            ]
          },
          "metadata": {},
          "execution_count": 25
        }
      ],
      "source": [
        "# Getting dictionaries for students in debt/ not in debt\n",
        "debt = data_viz['Debtor'].unique()\n",
        "debt_dictionaries = get_dictionaries(debt, 'Debtor', 'Target', [])\n",
        "debt_dictionaries"
      ]
    },
    {
      "cell_type": "code",
      "execution_count": 26,
      "metadata": {
        "colab": {
          "base_uri": "https://localhost:8080/"
        },
        "id": "xZFwg8Vu3S_6",
        "outputId": "36744df3-4653-47e1-f523-ed59a0aab8d9"
      },
      "outputs": [
        {
          "output_type": "execute_result",
          "data": {
            "text/plain": [
              "[{'Graduate': np.int64(2180),\n",
              "  'Dropout': np.int64(964),\n",
              "  'Enrolled': np.int64(752)},\n",
              " {'Dropout': np.int64(457),\n",
              "  'Enrolled': np.int64(42),\n",
              "  'Graduate': np.int64(29)}]"
            ]
          },
          "metadata": {},
          "execution_count": 26
        }
      ],
      "source": [
        "# Getting dictionaries for students with tuition fees paid/ not paid\n",
        "tuition = data_viz['Tuition fees up to date'].unique()\n",
        "tuition_dictionaries = get_dictionaries(tuition, 'Tuition fees up to date', 'Target', [])\n",
        "tuition_dictionaries"
      ]
    },
    {
      "cell_type": "code",
      "execution_count": 27,
      "metadata": {
        "colab": {
          "base_uri": "https://localhost:8080/"
        },
        "id": "PFhBaYgA39t9",
        "outputId": "0bab9d74-6257-4a33-c314-79f36859bb95"
      },
      "outputs": [
        {
          "output_type": "execute_result",
          "data": {
            "text/plain": [
              "[{'Graduate': np.int64(1374),\n",
              "  'Dropout': np.int64(1287),\n",
              "  'Enrolled': np.int64(664)},\n",
              " {'Graduate': np.int64(835),\n",
              "  'Dropout': np.int64(134),\n",
              "  'Enrolled': np.int64(130)}]"
            ]
          },
          "metadata": {},
          "execution_count": 27
        }
      ],
      "source": [
        "# Getting dictionaries for students with scholarship/ no scholarship\n",
        "scholarship = data_viz['Scholarship holder'].unique()\n",
        "scholarship_dictionaries = get_dictionaries(scholarship, 'Scholarship holder', 'Target', [])\n",
        "scholarship_dictionaries"
      ]
    },
    {
      "cell_type": "code",
      "execution_count": 28,
      "metadata": {
        "colab": {
          "base_uri": "https://localhost:8080/",
          "height": 1000
        },
        "outputId": "39f64fdc-b46d-43a6-d59f-47007d830e50",
        "id": "KeaJ5VkCiIrG"
      },
      "outputs": [
        {
          "output_type": "display_data",
          "data": {
            "text/html": [
              "<html>\n",
              "<head><meta charset=\"utf-8\" /></head>\n",
              "<body>\n",
              "    <div>            <script src=\"https://cdnjs.cloudflare.com/ajax/libs/mathjax/2.7.5/MathJax.js?config=TeX-AMS-MML_SVG\"></script><script type=\"text/javascript\">if (window.MathJax && window.MathJax.Hub && window.MathJax.Hub.Config) {window.MathJax.Hub.Config({SVG: {font: \"STIX-Web\"}});}</script>                <script type=\"text/javascript\">window.PlotlyConfig = {MathJaxConfig: 'local'};</script>\n",
              "        <script charset=\"utf-8\" src=\"https://cdn.plot.ly/plotly-2.35.2.min.js\"></script>                <div id=\"fb723d7a-1826-496b-af95-31d8c2357c39\" class=\"plotly-graph-div\" style=\"height:1000px; width:1000px;\"></div>            <script type=\"text/javascript\">                                    window.PLOTLYENV=window.PLOTLYENV || {};                                    if (document.getElementById(\"fb723d7a-1826-496b-af95-31d8c2357c39\")) {                    Plotly.newPlot(                        \"fb723d7a-1826-496b-af95-31d8c2357c39\",                        [{\"labels\":[\"Graduate\",\"Dropout\",\"Enrolled\"],\"marker\":{\"colors\":[\"teal\",\"goldenrod\",\"slateblue\"]},\"textinfo\":\"percent+label\",\"textposition\":\"inside\",\"values\":[2108,1109,704],\"type\":\"pie\",\"domain\":{\"x\":[0.0,0.45],\"y\":[0.7133333333333334,1.0]}},{\"labels\":[\"Dropout\",\"Graduate\",\"Enrolled\"],\"marker\":{\"colors\":[\"teal\",\"goldenrod\",\"slateblue\"]},\"textinfo\":\"percent+label\",\"textposition\":\"inside\",\"values\":[312,101,90],\"type\":\"pie\",\"domain\":{\"x\":[0.55,1.0],\"y\":[0.7133333333333334,1.0]}},{\"labels\":[\"Graduate\",\"Dropout\",\"Enrolled\"],\"marker\":{\"colors\":[\"teal\",\"goldenrod\",\"slateblue\"]},\"textinfo\":\"percent+label\",\"textposition\":\"inside\",\"values\":[2180,964,752],\"type\":\"pie\",\"domain\":{\"x\":[0.0,0.45],\"y\":[0.3566666666666667,0.6433333333333333]}},{\"labels\":[\"Dropout\",\"Enrolled\",\"Graduate\"],\"marker\":{\"colors\":[\"teal\",\"goldenrod\",\"slateblue\"]},\"textinfo\":\"percent+label\",\"textposition\":\"inside\",\"values\":[457,42,29],\"type\":\"pie\",\"domain\":{\"x\":[0.55,1.0],\"y\":[0.3566666666666667,0.6433333333333333]}},{\"labels\":[\"Graduate\",\"Dropout\",\"Enrolled\"],\"marker\":{\"colors\":[\"teal\",\"goldenrod\",\"slateblue\"]},\"textinfo\":\"percent+label\",\"textposition\":\"inside\",\"values\":[1374,1287,664],\"type\":\"pie\",\"domain\":{\"x\":[0.0,0.45],\"y\":[0.0,0.2866666666666667]}},{\"labels\":[\"Graduate\",\"Dropout\",\"Enrolled\"],\"marker\":{\"colors\":[\"teal\",\"goldenrod\",\"slateblue\"]},\"textinfo\":\"percent+label\",\"textposition\":\"inside\",\"values\":[835,134,130],\"type\":\"pie\",\"domain\":{\"x\":[0.55,1.0],\"y\":[0.0,0.2866666666666667]}}],                        {\"template\":{\"data\":{\"histogram2dcontour\":[{\"type\":\"histogram2dcontour\",\"colorbar\":{\"outlinewidth\":0,\"ticks\":\"\"},\"colorscale\":[[0.0,\"#0d0887\"],[0.1111111111111111,\"#46039f\"],[0.2222222222222222,\"#7201a8\"],[0.3333333333333333,\"#9c179e\"],[0.4444444444444444,\"#bd3786\"],[0.5555555555555556,\"#d8576b\"],[0.6666666666666666,\"#ed7953\"],[0.7777777777777778,\"#fb9f3a\"],[0.8888888888888888,\"#fdca26\"],[1.0,\"#f0f921\"]]}],\"choropleth\":[{\"type\":\"choropleth\",\"colorbar\":{\"outlinewidth\":0,\"ticks\":\"\"}}],\"histogram2d\":[{\"type\":\"histogram2d\",\"colorbar\":{\"outlinewidth\":0,\"ticks\":\"\"},\"colorscale\":[[0.0,\"#0d0887\"],[0.1111111111111111,\"#46039f\"],[0.2222222222222222,\"#7201a8\"],[0.3333333333333333,\"#9c179e\"],[0.4444444444444444,\"#bd3786\"],[0.5555555555555556,\"#d8576b\"],[0.6666666666666666,\"#ed7953\"],[0.7777777777777778,\"#fb9f3a\"],[0.8888888888888888,\"#fdca26\"],[1.0,\"#f0f921\"]]}],\"heatmap\":[{\"type\":\"heatmap\",\"colorbar\":{\"outlinewidth\":0,\"ticks\":\"\"},\"colorscale\":[[0.0,\"#0d0887\"],[0.1111111111111111,\"#46039f\"],[0.2222222222222222,\"#7201a8\"],[0.3333333333333333,\"#9c179e\"],[0.4444444444444444,\"#bd3786\"],[0.5555555555555556,\"#d8576b\"],[0.6666666666666666,\"#ed7953\"],[0.7777777777777778,\"#fb9f3a\"],[0.8888888888888888,\"#fdca26\"],[1.0,\"#f0f921\"]]}],\"heatmapgl\":[{\"type\":\"heatmapgl\",\"colorbar\":{\"outlinewidth\":0,\"ticks\":\"\"},\"colorscale\":[[0.0,\"#0d0887\"],[0.1111111111111111,\"#46039f\"],[0.2222222222222222,\"#7201a8\"],[0.3333333333333333,\"#9c179e\"],[0.4444444444444444,\"#bd3786\"],[0.5555555555555556,\"#d8576b\"],[0.6666666666666666,\"#ed7953\"],[0.7777777777777778,\"#fb9f3a\"],[0.8888888888888888,\"#fdca26\"],[1.0,\"#f0f921\"]]}],\"contourcarpet\":[{\"type\":\"contourcarpet\",\"colorbar\":{\"outlinewidth\":0,\"ticks\":\"\"}}],\"contour\":[{\"type\":\"contour\",\"colorbar\":{\"outlinewidth\":0,\"ticks\":\"\"},\"colorscale\":[[0.0,\"#0d0887\"],[0.1111111111111111,\"#46039f\"],[0.2222222222222222,\"#7201a8\"],[0.3333333333333333,\"#9c179e\"],[0.4444444444444444,\"#bd3786\"],[0.5555555555555556,\"#d8576b\"],[0.6666666666666666,\"#ed7953\"],[0.7777777777777778,\"#fb9f3a\"],[0.8888888888888888,\"#fdca26\"],[1.0,\"#f0f921\"]]}],\"surface\":[{\"type\":\"surface\",\"colorbar\":{\"outlinewidth\":0,\"ticks\":\"\"},\"colorscale\":[[0.0,\"#0d0887\"],[0.1111111111111111,\"#46039f\"],[0.2222222222222222,\"#7201a8\"],[0.3333333333333333,\"#9c179e\"],[0.4444444444444444,\"#bd3786\"],[0.5555555555555556,\"#d8576b\"],[0.6666666666666666,\"#ed7953\"],[0.7777777777777778,\"#fb9f3a\"],[0.8888888888888888,\"#fdca26\"],[1.0,\"#f0f921\"]]}],\"mesh3d\":[{\"type\":\"mesh3d\",\"colorbar\":{\"outlinewidth\":0,\"ticks\":\"\"}}],\"scatter\":[{\"fillpattern\":{\"fillmode\":\"overlay\",\"size\":10,\"solidity\":0.2},\"type\":\"scatter\"}],\"parcoords\":[{\"type\":\"parcoords\",\"line\":{\"colorbar\":{\"outlinewidth\":0,\"ticks\":\"\"}}}],\"scatterpolargl\":[{\"type\":\"scatterpolargl\",\"marker\":{\"colorbar\":{\"outlinewidth\":0,\"ticks\":\"\"}}}],\"bar\":[{\"error_x\":{\"color\":\"#2a3f5f\"},\"error_y\":{\"color\":\"#2a3f5f\"},\"marker\":{\"line\":{\"color\":\"#E5ECF6\",\"width\":0.5},\"pattern\":{\"fillmode\":\"overlay\",\"size\":10,\"solidity\":0.2}},\"type\":\"bar\"}],\"scattergeo\":[{\"type\":\"scattergeo\",\"marker\":{\"colorbar\":{\"outlinewidth\":0,\"ticks\":\"\"}}}],\"scatterpolar\":[{\"type\":\"scatterpolar\",\"marker\":{\"colorbar\":{\"outlinewidth\":0,\"ticks\":\"\"}}}],\"histogram\":[{\"marker\":{\"pattern\":{\"fillmode\":\"overlay\",\"size\":10,\"solidity\":0.2}},\"type\":\"histogram\"}],\"scattergl\":[{\"type\":\"scattergl\",\"marker\":{\"colorbar\":{\"outlinewidth\":0,\"ticks\":\"\"}}}],\"scatter3d\":[{\"type\":\"scatter3d\",\"line\":{\"colorbar\":{\"outlinewidth\":0,\"ticks\":\"\"}},\"marker\":{\"colorbar\":{\"outlinewidth\":0,\"ticks\":\"\"}}}],\"scattermapbox\":[{\"type\":\"scattermapbox\",\"marker\":{\"colorbar\":{\"outlinewidth\":0,\"ticks\":\"\"}}}],\"scatterternary\":[{\"type\":\"scatterternary\",\"marker\":{\"colorbar\":{\"outlinewidth\":0,\"ticks\":\"\"}}}],\"scattercarpet\":[{\"type\":\"scattercarpet\",\"marker\":{\"colorbar\":{\"outlinewidth\":0,\"ticks\":\"\"}}}],\"carpet\":[{\"aaxis\":{\"endlinecolor\":\"#2a3f5f\",\"gridcolor\":\"white\",\"linecolor\":\"white\",\"minorgridcolor\":\"white\",\"startlinecolor\":\"#2a3f5f\"},\"baxis\":{\"endlinecolor\":\"#2a3f5f\",\"gridcolor\":\"white\",\"linecolor\":\"white\",\"minorgridcolor\":\"white\",\"startlinecolor\":\"#2a3f5f\"},\"type\":\"carpet\"}],\"table\":[{\"cells\":{\"fill\":{\"color\":\"#EBF0F8\"},\"line\":{\"color\":\"white\"}},\"header\":{\"fill\":{\"color\":\"#C8D4E3\"},\"line\":{\"color\":\"white\"}},\"type\":\"table\"}],\"barpolar\":[{\"marker\":{\"line\":{\"color\":\"#E5ECF6\",\"width\":0.5},\"pattern\":{\"fillmode\":\"overlay\",\"size\":10,\"solidity\":0.2}},\"type\":\"barpolar\"}],\"pie\":[{\"automargin\":true,\"type\":\"pie\"}]},\"layout\":{\"autotypenumbers\":\"strict\",\"colorway\":[\"#636efa\",\"#EF553B\",\"#00cc96\",\"#ab63fa\",\"#FFA15A\",\"#19d3f3\",\"#FF6692\",\"#B6E880\",\"#FF97FF\",\"#FECB52\"],\"font\":{\"color\":\"#2a3f5f\"},\"hovermode\":\"closest\",\"hoverlabel\":{\"align\":\"left\"},\"paper_bgcolor\":\"white\",\"plot_bgcolor\":\"#E5ECF6\",\"polar\":{\"bgcolor\":\"#E5ECF6\",\"angularaxis\":{\"gridcolor\":\"white\",\"linecolor\":\"white\",\"ticks\":\"\"},\"radialaxis\":{\"gridcolor\":\"white\",\"linecolor\":\"white\",\"ticks\":\"\"}},\"ternary\":{\"bgcolor\":\"#E5ECF6\",\"aaxis\":{\"gridcolor\":\"white\",\"linecolor\":\"white\",\"ticks\":\"\"},\"baxis\":{\"gridcolor\":\"white\",\"linecolor\":\"white\",\"ticks\":\"\"},\"caxis\":{\"gridcolor\":\"white\",\"linecolor\":\"white\",\"ticks\":\"\"}},\"coloraxis\":{\"colorbar\":{\"outlinewidth\":0,\"ticks\":\"\"}},\"colorscale\":{\"sequential\":[[0.0,\"#0d0887\"],[0.1111111111111111,\"#46039f\"],[0.2222222222222222,\"#7201a8\"],[0.3333333333333333,\"#9c179e\"],[0.4444444444444444,\"#bd3786\"],[0.5555555555555556,\"#d8576b\"],[0.6666666666666666,\"#ed7953\"],[0.7777777777777778,\"#fb9f3a\"],[0.8888888888888888,\"#fdca26\"],[1.0,\"#f0f921\"]],\"sequentialminus\":[[0.0,\"#0d0887\"],[0.1111111111111111,\"#46039f\"],[0.2222222222222222,\"#7201a8\"],[0.3333333333333333,\"#9c179e\"],[0.4444444444444444,\"#bd3786\"],[0.5555555555555556,\"#d8576b\"],[0.6666666666666666,\"#ed7953\"],[0.7777777777777778,\"#fb9f3a\"],[0.8888888888888888,\"#fdca26\"],[1.0,\"#f0f921\"]],\"diverging\":[[0,\"#8e0152\"],[0.1,\"#c51b7d\"],[0.2,\"#de77ae\"],[0.3,\"#f1b6da\"],[0.4,\"#fde0ef\"],[0.5,\"#f7f7f7\"],[0.6,\"#e6f5d0\"],[0.7,\"#b8e186\"],[0.8,\"#7fbc41\"],[0.9,\"#4d9221\"],[1,\"#276419\"]]},\"xaxis\":{\"gridcolor\":\"white\",\"linecolor\":\"white\",\"ticks\":\"\",\"title\":{\"standoff\":15},\"zerolinecolor\":\"white\",\"automargin\":true,\"zerolinewidth\":2},\"yaxis\":{\"gridcolor\":\"white\",\"linecolor\":\"white\",\"ticks\":\"\",\"title\":{\"standoff\":15},\"zerolinecolor\":\"white\",\"automargin\":true,\"zerolinewidth\":2},\"scene\":{\"xaxis\":{\"backgroundcolor\":\"#E5ECF6\",\"gridcolor\":\"white\",\"linecolor\":\"white\",\"showbackground\":true,\"ticks\":\"\",\"zerolinecolor\":\"white\",\"gridwidth\":2},\"yaxis\":{\"backgroundcolor\":\"#E5ECF6\",\"gridcolor\":\"white\",\"linecolor\":\"white\",\"showbackground\":true,\"ticks\":\"\",\"zerolinecolor\":\"white\",\"gridwidth\":2},\"zaxis\":{\"backgroundcolor\":\"#E5ECF6\",\"gridcolor\":\"white\",\"linecolor\":\"white\",\"showbackground\":true,\"ticks\":\"\",\"zerolinecolor\":\"white\",\"gridwidth\":2}},\"shapedefaults\":{\"line\":{\"color\":\"#2a3f5f\"}},\"annotationdefaults\":{\"arrowcolor\":\"#2a3f5f\",\"arrowhead\":0,\"arrowwidth\":1},\"geo\":{\"bgcolor\":\"white\",\"landcolor\":\"#E5ECF6\",\"subunitcolor\":\"white\",\"showland\":true,\"showlakes\":true,\"lakecolor\":\"white\"},\"title\":{\"x\":0.05},\"mapbox\":{\"style\":\"light\"}}},\"annotations\":[{\"font\":{\"size\":16},\"showarrow\":false,\"text\":\"No Debt\",\"x\":0.225,\"xanchor\":\"center\",\"xref\":\"paper\",\"y\":1.0,\"yanchor\":\"bottom\",\"yref\":\"paper\"},{\"font\":{\"size\":16},\"showarrow\":false,\"text\":\"Debt\",\"x\":0.775,\"xanchor\":\"center\",\"xref\":\"paper\",\"y\":1.0,\"yanchor\":\"bottom\",\"yref\":\"paper\"},{\"font\":{\"size\":16},\"showarrow\":false,\"text\":\"Tuition Paid\",\"x\":0.225,\"xanchor\":\"center\",\"xref\":\"paper\",\"y\":0.6433333333333333,\"yanchor\":\"bottom\",\"yref\":\"paper\"},{\"font\":{\"size\":16},\"showarrow\":false,\"text\":\"Tuition not paid\",\"x\":0.775,\"xanchor\":\"center\",\"xref\":\"paper\",\"y\":0.6433333333333333,\"yanchor\":\"bottom\",\"yref\":\"paper\"},{\"font\":{\"size\":16},\"showarrow\":false,\"text\":\"No Scholarship\",\"x\":0.225,\"xanchor\":\"center\",\"xref\":\"paper\",\"y\":0.2866666666666667,\"yanchor\":\"bottom\",\"yref\":\"paper\"},{\"font\":{\"size\":16},\"showarrow\":false,\"text\":\"Scholarship\",\"x\":0.775,\"xanchor\":\"center\",\"xref\":\"paper\",\"y\":0.2866666666666667,\"yanchor\":\"bottom\",\"yref\":\"paper\"}],\"title\":{\"text\":\"Students Financial status\",\"pad\":{\"t\":100}},\"height\":1000,\"width\":1000,\"showlegend\":false},                        {\"responsive\": true}                    ).then(function(){\n",
              "                            \n",
              "var gd = document.getElementById('fb723d7a-1826-496b-af95-31d8c2357c39');\n",
              "var x = new MutationObserver(function (mutations, observer) {{\n",
              "        var display = window.getComputedStyle(gd).display;\n",
              "        if (!display || display === 'none') {{\n",
              "            console.log([gd, 'removed!']);\n",
              "            Plotly.purge(gd);\n",
              "            observer.disconnect();\n",
              "        }}\n",
              "}});\n",
              "\n",
              "// Listen for the removal of the full notebook cells\n",
              "var notebookContainer = gd.closest('#notebook-container');\n",
              "if (notebookContainer) {{\n",
              "    x.observe(notebookContainer, {childList: true});\n",
              "}}\n",
              "\n",
              "// Listen for the clearing of the current output cell\n",
              "var outputEl = gd.closest('.output');\n",
              "if (outputEl) {{\n",
              "    x.observe(outputEl, {childList: true});\n",
              "}}\n",
              "\n",
              "                        })                };                            </script>        </div>\n",
              "</body>\n",
              "</html>"
            ]
          },
          "metadata": {}
        }
      ],
      "source": [
        "# Creatign subplots for pie charts\n",
        "fig = make_subplots(rows=3, cols=2,\n",
        "                    subplot_titles = ['No Debt', 'Debt', 'Tuition Paid', 'Tuition not paid', 'No Scholarship', 'Scholarship'],\n",
        "                    specs= sub_plots([{'type':'pie'}], 3,2), vertical_spacing = 0.07)\n",
        "\n",
        "# Initialize an empty list for traces\n",
        "traces = []\n",
        "\n",
        "# Generate traces\n",
        "make_pie(debt_dictionaries, traces, ['teal', 'goldenrod', 'slateblue'])\n",
        "make_pie(tuition_dictionaries, traces, ['teal', 'goldenrod', 'slateblue'])\n",
        "make_pie(scholarship_dictionaries, traces, ['teal', 'goldenrod', 'slateblue'])\n",
        "\n",
        "# Adding pie charts to fig\n",
        "fig.add_trace(traces[0], row=1, col=1)\n",
        "fig.add_trace(traces[1], row=1, col=2)\n",
        "fig.add_trace(traces[2], row=2, col=1)\n",
        "fig.add_trace(traces[3], row=2, col=2)\n",
        "fig.add_trace(traces[4], row=3, col=1)\n",
        "fig.add_trace(traces[5], row=3, col=2)\n",
        "\n",
        "\n",
        "fig.update_layout(title=\"Students Financial status\", height=1000, width=1000, showlegend = False, title_pad=dict(t=100))\n",
        "# fig.write_image('fig.svg', engine='kaleido')\n",
        "fig.show()"
      ]
    },
    {
      "cell_type": "markdown",
      "metadata": {
        "id": "Ots5fQ7U2Owr"
      },
      "source": [
        "**Observation**\n",
        "\n",
        "Unsurprisingly, students who were in **debt** and had not completed payment for **tuition** had a higher dropout rate of **62% and 86.6%** respectively.\n",
        "\n",
        "Similarly, students who were granted **scholarships** had a low dropout rate of **12.2%** compared to those who were not given **(38.7%)**."
      ]
    },
    {
      "cell_type": "markdown",
      "source": [
        "Based on our EDA, we have a good understanding of how the data is distributed by gender and age, as well as how certain features like courses enrolled and financial status correlate with the dropout rate. In the next phase, we will build and train a classification model to see if our findings are consistent with the model's results."
      ],
      "metadata": {
        "id": "liezly3LoQtE"
      }
    },
    {
      "cell_type": "markdown",
      "metadata": {
        "id": "HQ5RFWyXIZRg"
      },
      "source": [
        "## Data preparation"
      ]
    },
    {
      "cell_type": "markdown",
      "metadata": {
        "id": "CnG79OGKMBqY"
      },
      "source": [
        "### Features selection\n",
        "\n",
        "The easiest way to view how independent features are correlated is through correlation analysis.\n",
        "\n",
        "This will help in feature selection and determine which independent variables can be dropped or combined to avoid Multicollinearity\n",
        "\n",
        "We can visualize this using heatmaps"
      ]
    },
    {
      "cell_type": "code",
      "execution_count": 29,
      "metadata": {
        "colab": {
          "base_uri": "https://localhost:8080/",
          "height": 837
        },
        "id": "gEzPbPeSLk_v",
        "outputId": "dcedef1c-f91a-4058-8274-6b6a213e605c"
      },
      "outputs": [
        {
          "output_type": "display_data",
          "data": {
            "text/html": [
              "<html>\n",
              "<head><meta charset=\"utf-8\" /></head>\n",
              "<body>\n",
              "    <div>            <script src=\"https://cdnjs.cloudflare.com/ajax/libs/mathjax/2.7.5/MathJax.js?config=TeX-AMS-MML_SVG\"></script><script type=\"text/javascript\">if (window.MathJax && window.MathJax.Hub && window.MathJax.Hub.Config) {window.MathJax.Hub.Config({SVG: {font: \"STIX-Web\"}});}</script>                <script type=\"text/javascript\">window.PlotlyConfig = {MathJaxConfig: 'local'};</script>\n",
              "        <script charset=\"utf-8\" src=\"https://cdn.plot.ly/plotly-2.35.2.min.js\"></script>                <div id=\"f675ad65-5acd-41a6-a23a-7d7efde74ba4\" class=\"plotly-graph-div\" style=\"height:800px; width:1500px;\"></div>            <script type=\"text/javascript\">                                    window.PLOTLYENV=window.PLOTLYENV || {};                                    if (document.getElementById(\"f675ad65-5acd-41a6-a23a-7d7efde74ba4\")) {                    Plotly.newPlot(                        \"f675ad65-5acd-41a6-a23a-7d7efde74ba4\",                        [{\"coloraxis\":\"coloraxis\",\"name\":\"0\",\"texttemplate\":\"%{z}\",\"x\":[\"Marital status\",\"Application mode\",\"Application order\",\"Course\",\"Daytime\\u002fevening attendance\",\"Previous qualification\",\"Nationality\",\"Mother's qualification\",\"Father's qualification\",\"Mother's occupation\",\"Father's occupation\",\"Displaced\",\"Educational special needs\",\"Debtor\",\"Tuition fees up to date\",\"Gender\",\"Scholarship holder\",\"Age at enrollment\",\"International\",\"Curricular units 1st sem (credited)\",\"Curricular units 1st sem (enrolled)\",\"Curricular units 1st sem (evaluations)\",\"Curricular units 1st sem (approved)\",\"Curricular units 1st sem (grade)\",\"Curricular units 1st sem (without evaluations)\",\"Curricular units 2nd sem (credited)\",\"Curricular units 2nd sem (enrolled)\",\"Curricular units 2nd sem (evaluations)\",\"Curricular units 2nd sem (approved)\",\"Curricular units 2nd sem (grade)\",\"Curricular units 2nd sem (without evaluations)\",\"Unemployment rate\",\"Inflation rate\",\"GDP\"],\"y\":[\"Marital status\",\"Application mode\",\"Application order\",\"Course\",\"Daytime\\u002fevening attendance\",\"Previous qualification\",\"Nationality\",\"Mother's qualification\",\"Father's qualification\",\"Mother's occupation\",\"Father's occupation\",\"Displaced\",\"Educational special needs\",\"Debtor\",\"Tuition fees up to date\",\"Gender\",\"Scholarship holder\",\"Age at enrollment\",\"International\",\"Curricular units 1st sem (credited)\",\"Curricular units 1st sem (enrolled)\",\"Curricular units 1st sem (evaluations)\",\"Curricular units 1st sem (approved)\",\"Curricular units 1st sem (grade)\",\"Curricular units 1st sem (without evaluations)\",\"Curricular units 2nd sem (credited)\",\"Curricular units 2nd sem (enrolled)\",\"Curricular units 2nd sem (evaluations)\",\"Curricular units 2nd sem (approved)\",\"Curricular units 2nd sem (grade)\",\"Curricular units 2nd sem (without evaluations)\",\"Unemployment rate\",\"Inflation rate\",\"GDP\"],\"z\":[[1.0,0.22,-0.13,0.02,-0.27,0.12,-0.02,0.19,0.13,0.07,0.02,-0.23,-0.03,0.03,-0.09,-0.01,-0.05,0.52,-0.03,0.06,0.05,0.06,-0.03,-0.06,0.03,0.06,0.04,0.02,-0.04,-0.07,0.02,-0.02,0.01,-0.03],[0.22,1.0,-0.25,-0.09,-0.27,0.43,-0.0,0.09,0.07,0.03,0.0,-0.26,-0.03,0.11,-0.13,0.15,-0.15,0.45,0.01,0.24,0.16,0.22,-0.02,-0.11,0.04,0.23,0.13,0.16,-0.07,-0.1,0.04,0.09,-0.02,-0.01],[-0.13,-0.25,1.0,0.12,0.16,-0.2,-0.03,-0.06,-0.05,-0.05,-0.03,0.33,0.03,-0.07,0.06,-0.09,0.07,-0.27,-0.03,-0.13,-0.02,-0.09,0.04,0.06,-0.03,-0.13,0.03,-0.06,0.07,0.06,-0.02,-0.1,-0.01,0.03],[0.02,-0.09,0.12,1.0,-0.07,-0.16,-0.0,0.06,0.05,0.03,0.02,0.01,-0.0,-0.05,0.03,-0.11,0.05,-0.04,-0.0,-0.14,0.11,0.03,0.08,0.18,-0.06,-0.12,0.19,0.05,0.12,0.18,-0.01,-0.05,0.03,-0.01],[-0.27,-0.27,0.16,-0.07,1.0,-0.1,0.02,-0.2,-0.14,-0.04,0.0,0.25,0.03,0.01,0.04,-0.01,0.09,-0.46,0.03,-0.13,-0.04,-0.05,0.02,0.06,0.05,-0.11,0.0,0.01,0.03,0.05,-0.0,0.06,-0.02,0.02],[0.12,0.43,-0.2,-0.16,-0.1,1.0,-0.04,0.02,0.01,0.01,0.01,-0.15,-0.02,0.12,-0.1,0.09,-0.09,0.25,-0.03,0.16,0.08,0.13,-0.01,-0.03,0.02,0.14,0.06,0.1,-0.04,-0.04,0.02,0.1,-0.06,0.05],[-0.02,-0.0,-0.03,-0.0,0.02,-0.04,1.0,-0.04,-0.09,0.04,0.02,-0.01,-0.0,0.07,-0.04,-0.03,-0.02,-0.01,0.91,0.01,-0.01,0.01,0.0,0.0,0.03,-0.0,-0.02,-0.02,-0.01,-0.01,-0.01,-0.01,-0.01,0.04],[0.19,0.09,-0.06,0.06,-0.2,0.02,-0.04,1.0,0.52,0.3,0.12,-0.08,-0.02,0.02,-0.02,-0.06,0.05,0.28,-0.04,0.04,0.05,0.04,-0.01,-0.03,0.0,0.04,0.03,0.02,-0.01,-0.03,0.02,-0.11,0.06,-0.08],[0.13,0.07,-0.05,0.05,-0.14,0.01,-0.09,0.52,1.0,0.21,0.18,-0.06,0.0,-0.01,-0.02,-0.07,0.11,0.19,-0.09,0.04,0.04,0.04,0.01,-0.01,-0.02,0.04,0.02,0.01,0.01,-0.01,-0.01,-0.08,0.06,-0.07],[0.07,0.03,-0.05,0.03,-0.04,0.01,0.04,0.3,0.21,1.0,0.72,-0.04,-0.01,0.11,-0.0,-0.02,0.09,0.09,0.04,0.0,0.01,0.02,0.02,0.02,-0.01,-0.0,0.01,0.01,0.02,0.04,-0.0,-0.01,0.02,0.09],[0.02,0.0,-0.03,0.02,0.0,0.01,0.02,0.12,0.18,0.72,1.0,-0.02,0.0,0.09,0.02,-0.03,0.06,0.0,0.02,-0.01,0.01,0.0,0.02,0.02,-0.04,-0.01,0.01,0.0,0.02,0.04,-0.04,-0.03,0.01,0.13],[-0.23,-0.26,0.33,0.01,0.25,-0.15,-0.01,-0.08,-0.06,-0.04,-0.02,1.0,0.0,-0.09,0.1,-0.13,0.07,-0.36,-0.01,-0.1,-0.06,-0.08,0.05,0.06,-0.02,-0.09,-0.04,-0.04,0.06,0.07,-0.04,-0.13,-0.01,0.06],[-0.03,-0.03,0.03,-0.0,0.03,-0.02,-0.0,-0.02,0.0,-0.01,0.0,0.0,1.0,0.0,0.01,-0.02,0.02,-0.04,-0.0,-0.02,-0.03,-0.03,-0.02,-0.01,-0.01,-0.02,-0.03,-0.01,-0.02,-0.01,-0.01,0.05,0.0,0.01],[0.03,0.11,-0.07,-0.05,0.01,0.12,0.07,0.02,-0.01,0.11,0.09,-0.09,0.0,1.0,-0.41,0.05,-0.07,0.1,0.08,0.03,-0.01,0.04,-0.11,-0.1,0.0,0.03,-0.03,0.02,-0.15,-0.14,0.05,0.02,-0.02,0.08],[-0.09,-0.13,0.06,0.03,0.04,-0.1,-0.04,-0.02,-0.02,-0.0,0.02,0.1,0.01,-0.41,1.0,-0.1,0.14,-0.18,-0.04,0.0,0.06,0.03,0.24,0.25,-0.05,0.01,0.09,0.06,0.29,0.3,-0.07,0.01,-0.0,-0.0],[-0.01,0.15,-0.09,-0.11,-0.01,0.09,-0.03,-0.06,-0.07,-0.02,-0.03,-0.13,-0.02,0.05,-0.1,1.0,-0.17,0.15,-0.03,0.02,-0.1,-0.02,-0.18,-0.19,-0.01,0.02,-0.12,-0.04,-0.22,-0.2,0.06,0.02,0.0,-0.01],[-0.05,-0.15,0.07,0.05,0.09,-0.09,-0.02,0.05,0.11,0.09,0.06,0.07,0.02,-0.07,0.14,-0.17,1.0,-0.19,-0.03,-0.09,-0.0,-0.06,0.15,0.17,-0.06,-0.08,0.03,-0.02,0.2,0.18,-0.05,0.06,-0.03,0.04],[0.52,0.45,-0.27,-0.04,-0.46,0.25,-0.01,0.28,0.19,0.09,0.0,-0.36,-0.04,0.1,-0.18,0.15,-0.19,1.0,-0.01,0.23,0.14,0.14,-0.05,-0.16,0.06,0.21,0.09,0.06,-0.11,-0.17,0.06,0.03,0.03,-0.06],[-0.03,0.01,-0.03,-0.0,0.03,-0.03,0.91,-0.04,-0.09,0.04,0.02,-0.01,-0.0,0.08,-0.04,-0.03,-0.03,-0.01,1.0,0.01,0.0,0.01,0.01,0.01,0.03,0.0,-0.01,-0.0,-0.01,0.0,-0.01,-0.01,-0.01,0.04],[0.06,0.24,-0.13,-0.14,-0.13,0.16,0.01,0.04,0.04,0.0,-0.01,-0.1,-0.02,0.03,0.0,0.02,-0.09,0.23,0.01,1.0,0.77,0.54,0.63,0.12,0.12,0.94,0.64,0.43,0.49,0.13,0.06,0.01,0.02,-0.03],[0.05,0.16,-0.02,0.11,-0.04,0.08,-0.01,0.05,0.04,0.01,0.01,-0.06,-0.03,-0.01,0.06,-0.1,-0.0,0.14,0.0,0.77,1.0,0.68,0.77,0.38,0.13,0.75,0.94,0.6,0.67,0.36,0.07,0.04,0.04,-0.03],[0.06,0.22,-0.09,0.03,-0.05,0.13,0.01,0.04,0.04,0.02,0.0,-0.08,-0.03,0.04,0.03,-0.02,-0.06,0.14,0.01,0.54,0.68,1.0,0.52,0.42,0.24,0.52,0.61,0.78,0.44,0.36,0.13,0.06,-0.01,-0.1],[-0.03,-0.02,0.04,0.08,0.02,-0.01,0.0,-0.01,0.01,0.02,0.02,0.05,-0.02,-0.11,0.24,-0.18,0.15,-0.05,0.01,0.63,0.77,0.52,1.0,0.7,-0.01,0.61,0.73,0.54,0.9,0.69,-0.05,0.05,-0.01,0.02],[-0.06,-0.11,0.06,0.18,0.06,-0.03,0.0,-0.03,-0.01,0.02,0.02,0.06,-0.01,-0.1,0.25,-0.19,0.17,-0.16,0.01,0.12,0.38,0.42,0.7,1.0,-0.07,0.11,0.41,0.49,0.67,0.84,-0.07,0.01,-0.03,0.05],[0.03,0.04,-0.03,-0.06,0.05,0.02,0.03,0.0,-0.02,-0.01,-0.04,-0.02,-0.01,0.0,-0.05,-0.01,-0.06,0.06,0.03,0.12,0.13,0.24,-0.01,-0.07,1.0,0.12,0.11,0.14,-0.01,-0.06,0.58,-0.05,-0.05,-0.14],[0.06,0.23,-0.13,-0.12,-0.11,0.14,-0.0,0.04,0.04,-0.0,-0.01,-0.09,-0.02,0.03,0.01,0.02,-0.08,0.21,0.0,0.94,0.75,0.52,0.61,0.11,0.12,1.0,0.68,0.43,0.52,0.13,0.07,0.01,0.01,-0.02],[0.04,0.13,0.03,0.19,0.0,0.06,-0.02,0.03,0.02,0.01,0.01,-0.04,-0.03,-0.03,0.09,-0.12,0.03,0.09,-0.01,0.64,0.94,0.61,0.73,0.41,0.11,0.68,1.0,0.6,0.7,0.4,0.07,0.06,0.02,-0.01],[0.02,0.16,-0.06,0.05,0.01,0.1,-0.02,0.02,0.01,0.01,0.0,-0.04,-0.01,0.02,0.06,-0.04,-0.02,0.06,-0.0,0.43,0.6,0.78,0.54,0.49,0.14,0.43,0.6,1.0,0.46,0.45,0.14,0.05,-0.01,-0.0],[-0.04,-0.07,0.07,0.12,0.03,-0.04,-0.01,-0.01,0.01,0.02,0.02,0.06,-0.02,-0.15,0.29,-0.22,0.2,-0.11,-0.01,0.49,0.67,0.44,0.9,0.67,-0.01,0.52,0.7,0.46,1.0,0.76,-0.06,0.05,-0.02,0.02],[-0.07,-0.1,0.06,0.18,0.05,-0.04,-0.01,-0.03,-0.01,0.04,0.04,0.07,-0.01,-0.14,0.3,-0.2,0.18,-0.17,0.0,0.13,0.36,0.36,0.69,0.84,-0.06,0.13,0.4,0.45,0.76,1.0,-0.08,0.0,-0.04,0.07],[0.02,0.04,-0.02,-0.01,-0.0,0.02,-0.01,0.02,-0.01,-0.0,-0.04,-0.04,-0.01,0.05,-0.07,0.06,-0.05,0.06,-0.01,0.06,0.07,0.13,-0.05,-0.07,0.58,0.07,0.07,0.14,-0.06,-0.08,1.0,-0.01,-0.03,-0.08],[-0.02,0.09,-0.1,-0.05,0.06,0.1,-0.01,-0.11,-0.08,-0.01,-0.03,-0.13,0.05,0.02,0.01,0.02,0.06,0.03,-0.01,0.01,0.04,0.06,0.05,0.01,-0.05,0.01,0.06,0.05,0.05,0.0,-0.01,1.0,-0.03,-0.34],[0.01,-0.02,-0.01,0.03,-0.02,-0.06,-0.01,0.06,0.06,0.02,0.01,-0.01,0.0,-0.02,-0.0,0.0,-0.03,0.03,-0.01,0.02,0.04,-0.01,-0.01,-0.03,-0.05,0.01,0.02,-0.01,-0.02,-0.04,-0.03,-0.03,1.0,-0.11],[-0.03,-0.01,0.03,-0.01,0.02,0.05,0.04,-0.08,-0.07,0.09,0.13,0.06,0.01,0.08,-0.0,-0.01,0.04,-0.06,0.04,-0.03,-0.03,-0.1,0.02,0.05,-0.14,-0.02,-0.01,-0.0,0.02,0.07,-0.08,-0.34,-0.11,1.0]],\"type\":\"heatmap\",\"xaxis\":\"x\",\"yaxis\":\"y\",\"hovertemplate\":\"x: %{x}\\u003cbr\\u003ey: %{y}\\u003cbr\\u003ecolor: %{z}\\u003cextra\\u003e\\u003c\\u002fextra\\u003e\"}],                        {\"template\":{\"data\":{\"histogram2dcontour\":[{\"type\":\"histogram2dcontour\",\"colorbar\":{\"outlinewidth\":0,\"ticks\":\"\"},\"colorscale\":[[0.0,\"#0d0887\"],[0.1111111111111111,\"#46039f\"],[0.2222222222222222,\"#7201a8\"],[0.3333333333333333,\"#9c179e\"],[0.4444444444444444,\"#bd3786\"],[0.5555555555555556,\"#d8576b\"],[0.6666666666666666,\"#ed7953\"],[0.7777777777777778,\"#fb9f3a\"],[0.8888888888888888,\"#fdca26\"],[1.0,\"#f0f921\"]]}],\"choropleth\":[{\"type\":\"choropleth\",\"colorbar\":{\"outlinewidth\":0,\"ticks\":\"\"}}],\"histogram2d\":[{\"type\":\"histogram2d\",\"colorbar\":{\"outlinewidth\":0,\"ticks\":\"\"},\"colorscale\":[[0.0,\"#0d0887\"],[0.1111111111111111,\"#46039f\"],[0.2222222222222222,\"#7201a8\"],[0.3333333333333333,\"#9c179e\"],[0.4444444444444444,\"#bd3786\"],[0.5555555555555556,\"#d8576b\"],[0.6666666666666666,\"#ed7953\"],[0.7777777777777778,\"#fb9f3a\"],[0.8888888888888888,\"#fdca26\"],[1.0,\"#f0f921\"]]}],\"heatmap\":[{\"type\":\"heatmap\",\"colorbar\":{\"outlinewidth\":0,\"ticks\":\"\"},\"colorscale\":[[0.0,\"#0d0887\"],[0.1111111111111111,\"#46039f\"],[0.2222222222222222,\"#7201a8\"],[0.3333333333333333,\"#9c179e\"],[0.4444444444444444,\"#bd3786\"],[0.5555555555555556,\"#d8576b\"],[0.6666666666666666,\"#ed7953\"],[0.7777777777777778,\"#fb9f3a\"],[0.8888888888888888,\"#fdca26\"],[1.0,\"#f0f921\"]]}],\"heatmapgl\":[{\"type\":\"heatmapgl\",\"colorbar\":{\"outlinewidth\":0,\"ticks\":\"\"},\"colorscale\":[[0.0,\"#0d0887\"],[0.1111111111111111,\"#46039f\"],[0.2222222222222222,\"#7201a8\"],[0.3333333333333333,\"#9c179e\"],[0.4444444444444444,\"#bd3786\"],[0.5555555555555556,\"#d8576b\"],[0.6666666666666666,\"#ed7953\"],[0.7777777777777778,\"#fb9f3a\"],[0.8888888888888888,\"#fdca26\"],[1.0,\"#f0f921\"]]}],\"contourcarpet\":[{\"type\":\"contourcarpet\",\"colorbar\":{\"outlinewidth\":0,\"ticks\":\"\"}}],\"contour\":[{\"type\":\"contour\",\"colorbar\":{\"outlinewidth\":0,\"ticks\":\"\"},\"colorscale\":[[0.0,\"#0d0887\"],[0.1111111111111111,\"#46039f\"],[0.2222222222222222,\"#7201a8\"],[0.3333333333333333,\"#9c179e\"],[0.4444444444444444,\"#bd3786\"],[0.5555555555555556,\"#d8576b\"],[0.6666666666666666,\"#ed7953\"],[0.7777777777777778,\"#fb9f3a\"],[0.8888888888888888,\"#fdca26\"],[1.0,\"#f0f921\"]]}],\"surface\":[{\"type\":\"surface\",\"colorbar\":{\"outlinewidth\":0,\"ticks\":\"\"},\"colorscale\":[[0.0,\"#0d0887\"],[0.1111111111111111,\"#46039f\"],[0.2222222222222222,\"#7201a8\"],[0.3333333333333333,\"#9c179e\"],[0.4444444444444444,\"#bd3786\"],[0.5555555555555556,\"#d8576b\"],[0.6666666666666666,\"#ed7953\"],[0.7777777777777778,\"#fb9f3a\"],[0.8888888888888888,\"#fdca26\"],[1.0,\"#f0f921\"]]}],\"mesh3d\":[{\"type\":\"mesh3d\",\"colorbar\":{\"outlinewidth\":0,\"ticks\":\"\"}}],\"scatter\":[{\"fillpattern\":{\"fillmode\":\"overlay\",\"size\":10,\"solidity\":0.2},\"type\":\"scatter\"}],\"parcoords\":[{\"type\":\"parcoords\",\"line\":{\"colorbar\":{\"outlinewidth\":0,\"ticks\":\"\"}}}],\"scatterpolargl\":[{\"type\":\"scatterpolargl\",\"marker\":{\"colorbar\":{\"outlinewidth\":0,\"ticks\":\"\"}}}],\"bar\":[{\"error_x\":{\"color\":\"#2a3f5f\"},\"error_y\":{\"color\":\"#2a3f5f\"},\"marker\":{\"line\":{\"color\":\"#E5ECF6\",\"width\":0.5},\"pattern\":{\"fillmode\":\"overlay\",\"size\":10,\"solidity\":0.2}},\"type\":\"bar\"}],\"scattergeo\":[{\"type\":\"scattergeo\",\"marker\":{\"colorbar\":{\"outlinewidth\":0,\"ticks\":\"\"}}}],\"scatterpolar\":[{\"type\":\"scatterpolar\",\"marker\":{\"colorbar\":{\"outlinewidth\":0,\"ticks\":\"\"}}}],\"histogram\":[{\"marker\":{\"pattern\":{\"fillmode\":\"overlay\",\"size\":10,\"solidity\":0.2}},\"type\":\"histogram\"}],\"scattergl\":[{\"type\":\"scattergl\",\"marker\":{\"colorbar\":{\"outlinewidth\":0,\"ticks\":\"\"}}}],\"scatter3d\":[{\"type\":\"scatter3d\",\"line\":{\"colorbar\":{\"outlinewidth\":0,\"ticks\":\"\"}},\"marker\":{\"colorbar\":{\"outlinewidth\":0,\"ticks\":\"\"}}}],\"scattermapbox\":[{\"type\":\"scattermapbox\",\"marker\":{\"colorbar\":{\"outlinewidth\":0,\"ticks\":\"\"}}}],\"scatterternary\":[{\"type\":\"scatterternary\",\"marker\":{\"colorbar\":{\"outlinewidth\":0,\"ticks\":\"\"}}}],\"scattercarpet\":[{\"type\":\"scattercarpet\",\"marker\":{\"colorbar\":{\"outlinewidth\":0,\"ticks\":\"\"}}}],\"carpet\":[{\"aaxis\":{\"endlinecolor\":\"#2a3f5f\",\"gridcolor\":\"white\",\"linecolor\":\"white\",\"minorgridcolor\":\"white\",\"startlinecolor\":\"#2a3f5f\"},\"baxis\":{\"endlinecolor\":\"#2a3f5f\",\"gridcolor\":\"white\",\"linecolor\":\"white\",\"minorgridcolor\":\"white\",\"startlinecolor\":\"#2a3f5f\"},\"type\":\"carpet\"}],\"table\":[{\"cells\":{\"fill\":{\"color\":\"#EBF0F8\"},\"line\":{\"color\":\"white\"}},\"header\":{\"fill\":{\"color\":\"#C8D4E3\"},\"line\":{\"color\":\"white\"}},\"type\":\"table\"}],\"barpolar\":[{\"marker\":{\"line\":{\"color\":\"#E5ECF6\",\"width\":0.5},\"pattern\":{\"fillmode\":\"overlay\",\"size\":10,\"solidity\":0.2}},\"type\":\"barpolar\"}],\"pie\":[{\"automargin\":true,\"type\":\"pie\"}]},\"layout\":{\"autotypenumbers\":\"strict\",\"colorway\":[\"#636efa\",\"#EF553B\",\"#00cc96\",\"#ab63fa\",\"#FFA15A\",\"#19d3f3\",\"#FF6692\",\"#B6E880\",\"#FF97FF\",\"#FECB52\"],\"font\":{\"color\":\"#2a3f5f\"},\"hovermode\":\"closest\",\"hoverlabel\":{\"align\":\"left\"},\"paper_bgcolor\":\"white\",\"plot_bgcolor\":\"#E5ECF6\",\"polar\":{\"bgcolor\":\"#E5ECF6\",\"angularaxis\":{\"gridcolor\":\"white\",\"linecolor\":\"white\",\"ticks\":\"\"},\"radialaxis\":{\"gridcolor\":\"white\",\"linecolor\":\"white\",\"ticks\":\"\"}},\"ternary\":{\"bgcolor\":\"#E5ECF6\",\"aaxis\":{\"gridcolor\":\"white\",\"linecolor\":\"white\",\"ticks\":\"\"},\"baxis\":{\"gridcolor\":\"white\",\"linecolor\":\"white\",\"ticks\":\"\"},\"caxis\":{\"gridcolor\":\"white\",\"linecolor\":\"white\",\"ticks\":\"\"}},\"coloraxis\":{\"colorbar\":{\"outlinewidth\":0,\"ticks\":\"\"}},\"colorscale\":{\"sequential\":[[0.0,\"#0d0887\"],[0.1111111111111111,\"#46039f\"],[0.2222222222222222,\"#7201a8\"],[0.3333333333333333,\"#9c179e\"],[0.4444444444444444,\"#bd3786\"],[0.5555555555555556,\"#d8576b\"],[0.6666666666666666,\"#ed7953\"],[0.7777777777777778,\"#fb9f3a\"],[0.8888888888888888,\"#fdca26\"],[1.0,\"#f0f921\"]],\"sequentialminus\":[[0.0,\"#0d0887\"],[0.1111111111111111,\"#46039f\"],[0.2222222222222222,\"#7201a8\"],[0.3333333333333333,\"#9c179e\"],[0.4444444444444444,\"#bd3786\"],[0.5555555555555556,\"#d8576b\"],[0.6666666666666666,\"#ed7953\"],[0.7777777777777778,\"#fb9f3a\"],[0.8888888888888888,\"#fdca26\"],[1.0,\"#f0f921\"]],\"diverging\":[[0,\"#8e0152\"],[0.1,\"#c51b7d\"],[0.2,\"#de77ae\"],[0.3,\"#f1b6da\"],[0.4,\"#fde0ef\"],[0.5,\"#f7f7f7\"],[0.6,\"#e6f5d0\"],[0.7,\"#b8e186\"],[0.8,\"#7fbc41\"],[0.9,\"#4d9221\"],[1,\"#276419\"]]},\"xaxis\":{\"gridcolor\":\"white\",\"linecolor\":\"white\",\"ticks\":\"\",\"title\":{\"standoff\":15},\"zerolinecolor\":\"white\",\"automargin\":true,\"zerolinewidth\":2},\"yaxis\":{\"gridcolor\":\"white\",\"linecolor\":\"white\",\"ticks\":\"\",\"title\":{\"standoff\":15},\"zerolinecolor\":\"white\",\"automargin\":true,\"zerolinewidth\":2},\"scene\":{\"xaxis\":{\"backgroundcolor\":\"#E5ECF6\",\"gridcolor\":\"white\",\"linecolor\":\"white\",\"showbackground\":true,\"ticks\":\"\",\"zerolinecolor\":\"white\",\"gridwidth\":2},\"yaxis\":{\"backgroundcolor\":\"#E5ECF6\",\"gridcolor\":\"white\",\"linecolor\":\"white\",\"showbackground\":true,\"ticks\":\"\",\"zerolinecolor\":\"white\",\"gridwidth\":2},\"zaxis\":{\"backgroundcolor\":\"#E5ECF6\",\"gridcolor\":\"white\",\"linecolor\":\"white\",\"showbackground\":true,\"ticks\":\"\",\"zerolinecolor\":\"white\",\"gridwidth\":2}},\"shapedefaults\":{\"line\":{\"color\":\"#2a3f5f\"}},\"annotationdefaults\":{\"arrowcolor\":\"#2a3f5f\",\"arrowhead\":0,\"arrowwidth\":1},\"geo\":{\"bgcolor\":\"white\",\"landcolor\":\"#E5ECF6\",\"subunitcolor\":\"white\",\"showland\":true,\"showlakes\":true,\"lakecolor\":\"white\"},\"title\":{\"x\":0.05},\"mapbox\":{\"style\":\"light\"}}},\"xaxis\":{\"anchor\":\"y\",\"domain\":[0.0,1.0]},\"yaxis\":{\"anchor\":\"x\",\"domain\":[0.0,1.0],\"autorange\":\"reversed\"},\"coloraxis\":{\"colorscale\":[[0.0,\"rgb(5,48,97)\"],[0.1,\"rgb(33,102,172)\"],[0.2,\"rgb(67,147,195)\"],[0.3,\"rgb(146,197,222)\"],[0.4,\"rgb(209,229,240)\"],[0.5,\"rgb(247,247,247)\"],[0.6,\"rgb(253,219,199)\"],[0.7,\"rgb(244,165,130)\"],[0.8,\"rgb(214,96,77)\"],[0.9,\"rgb(178,24,43)\"],[1.0,\"rgb(103,0,31)\"]]},\"margin\":{\"t\":60},\"title\":{\"text\":\"Correlation Analysis for independent features\"},\"height\":800,\"width\":1500},                        {\"responsive\": true}                    ).then(function(){\n",
              "                            \n",
              "var gd = document.getElementById('f675ad65-5acd-41a6-a23a-7d7efde74ba4');\n",
              "var x = new MutationObserver(function (mutations, observer) {{\n",
              "        var display = window.getComputedStyle(gd).display;\n",
              "        if (!display || display === 'none') {{\n",
              "            console.log([gd, 'removed!']);\n",
              "            Plotly.purge(gd);\n",
              "            observer.disconnect();\n",
              "        }}\n",
              "}});\n",
              "\n",
              "// Listen for the removal of the full notebook cells\n",
              "var notebookContainer = gd.closest('#notebook-container');\n",
              "if (notebookContainer) {{\n",
              "    x.observe(notebookContainer, {childList: true});\n",
              "}}\n",
              "\n",
              "// Listen for the clearing of the current output cell\n",
              "var outputEl = gd.closest('.output');\n",
              "if (outputEl) {{\n",
              "    x.observe(outputEl, {childList: true});\n",
              "}}\n",
              "\n",
              "                        })                };                            </script>        </div>\n",
              "</body>\n",
              "</html>"
            ]
          },
          "metadata": {}
        }
      ],
      "source": [
        "# Heat map showing correlation of features\n",
        "fig = px.imshow(data.drop('Target', axis = 1).corr().round(2), text_auto=True, aspect=\"auto\", color_continuous_scale='RdBu_r')\n",
        "fig.update_layout(title = 'Correlation Analysis for independent features', height=800, width=1500)\n",
        "# fig.write_image('fig.png', engine='kaleido')\n",
        "fig.show()"
      ]
    },
    {
      "cell_type": "markdown",
      "metadata": {
        "id": "jk658hM-BIYY"
      },
      "source": [
        "**Observation**:\n",
        "\n",
        "From the results we can see some features have strong correlation with each other:\n",
        "* Nationality and International\n",
        "* Mother's qualification and Father's qualification\n",
        "* Mother's occupation and Father's occupation\n",
        "* Curricular Units 1st sem and Curricular Units 2nd sem\n",
        "\n",
        "We can decide to pick or drop either `Nationality or International`, `Mother's qualification or Father's qualification` and `Mother's occupation or Father's occupation`.\n",
        "\n",
        "As for `Curricular Units 1st sem` and `Curricular Units 2nd sem` we need to retain this information in our data set without losing valuable information or risk the model overfitting.\n",
        "\n",
        "To solve this, Principal Component Analysis is done to reduce dimensionality.\n"
      ]
    },
    {
      "cell_type": "code",
      "source": [
        "# Extract columns for PCA\n",
        "data_forPCA = data[['Curricular units 1st sem (credited)',\n",
        "          'Curricular units 1st sem (enrolled)',\n",
        "          'Curricular units 1st sem (evaluations)',\n",
        "          'Curricular units 1st sem (without evaluations)',\n",
        "          'Curricular units 1st sem (approved)',\n",
        "          'Curricular units 1st sem (grade)',\n",
        "          'Curricular units 2nd sem (credited)',\n",
        "          'Curricular units 2nd sem (enrolled)',\n",
        "          'Curricular units 2nd sem (evaluations)',\n",
        "          'Curricular units 2nd sem (without evaluations)',\n",
        "          'Curricular units 2nd sem (approved)',\n",
        "          'Curricular units 2nd sem (grade)']]\n",
        "\n",
        "\n",
        "# PCA with one component\n",
        "pca = PCA(n_components=1)\n",
        "\n",
        "# Fit PCA to data and transform it\n",
        "pca_result = pca.fit_transform(data_forPCA)\n",
        "\n",
        "# Create a new DataFrame with the reduced feature\n",
        "df_pca = pd.DataFrame(data=pca_result, columns=['PCA Feature']).squeeze()\n",
        "data['Curricular 1st and 2nd sem PCA'] = df_pca"
      ],
      "metadata": {
        "id": "MQ9jnQX3aH-C"
      },
      "execution_count": 30,
      "outputs": []
    },
    {
      "cell_type": "markdown",
      "metadata": {
        "id": "YQ9VsLCjQm7m"
      },
      "source": [
        "Next, we drop the following features due to high correlation:\n",
        "* Nationality\n",
        "* Mother's occupation\n",
        "* Father's Qualification\n",
        "* Curricular units 1st sem (enrolled)\n",
        "* Curricular units 1st sem (credited)\n",
        "* Curricular units 1st sem (evaluations)\n",
        "* Curricular units 1st sem (approved)\n",
        "* Curricular units 1st sem (grade)\n",
        "* Curricular units 1st sem (without evaluations)\n",
        "* Curricular units 2nd sem (credited)\n",
        "* Curricular units 2nd sem (enrolled)\n",
        "* Curricular units 2nd sem (evaluations)\n",
        "* Curricular units 2nd sem (approved)\n",
        "* Curricular units 2nd sem (without evaluations)\n",
        "* Curricular units 2nd sem (grade)\n"
      ]
    },
    {
      "cell_type": "code",
      "source": [
        "# Dropping features\n",
        "data.drop(['Nationality', 'Mother\\'s occupation', 'Father\\'s qualification',\n",
        "          'Curricular units 1st sem (credited)',\n",
        "          'Curricular units 1st sem (enrolled)',\n",
        "          'Curricular units 1st sem (evaluations)',\n",
        "          'Curricular units 1st sem (without evaluations)',\n",
        "          'Curricular units 1st sem (approved)',\n",
        "          'Curricular units 1st sem (grade)',\n",
        "          'Curricular units 2nd sem (credited)',\n",
        "          'Curricular units 2nd sem (enrolled)',\n",
        "          'Curricular units 2nd sem (evaluations)',\n",
        "          'Curricular units 2nd sem (without evaluations)',\n",
        "          'Curricular units 2nd sem (approved)',\n",
        "          'Curricular units 2nd sem (grade)', 'Inflation rate', 'GDP',\n",
        "           'Unemployment rate'], axis = 1, inplace = True)"
      ],
      "metadata": {
        "id": "pq7LvWAyZWNt"
      },
      "execution_count": 31,
      "outputs": []
    },
    {
      "cell_type": "code",
      "source": [
        "# Heat map showing correlation of features\n",
        "fig = px.imshow(data.drop('Target', axis = 1).corr().round(2), text_auto=True, aspect=\"auto\", color_continuous_scale='RdBu_r')\n",
        "fig.update_layout(title = 'Correlation Analysis for independent features', height=800, width=1500)\n",
        "# fig.write_image('fig.png', engine='kaleido')\n",
        "fig.show()"
      ],
      "metadata": {
        "colab": {
          "base_uri": "https://localhost:8080/",
          "height": 837
        },
        "id": "9dEx8HffZTmq",
        "outputId": "8c689df5-f785-4999-8fcc-58afc7410478"
      },
      "execution_count": 32,
      "outputs": [
        {
          "output_type": "display_data",
          "data": {
            "text/html": [
              "<html>\n",
              "<head><meta charset=\"utf-8\" /></head>\n",
              "<body>\n",
              "    <div>            <script src=\"https://cdnjs.cloudflare.com/ajax/libs/mathjax/2.7.5/MathJax.js?config=TeX-AMS-MML_SVG\"></script><script type=\"text/javascript\">if (window.MathJax && window.MathJax.Hub && window.MathJax.Hub.Config) {window.MathJax.Hub.Config({SVG: {font: \"STIX-Web\"}});}</script>                <script type=\"text/javascript\">window.PlotlyConfig = {MathJaxConfig: 'local'};</script>\n",
              "        <script charset=\"utf-8\" src=\"https://cdn.plot.ly/plotly-2.35.2.min.js\"></script>                <div id=\"f4673b8f-7e96-41fb-9d1f-998408cc0431\" class=\"plotly-graph-div\" style=\"height:800px; width:1500px;\"></div>            <script type=\"text/javascript\">                                    window.PLOTLYENV=window.PLOTLYENV || {};                                    if (document.getElementById(\"f4673b8f-7e96-41fb-9d1f-998408cc0431\")) {                    Plotly.newPlot(                        \"f4673b8f-7e96-41fb-9d1f-998408cc0431\",                        [{\"coloraxis\":\"coloraxis\",\"name\":\"0\",\"texttemplate\":\"%{z}\",\"x\":[\"Marital status\",\"Application mode\",\"Application order\",\"Course\",\"Daytime\\u002fevening attendance\",\"Previous qualification\",\"Mother's qualification\",\"Father's occupation\",\"Displaced\",\"Educational special needs\",\"Debtor\",\"Tuition fees up to date\",\"Gender\",\"Scholarship holder\",\"Age at enrollment\",\"International\",\"Curricular 1st and 2nd sem PCA\"],\"y\":[\"Marital status\",\"Application mode\",\"Application order\",\"Course\",\"Daytime\\u002fevening attendance\",\"Previous qualification\",\"Mother's qualification\",\"Father's occupation\",\"Displaced\",\"Educational special needs\",\"Debtor\",\"Tuition fees up to date\",\"Gender\",\"Scholarship holder\",\"Age at enrollment\",\"International\",\"Curricular 1st and 2nd sem PCA\"],\"z\":[[1.0,0.22,-0.13,0.02,-0.27,0.12,0.19,0.02,-0.23,-0.03,0.03,-0.09,-0.01,-0.05,0.52,-0.03,-0.02],[0.22,1.0,-0.25,-0.09,-0.27,0.43,0.09,0.0,-0.26,-0.03,0.11,-0.13,0.15,-0.15,0.45,0.01,0.02],[-0.13,-0.25,1.0,0.12,0.16,-0.2,-0.06,-0.03,0.33,0.03,-0.07,0.06,-0.09,0.07,-0.27,-0.03,0.01],[0.02,-0.09,0.12,1.0,-0.07,-0.16,0.06,0.02,0.01,-0.0,-0.05,0.03,-0.11,0.05,-0.04,-0.0,0.14],[-0.27,-0.27,0.16,-0.07,1.0,-0.1,-0.2,0.0,0.25,0.03,0.01,0.04,-0.01,0.09,-0.46,0.03,0.02],[0.12,0.43,-0.2,-0.16,-0.1,1.0,0.02,0.01,-0.15,-0.02,0.12,-0.1,0.09,-0.09,0.25,-0.03,0.03],[0.19,0.09,-0.06,0.06,-0.2,0.02,1.0,0.12,-0.08,-0.02,0.02,-0.02,-0.06,0.05,0.28,-0.04,-0.0],[0.02,0.0,-0.03,0.02,0.0,0.01,0.12,1.0,-0.02,0.0,0.09,0.02,-0.03,0.06,0.0,0.02,0.02],[-0.23,-0.26,0.33,0.01,0.25,-0.15,-0.08,-0.02,1.0,0.0,-0.09,0.1,-0.13,0.07,-0.36,-0.01,0.02],[-0.03,-0.03,0.03,-0.0,0.03,-0.02,-0.02,0.0,0.0,1.0,0.0,0.01,-0.02,0.02,-0.04,-0.0,-0.02],[0.03,0.11,-0.07,-0.05,0.01,0.12,0.02,0.09,-0.09,0.0,1.0,-0.41,0.05,-0.07,0.1,0.08,-0.09],[-0.09,-0.13,0.06,0.03,0.04,-0.1,-0.02,0.02,0.1,0.01,-0.41,1.0,-0.1,0.14,-0.18,-0.04,0.24],[-0.01,0.15,-0.09,-0.11,-0.01,0.09,-0.06,-0.03,-0.13,-0.02,0.05,-0.1,1.0,-0.17,0.15,-0.03,-0.17],[-0.05,-0.15,0.07,0.05,0.09,-0.09,0.05,0.06,0.07,0.02,-0.07,0.14,-0.17,1.0,-0.19,-0.03,0.12],[0.52,0.45,-0.27,-0.04,-0.46,0.25,0.28,0.0,-0.36,-0.04,0.1,-0.18,0.15,-0.19,1.0,-0.01,-0.06],[-0.03,0.01,-0.03,-0.0,0.03,-0.03,-0.04,0.02,-0.01,-0.0,0.08,-0.04,-0.03,-0.03,-0.01,1.0,0.0],[-0.02,0.02,0.01,0.14,0.02,0.03,-0.0,0.02,0.02,-0.02,-0.09,0.24,-0.17,0.12,-0.06,0.0,1.0]],\"type\":\"heatmap\",\"xaxis\":\"x\",\"yaxis\":\"y\",\"hovertemplate\":\"x: %{x}\\u003cbr\\u003ey: %{y}\\u003cbr\\u003ecolor: %{z}\\u003cextra\\u003e\\u003c\\u002fextra\\u003e\"}],                        {\"template\":{\"data\":{\"histogram2dcontour\":[{\"type\":\"histogram2dcontour\",\"colorbar\":{\"outlinewidth\":0,\"ticks\":\"\"},\"colorscale\":[[0.0,\"#0d0887\"],[0.1111111111111111,\"#46039f\"],[0.2222222222222222,\"#7201a8\"],[0.3333333333333333,\"#9c179e\"],[0.4444444444444444,\"#bd3786\"],[0.5555555555555556,\"#d8576b\"],[0.6666666666666666,\"#ed7953\"],[0.7777777777777778,\"#fb9f3a\"],[0.8888888888888888,\"#fdca26\"],[1.0,\"#f0f921\"]]}],\"choropleth\":[{\"type\":\"choropleth\",\"colorbar\":{\"outlinewidth\":0,\"ticks\":\"\"}}],\"histogram2d\":[{\"type\":\"histogram2d\",\"colorbar\":{\"outlinewidth\":0,\"ticks\":\"\"},\"colorscale\":[[0.0,\"#0d0887\"],[0.1111111111111111,\"#46039f\"],[0.2222222222222222,\"#7201a8\"],[0.3333333333333333,\"#9c179e\"],[0.4444444444444444,\"#bd3786\"],[0.5555555555555556,\"#d8576b\"],[0.6666666666666666,\"#ed7953\"],[0.7777777777777778,\"#fb9f3a\"],[0.8888888888888888,\"#fdca26\"],[1.0,\"#f0f921\"]]}],\"heatmap\":[{\"type\":\"heatmap\",\"colorbar\":{\"outlinewidth\":0,\"ticks\":\"\"},\"colorscale\":[[0.0,\"#0d0887\"],[0.1111111111111111,\"#46039f\"],[0.2222222222222222,\"#7201a8\"],[0.3333333333333333,\"#9c179e\"],[0.4444444444444444,\"#bd3786\"],[0.5555555555555556,\"#d8576b\"],[0.6666666666666666,\"#ed7953\"],[0.7777777777777778,\"#fb9f3a\"],[0.8888888888888888,\"#fdca26\"],[1.0,\"#f0f921\"]]}],\"heatmapgl\":[{\"type\":\"heatmapgl\",\"colorbar\":{\"outlinewidth\":0,\"ticks\":\"\"},\"colorscale\":[[0.0,\"#0d0887\"],[0.1111111111111111,\"#46039f\"],[0.2222222222222222,\"#7201a8\"],[0.3333333333333333,\"#9c179e\"],[0.4444444444444444,\"#bd3786\"],[0.5555555555555556,\"#d8576b\"],[0.6666666666666666,\"#ed7953\"],[0.7777777777777778,\"#fb9f3a\"],[0.8888888888888888,\"#fdca26\"],[1.0,\"#f0f921\"]]}],\"contourcarpet\":[{\"type\":\"contourcarpet\",\"colorbar\":{\"outlinewidth\":0,\"ticks\":\"\"}}],\"contour\":[{\"type\":\"contour\",\"colorbar\":{\"outlinewidth\":0,\"ticks\":\"\"},\"colorscale\":[[0.0,\"#0d0887\"],[0.1111111111111111,\"#46039f\"],[0.2222222222222222,\"#7201a8\"],[0.3333333333333333,\"#9c179e\"],[0.4444444444444444,\"#bd3786\"],[0.5555555555555556,\"#d8576b\"],[0.6666666666666666,\"#ed7953\"],[0.7777777777777778,\"#fb9f3a\"],[0.8888888888888888,\"#fdca26\"],[1.0,\"#f0f921\"]]}],\"surface\":[{\"type\":\"surface\",\"colorbar\":{\"outlinewidth\":0,\"ticks\":\"\"},\"colorscale\":[[0.0,\"#0d0887\"],[0.1111111111111111,\"#46039f\"],[0.2222222222222222,\"#7201a8\"],[0.3333333333333333,\"#9c179e\"],[0.4444444444444444,\"#bd3786\"],[0.5555555555555556,\"#d8576b\"],[0.6666666666666666,\"#ed7953\"],[0.7777777777777778,\"#fb9f3a\"],[0.8888888888888888,\"#fdca26\"],[1.0,\"#f0f921\"]]}],\"mesh3d\":[{\"type\":\"mesh3d\",\"colorbar\":{\"outlinewidth\":0,\"ticks\":\"\"}}],\"scatter\":[{\"fillpattern\":{\"fillmode\":\"overlay\",\"size\":10,\"solidity\":0.2},\"type\":\"scatter\"}],\"parcoords\":[{\"type\":\"parcoords\",\"line\":{\"colorbar\":{\"outlinewidth\":0,\"ticks\":\"\"}}}],\"scatterpolargl\":[{\"type\":\"scatterpolargl\",\"marker\":{\"colorbar\":{\"outlinewidth\":0,\"ticks\":\"\"}}}],\"bar\":[{\"error_x\":{\"color\":\"#2a3f5f\"},\"error_y\":{\"color\":\"#2a3f5f\"},\"marker\":{\"line\":{\"color\":\"#E5ECF6\",\"width\":0.5},\"pattern\":{\"fillmode\":\"overlay\",\"size\":10,\"solidity\":0.2}},\"type\":\"bar\"}],\"scattergeo\":[{\"type\":\"scattergeo\",\"marker\":{\"colorbar\":{\"outlinewidth\":0,\"ticks\":\"\"}}}],\"scatterpolar\":[{\"type\":\"scatterpolar\",\"marker\":{\"colorbar\":{\"outlinewidth\":0,\"ticks\":\"\"}}}],\"histogram\":[{\"marker\":{\"pattern\":{\"fillmode\":\"overlay\",\"size\":10,\"solidity\":0.2}},\"type\":\"histogram\"}],\"scattergl\":[{\"type\":\"scattergl\",\"marker\":{\"colorbar\":{\"outlinewidth\":0,\"ticks\":\"\"}}}],\"scatter3d\":[{\"type\":\"scatter3d\",\"line\":{\"colorbar\":{\"outlinewidth\":0,\"ticks\":\"\"}},\"marker\":{\"colorbar\":{\"outlinewidth\":0,\"ticks\":\"\"}}}],\"scattermapbox\":[{\"type\":\"scattermapbox\",\"marker\":{\"colorbar\":{\"outlinewidth\":0,\"ticks\":\"\"}}}],\"scatterternary\":[{\"type\":\"scatterternary\",\"marker\":{\"colorbar\":{\"outlinewidth\":0,\"ticks\":\"\"}}}],\"scattercarpet\":[{\"type\":\"scattercarpet\",\"marker\":{\"colorbar\":{\"outlinewidth\":0,\"ticks\":\"\"}}}],\"carpet\":[{\"aaxis\":{\"endlinecolor\":\"#2a3f5f\",\"gridcolor\":\"white\",\"linecolor\":\"white\",\"minorgridcolor\":\"white\",\"startlinecolor\":\"#2a3f5f\"},\"baxis\":{\"endlinecolor\":\"#2a3f5f\",\"gridcolor\":\"white\",\"linecolor\":\"white\",\"minorgridcolor\":\"white\",\"startlinecolor\":\"#2a3f5f\"},\"type\":\"carpet\"}],\"table\":[{\"cells\":{\"fill\":{\"color\":\"#EBF0F8\"},\"line\":{\"color\":\"white\"}},\"header\":{\"fill\":{\"color\":\"#C8D4E3\"},\"line\":{\"color\":\"white\"}},\"type\":\"table\"}],\"barpolar\":[{\"marker\":{\"line\":{\"color\":\"#E5ECF6\",\"width\":0.5},\"pattern\":{\"fillmode\":\"overlay\",\"size\":10,\"solidity\":0.2}},\"type\":\"barpolar\"}],\"pie\":[{\"automargin\":true,\"type\":\"pie\"}]},\"layout\":{\"autotypenumbers\":\"strict\",\"colorway\":[\"#636efa\",\"#EF553B\",\"#00cc96\",\"#ab63fa\",\"#FFA15A\",\"#19d3f3\",\"#FF6692\",\"#B6E880\",\"#FF97FF\",\"#FECB52\"],\"font\":{\"color\":\"#2a3f5f\"},\"hovermode\":\"closest\",\"hoverlabel\":{\"align\":\"left\"},\"paper_bgcolor\":\"white\",\"plot_bgcolor\":\"#E5ECF6\",\"polar\":{\"bgcolor\":\"#E5ECF6\",\"angularaxis\":{\"gridcolor\":\"white\",\"linecolor\":\"white\",\"ticks\":\"\"},\"radialaxis\":{\"gridcolor\":\"white\",\"linecolor\":\"white\",\"ticks\":\"\"}},\"ternary\":{\"bgcolor\":\"#E5ECF6\",\"aaxis\":{\"gridcolor\":\"white\",\"linecolor\":\"white\",\"ticks\":\"\"},\"baxis\":{\"gridcolor\":\"white\",\"linecolor\":\"white\",\"ticks\":\"\"},\"caxis\":{\"gridcolor\":\"white\",\"linecolor\":\"white\",\"ticks\":\"\"}},\"coloraxis\":{\"colorbar\":{\"outlinewidth\":0,\"ticks\":\"\"}},\"colorscale\":{\"sequential\":[[0.0,\"#0d0887\"],[0.1111111111111111,\"#46039f\"],[0.2222222222222222,\"#7201a8\"],[0.3333333333333333,\"#9c179e\"],[0.4444444444444444,\"#bd3786\"],[0.5555555555555556,\"#d8576b\"],[0.6666666666666666,\"#ed7953\"],[0.7777777777777778,\"#fb9f3a\"],[0.8888888888888888,\"#fdca26\"],[1.0,\"#f0f921\"]],\"sequentialminus\":[[0.0,\"#0d0887\"],[0.1111111111111111,\"#46039f\"],[0.2222222222222222,\"#7201a8\"],[0.3333333333333333,\"#9c179e\"],[0.4444444444444444,\"#bd3786\"],[0.5555555555555556,\"#d8576b\"],[0.6666666666666666,\"#ed7953\"],[0.7777777777777778,\"#fb9f3a\"],[0.8888888888888888,\"#fdca26\"],[1.0,\"#f0f921\"]],\"diverging\":[[0,\"#8e0152\"],[0.1,\"#c51b7d\"],[0.2,\"#de77ae\"],[0.3,\"#f1b6da\"],[0.4,\"#fde0ef\"],[0.5,\"#f7f7f7\"],[0.6,\"#e6f5d0\"],[0.7,\"#b8e186\"],[0.8,\"#7fbc41\"],[0.9,\"#4d9221\"],[1,\"#276419\"]]},\"xaxis\":{\"gridcolor\":\"white\",\"linecolor\":\"white\",\"ticks\":\"\",\"title\":{\"standoff\":15},\"zerolinecolor\":\"white\",\"automargin\":true,\"zerolinewidth\":2},\"yaxis\":{\"gridcolor\":\"white\",\"linecolor\":\"white\",\"ticks\":\"\",\"title\":{\"standoff\":15},\"zerolinecolor\":\"white\",\"automargin\":true,\"zerolinewidth\":2},\"scene\":{\"xaxis\":{\"backgroundcolor\":\"#E5ECF6\",\"gridcolor\":\"white\",\"linecolor\":\"white\",\"showbackground\":true,\"ticks\":\"\",\"zerolinecolor\":\"white\",\"gridwidth\":2},\"yaxis\":{\"backgroundcolor\":\"#E5ECF6\",\"gridcolor\":\"white\",\"linecolor\":\"white\",\"showbackground\":true,\"ticks\":\"\",\"zerolinecolor\":\"white\",\"gridwidth\":2},\"zaxis\":{\"backgroundcolor\":\"#E5ECF6\",\"gridcolor\":\"white\",\"linecolor\":\"white\",\"showbackground\":true,\"ticks\":\"\",\"zerolinecolor\":\"white\",\"gridwidth\":2}},\"shapedefaults\":{\"line\":{\"color\":\"#2a3f5f\"}},\"annotationdefaults\":{\"arrowcolor\":\"#2a3f5f\",\"arrowhead\":0,\"arrowwidth\":1},\"geo\":{\"bgcolor\":\"white\",\"landcolor\":\"#E5ECF6\",\"subunitcolor\":\"white\",\"showland\":true,\"showlakes\":true,\"lakecolor\":\"white\"},\"title\":{\"x\":0.05},\"mapbox\":{\"style\":\"light\"}}},\"xaxis\":{\"anchor\":\"y\",\"domain\":[0.0,1.0]},\"yaxis\":{\"anchor\":\"x\",\"domain\":[0.0,1.0],\"autorange\":\"reversed\"},\"coloraxis\":{\"colorscale\":[[0.0,\"rgb(5,48,97)\"],[0.1,\"rgb(33,102,172)\"],[0.2,\"rgb(67,147,195)\"],[0.3,\"rgb(146,197,222)\"],[0.4,\"rgb(209,229,240)\"],[0.5,\"rgb(247,247,247)\"],[0.6,\"rgb(253,219,199)\"],[0.7,\"rgb(244,165,130)\"],[0.8,\"rgb(214,96,77)\"],[0.9,\"rgb(178,24,43)\"],[1.0,\"rgb(103,0,31)\"]]},\"margin\":{\"t\":60},\"title\":{\"text\":\"Correlation Analysis for independent features\"},\"height\":800,\"width\":1500},                        {\"responsive\": true}                    ).then(function(){\n",
              "                            \n",
              "var gd = document.getElementById('f4673b8f-7e96-41fb-9d1f-998408cc0431');\n",
              "var x = new MutationObserver(function (mutations, observer) {{\n",
              "        var display = window.getComputedStyle(gd).display;\n",
              "        if (!display || display === 'none') {{\n",
              "            console.log([gd, 'removed!']);\n",
              "            Plotly.purge(gd);\n",
              "            observer.disconnect();\n",
              "        }}\n",
              "}});\n",
              "\n",
              "// Listen for the removal of the full notebook cells\n",
              "var notebookContainer = gd.closest('#notebook-container');\n",
              "if (notebookContainer) {{\n",
              "    x.observe(notebookContainer, {childList: true});\n",
              "}}\n",
              "\n",
              "// Listen for the clearing of the current output cell\n",
              "var outputEl = gd.closest('.output');\n",
              "if (outputEl) {{\n",
              "    x.observe(outputEl, {childList: true});\n",
              "}}\n",
              "\n",
              "                        })                };                            </script>        </div>\n",
              "</body>\n",
              "</html>"
            ]
          },
          "metadata": {}
        }
      ]
    },
    {
      "cell_type": "markdown",
      "metadata": {
        "id": "XN7LeMBtS9b4"
      },
      "source": [
        "### Data Processing\n",
        " Before standardizing the data we need transform the target feature from categorical to numerical data."
      ]
    },
    {
      "cell_type": "code",
      "execution_count": 33,
      "metadata": {
        "colab": {
          "base_uri": "https://localhost:8080/",
          "height": 278
        },
        "id": "Hnm-1ffLAIdI",
        "outputId": "a3662131-8cf2-42d1-da7a-0cb14c4cf2c4"
      },
      "outputs": [
        {
          "output_type": "execute_result",
          "data": {
            "text/plain": [
              "   Marital status  Application mode  Application order  Course  \\\n",
              "0               1                 8                  5       2   \n",
              "1               1                 6                  1      11   \n",
              "2               1                 1                  5       5   \n",
              "3               1                 8                  2      15   \n",
              "4               2                12                  1       3   \n",
              "\n",
              "   Daytime/evening attendance  Previous qualification  Mother's qualification  \\\n",
              "0                           1                       1                      13   \n",
              "1                           1                       1                       1   \n",
              "2                           1                       1                      22   \n",
              "3                           1                       1                      23   \n",
              "4                           0                       1                      22   \n",
              "\n",
              "   Father's occupation  Displaced  Educational special needs  Debtor  \\\n",
              "0                   10          1                          0       0   \n",
              "1                    4          1                          0       0   \n",
              "2                   10          1                          0       0   \n",
              "3                    4          1                          0       0   \n",
              "4                   10          0                          0       0   \n",
              "\n",
              "   Tuition fees up to date  Gender  Scholarship holder  Age at enrollment  \\\n",
              "0                        1       1                   0                 20   \n",
              "1                        0       1                   0                 19   \n",
              "2                        0       1                   0                 19   \n",
              "3                        1       0                   0                 20   \n",
              "4                        1       0                   0                 45   \n",
              "\n",
              "   International  Target  Curricular 1st and 2nd sem PCA  \n",
              "0              0    True                      -21.116404  \n",
              "1              0   False                        2.514829  \n",
              "2              0    True                      -18.826232  \n",
              "3              0   False                        3.313201  \n",
              "4              0   False                        2.076791  "
            ],
            "text/html": [
              "\n",
              "  <div id=\"df-fa7a22ae-b013-4b3e-9510-6c6b7c902f3a\" class=\"colab-df-container\">\n",
              "    <div>\n",
              "<style scoped>\n",
              "    .dataframe tbody tr th:only-of-type {\n",
              "        vertical-align: middle;\n",
              "    }\n",
              "\n",
              "    .dataframe tbody tr th {\n",
              "        vertical-align: top;\n",
              "    }\n",
              "\n",
              "    .dataframe thead th {\n",
              "        text-align: right;\n",
              "    }\n",
              "</style>\n",
              "<table border=\"1\" class=\"dataframe\">\n",
              "  <thead>\n",
              "    <tr style=\"text-align: right;\">\n",
              "      <th></th>\n",
              "      <th>Marital status</th>\n",
              "      <th>Application mode</th>\n",
              "      <th>Application order</th>\n",
              "      <th>Course</th>\n",
              "      <th>Daytime/evening attendance</th>\n",
              "      <th>Previous qualification</th>\n",
              "      <th>Mother's qualification</th>\n",
              "      <th>Father's occupation</th>\n",
              "      <th>Displaced</th>\n",
              "      <th>Educational special needs</th>\n",
              "      <th>Debtor</th>\n",
              "      <th>Tuition fees up to date</th>\n",
              "      <th>Gender</th>\n",
              "      <th>Scholarship holder</th>\n",
              "      <th>Age at enrollment</th>\n",
              "      <th>International</th>\n",
              "      <th>Target</th>\n",
              "      <th>Curricular 1st and 2nd sem PCA</th>\n",
              "    </tr>\n",
              "  </thead>\n",
              "  <tbody>\n",
              "    <tr>\n",
              "      <th>0</th>\n",
              "      <td>1</td>\n",
              "      <td>8</td>\n",
              "      <td>5</td>\n",
              "      <td>2</td>\n",
              "      <td>1</td>\n",
              "      <td>1</td>\n",
              "      <td>13</td>\n",
              "      <td>10</td>\n",
              "      <td>1</td>\n",
              "      <td>0</td>\n",
              "      <td>0</td>\n",
              "      <td>1</td>\n",
              "      <td>1</td>\n",
              "      <td>0</td>\n",
              "      <td>20</td>\n",
              "      <td>0</td>\n",
              "      <td>True</td>\n",
              "      <td>-21.116404</td>\n",
              "    </tr>\n",
              "    <tr>\n",
              "      <th>1</th>\n",
              "      <td>1</td>\n",
              "      <td>6</td>\n",
              "      <td>1</td>\n",
              "      <td>11</td>\n",
              "      <td>1</td>\n",
              "      <td>1</td>\n",
              "      <td>1</td>\n",
              "      <td>4</td>\n",
              "      <td>1</td>\n",
              "      <td>0</td>\n",
              "      <td>0</td>\n",
              "      <td>0</td>\n",
              "      <td>1</td>\n",
              "      <td>0</td>\n",
              "      <td>19</td>\n",
              "      <td>0</td>\n",
              "      <td>False</td>\n",
              "      <td>2.514829</td>\n",
              "    </tr>\n",
              "    <tr>\n",
              "      <th>2</th>\n",
              "      <td>1</td>\n",
              "      <td>1</td>\n",
              "      <td>5</td>\n",
              "      <td>5</td>\n",
              "      <td>1</td>\n",
              "      <td>1</td>\n",
              "      <td>22</td>\n",
              "      <td>10</td>\n",
              "      <td>1</td>\n",
              "      <td>0</td>\n",
              "      <td>0</td>\n",
              "      <td>0</td>\n",
              "      <td>1</td>\n",
              "      <td>0</td>\n",
              "      <td>19</td>\n",
              "      <td>0</td>\n",
              "      <td>True</td>\n",
              "      <td>-18.826232</td>\n",
              "    </tr>\n",
              "    <tr>\n",
              "      <th>3</th>\n",
              "      <td>1</td>\n",
              "      <td>8</td>\n",
              "      <td>2</td>\n",
              "      <td>15</td>\n",
              "      <td>1</td>\n",
              "      <td>1</td>\n",
              "      <td>23</td>\n",
              "      <td>4</td>\n",
              "      <td>1</td>\n",
              "      <td>0</td>\n",
              "      <td>0</td>\n",
              "      <td>1</td>\n",
              "      <td>0</td>\n",
              "      <td>0</td>\n",
              "      <td>20</td>\n",
              "      <td>0</td>\n",
              "      <td>False</td>\n",
              "      <td>3.313201</td>\n",
              "    </tr>\n",
              "    <tr>\n",
              "      <th>4</th>\n",
              "      <td>2</td>\n",
              "      <td>12</td>\n",
              "      <td>1</td>\n",
              "      <td>3</td>\n",
              "      <td>0</td>\n",
              "      <td>1</td>\n",
              "      <td>22</td>\n",
              "      <td>10</td>\n",
              "      <td>0</td>\n",
              "      <td>0</td>\n",
              "      <td>0</td>\n",
              "      <td>1</td>\n",
              "      <td>0</td>\n",
              "      <td>0</td>\n",
              "      <td>45</td>\n",
              "      <td>0</td>\n",
              "      <td>False</td>\n",
              "      <td>2.076791</td>\n",
              "    </tr>\n",
              "  </tbody>\n",
              "</table>\n",
              "</div>\n",
              "    <div class=\"colab-df-buttons\">\n",
              "\n",
              "  <div class=\"colab-df-container\">\n",
              "    <button class=\"colab-df-convert\" onclick=\"convertToInteractive('df-fa7a22ae-b013-4b3e-9510-6c6b7c902f3a')\"\n",
              "            title=\"Convert this dataframe to an interactive table.\"\n",
              "            style=\"display:none;\">\n",
              "\n",
              "  <svg xmlns=\"http://www.w3.org/2000/svg\" height=\"24px\" viewBox=\"0 -960 960 960\">\n",
              "    <path d=\"M120-120v-720h720v720H120Zm60-500h600v-160H180v160Zm220 220h160v-160H400v160Zm0 220h160v-160H400v160ZM180-400h160v-160H180v160Zm440 0h160v-160H620v160ZM180-180h160v-160H180v160Zm440 0h160v-160H620v160Z\"/>\n",
              "  </svg>\n",
              "    </button>\n",
              "\n",
              "  <style>\n",
              "    .colab-df-container {\n",
              "      display:flex;\n",
              "      gap: 12px;\n",
              "    }\n",
              "\n",
              "    .colab-df-convert {\n",
              "      background-color: #E8F0FE;\n",
              "      border: none;\n",
              "      border-radius: 50%;\n",
              "      cursor: pointer;\n",
              "      display: none;\n",
              "      fill: #1967D2;\n",
              "      height: 32px;\n",
              "      padding: 0 0 0 0;\n",
              "      width: 32px;\n",
              "    }\n",
              "\n",
              "    .colab-df-convert:hover {\n",
              "      background-color: #E2EBFA;\n",
              "      box-shadow: 0px 1px 2px rgba(60, 64, 67, 0.3), 0px 1px 3px 1px rgba(60, 64, 67, 0.15);\n",
              "      fill: #174EA6;\n",
              "    }\n",
              "\n",
              "    .colab-df-buttons div {\n",
              "      margin-bottom: 4px;\n",
              "    }\n",
              "\n",
              "    [theme=dark] .colab-df-convert {\n",
              "      background-color: #3B4455;\n",
              "      fill: #D2E3FC;\n",
              "    }\n",
              "\n",
              "    [theme=dark] .colab-df-convert:hover {\n",
              "      background-color: #434B5C;\n",
              "      box-shadow: 0px 1px 3px 1px rgba(0, 0, 0, 0.15);\n",
              "      filter: drop-shadow(0px 1px 2px rgba(0, 0, 0, 0.3));\n",
              "      fill: #FFFFFF;\n",
              "    }\n",
              "  </style>\n",
              "\n",
              "    <script>\n",
              "      const buttonEl =\n",
              "        document.querySelector('#df-fa7a22ae-b013-4b3e-9510-6c6b7c902f3a button.colab-df-convert');\n",
              "      buttonEl.style.display =\n",
              "        google.colab.kernel.accessAllowed ? 'block' : 'none';\n",
              "\n",
              "      async function convertToInteractive(key) {\n",
              "        const element = document.querySelector('#df-fa7a22ae-b013-4b3e-9510-6c6b7c902f3a');\n",
              "        const dataTable =\n",
              "          await google.colab.kernel.invokeFunction('convertToInteractive',\n",
              "                                                    [key], {});\n",
              "        if (!dataTable) return;\n",
              "\n",
              "        const docLinkHtml = 'Like what you see? Visit the ' +\n",
              "          '<a target=\"_blank\" href=https://colab.research.google.com/notebooks/data_table.ipynb>data table notebook</a>'\n",
              "          + ' to learn more about interactive tables.';\n",
              "        element.innerHTML = '';\n",
              "        dataTable['output_type'] = 'display_data';\n",
              "        await google.colab.output.renderOutput(dataTable, element);\n",
              "        const docLink = document.createElement('div');\n",
              "        docLink.innerHTML = docLinkHtml;\n",
              "        element.appendChild(docLink);\n",
              "      }\n",
              "    </script>\n",
              "  </div>\n",
              "\n",
              "\n",
              "    <div id=\"df-35370f9c-b2f8-4867-b6a5-baba473f7ce1\">\n",
              "      <button class=\"colab-df-quickchart\" onclick=\"quickchart('df-35370f9c-b2f8-4867-b6a5-baba473f7ce1')\"\n",
              "                title=\"Suggest charts\"\n",
              "                style=\"display:none;\">\n",
              "\n",
              "<svg xmlns=\"http://www.w3.org/2000/svg\" height=\"24px\"viewBox=\"0 0 24 24\"\n",
              "     width=\"24px\">\n",
              "    <g>\n",
              "        <path d=\"M19 3H5c-1.1 0-2 .9-2 2v14c0 1.1.9 2 2 2h14c1.1 0 2-.9 2-2V5c0-1.1-.9-2-2-2zM9 17H7v-7h2v7zm4 0h-2V7h2v10zm4 0h-2v-4h2v4z\"/>\n",
              "    </g>\n",
              "</svg>\n",
              "      </button>\n",
              "\n",
              "<style>\n",
              "  .colab-df-quickchart {\n",
              "      --bg-color: #E8F0FE;\n",
              "      --fill-color: #1967D2;\n",
              "      --hover-bg-color: #E2EBFA;\n",
              "      --hover-fill-color: #174EA6;\n",
              "      --disabled-fill-color: #AAA;\n",
              "      --disabled-bg-color: #DDD;\n",
              "  }\n",
              "\n",
              "  [theme=dark] .colab-df-quickchart {\n",
              "      --bg-color: #3B4455;\n",
              "      --fill-color: #D2E3FC;\n",
              "      --hover-bg-color: #434B5C;\n",
              "      --hover-fill-color: #FFFFFF;\n",
              "      --disabled-bg-color: #3B4455;\n",
              "      --disabled-fill-color: #666;\n",
              "  }\n",
              "\n",
              "  .colab-df-quickchart {\n",
              "    background-color: var(--bg-color);\n",
              "    border: none;\n",
              "    border-radius: 50%;\n",
              "    cursor: pointer;\n",
              "    display: none;\n",
              "    fill: var(--fill-color);\n",
              "    height: 32px;\n",
              "    padding: 0;\n",
              "    width: 32px;\n",
              "  }\n",
              "\n",
              "  .colab-df-quickchart:hover {\n",
              "    background-color: var(--hover-bg-color);\n",
              "    box-shadow: 0 1px 2px rgba(60, 64, 67, 0.3), 0 1px 3px 1px rgba(60, 64, 67, 0.15);\n",
              "    fill: var(--button-hover-fill-color);\n",
              "  }\n",
              "\n",
              "  .colab-df-quickchart-complete:disabled,\n",
              "  .colab-df-quickchart-complete:disabled:hover {\n",
              "    background-color: var(--disabled-bg-color);\n",
              "    fill: var(--disabled-fill-color);\n",
              "    box-shadow: none;\n",
              "  }\n",
              "\n",
              "  .colab-df-spinner {\n",
              "    border: 2px solid var(--fill-color);\n",
              "    border-color: transparent;\n",
              "    border-bottom-color: var(--fill-color);\n",
              "    animation:\n",
              "      spin 1s steps(1) infinite;\n",
              "  }\n",
              "\n",
              "  @keyframes spin {\n",
              "    0% {\n",
              "      border-color: transparent;\n",
              "      border-bottom-color: var(--fill-color);\n",
              "      border-left-color: var(--fill-color);\n",
              "    }\n",
              "    20% {\n",
              "      border-color: transparent;\n",
              "      border-left-color: var(--fill-color);\n",
              "      border-top-color: var(--fill-color);\n",
              "    }\n",
              "    30% {\n",
              "      border-color: transparent;\n",
              "      border-left-color: var(--fill-color);\n",
              "      border-top-color: var(--fill-color);\n",
              "      border-right-color: var(--fill-color);\n",
              "    }\n",
              "    40% {\n",
              "      border-color: transparent;\n",
              "      border-right-color: var(--fill-color);\n",
              "      border-top-color: var(--fill-color);\n",
              "    }\n",
              "    60% {\n",
              "      border-color: transparent;\n",
              "      border-right-color: var(--fill-color);\n",
              "    }\n",
              "    80% {\n",
              "      border-color: transparent;\n",
              "      border-right-color: var(--fill-color);\n",
              "      border-bottom-color: var(--fill-color);\n",
              "    }\n",
              "    90% {\n",
              "      border-color: transparent;\n",
              "      border-bottom-color: var(--fill-color);\n",
              "    }\n",
              "  }\n",
              "</style>\n",
              "\n",
              "      <script>\n",
              "        async function quickchart(key) {\n",
              "          const quickchartButtonEl =\n",
              "            document.querySelector('#' + key + ' button');\n",
              "          quickchartButtonEl.disabled = true;  // To prevent multiple clicks.\n",
              "          quickchartButtonEl.classList.add('colab-df-spinner');\n",
              "          try {\n",
              "            const charts = await google.colab.kernel.invokeFunction(\n",
              "                'suggestCharts', [key], {});\n",
              "          } catch (error) {\n",
              "            console.error('Error during call to suggestCharts:', error);\n",
              "          }\n",
              "          quickchartButtonEl.classList.remove('colab-df-spinner');\n",
              "          quickchartButtonEl.classList.add('colab-df-quickchart-complete');\n",
              "        }\n",
              "        (() => {\n",
              "          let quickchartButtonEl =\n",
              "            document.querySelector('#df-35370f9c-b2f8-4867-b6a5-baba473f7ce1 button');\n",
              "          quickchartButtonEl.style.display =\n",
              "            google.colab.kernel.accessAllowed ? 'block' : 'none';\n",
              "        })();\n",
              "      </script>\n",
              "    </div>\n",
              "\n",
              "    </div>\n",
              "  </div>\n"
            ],
            "application/vnd.google.colaboratory.intrinsic+json": {
              "type": "dataframe",
              "variable_name": "data",
              "summary": "{\n  \"name\": \"data\",\n  \"rows\": 4424,\n  \"fields\": [\n    {\n      \"column\": \"Marital status\",\n      \"properties\": {\n        \"dtype\": \"number\",\n        \"std\": 0,\n        \"min\": 1,\n        \"max\": 6,\n        \"num_unique_values\": 6,\n        \"samples\": [\n          1,\n          2,\n          6\n        ],\n        \"semantic_type\": \"\",\n        \"description\": \"\"\n      }\n    },\n    {\n      \"column\": \"Application mode\",\n      \"properties\": {\n        \"dtype\": \"number\",\n        \"std\": 5,\n        \"min\": 1,\n        \"max\": 18,\n        \"num_unique_values\": 18,\n        \"samples\": [\n          8,\n          6,\n          14\n        ],\n        \"semantic_type\": \"\",\n        \"description\": \"\"\n      }\n    },\n    {\n      \"column\": \"Application order\",\n      \"properties\": {\n        \"dtype\": \"number\",\n        \"std\": 1,\n        \"min\": 0,\n        \"max\": 9,\n        \"num_unique_values\": 8,\n        \"samples\": [\n          1,\n          6,\n          5\n        ],\n        \"semantic_type\": \"\",\n        \"description\": \"\"\n      }\n    },\n    {\n      \"column\": \"Course\",\n      \"properties\": {\n        \"dtype\": \"number\",\n        \"std\": 4,\n        \"min\": 1,\n        \"max\": 17,\n        \"num_unique_values\": 17,\n        \"samples\": [\n          2,\n          11,\n          17\n        ],\n        \"semantic_type\": \"\",\n        \"description\": \"\"\n      }\n    },\n    {\n      \"column\": \"Daytime/evening attendance\",\n      \"properties\": {\n        \"dtype\": \"number\",\n        \"std\": 0,\n        \"min\": 0,\n        \"max\": 1,\n        \"num_unique_values\": 2,\n        \"samples\": [\n          0,\n          1\n        ],\n        \"semantic_type\": \"\",\n        \"description\": \"\"\n      }\n    },\n    {\n      \"column\": \"Previous qualification\",\n      \"properties\": {\n        \"dtype\": \"number\",\n        \"std\": 3,\n        \"min\": 1,\n        \"max\": 17,\n        \"num_unique_values\": 17,\n        \"samples\": [\n          1,\n          12\n        ],\n        \"semantic_type\": \"\",\n        \"description\": \"\"\n      }\n    },\n    {\n      \"column\": \"Mother's qualification\",\n      \"properties\": {\n        \"dtype\": \"number\",\n        \"std\": 9,\n        \"min\": 1,\n        \"max\": 29,\n        \"num_unique_values\": 29,\n        \"samples\": [\n          15,\n          18\n        ],\n        \"semantic_type\": \"\",\n        \"description\": \"\"\n      }\n    },\n    {\n      \"column\": \"Father's occupation\",\n      \"properties\": {\n        \"dtype\": \"number\",\n        \"std\": 4,\n        \"min\": 1,\n        \"max\": 46,\n        \"num_unique_values\": 46,\n        \"samples\": [\n          17,\n          45\n        ],\n        \"semantic_type\": \"\",\n        \"description\": \"\"\n      }\n    },\n    {\n      \"column\": \"Displaced\",\n      \"properties\": {\n        \"dtype\": \"number\",\n        \"std\": 0,\n        \"min\": 0,\n        \"max\": 1,\n        \"num_unique_values\": 2,\n        \"samples\": [\n          0,\n          1\n        ],\n        \"semantic_type\": \"\",\n        \"description\": \"\"\n      }\n    },\n    {\n      \"column\": \"Educational special needs\",\n      \"properties\": {\n        \"dtype\": \"number\",\n        \"std\": 0,\n        \"min\": 0,\n        \"max\": 1,\n        \"num_unique_values\": 2,\n        \"samples\": [\n          1,\n          0\n        ],\n        \"semantic_type\": \"\",\n        \"description\": \"\"\n      }\n    },\n    {\n      \"column\": \"Debtor\",\n      \"properties\": {\n        \"dtype\": \"number\",\n        \"std\": 0,\n        \"min\": 0,\n        \"max\": 1,\n        \"num_unique_values\": 2,\n        \"samples\": [\n          1,\n          0\n        ],\n        \"semantic_type\": \"\",\n        \"description\": \"\"\n      }\n    },\n    {\n      \"column\": \"Tuition fees up to date\",\n      \"properties\": {\n        \"dtype\": \"number\",\n        \"std\": 0,\n        \"min\": 0,\n        \"max\": 1,\n        \"num_unique_values\": 2,\n        \"samples\": [\n          0,\n          1\n        ],\n        \"semantic_type\": \"\",\n        \"description\": \"\"\n      }\n    },\n    {\n      \"column\": \"Gender\",\n      \"properties\": {\n        \"dtype\": \"number\",\n        \"std\": 0,\n        \"min\": 0,\n        \"max\": 1,\n        \"num_unique_values\": 2,\n        \"samples\": [\n          0,\n          1\n        ],\n        \"semantic_type\": \"\",\n        \"description\": \"\"\n      }\n    },\n    {\n      \"column\": \"Scholarship holder\",\n      \"properties\": {\n        \"dtype\": \"number\",\n        \"std\": 0,\n        \"min\": 0,\n        \"max\": 1,\n        \"num_unique_values\": 2,\n        \"samples\": [\n          1,\n          0\n        ],\n        \"semantic_type\": \"\",\n        \"description\": \"\"\n      }\n    },\n    {\n      \"column\": \"Age at enrollment\",\n      \"properties\": {\n        \"dtype\": \"number\",\n        \"std\": 7,\n        \"min\": 17,\n        \"max\": 70,\n        \"num_unique_values\": 46,\n        \"samples\": [\n          54,\n          30\n        ],\n        \"semantic_type\": \"\",\n        \"description\": \"\"\n      }\n    },\n    {\n      \"column\": \"International\",\n      \"properties\": {\n        \"dtype\": \"number\",\n        \"std\": 0,\n        \"min\": 0,\n        \"max\": 1,\n        \"num_unique_values\": 2,\n        \"samples\": [\n          1,\n          0\n        ],\n        \"semantic_type\": \"\",\n        \"description\": \"\"\n      }\n    },\n    {\n      \"column\": \"Target\",\n      \"properties\": {\n        \"dtype\": \"boolean\",\n        \"num_unique_values\": 2,\n        \"samples\": [\n          false,\n          true\n        ],\n        \"semantic_type\": \"\",\n        \"description\": \"\"\n      }\n    },\n    {\n      \"column\": \"Curricular 1st and 2nd sem PCA\",\n      \"properties\": {\n        \"dtype\": \"number\",\n        \"std\": 8.706499204615413,\n        \"min\": -21.116404383116016,\n        \"max\": 37.605744519081654,\n        \"num_unique_values\": 3821,\n        \"samples\": [\n          3.824106895075783,\n          4.427033784616622\n        ],\n        \"semantic_type\": \"\",\n        \"description\": \"\"\n      }\n    }\n  ]\n}"
            }
          },
          "metadata": {},
          "execution_count": 33
        }
      ],
      "source": [
        "# Get dummies for Target columns\n",
        "dummies = pd.get_dummies(data['Target'])\n",
        "\n",
        "#Drop all columns except that for Dropout\n",
        "dummies.drop(['Enrolled',\t'Graduate'], axis = 1, inplace= True)\n",
        "data['Target'] = dummies\n",
        "data.head()"
      ]
    },
    {
      "cell_type": "code",
      "execution_count": 74,
      "metadata": {
        "colab": {
          "base_uri": "https://localhost:8080/",
          "height": 278
        },
        "id": "VBLn1y34ZqPx",
        "outputId": "539502d6-7b4a-4726-b5f2-b7bd3ab11341"
      },
      "outputs": [
        {
          "output_type": "execute_result",
          "data": {
            "text/plain": [
              "   Marital status  Application mode  Application order  Course  \\\n",
              "0               1                 8                  5       2   \n",
              "1               1                 6                  1      11   \n",
              "2               1                 1                  5       5   \n",
              "3               1                 8                  2      15   \n",
              "4               2                12                  1       3   \n",
              "\n",
              "   Daytime/evening attendance  Previous qualification  Mother's qualification  \\\n",
              "0                           1                       1                      13   \n",
              "1                           1                       1                       1   \n",
              "2                           1                       1                      22   \n",
              "3                           1                       1                      23   \n",
              "4                           0                       1                      22   \n",
              "\n",
              "   Father's occupation  Displaced  Educational special needs  Debtor  \\\n",
              "0                   10          1                          0       0   \n",
              "1                    4          1                          0       0   \n",
              "2                   10          1                          0       0   \n",
              "3                    4          1                          0       0   \n",
              "4                   10          0                          0       0   \n",
              "\n",
              "   Tuition fees up to date  Gender  Scholarship holder  Age at enrollment  \\\n",
              "0                        1       1                   0                 20   \n",
              "1                        0       1                   0                 19   \n",
              "2                        0       1                   0                 19   \n",
              "3                        1       0                   0                 20   \n",
              "4                        1       0                   0                 45   \n",
              "\n",
              "   International  Curricular 1st and 2nd sem PCA  \n",
              "0              0                      -21.116404  \n",
              "1              0                        2.514829  \n",
              "2              0                      -18.826232  \n",
              "3              0                        3.313201  \n",
              "4              0                        2.076791  "
            ],
            "text/html": [
              "\n",
              "  <div id=\"df-c7589601-5295-43dc-bb8f-5dc73e693e18\" class=\"colab-df-container\">\n",
              "    <div>\n",
              "<style scoped>\n",
              "    .dataframe tbody tr th:only-of-type {\n",
              "        vertical-align: middle;\n",
              "    }\n",
              "\n",
              "    .dataframe tbody tr th {\n",
              "        vertical-align: top;\n",
              "    }\n",
              "\n",
              "    .dataframe thead th {\n",
              "        text-align: right;\n",
              "    }\n",
              "</style>\n",
              "<table border=\"1\" class=\"dataframe\">\n",
              "  <thead>\n",
              "    <tr style=\"text-align: right;\">\n",
              "      <th></th>\n",
              "      <th>Marital status</th>\n",
              "      <th>Application mode</th>\n",
              "      <th>Application order</th>\n",
              "      <th>Course</th>\n",
              "      <th>Daytime/evening attendance</th>\n",
              "      <th>Previous qualification</th>\n",
              "      <th>Mother's qualification</th>\n",
              "      <th>Father's occupation</th>\n",
              "      <th>Displaced</th>\n",
              "      <th>Educational special needs</th>\n",
              "      <th>Debtor</th>\n",
              "      <th>Tuition fees up to date</th>\n",
              "      <th>Gender</th>\n",
              "      <th>Scholarship holder</th>\n",
              "      <th>Age at enrollment</th>\n",
              "      <th>International</th>\n",
              "      <th>Curricular 1st and 2nd sem PCA</th>\n",
              "    </tr>\n",
              "  </thead>\n",
              "  <tbody>\n",
              "    <tr>\n",
              "      <th>0</th>\n",
              "      <td>1</td>\n",
              "      <td>8</td>\n",
              "      <td>5</td>\n",
              "      <td>2</td>\n",
              "      <td>1</td>\n",
              "      <td>1</td>\n",
              "      <td>13</td>\n",
              "      <td>10</td>\n",
              "      <td>1</td>\n",
              "      <td>0</td>\n",
              "      <td>0</td>\n",
              "      <td>1</td>\n",
              "      <td>1</td>\n",
              "      <td>0</td>\n",
              "      <td>20</td>\n",
              "      <td>0</td>\n",
              "      <td>-21.116404</td>\n",
              "    </tr>\n",
              "    <tr>\n",
              "      <th>1</th>\n",
              "      <td>1</td>\n",
              "      <td>6</td>\n",
              "      <td>1</td>\n",
              "      <td>11</td>\n",
              "      <td>1</td>\n",
              "      <td>1</td>\n",
              "      <td>1</td>\n",
              "      <td>4</td>\n",
              "      <td>1</td>\n",
              "      <td>0</td>\n",
              "      <td>0</td>\n",
              "      <td>0</td>\n",
              "      <td>1</td>\n",
              "      <td>0</td>\n",
              "      <td>19</td>\n",
              "      <td>0</td>\n",
              "      <td>2.514829</td>\n",
              "    </tr>\n",
              "    <tr>\n",
              "      <th>2</th>\n",
              "      <td>1</td>\n",
              "      <td>1</td>\n",
              "      <td>5</td>\n",
              "      <td>5</td>\n",
              "      <td>1</td>\n",
              "      <td>1</td>\n",
              "      <td>22</td>\n",
              "      <td>10</td>\n",
              "      <td>1</td>\n",
              "      <td>0</td>\n",
              "      <td>0</td>\n",
              "      <td>0</td>\n",
              "      <td>1</td>\n",
              "      <td>0</td>\n",
              "      <td>19</td>\n",
              "      <td>0</td>\n",
              "      <td>-18.826232</td>\n",
              "    </tr>\n",
              "    <tr>\n",
              "      <th>3</th>\n",
              "      <td>1</td>\n",
              "      <td>8</td>\n",
              "      <td>2</td>\n",
              "      <td>15</td>\n",
              "      <td>1</td>\n",
              "      <td>1</td>\n",
              "      <td>23</td>\n",
              "      <td>4</td>\n",
              "      <td>1</td>\n",
              "      <td>0</td>\n",
              "      <td>0</td>\n",
              "      <td>1</td>\n",
              "      <td>0</td>\n",
              "      <td>0</td>\n",
              "      <td>20</td>\n",
              "      <td>0</td>\n",
              "      <td>3.313201</td>\n",
              "    </tr>\n",
              "    <tr>\n",
              "      <th>4</th>\n",
              "      <td>2</td>\n",
              "      <td>12</td>\n",
              "      <td>1</td>\n",
              "      <td>3</td>\n",
              "      <td>0</td>\n",
              "      <td>1</td>\n",
              "      <td>22</td>\n",
              "      <td>10</td>\n",
              "      <td>0</td>\n",
              "      <td>0</td>\n",
              "      <td>0</td>\n",
              "      <td>1</td>\n",
              "      <td>0</td>\n",
              "      <td>0</td>\n",
              "      <td>45</td>\n",
              "      <td>0</td>\n",
              "      <td>2.076791</td>\n",
              "    </tr>\n",
              "  </tbody>\n",
              "</table>\n",
              "</div>\n",
              "    <div class=\"colab-df-buttons\">\n",
              "\n",
              "  <div class=\"colab-df-container\">\n",
              "    <button class=\"colab-df-convert\" onclick=\"convertToInteractive('df-c7589601-5295-43dc-bb8f-5dc73e693e18')\"\n",
              "            title=\"Convert this dataframe to an interactive table.\"\n",
              "            style=\"display:none;\">\n",
              "\n",
              "  <svg xmlns=\"http://www.w3.org/2000/svg\" height=\"24px\" viewBox=\"0 -960 960 960\">\n",
              "    <path d=\"M120-120v-720h720v720H120Zm60-500h600v-160H180v160Zm220 220h160v-160H400v160Zm0 220h160v-160H400v160ZM180-400h160v-160H180v160Zm440 0h160v-160H620v160ZM180-180h160v-160H180v160Zm440 0h160v-160H620v160Z\"/>\n",
              "  </svg>\n",
              "    </button>\n",
              "\n",
              "  <style>\n",
              "    .colab-df-container {\n",
              "      display:flex;\n",
              "      gap: 12px;\n",
              "    }\n",
              "\n",
              "    .colab-df-convert {\n",
              "      background-color: #E8F0FE;\n",
              "      border: none;\n",
              "      border-radius: 50%;\n",
              "      cursor: pointer;\n",
              "      display: none;\n",
              "      fill: #1967D2;\n",
              "      height: 32px;\n",
              "      padding: 0 0 0 0;\n",
              "      width: 32px;\n",
              "    }\n",
              "\n",
              "    .colab-df-convert:hover {\n",
              "      background-color: #E2EBFA;\n",
              "      box-shadow: 0px 1px 2px rgba(60, 64, 67, 0.3), 0px 1px 3px 1px rgba(60, 64, 67, 0.15);\n",
              "      fill: #174EA6;\n",
              "    }\n",
              "\n",
              "    .colab-df-buttons div {\n",
              "      margin-bottom: 4px;\n",
              "    }\n",
              "\n",
              "    [theme=dark] .colab-df-convert {\n",
              "      background-color: #3B4455;\n",
              "      fill: #D2E3FC;\n",
              "    }\n",
              "\n",
              "    [theme=dark] .colab-df-convert:hover {\n",
              "      background-color: #434B5C;\n",
              "      box-shadow: 0px 1px 3px 1px rgba(0, 0, 0, 0.15);\n",
              "      filter: drop-shadow(0px 1px 2px rgba(0, 0, 0, 0.3));\n",
              "      fill: #FFFFFF;\n",
              "    }\n",
              "  </style>\n",
              "\n",
              "    <script>\n",
              "      const buttonEl =\n",
              "        document.querySelector('#df-c7589601-5295-43dc-bb8f-5dc73e693e18 button.colab-df-convert');\n",
              "      buttonEl.style.display =\n",
              "        google.colab.kernel.accessAllowed ? 'block' : 'none';\n",
              "\n",
              "      async function convertToInteractive(key) {\n",
              "        const element = document.querySelector('#df-c7589601-5295-43dc-bb8f-5dc73e693e18');\n",
              "        const dataTable =\n",
              "          await google.colab.kernel.invokeFunction('convertToInteractive',\n",
              "                                                    [key], {});\n",
              "        if (!dataTable) return;\n",
              "\n",
              "        const docLinkHtml = 'Like what you see? Visit the ' +\n",
              "          '<a target=\"_blank\" href=https://colab.research.google.com/notebooks/data_table.ipynb>data table notebook</a>'\n",
              "          + ' to learn more about interactive tables.';\n",
              "        element.innerHTML = '';\n",
              "        dataTable['output_type'] = 'display_data';\n",
              "        await google.colab.output.renderOutput(dataTable, element);\n",
              "        const docLink = document.createElement('div');\n",
              "        docLink.innerHTML = docLinkHtml;\n",
              "        element.appendChild(docLink);\n",
              "      }\n",
              "    </script>\n",
              "  </div>\n",
              "\n",
              "\n",
              "    <div id=\"df-2fe02364-787f-4434-833b-6c5df75cfbb9\">\n",
              "      <button class=\"colab-df-quickchart\" onclick=\"quickchart('df-2fe02364-787f-4434-833b-6c5df75cfbb9')\"\n",
              "                title=\"Suggest charts\"\n",
              "                style=\"display:none;\">\n",
              "\n",
              "<svg xmlns=\"http://www.w3.org/2000/svg\" height=\"24px\"viewBox=\"0 0 24 24\"\n",
              "     width=\"24px\">\n",
              "    <g>\n",
              "        <path d=\"M19 3H5c-1.1 0-2 .9-2 2v14c0 1.1.9 2 2 2h14c1.1 0 2-.9 2-2V5c0-1.1-.9-2-2-2zM9 17H7v-7h2v7zm4 0h-2V7h2v10zm4 0h-2v-4h2v4z\"/>\n",
              "    </g>\n",
              "</svg>\n",
              "      </button>\n",
              "\n",
              "<style>\n",
              "  .colab-df-quickchart {\n",
              "      --bg-color: #E8F0FE;\n",
              "      --fill-color: #1967D2;\n",
              "      --hover-bg-color: #E2EBFA;\n",
              "      --hover-fill-color: #174EA6;\n",
              "      --disabled-fill-color: #AAA;\n",
              "      --disabled-bg-color: #DDD;\n",
              "  }\n",
              "\n",
              "  [theme=dark] .colab-df-quickchart {\n",
              "      --bg-color: #3B4455;\n",
              "      --fill-color: #D2E3FC;\n",
              "      --hover-bg-color: #434B5C;\n",
              "      --hover-fill-color: #FFFFFF;\n",
              "      --disabled-bg-color: #3B4455;\n",
              "      --disabled-fill-color: #666;\n",
              "  }\n",
              "\n",
              "  .colab-df-quickchart {\n",
              "    background-color: var(--bg-color);\n",
              "    border: none;\n",
              "    border-radius: 50%;\n",
              "    cursor: pointer;\n",
              "    display: none;\n",
              "    fill: var(--fill-color);\n",
              "    height: 32px;\n",
              "    padding: 0;\n",
              "    width: 32px;\n",
              "  }\n",
              "\n",
              "  .colab-df-quickchart:hover {\n",
              "    background-color: var(--hover-bg-color);\n",
              "    box-shadow: 0 1px 2px rgba(60, 64, 67, 0.3), 0 1px 3px 1px rgba(60, 64, 67, 0.15);\n",
              "    fill: var(--button-hover-fill-color);\n",
              "  }\n",
              "\n",
              "  .colab-df-quickchart-complete:disabled,\n",
              "  .colab-df-quickchart-complete:disabled:hover {\n",
              "    background-color: var(--disabled-bg-color);\n",
              "    fill: var(--disabled-fill-color);\n",
              "    box-shadow: none;\n",
              "  }\n",
              "\n",
              "  .colab-df-spinner {\n",
              "    border: 2px solid var(--fill-color);\n",
              "    border-color: transparent;\n",
              "    border-bottom-color: var(--fill-color);\n",
              "    animation:\n",
              "      spin 1s steps(1) infinite;\n",
              "  }\n",
              "\n",
              "  @keyframes spin {\n",
              "    0% {\n",
              "      border-color: transparent;\n",
              "      border-bottom-color: var(--fill-color);\n",
              "      border-left-color: var(--fill-color);\n",
              "    }\n",
              "    20% {\n",
              "      border-color: transparent;\n",
              "      border-left-color: var(--fill-color);\n",
              "      border-top-color: var(--fill-color);\n",
              "    }\n",
              "    30% {\n",
              "      border-color: transparent;\n",
              "      border-left-color: var(--fill-color);\n",
              "      border-top-color: var(--fill-color);\n",
              "      border-right-color: var(--fill-color);\n",
              "    }\n",
              "    40% {\n",
              "      border-color: transparent;\n",
              "      border-right-color: var(--fill-color);\n",
              "      border-top-color: var(--fill-color);\n",
              "    }\n",
              "    60% {\n",
              "      border-color: transparent;\n",
              "      border-right-color: var(--fill-color);\n",
              "    }\n",
              "    80% {\n",
              "      border-color: transparent;\n",
              "      border-right-color: var(--fill-color);\n",
              "      border-bottom-color: var(--fill-color);\n",
              "    }\n",
              "    90% {\n",
              "      border-color: transparent;\n",
              "      border-bottom-color: var(--fill-color);\n",
              "    }\n",
              "  }\n",
              "</style>\n",
              "\n",
              "      <script>\n",
              "        async function quickchart(key) {\n",
              "          const quickchartButtonEl =\n",
              "            document.querySelector('#' + key + ' button');\n",
              "          quickchartButtonEl.disabled = true;  // To prevent multiple clicks.\n",
              "          quickchartButtonEl.classList.add('colab-df-spinner');\n",
              "          try {\n",
              "            const charts = await google.colab.kernel.invokeFunction(\n",
              "                'suggestCharts', [key], {});\n",
              "          } catch (error) {\n",
              "            console.error('Error during call to suggestCharts:', error);\n",
              "          }\n",
              "          quickchartButtonEl.classList.remove('colab-df-spinner');\n",
              "          quickchartButtonEl.classList.add('colab-df-quickchart-complete');\n",
              "        }\n",
              "        (() => {\n",
              "          let quickchartButtonEl =\n",
              "            document.querySelector('#df-2fe02364-787f-4434-833b-6c5df75cfbb9 button');\n",
              "          quickchartButtonEl.style.display =\n",
              "            google.colab.kernel.accessAllowed ? 'block' : 'none';\n",
              "        })();\n",
              "      </script>\n",
              "    </div>\n",
              "\n",
              "    </div>\n",
              "  </div>\n"
            ],
            "application/vnd.google.colaboratory.intrinsic+json": {
              "type": "dataframe",
              "variable_name": "X_features",
              "summary": "{\n  \"name\": \"X_features\",\n  \"rows\": 4424,\n  \"fields\": [\n    {\n      \"column\": \"Marital status\",\n      \"properties\": {\n        \"dtype\": \"number\",\n        \"std\": 0,\n        \"min\": 1,\n        \"max\": 6,\n        \"num_unique_values\": 6,\n        \"samples\": [\n          1,\n          2,\n          6\n        ],\n        \"semantic_type\": \"\",\n        \"description\": \"\"\n      }\n    },\n    {\n      \"column\": \"Application mode\",\n      \"properties\": {\n        \"dtype\": \"number\",\n        \"std\": 5,\n        \"min\": 1,\n        \"max\": 18,\n        \"num_unique_values\": 18,\n        \"samples\": [\n          8,\n          6,\n          14\n        ],\n        \"semantic_type\": \"\",\n        \"description\": \"\"\n      }\n    },\n    {\n      \"column\": \"Application order\",\n      \"properties\": {\n        \"dtype\": \"number\",\n        \"std\": 1,\n        \"min\": 0,\n        \"max\": 9,\n        \"num_unique_values\": 8,\n        \"samples\": [\n          1,\n          6,\n          5\n        ],\n        \"semantic_type\": \"\",\n        \"description\": \"\"\n      }\n    },\n    {\n      \"column\": \"Course\",\n      \"properties\": {\n        \"dtype\": \"number\",\n        \"std\": 4,\n        \"min\": 1,\n        \"max\": 17,\n        \"num_unique_values\": 17,\n        \"samples\": [\n          2,\n          11,\n          17\n        ],\n        \"semantic_type\": \"\",\n        \"description\": \"\"\n      }\n    },\n    {\n      \"column\": \"Daytime/evening attendance\",\n      \"properties\": {\n        \"dtype\": \"number\",\n        \"std\": 0,\n        \"min\": 0,\n        \"max\": 1,\n        \"num_unique_values\": 2,\n        \"samples\": [\n          0,\n          1\n        ],\n        \"semantic_type\": \"\",\n        \"description\": \"\"\n      }\n    },\n    {\n      \"column\": \"Previous qualification\",\n      \"properties\": {\n        \"dtype\": \"number\",\n        \"std\": 3,\n        \"min\": 1,\n        \"max\": 17,\n        \"num_unique_values\": 17,\n        \"samples\": [\n          1,\n          12\n        ],\n        \"semantic_type\": \"\",\n        \"description\": \"\"\n      }\n    },\n    {\n      \"column\": \"Mother's qualification\",\n      \"properties\": {\n        \"dtype\": \"number\",\n        \"std\": 9,\n        \"min\": 1,\n        \"max\": 29,\n        \"num_unique_values\": 29,\n        \"samples\": [\n          15,\n          18\n        ],\n        \"semantic_type\": \"\",\n        \"description\": \"\"\n      }\n    },\n    {\n      \"column\": \"Father's occupation\",\n      \"properties\": {\n        \"dtype\": \"number\",\n        \"std\": 4,\n        \"min\": 1,\n        \"max\": 46,\n        \"num_unique_values\": 46,\n        \"samples\": [\n          17,\n          45\n        ],\n        \"semantic_type\": \"\",\n        \"description\": \"\"\n      }\n    },\n    {\n      \"column\": \"Displaced\",\n      \"properties\": {\n        \"dtype\": \"number\",\n        \"std\": 0,\n        \"min\": 0,\n        \"max\": 1,\n        \"num_unique_values\": 2,\n        \"samples\": [\n          0,\n          1\n        ],\n        \"semantic_type\": \"\",\n        \"description\": \"\"\n      }\n    },\n    {\n      \"column\": \"Educational special needs\",\n      \"properties\": {\n        \"dtype\": \"number\",\n        \"std\": 0,\n        \"min\": 0,\n        \"max\": 1,\n        \"num_unique_values\": 2,\n        \"samples\": [\n          1,\n          0\n        ],\n        \"semantic_type\": \"\",\n        \"description\": \"\"\n      }\n    },\n    {\n      \"column\": \"Debtor\",\n      \"properties\": {\n        \"dtype\": \"number\",\n        \"std\": 0,\n        \"min\": 0,\n        \"max\": 1,\n        \"num_unique_values\": 2,\n        \"samples\": [\n          1,\n          0\n        ],\n        \"semantic_type\": \"\",\n        \"description\": \"\"\n      }\n    },\n    {\n      \"column\": \"Tuition fees up to date\",\n      \"properties\": {\n        \"dtype\": \"number\",\n        \"std\": 0,\n        \"min\": 0,\n        \"max\": 1,\n        \"num_unique_values\": 2,\n        \"samples\": [\n          0,\n          1\n        ],\n        \"semantic_type\": \"\",\n        \"description\": \"\"\n      }\n    },\n    {\n      \"column\": \"Gender\",\n      \"properties\": {\n        \"dtype\": \"number\",\n        \"std\": 0,\n        \"min\": 0,\n        \"max\": 1,\n        \"num_unique_values\": 2,\n        \"samples\": [\n          0,\n          1\n        ],\n        \"semantic_type\": \"\",\n        \"description\": \"\"\n      }\n    },\n    {\n      \"column\": \"Scholarship holder\",\n      \"properties\": {\n        \"dtype\": \"number\",\n        \"std\": 0,\n        \"min\": 0,\n        \"max\": 1,\n        \"num_unique_values\": 2,\n        \"samples\": [\n          1,\n          0\n        ],\n        \"semantic_type\": \"\",\n        \"description\": \"\"\n      }\n    },\n    {\n      \"column\": \"Age at enrollment\",\n      \"properties\": {\n        \"dtype\": \"number\",\n        \"std\": 7,\n        \"min\": 17,\n        \"max\": 70,\n        \"num_unique_values\": 46,\n        \"samples\": [\n          54,\n          30\n        ],\n        \"semantic_type\": \"\",\n        \"description\": \"\"\n      }\n    },\n    {\n      \"column\": \"International\",\n      \"properties\": {\n        \"dtype\": \"number\",\n        \"std\": 0,\n        \"min\": 0,\n        \"max\": 1,\n        \"num_unique_values\": 2,\n        \"samples\": [\n          1,\n          0\n        ],\n        \"semantic_type\": \"\",\n        \"description\": \"\"\n      }\n    },\n    {\n      \"column\": \"Curricular 1st and 2nd sem PCA\",\n      \"properties\": {\n        \"dtype\": \"number\",\n        \"std\": 8.706499204615413,\n        \"min\": -21.116404383116016,\n        \"max\": 37.605744519081654,\n        \"num_unique_values\": 3821,\n        \"samples\": [\n          3.824106895075783,\n          4.427033784616622\n        ],\n        \"semantic_type\": \"\",\n        \"description\": \"\"\n      }\n    }\n  ]\n}"
            }
          },
          "metadata": {},
          "execution_count": 74
        }
      ],
      "source": [
        "# Assigning x and y features\n",
        "y = np.array(data['Target'])\n",
        "X_features = data.drop('Target', axis = 1)\n",
        "X_features.head()\n"
      ]
    },
    {
      "cell_type": "code",
      "execution_count": 35,
      "metadata": {
        "colab": {
          "base_uri": "https://localhost:8080/"
        },
        "id": "15R8Uzo0acRg",
        "outputId": "c9aba67b-d079-4797-cb60-2b34d9e36c6f"
      },
      "outputs": [
        {
          "output_type": "execute_result",
          "data": {
            "text/plain": [
              "array([ True, False,  True, False, False])"
            ]
          },
          "metadata": {},
          "execution_count": 35
        }
      ],
      "source": [
        "y[:5]"
      ]
    },
    {
      "cell_type": "code",
      "execution_count": 36,
      "metadata": {
        "colab": {
          "base_uri": "https://localhost:8080/"
        },
        "id": "NsEuRFsdaue0",
        "outputId": "f2674717-7112-43fb-b197-aee013b6d64f"
      },
      "outputs": [
        {
          "output_type": "execute_result",
          "data": {
            "text/plain": [
              "array([[-0.29482875,  0.21006857,  2.49089589, ..., -0.43036282,\n",
              "        -0.15968211, -2.42563525],\n",
              "       [-0.29482875, -0.16740639, -0.55406775, ..., -0.56216796,\n",
              "        -0.15968211,  0.28887762],\n",
              "       [-0.29482875, -1.11109377,  2.49089589, ..., -0.56216796,\n",
              "        -0.15968211, -2.16256376],\n",
              "       ...,\n",
              "       [-0.29482875, -1.11109377, -0.55406775, ...,  0.8876885 ,\n",
              "        -0.15968211,  0.45198555],\n",
              "       [-0.29482875, -1.11109377, -0.55406775, ..., -0.43036282,\n",
              "        -0.15968211,  0.02764264],\n",
              "       [-0.29482875, -0.35614386, -0.55406775, ..., -0.16675256,\n",
              "         6.26244216,  0.19929284]])"
            ]
          },
          "metadata": {},
          "execution_count": 36
        }
      ],
      "source": [
        "# Normalizing data\n",
        "scaler =  StandardScaler()\n",
        "X = scaler.fit_transform(X_features)\n",
        "X\n"
      ]
    },
    {
      "cell_type": "markdown",
      "metadata": {
        "id": "MlTqzj6PcEkW"
      },
      "source": [
        "## Model Building\n",
        "\n",
        "Because the target variable is categorical (either Dropout or not), this is a classification problem.\n",
        "We will train five supervised machine learning classification models:\n",
        "\n",
        "* Decision trees\n",
        "* Random forest\n",
        "* K-nearest neighbors\n",
        "\n",
        "First, we will split our data into training, validation, and test sets. We will set the random state to 42 to ensure reproducibility."
      ]
    },
    {
      "cell_type": "markdown",
      "source": [
        "### Splitting Training and Test set"
      ],
      "metadata": {
        "id": "uyO15igog41X"
      }
    },
    {
      "cell_type": "code",
      "execution_count": 37,
      "metadata": {
        "id": "YsSBw4uAAIdY"
      },
      "outputs": [],
      "source": [
        "# Split data into training and testing sets\n",
        "X_train, X_test, y_train, y_test = train_test_split(X, y, test_size=0.2, random_state=42)"
      ]
    },
    {
      "cell_type": "markdown",
      "source": [
        "### Creating validation set"
      ],
      "metadata": {
        "id": "wLPj0SrJNDk9"
      }
    },
    {
      "cell_type": "code",
      "source": [
        "# Split data into training and validation sets\n",
        "X_train, X_val, y_train, y_val = train_test_split(X_train, y_train, test_size=0.2, random_state=42)"
      ],
      "metadata": {
        "id": "a2aie8KGNGv_"
      },
      "execution_count": 38,
      "outputs": []
    },
    {
      "cell_type": "markdown",
      "source": [
        "### Baseline Model Accuracy"
      ],
      "metadata": {
        "id": "2OVCmpo4MqLa"
      }
    },
    {
      "cell_type": "code",
      "source": [
        "# Calculate the baseline accuracy to beat\n",
        "target_value, frequency = np.unique(y, return_counts = True)\n",
        "print(\"Unique Values:\", target_value)\n",
        "\n",
        "print(\"Frequency Values:\", frequency)\n",
        "\n",
        "# Maximum frequency value\n",
        "max_val = frequency.max()\n",
        "length_y = len(y)\n",
        "\n",
        "print('\\n')\n",
        "\n",
        "baseline_acc = round((max_val/length_y) * 100, 3)\n",
        "print(f'The baseline accuracy to beat is {baseline_acc}%')\n",
        "\n"
      ],
      "metadata": {
        "colab": {
          "base_uri": "https://localhost:8080/"
        },
        "id": "uF5AJigIl3gg",
        "outputId": "e076e432-c736-4b45-cbca-5a767ccbf3ee"
      },
      "execution_count": 39,
      "outputs": [
        {
          "output_type": "stream",
          "name": "stdout",
          "text": [
            "Unique Values: [False  True]\n",
            "Frequency Values: [3003 1421]\n",
            "\n",
            "\n",
            "The baseline accuracy to beat is 67.88%\n"
          ]
        }
      ]
    },
    {
      "cell_type": "markdown",
      "source": [
        "A list is created to store all the trained models with the best hyperparameters"
      ],
      "metadata": {
        "id": "Sk2GepGthCTy"
      }
    },
    {
      "cell_type": "code",
      "source": [
        "# List of all trained models\n",
        "\n",
        "trained_models = []"
      ],
      "metadata": {
        "id": "elzy9F4qJBgY"
      },
      "execution_count": 40,
      "outputs": []
    },
    {
      "cell_type": "code",
      "execution_count": 74,
      "metadata": {
        "id": "AqRA4CluAIdh"
      },
      "outputs": [],
      "source": []
    },
    {
      "cell_type": "markdown",
      "metadata": {
        "id": "01GbUfi8doQP"
      },
      "source": [
        "### Decision Trees"
      ]
    },
    {
      "cell_type": "code",
      "source": [
        "# List for possible depth value\n",
        "depth_values = list(range(1, 21))\n",
        "\n",
        "# Create empty list for training data and validation data\n",
        "training_acc = []\n",
        "validation_acc = []\n",
        "\n",
        "for d in tqdm(depth_values):\n",
        "  tree_model = DecisionTreeClassifier(max_depth=d, random_state=42)\n",
        "  tree_model.fit(X_train, y_train)\n",
        "\n",
        "  # Training accuracy\n",
        "  y_pred_training = tree_model.predict(X_train)\n",
        "  training_acc.append(accuracy_score(y_train, y_pred_training))\n",
        "\n",
        "  # Validation accuracy\n",
        "  y_pred_validation = tree_model.predict(X_val)\n",
        "  validation_acc.append(accuracy_score(y_val, y_pred_validation))\n"
      ],
      "metadata": {
        "id": "I0CKmM4lM9p4",
        "colab": {
          "base_uri": "https://localhost:8080/"
        },
        "outputId": "e815f8a5-6dc4-40ed-a826-90505b7a87ab"
      },
      "execution_count": 42,
      "outputs": [
        {
          "output_type": "stream",
          "name": "stderr",
          "text": [
            "100%|██████████| 20/20 [00:00<00:00, 29.27it/s]\n"
          ]
        }
      ]
    },
    {
      "cell_type": "code",
      "source": [
        "# Plotting learning curve\n",
        "plt.plot(training_acc, label = 'Training Accuracy')\n",
        "plt.plot(validation_acc, label = 'Validation Accuracy')\n",
        "plt.xlabel('Depth Values')\n",
        "plt.ylabel('Accuracy Score')\n",
        "plt.title('Learning curve')\n",
        "plt.legend();"
      ],
      "metadata": {
        "id": "GsbwKECZM9mU",
        "colab": {
          "base_uri": "https://localhost:8080/",
          "height": 472
        },
        "outputId": "06df44ad-0854-4e12-832d-50e82560512d"
      },
      "execution_count": 43,
      "outputs": [
        {
          "output_type": "display_data",
          "data": {
            "text/plain": [
              "<Figure size 640x480 with 1 Axes>"
            ],
            "image/png": "[encoded data removed]"
          },
          "metadata": {}
        }
      ]
    },
    {
      "cell_type": "markdown",
      "source": [
        "From the training curve we can estimate that the best depth value that yielded the highest accuracy score was between 2 and 5. However, a better way to pick out the depth value would be to get the index value that corresponds to the highest accuracy score in the `validation_acc` list"
      ],
      "metadata": {
        "id": "fgkC9E2jist4"
      }
    },
    {
      "cell_type": "code",
      "source": [
        "# Best depth value\n",
        "best_val_acc = max(validation_acc)\n",
        "best_depth = validation_acc.index(best_val_acc) +1\n",
        "print(f'Best depth value with an accuracy of {round(best_val_acc * 100, 2)}% on the validation set is {best_depth}')\n"
      ],
      "metadata": {
        "id": "uBOSIHdzM9il",
        "colab": {
          "base_uri": "https://localhost:8080/"
        },
        "outputId": "d900834c-c99e-42a9-a498-c6c4574f217b"
      },
      "execution_count": 44,
      "outputs": [
        {
          "output_type": "stream",
          "name": "stdout",
          "text": [
            "Best depth value with an accuracy of 85.31% on the validation set is 3\n"
          ]
        }
      ]
    },
    {
      "cell_type": "code",
      "execution_count": 45,
      "metadata": {
        "colab": {
          "base_uri": "https://localhost:8080/"
        },
        "id": "77HX_bEyd3dJ",
        "outputId": "b969997c-a8ef-4004-a57e-1089db02922f"
      },
      "outputs": [
        {
          "output_type": "stream",
          "name": "stdout",
          "text": [
            "Accuracy of Decision tree model is 83.2%\n"
          ]
        }
      ],
      "source": [
        "# Train a Decision tree model with best depth\n",
        "tree_model = DecisionTreeClassifier(max_depth=best_depth, random_state=42)\n",
        "tree_model.fit(X_train, y_train)\n",
        "\n",
        "# Predict target values for test data\n",
        "y_pred = tree_model.predict(X_test)\n",
        "\n",
        "# Evaluate the model's accuracy\n",
        "tree_acc = round(accuracy_score(y_test, y_pred), 3)\n",
        "print(f'Accuracy of Decision tree model is {tree_acc * 100}%')\n",
        "\n",
        "\n",
        "# Add to model list\n",
        "trained_models.append(tree_model)"
      ]
    },
    {
      "cell_type": "code",
      "source": [
        "# from google.colab import files\n",
        "# import joblib\n",
        "\n",
        "# # Save the trained KNN model to a file\n",
        "# joblib.dump(tree_model, 'tree_model.pkl')\n",
        "\n",
        "# # Download the saved model file\n",
        "# files.download('tree_model.pkl')"
      ],
      "metadata": {
        "id": "GOoe9zt-ezXR"
      },
      "execution_count": 46,
      "outputs": []
    },
    {
      "cell_type": "markdown",
      "metadata": {
        "id": "ZBBTtkOBfKjW"
      },
      "source": [
        "### Support Vector Machines"
      ]
    },
    {
      "cell_type": "code",
      "execution_count": 47,
      "metadata": {
        "colab": {
          "base_uri": "https://localhost:8080/"
        },
        "id": "HnBaAsfggw7X",
        "outputId": "c362ce86-a1be-449c-f6d0-5201ebfc1276"
      },
      "outputs": [
        {
          "output_type": "stream",
          "name": "stderr",
          "text": [
            "100%|██████████| 4/4 [00:02<00:00,  1.65it/s]\n"
          ]
        },
        {
          "output_type": "execute_result",
          "data": {
            "text/plain": [
              "{'linear': 0.8432203389830508,\n",
              " 'poly': 0.8375706214689266,\n",
              " 'rbf': 0.8403954802259888,\n",
              " 'sigmoid': 0.7641242937853108}"
            ]
          },
          "metadata": {},
          "execution_count": 47
        }
      ],
      "source": [
        "# Iterating to see which kernel gives the best result\n",
        "kernels = ['linear', 'poly', 'rbf', 'sigmoid']\n",
        "score_list = {}\n",
        "scores = 0\n",
        "svm_linear = []\n",
        "\n",
        "for k in tqdm(kernels):\n",
        "    svm_model = SVC(random_state = 42, kernel= k)\n",
        "    svm_model.fit(X_train, y_train)\n",
        "    if k == 'linear':\n",
        "      svm_linear.append(svm_model)\n",
        "    f_score = svm_model.score(X_val, y_val)\n",
        "    score_list.update({k: f_score})\n",
        "\n",
        "\n",
        "score_list"
      ]
    },
    {
      "cell_type": "code",
      "source": [
        "max_val = max(score_list.values())\n",
        "list_values = list(score_list.values())\n",
        "list_keys = list(score_list.keys())\n",
        "\n",
        "# Best kernel\n",
        "k = list_keys[list_values.index(max_val)]"
      ],
      "metadata": {
        "id": "BA0i_0B3tNug"
      },
      "execution_count": 48,
      "outputs": []
    },
    {
      "cell_type": "code",
      "source": [
        "from IPython.display import Markdown\n",
        "Markdown(f\"\"\"\n",
        "#### From the result we can determine that the optimal kernal for the SVC is {k}\"\"\")"
      ],
      "metadata": {
        "colab": {
          "base_uri": "https://localhost:8080/",
          "height": 57
        },
        "id": "V7rz76rStAtW",
        "outputId": "27978c86-ea28-4e4f-9f12-e511c112d7f6"
      },
      "execution_count": 49,
      "outputs": [
        {
          "output_type": "execute_result",
          "data": {
            "text/plain": [
              "<IPython.core.display.Markdown object>"
            ],
            "text/markdown": "\n#### From the result we can determine that the optimal kernal for the SVC is linear"
          },
          "metadata": {},
          "execution_count": 49
        }
      ]
    },
    {
      "cell_type": "markdown",
      "source": [
        "To train both Random forest and K-nearest neighbours, we will make use of Grid Search to determine the best parameters. We will also stick to the default value for cross validation which is 5 folds."
      ],
      "metadata": {
        "id": "mWpj5LGnueCO"
      }
    },
    {
      "cell_type": "markdown",
      "metadata": {
        "id": "woyfMfARiRt1"
      },
      "source": [
        "### Random forest"
      ]
    },
    {
      "cell_type": "code",
      "execution_count": 51,
      "metadata": {
        "colab": {
          "base_uri": "https://localhost:8080/"
        },
        "id": "sXaII3kqiYAC",
        "outputId": "5cf5e5f7-3310-4f7e-fcae-4b58f78c2194"
      },
      "outputs": [
        {
          "output_type": "stream",
          "name": "stdout",
          "text": [
            "With default parameters: \n",
            "Accuracy of Random forest model on training data is 99.9%\n",
            "Accuracy of Random forest model on validation data is 85.5%\n"
          ]
        }
      ],
      "source": [
        "# Train a Random forest model\n",
        "rf_model = RandomForestClassifier(random_state=42)\n",
        "rf_model.fit(X_train, y_train)\n",
        "\n",
        "# Predict target values for training data\n",
        "y_pred_train = rf_model.predict(X_train)\n",
        "rf_acc_train = round(accuracy_score(y_train, y_pred_train), 3)\n",
        "\n",
        "# Predict target values for validation data\n",
        "y_pred_val = rf_model.predict(X_val)\n",
        "rf_acc_val = round(accuracy_score(y_val, y_pred_val), 3)\n",
        "\n",
        "print('With default parameters: ')\n",
        "print(f'Accuracy of Random forest model on training data is {rf_acc_train * 100}%')\n",
        "print(f'Accuracy of Random forest model on validation data is {rf_acc_val * 100}%')\n"
      ]
    },
    {
      "cell_type": "markdown",
      "source": [
        "We can perform a grid search to generate best parameters to train a random forest model."
      ],
      "metadata": {
        "id": "WMdvS9GWkG6U"
      }
    },
    {
      "cell_type": "code",
      "source": [
        "# Using Grid search to determine best parameters\n",
        "param_grid = {\n",
        "    'n_estimators': [25, 50, 75, 100],\n",
        "    'max_features': ['sqrt', 'log2', None],\n",
        "    'max_depth': [3, 6, 9],\n",
        "    'max_leaf_nodes': [3, 6, 9],\n",
        "}\n",
        "\n",
        "grid_search = GridSearchCV(RandomForestClassifier(random_state=42),\n",
        "                           param_grid=param_grid, cv = 5)\n",
        "# Fit Grid\n",
        "grid_search.fit(X_train, y_train)\n",
        "best_rf_parameters = grid_search.best_params_\n",
        "print(f'Grid search parameters: {best_rf_parameters}')\n",
        "\n"
      ],
      "metadata": {
        "colab": {
          "base_uri": "https://localhost:8080/"
        },
        "id": "j_bloccisZia",
        "outputId": "e98ed317-de82-4f74-8e3e-fd185f3391f8"
      },
      "execution_count": 52,
      "outputs": [
        {
          "output_type": "stream",
          "name": "stdout",
          "text": [
            "Grid search parameters: {'max_depth': 3, 'max_features': 'sqrt', 'max_leaf_nodes': 9, 'n_estimators': 100}\n"
          ]
        }
      ]
    },
    {
      "cell_type": "code",
      "source": [
        "# Train a Random forest model with best estimator from Grid search\n",
        "grid_rf_model = RandomForestClassifier(random_state = 42,\n",
        "                                       max_depth = best_rf_parameters['max_depth'],\n",
        "                                      max_leaf_nodes = best_rf_parameters['max_leaf_nodes'],\n",
        "                                      n_estimators = best_rf_parameters['n_estimators'],\n",
        "                                       max_features = best_rf_parameters['max_features'])\n",
        "grid_rf_model.fit(X_train, y_train)\n",
        "\n",
        "# Predict target values for training data\n",
        "y_pred_train = grid_rf_model.predict(X_train)\n",
        "rf_acc_train = round(accuracy_score(y_train, y_pred_train), 3)\n",
        "\n",
        "# Predict target values for validation data\n",
        "y_pred_val = grid_rf_model.predict(X_val)\n",
        "rf_acc_val = round(accuracy_score(y_val, y_pred_val), 3)\n",
        "\n",
        "print('With Grid search best estimator parameters: ')\n",
        "print(f'Accuracy of Random forest model on training data is {rf_acc_train * 100}%')\n",
        "print(f'Accuracy of Random forest model on validation data is {rf_acc_val * 100}%')"
      ],
      "metadata": {
        "colab": {
          "base_uri": "https://localhost:8080/"
        },
        "id": "0Jz3EmR8tRt0",
        "outputId": "a3c3f656-a240-4262-c1a3-eeb286c6eaf5"
      },
      "execution_count": 53,
      "outputs": [
        {
          "output_type": "stream",
          "name": "stdout",
          "text": [
            "With Grid search best estimator parameters: \n",
            "Accuracy of Random forest model on training data is 86.5%\n",
            "Accuracy of Random forest model on validation data is 85.0%\n"
          ]
        }
      ]
    },
    {
      "cell_type": "code",
      "source": [],
      "metadata": {
        "id": "nVA-TIeghrlB"
      },
      "execution_count": 53,
      "outputs": []
    },
    {
      "cell_type": "code",
      "source": [
        "# Predict target values for test data using default parameters\n",
        "y_pred = grid_rf_model.predict(X_test)\n",
        "rf_acc = round(accuracy_score(y_test, y_pred), 3)\n",
        "print(f'Accuracy of Random forest model on test data is {rf_acc * 100}%')\n",
        "\n",
        "# Add to model list\n",
        "trained_models.append(grid_rf_model)"
      ],
      "metadata": {
        "colab": {
          "base_uri": "https://localhost:8080/"
        },
        "id": "bh0iDLGfwGF7",
        "outputId": "1d86cbd6-ef6e-458b-cc5c-7bbd6eb84342"
      },
      "execution_count": 54,
      "outputs": [
        {
          "output_type": "stream",
          "name": "stdout",
          "text": [
            "Accuracy of Random forest model on test data is 82.8%\n"
          ]
        }
      ]
    },
    {
      "cell_type": "code",
      "source": [
        "# from google.colab import files\n",
        "# import joblib\n",
        "\n",
        "# # Save the trained KNN model to a file\n",
        "# joblib.dump(rf_model, 'rf_model.pkl')\n",
        "\n",
        "# # Download the saved model file\n",
        "# files.download('rf_model.pkl')"
      ],
      "metadata": {
        "id": "jrnmhgZzhz2y"
      },
      "execution_count": 55,
      "outputs": []
    },
    {
      "cell_type": "code",
      "source": [],
      "metadata": {
        "id": "zwRqvizVhtEx"
      },
      "execution_count": 55,
      "outputs": []
    },
    {
      "cell_type": "markdown",
      "metadata": {
        "id": "8DrywTQ5hnzo"
      },
      "source": [
        "### K- Nearest Neighbours\n",
        "\n"
      ]
    },
    {
      "cell_type": "code",
      "source": [
        "# Define the best parameter values using grid search\n",
        "param_grid = {'n_neighbors': np.arange(1, 25)}\n",
        "\n",
        "grid_knn = GridSearchCV(KNeighborsClassifier(), param_grid, cv=5)\n",
        "\n",
        "# Fit grid\n",
        "grid_knn.fit(X_train, y_train)\n",
        "best_knn_parameters = grid_knn.best_params_\n",
        "print(f'Grid search parameters: {best_knn_parameters}')\n"
      ],
      "metadata": {
        "id": "8g4yTrL0VTB8",
        "colab": {
          "base_uri": "https://localhost:8080/"
        },
        "outputId": "d13d414a-9a4f-476f-81ea-dafde7e1faba"
      },
      "execution_count": 56,
      "outputs": [
        {
          "output_type": "stream",
          "name": "stdout",
          "text": [
            "Grid search parameters: {'n_neighbors': np.int64(13)}\n"
          ]
        }
      ]
    },
    {
      "cell_type": "code",
      "source": [
        "# Train Knn model with grid parameters\n",
        "grid_knn_model = KNeighborsClassifier(n_neighbors= best_knn_parameters['n_neighbors'])\n",
        "grid_knn_model.fit(X_train, y_train)\n",
        "# Predict target values for training data\n",
        "y_pred_train = grid_knn_model.predict(X_train)\n",
        "knn_acc_train = round(accuracy_score(y_train, y_pred_train), 3)\n",
        "\n",
        "# Predict target values for validation data\n",
        "y_pred_val = grid_knn_model.predict(X_val)\n",
        "knn_acc_val = round(accuracy_score(y_val, y_pred_val), 3)\n",
        "\n",
        "print('With Grid search best estimator parameters: ')\n",
        "print(f'Accuracy of KNN model on training data is {knn_acc_train * 100}%')\n",
        "print(f'Accuracy of KNN model on validation data is {knn_acc_val * 100}%')"
      ],
      "metadata": {
        "id": "liH1onPmVS5Y",
        "colab": {
          "base_uri": "https://localhost:8080/"
        },
        "outputId": "e35e94d4-1689-4ebb-b1fa-3f5cfc20c677"
      },
      "execution_count": 57,
      "outputs": [
        {
          "output_type": "stream",
          "name": "stdout",
          "text": [
            "With Grid search best estimator parameters: \n",
            "Accuracy of KNN model on training data is 83.89999999999999%\n",
            "Accuracy of KNN model on validation data is 82.3%\n"
          ]
        }
      ]
    },
    {
      "cell_type": "markdown",
      "source": [
        "We will also try the elbow method to compare optimal K value"
      ],
      "metadata": {
        "id": "QSfP3_hzrsca"
      }
    },
    {
      "cell_type": "code",
      "execution_count": 58,
      "metadata": {
        "id": "nOoLArtchnfI",
        "colab": {
          "base_uri": "https://localhost:8080/"
        },
        "outputId": "0f141119-94c9-4fb0-916c-086413db0c24"
      },
      "outputs": [
        {
          "output_type": "stream",
          "name": "stderr",
          "text": [
            "100%|██████████| 20/20 [00:02<00:00,  9.88it/s]\n"
          ]
        }
      ],
      "source": [
        "# Empty list for accuracy scores\n",
        "train_accuracy = []\n",
        "val_accuracy = []\n",
        "for i in tqdm(range(1,21)):\n",
        "  # Train a Knn model\n",
        "  knn_model = KNeighborsClassifier(n_neighbors=i)\n",
        "  # Fit model\n",
        "  knn_model.fit(X_train, y_train)\n",
        "\n",
        "  # Prediction for training data\n",
        "  y_pred_train = knn_model.predict(X_train)\n",
        "  # Prediction for validation data\n",
        "  y_pred_val = knn_model.predict(X_val)\n",
        "\n",
        "  # Accuracy Scores\n",
        "  train_accuracy.append(accuracy_score(y_train, y_pred_train))\n",
        "  val_accuracy.append(accuracy_score(y_val, y_pred_val))"
      ]
    },
    {
      "cell_type": "code",
      "source": [
        "# Plotting learning curve\n",
        "plt.plot(train_accuracy, label = 'Training Accuracy')\n",
        "plt.plot(val_accuracy, label = 'Validation Accuracy')\n",
        "plt.xlabel('n Values')\n",
        "plt.ylabel('Accuracy Score')\n",
        "plt.title('Learning curve')\n",
        "plt.legend();"
      ],
      "metadata": {
        "colab": {
          "base_uri": "https://localhost:8080/",
          "height": 472
        },
        "id": "mkkhzP8syHxA",
        "outputId": "e7497b78-8558-4384-cb46-d434f830e707"
      },
      "execution_count": 59,
      "outputs": [
        {
          "output_type": "display_data",
          "data": {
            "text/plain": [
              "<Figure size 640x480 with 1 Axes>"
            ],
            "image/png": "[encoded data removed]"
          },
          "metadata": {}
        }
      ]
    },
    {
      "cell_type": "markdown",
      "source": [
        "From the curve, we can estimate that the best k values are between 12 and 17."
      ],
      "metadata": {
        "id": "0KGFufe_sBki"
      }
    },
    {
      "cell_type": "code",
      "execution_count": 60,
      "metadata": {
        "id": "Xhy5L2M591sn"
      },
      "outputs": [],
      "source": [
        "# Determine best n value\n",
        "n = val_accuracy.index(max(val_accuracy)) + 1"
      ]
    },
    {
      "cell_type": "code",
      "source": [
        "print(f'From the result we can determine that the optimal n value with the highest score of {round(max(val_accuracy), 3)  * 100}% is {n}')"
      ],
      "metadata": {
        "colab": {
          "base_uri": "https://localhost:8080/"
        },
        "id": "h2-DyOu2w2Zx",
        "outputId": "730dfb71-b028-4379-b794-3452318e4d9d"
      },
      "execution_count": 61,
      "outputs": [
        {
          "output_type": "stream",
          "name": "stdout",
          "text": [
            "From the result we can determine that the optimal n value with the highest score of 82.3% is 11\n"
          ]
        }
      ]
    },
    {
      "cell_type": "markdown",
      "source": [
        "We will use the best parameters retrieved from grid search."
      ],
      "metadata": {
        "id": "ERKcBWFKyQ3o"
      }
    },
    {
      "cell_type": "code",
      "execution_count": 62,
      "metadata": {
        "colab": {
          "base_uri": "https://localhost:8080/"
        },
        "id": "Xxo4M1Kmig5e",
        "outputId": "6213db37-c8b9-42d8-dcc4-93b94b38c231"
      },
      "outputs": [
        {
          "output_type": "stream",
          "name": "stdout",
          "text": [
            "Accuracy of KNN model is 80.0%\n"
          ]
        }
      ],
      "source": [
        "# Train a KNN model\n",
        "knn_model = KNeighborsClassifier(n_neighbors=11)\n",
        "# knn_model = KNeighborsClassifier(n_neighbors=21)\n",
        "knn_model.fit(X_train, y_train)\n",
        "\n",
        "# Predict target values for test data\n",
        "y_pred = knn_model.predict(X_test)\n",
        "\n",
        "# Evaluate the model's accuracy\n",
        "knn_acc = round(accuracy_score(y_test, y_pred), 3)\n",
        "print(f'Accuracy of KNN model is {round(knn_acc * 100,0)}%')\n",
        "\n",
        "# Confusion Matrix\n",
        "knn_matrix = confusion_matrix(y_test, y_pred)\n",
        "\n",
        "# Add to model list\n",
        "trained_models.append(knn_model)"
      ]
    },
    {
      "cell_type": "code",
      "source": [
        "# from google.colab import files\n",
        "# import joblib\n",
        "\n",
        "# # Save the trained KNN model to a file\n",
        "# joblib.dump(knn_model, 'knn_model.pkl')\n",
        "\n",
        "# # Download the saved model file\n",
        "# files.download('knn_model.pkl')"
      ],
      "metadata": {
        "id": "571mvMwrSe7r"
      },
      "execution_count": 63,
      "outputs": []
    },
    {
      "cell_type": "code",
      "source": [
        "n"
      ],
      "metadata": {
        "colab": {
          "base_uri": "https://localhost:8080/"
        },
        "id": "N4oLreAFd-iL",
        "outputId": "bc9436d6-3db0-46a3-deb5-2e2396f3607c"
      },
      "execution_count": 64,
      "outputs": [
        {
          "output_type": "execute_result",
          "data": {
            "text/plain": [
              "11"
            ]
          },
          "metadata": {},
          "execution_count": 64
        }
      ]
    },
    {
      "cell_type": "markdown",
      "metadata": {
        "id": "blgmbmzg3C49"
      },
      "source": [
        "## Accuracy for each classification model\n",
        "\n",
        "For each model we would view which of them performs the best."
      ]
    },
    {
      "cell_type": "code",
      "execution_count": 75,
      "metadata": {
        "colab": {
          "base_uri": "https://localhost:8080/",
          "height": 417
        },
        "id": "6OLHxRAeOZrT",
        "outputId": "12c676c8-4041-4ef5-a284-114486fe8ac2"
      },
      "outputs": [
        {
          "output_type": "display_data",
          "data": {
            "text/html": [
              "<html>\n",
              "<head><meta charset=\"utf-8\" /></head>\n",
              "<body>\n",
              "    <div>            <script src=\"https://cdnjs.cloudflare.com/ajax/libs/mathjax/2.7.5/MathJax.js?config=TeX-AMS-MML_SVG\"></script><script type=\"text/javascript\">if (window.MathJax && window.MathJax.Hub && window.MathJax.Hub.Config) {window.MathJax.Hub.Config({SVG: {font: \"STIX-Web\"}});}</script>                <script type=\"text/javascript\">window.PlotlyConfig = {MathJaxConfig: 'local'};</script>\n",
              "        <script charset=\"utf-8\" src=\"https://cdn.plot.ly/plotly-2.35.2.min.js\"></script>                <div id=\"daac26e0-ef45-4a17-a17e-bac107ac6bf6\" class=\"plotly-graph-div\" style=\"height:400px; width:800px;\"></div>            <script type=\"text/javascript\">                                    window.PLOTLYENV=window.PLOTLYENV || {};                                    if (document.getElementById(\"daac26e0-ef45-4a17-a17e-bac107ac6bf6\")) {                    Plotly.newPlot(                        \"daac26e0-ef45-4a17-a17e-bac107ac6bf6\",                        [{\"alignmentgroup\":\"True\",\"hovertemplate\":\"Accuracy=%{x}\\u003cbr\\u003eClassifier=%{y}\\u003cbr\\u003ecolor=%{marker.color}\\u003cextra\\u003e\\u003c\\u002fextra\\u003e\",\"legendgroup\":\"\",\"marker\":{\"color\":[0.828,0.795,0.832],\"coloraxis\":\"coloraxis\",\"pattern\":{\"shape\":\"\"}},\"name\":\"\",\"offsetgroup\":\"\",\"orientation\":\"h\",\"showlegend\":false,\"textposition\":\"auto\",\"texttemplate\":\"%{x}\",\"x\":[0.828,0.795,0.832],\"xaxis\":\"x\",\"y\":[\"Random Forest\",\"KNN\",\"Decision Tree\"],\"yaxis\":\"y\",\"type\":\"bar\"}],                        {\"template\":{\"data\":{\"histogram2dcontour\":[{\"type\":\"histogram2dcontour\",\"colorbar\":{\"outlinewidth\":0,\"ticks\":\"\"},\"colorscale\":[[0.0,\"#0d0887\"],[0.1111111111111111,\"#46039f\"],[0.2222222222222222,\"#7201a8\"],[0.3333333333333333,\"#9c179e\"],[0.4444444444444444,\"#bd3786\"],[0.5555555555555556,\"#d8576b\"],[0.6666666666666666,\"#ed7953\"],[0.7777777777777778,\"#fb9f3a\"],[0.8888888888888888,\"#fdca26\"],[1.0,\"#f0f921\"]]}],\"choropleth\":[{\"type\":\"choropleth\",\"colorbar\":{\"outlinewidth\":0,\"ticks\":\"\"}}],\"histogram2d\":[{\"type\":\"histogram2d\",\"colorbar\":{\"outlinewidth\":0,\"ticks\":\"\"},\"colorscale\":[[0.0,\"#0d0887\"],[0.1111111111111111,\"#46039f\"],[0.2222222222222222,\"#7201a8\"],[0.3333333333333333,\"#9c179e\"],[0.4444444444444444,\"#bd3786\"],[0.5555555555555556,\"#d8576b\"],[0.6666666666666666,\"#ed7953\"],[0.7777777777777778,\"#fb9f3a\"],[0.8888888888888888,\"#fdca26\"],[1.0,\"#f0f921\"]]}],\"heatmap\":[{\"type\":\"heatmap\",\"colorbar\":{\"outlinewidth\":0,\"ticks\":\"\"},\"colorscale\":[[0.0,\"#0d0887\"],[0.1111111111111111,\"#46039f\"],[0.2222222222222222,\"#7201a8\"],[0.3333333333333333,\"#9c179e\"],[0.4444444444444444,\"#bd3786\"],[0.5555555555555556,\"#d8576b\"],[0.6666666666666666,\"#ed7953\"],[0.7777777777777778,\"#fb9f3a\"],[0.8888888888888888,\"#fdca26\"],[1.0,\"#f0f921\"]]}],\"heatmapgl\":[{\"type\":\"heatmapgl\",\"colorbar\":{\"outlinewidth\":0,\"ticks\":\"\"},\"colorscale\":[[0.0,\"#0d0887\"],[0.1111111111111111,\"#46039f\"],[0.2222222222222222,\"#7201a8\"],[0.3333333333333333,\"#9c179e\"],[0.4444444444444444,\"#bd3786\"],[0.5555555555555556,\"#d8576b\"],[0.6666666666666666,\"#ed7953\"],[0.7777777777777778,\"#fb9f3a\"],[0.8888888888888888,\"#fdca26\"],[1.0,\"#f0f921\"]]}],\"contourcarpet\":[{\"type\":\"contourcarpet\",\"colorbar\":{\"outlinewidth\":0,\"ticks\":\"\"}}],\"contour\":[{\"type\":\"contour\",\"colorbar\":{\"outlinewidth\":0,\"ticks\":\"\"},\"colorscale\":[[0.0,\"#0d0887\"],[0.1111111111111111,\"#46039f\"],[0.2222222222222222,\"#7201a8\"],[0.3333333333333333,\"#9c179e\"],[0.4444444444444444,\"#bd3786\"],[0.5555555555555556,\"#d8576b\"],[0.6666666666666666,\"#ed7953\"],[0.7777777777777778,\"#fb9f3a\"],[0.8888888888888888,\"#fdca26\"],[1.0,\"#f0f921\"]]}],\"surface\":[{\"type\":\"surface\",\"colorbar\":{\"outlinewidth\":0,\"ticks\":\"\"},\"colorscale\":[[0.0,\"#0d0887\"],[0.1111111111111111,\"#46039f\"],[0.2222222222222222,\"#7201a8\"],[0.3333333333333333,\"#9c179e\"],[0.4444444444444444,\"#bd3786\"],[0.5555555555555556,\"#d8576b\"],[0.6666666666666666,\"#ed7953\"],[0.7777777777777778,\"#fb9f3a\"],[0.8888888888888888,\"#fdca26\"],[1.0,\"#f0f921\"]]}],\"mesh3d\":[{\"type\":\"mesh3d\",\"colorbar\":{\"outlinewidth\":0,\"ticks\":\"\"}}],\"scatter\":[{\"fillpattern\":{\"fillmode\":\"overlay\",\"size\":10,\"solidity\":0.2},\"type\":\"scatter\"}],\"parcoords\":[{\"type\":\"parcoords\",\"line\":{\"colorbar\":{\"outlinewidth\":0,\"ticks\":\"\"}}}],\"scatterpolargl\":[{\"type\":\"scatterpolargl\",\"marker\":{\"colorbar\":{\"outlinewidth\":0,\"ticks\":\"\"}}}],\"bar\":[{\"error_x\":{\"color\":\"#2a3f5f\"},\"error_y\":{\"color\":\"#2a3f5f\"},\"marker\":{\"line\":{\"color\":\"#E5ECF6\",\"width\":0.5},\"pattern\":{\"fillmode\":\"overlay\",\"size\":10,\"solidity\":0.2}},\"type\":\"bar\"}],\"scattergeo\":[{\"type\":\"scattergeo\",\"marker\":{\"colorbar\":{\"outlinewidth\":0,\"ticks\":\"\"}}}],\"scatterpolar\":[{\"type\":\"scatterpolar\",\"marker\":{\"colorbar\":{\"outlinewidth\":0,\"ticks\":\"\"}}}],\"histogram\":[{\"marker\":{\"pattern\":{\"fillmode\":\"overlay\",\"size\":10,\"solidity\":0.2}},\"type\":\"histogram\"}],\"scattergl\":[{\"type\":\"scattergl\",\"marker\":{\"colorbar\":{\"outlinewidth\":0,\"ticks\":\"\"}}}],\"scatter3d\":[{\"type\":\"scatter3d\",\"line\":{\"colorbar\":{\"outlinewidth\":0,\"ticks\":\"\"}},\"marker\":{\"colorbar\":{\"outlinewidth\":0,\"ticks\":\"\"}}}],\"scattermapbox\":[{\"type\":\"scattermapbox\",\"marker\":{\"colorbar\":{\"outlinewidth\":0,\"ticks\":\"\"}}}],\"scatterternary\":[{\"type\":\"scatterternary\",\"marker\":{\"colorbar\":{\"outlinewidth\":0,\"ticks\":\"\"}}}],\"scattercarpet\":[{\"type\":\"scattercarpet\",\"marker\":{\"colorbar\":{\"outlinewidth\":0,\"ticks\":\"\"}}}],\"carpet\":[{\"aaxis\":{\"endlinecolor\":\"#2a3f5f\",\"gridcolor\":\"white\",\"linecolor\":\"white\",\"minorgridcolor\":\"white\",\"startlinecolor\":\"#2a3f5f\"},\"baxis\":{\"endlinecolor\":\"#2a3f5f\",\"gridcolor\":\"white\",\"linecolor\":\"white\",\"minorgridcolor\":\"white\",\"startlinecolor\":\"#2a3f5f\"},\"type\":\"carpet\"}],\"table\":[{\"cells\":{\"fill\":{\"color\":\"#EBF0F8\"},\"line\":{\"color\":\"white\"}},\"header\":{\"fill\":{\"color\":\"#C8D4E3\"},\"line\":{\"color\":\"white\"}},\"type\":\"table\"}],\"barpolar\":[{\"marker\":{\"line\":{\"color\":\"#E5ECF6\",\"width\":0.5},\"pattern\":{\"fillmode\":\"overlay\",\"size\":10,\"solidity\":0.2}},\"type\":\"barpolar\"}],\"pie\":[{\"automargin\":true,\"type\":\"pie\"}]},\"layout\":{\"autotypenumbers\":\"strict\",\"colorway\":[\"#636efa\",\"#EF553B\",\"#00cc96\",\"#ab63fa\",\"#FFA15A\",\"#19d3f3\",\"#FF6692\",\"#B6E880\",\"#FF97FF\",\"#FECB52\"],\"font\":{\"color\":\"#2a3f5f\"},\"hovermode\":\"closest\",\"hoverlabel\":{\"align\":\"left\"},\"paper_bgcolor\":\"white\",\"plot_bgcolor\":\"#E5ECF6\",\"polar\":{\"bgcolor\":\"#E5ECF6\",\"angularaxis\":{\"gridcolor\":\"white\",\"linecolor\":\"white\",\"ticks\":\"\"},\"radialaxis\":{\"gridcolor\":\"white\",\"linecolor\":\"white\",\"ticks\":\"\"}},\"ternary\":{\"bgcolor\":\"#E5ECF6\",\"aaxis\":{\"gridcolor\":\"white\",\"linecolor\":\"white\",\"ticks\":\"\"},\"baxis\":{\"gridcolor\":\"white\",\"linecolor\":\"white\",\"ticks\":\"\"},\"caxis\":{\"gridcolor\":\"white\",\"linecolor\":\"white\",\"ticks\":\"\"}},\"coloraxis\":{\"colorbar\":{\"outlinewidth\":0,\"ticks\":\"\"}},\"colorscale\":{\"sequential\":[[0.0,\"#0d0887\"],[0.1111111111111111,\"#46039f\"],[0.2222222222222222,\"#7201a8\"],[0.3333333333333333,\"#9c179e\"],[0.4444444444444444,\"#bd3786\"],[0.5555555555555556,\"#d8576b\"],[0.6666666666666666,\"#ed7953\"],[0.7777777777777778,\"#fb9f3a\"],[0.8888888888888888,\"#fdca26\"],[1.0,\"#f0f921\"]],\"sequentialminus\":[[0.0,\"#0d0887\"],[0.1111111111111111,\"#46039f\"],[0.2222222222222222,\"#7201a8\"],[0.3333333333333333,\"#9c179e\"],[0.4444444444444444,\"#bd3786\"],[0.5555555555555556,\"#d8576b\"],[0.6666666666666666,\"#ed7953\"],[0.7777777777777778,\"#fb9f3a\"],[0.8888888888888888,\"#fdca26\"],[1.0,\"#f0f921\"]],\"diverging\":[[0,\"#8e0152\"],[0.1,\"#c51b7d\"],[0.2,\"#de77ae\"],[0.3,\"#f1b6da\"],[0.4,\"#fde0ef\"],[0.5,\"#f7f7f7\"],[0.6,\"#e6f5d0\"],[0.7,\"#b8e186\"],[0.8,\"#7fbc41\"],[0.9,\"#4d9221\"],[1,\"#276419\"]]},\"xaxis\":{\"gridcolor\":\"white\",\"linecolor\":\"white\",\"ticks\":\"\",\"title\":{\"standoff\":15},\"zerolinecolor\":\"white\",\"automargin\":true,\"zerolinewidth\":2},\"yaxis\":{\"gridcolor\":\"white\",\"linecolor\":\"white\",\"ticks\":\"\",\"title\":{\"standoff\":15},\"zerolinecolor\":\"white\",\"automargin\":true,\"zerolinewidth\":2},\"scene\":{\"xaxis\":{\"backgroundcolor\":\"#E5ECF6\",\"gridcolor\":\"white\",\"linecolor\":\"white\",\"showbackground\":true,\"ticks\":\"\",\"zerolinecolor\":\"white\",\"gridwidth\":2},\"yaxis\":{\"backgroundcolor\":\"#E5ECF6\",\"gridcolor\":\"white\",\"linecolor\":\"white\",\"showbackground\":true,\"ticks\":\"\",\"zerolinecolor\":\"white\",\"gridwidth\":2},\"zaxis\":{\"backgroundcolor\":\"#E5ECF6\",\"gridcolor\":\"white\",\"linecolor\":\"white\",\"showbackground\":true,\"ticks\":\"\",\"zerolinecolor\":\"white\",\"gridwidth\":2}},\"shapedefaults\":{\"line\":{\"color\":\"#2a3f5f\"}},\"annotationdefaults\":{\"arrowcolor\":\"#2a3f5f\",\"arrowhead\":0,\"arrowwidth\":1},\"geo\":{\"bgcolor\":\"white\",\"landcolor\":\"#E5ECF6\",\"subunitcolor\":\"white\",\"showland\":true,\"showlakes\":true,\"lakecolor\":\"white\"},\"title\":{\"x\":0.05},\"mapbox\":{\"style\":\"light\"}}},\"xaxis\":{\"anchor\":\"y\",\"domain\":[0.0,1.0],\"title\":{\"text\":\"Accuracy\"}},\"yaxis\":{\"anchor\":\"x\",\"domain\":[0.0,1.0],\"title\":{\"text\":\"Classifier\"}},\"coloraxis\":{\"colorbar\":{\"title\":{\"text\":\"color\"}},\"colorscale\":[[0.0,\"#0d0887\"],[0.1111111111111111,\"#46039f\"],[0.2222222222222222,\"#7201a8\"],[0.3333333333333333,\"#9c179e\"],[0.4444444444444444,\"#bd3786\"],[0.5555555555555556,\"#d8576b\"],[0.6666666666666666,\"#ed7953\"],[0.7777777777777778,\"#fb9f3a\"],[0.8888888888888888,\"#fdca26\"],[1.0,\"#f0f921\"]]},\"legend\":{\"tracegroupgap\":0},\"margin\":{\"t\":60},\"barmode\":\"relative\",\"height\":400,\"width\":800,\"title\":{\"text\":\"Accuracy performance of classification models\"},\"showlegend\":false},                        {\"responsive\": true}                    ).then(function(){\n",
              "                            \n",
              "var gd = document.getElementById('daac26e0-ef45-4a17-a17e-bac107ac6bf6');\n",
              "var x = new MutationObserver(function (mutations, observer) {{\n",
              "        var display = window.getComputedStyle(gd).display;\n",
              "        if (!display || display === 'none') {{\n",
              "            console.log([gd, 'removed!']);\n",
              "            Plotly.purge(gd);\n",
              "            observer.disconnect();\n",
              "        }}\n",
              "}});\n",
              "\n",
              "// Listen for the removal of the full notebook cells\n",
              "var notebookContainer = gd.closest('#notebook-container');\n",
              "if (notebookContainer) {{\n",
              "    x.observe(notebookContainer, {childList: true});\n",
              "}}\n",
              "\n",
              "// Listen for the clearing of the current output cell\n",
              "var outputEl = gd.closest('.output');\n",
              "if (outputEl) {{\n",
              "    x.observe(outputEl, {childList: true});\n",
              "}}\n",
              "\n",
              "                        })                };                            </script>        </div>\n",
              "</body>\n",
              "</html>"
            ]
          },
          "metadata": {}
        }
      ],
      "source": [
        "# Bar plot showing each classifier\n",
        "accuracy_of_models = {\n",
        "                      'Random Forest': rf_acc,\n",
        "                      'KNN': knn_acc,\n",
        "                      'Decision Tree': tree_acc}\n",
        "\n",
        "\n",
        "fig = px.bar(y = list(accuracy_of_models.keys()), x= list(accuracy_of_models.values()),\n",
        "             color = list(accuracy_of_models.values()),\n",
        "             width = 800, height = 400,\n",
        "             color_discrete_sequence=px.colors.qualitative.G10,\n",
        "             labels={'y':'Classifier', 'x':'Accuracy'}, text_auto=True)\n",
        "\n",
        "\n",
        "fig.update_layout(title='Accuracy performance of classification models',\n",
        "                  showlegend=False)\n",
        "# fig.write_image('fig.svg', engine='kaleido')\n",
        "fig.show()"
      ]
    },
    {
      "cell_type": "markdown",
      "metadata": {
        "id": "SbxDjOzNpK2X"
      },
      "source": [
        "## Confusion maxtix of the best classifier"
      ]
    },
    {
      "cell_type": "code",
      "source": [
        "list_of_models = ['Decision Tree','Random Forest', 'KNN']\n",
        "dictionary_models = {list_of_models[i]: trained_models[i] for i in range(len(list_of_models))}\n",
        "dictionary_models"
      ],
      "metadata": {
        "colab": {
          "base_uri": "https://localhost:8080/"
        },
        "id": "ufn7wja8Lerj",
        "outputId": "aa9ace63-caa1-498b-e8fa-5f91239e9d01"
      },
      "execution_count": 76,
      "outputs": [
        {
          "output_type": "execute_result",
          "data": {
            "text/plain": [
              "{'Decision Tree': LogisticRegression(max_iter=1000, random_state=42),\n",
              " 'Random Forest': DecisionTreeClassifier(max_depth=3, random_state=42),\n",
              " 'KNN': SVC(kernel='linear', random_state=42)}"
            ]
          },
          "metadata": {},
          "execution_count": 76
        }
      ]
    },
    {
      "cell_type": "code",
      "execution_count": 77,
      "metadata": {
        "colab": {
          "base_uri": "https://localhost:8080/",
          "height": 472
        },
        "id": "2hIW2Cq9VkEz",
        "outputId": "4076913b-cac4-4f15-d8f8-f9f6657a9176"
      },
      "outputs": [
        {
          "output_type": "display_data",
          "data": {
            "text/plain": [
              "<Figure size 640x480 with 2 Axes>"
            ],
            "image/png": "[encoded data removed]"
          },
          "metadata": {}
        }
      ],
      "source": [
        "# Find the highest score\n",
        "scores = [rf_acc, knn_acc, tree_acc]\n",
        "best_score = max(scores)\n",
        "key_best_model = ''\n",
        "best_model = ''\n",
        "\n",
        "# Generate a heatmap for the classifier that has the highest score\n",
        "for key, value in accuracy_of_models.items():\n",
        "  if best_score == value:\n",
        "    key_best_model = key\n",
        "    best_model = dictionary_models[key_best_model]\n",
        "    ConfusionMatrixDisplay.from_estimator(best_model,\n",
        "                                          X_test, y_test,\n",
        "                                          display_labels=['Not dropout', 'Dropout'])\n",
        "    plt.title(key_best_model);\n",
        "\n",
        "    #Pop the best performing model from dictionary\n",
        "    dictionary_models.pop(key_best_model)\n",
        "\n",
        "\n"
      ]
    },
    {
      "cell_type": "markdown",
      "metadata": {
        "id": "GLGFePkysao9"
      },
      "source": [
        "### Confusion matrix for other classifiers"
      ]
    },
    {
      "cell_type": "code",
      "execution_count": 78,
      "metadata": {
        "colab": {
          "base_uri": "https://localhost:8080/",
          "height": 1000
        },
        "id": "hk8Chf-Oulpf",
        "outputId": "af57588c-cc21-47bd-d3b0-cef87b60ed29"
      },
      "outputs": [
        {
          "output_type": "display_data",
          "data": {
            "text/plain": [
              "<Figure size 2000x2000 with 4 Axes>"
            ],
            "image/png": "[encoded data removed]"
          },
          "metadata": {}
        }
      ],
      "source": [
        "colors = ['BuPu', 'CMRmap', 'gnuplot', 'cividis']\n",
        "position = 0\n",
        "\n",
        "fig, ax = plt.subplots(1, 4, figsize=(20, 20))\n",
        "\n",
        "for key, value in dictionary_models.items():\n",
        "    disp = ConfusionMatrixDisplay.from_estimator(value,\n",
        "                                                 X_test, y_test,\n",
        "                                                 display_labels=['Not dropout', 'Dropout'],\n",
        "                                                 cmap=colors[position], ax=ax[position], colorbar=False)\n",
        "\n",
        "    # Add title\n",
        "    ax[position].set_title(key)\n",
        "\n",
        "    position += 1\n",
        "\n",
        "plt.tight_layout()  # Adjust spacing between subplots\n",
        "plt.show()\n",
        "\n"
      ]
    },
    {
      "cell_type": "code",
      "execution_count": 69,
      "metadata": {
        "colab": {
          "base_uri": "https://localhost:8080/",
          "height": 57
        },
        "id": "SDCPdv2YzhO0",
        "outputId": "672da461-82bf-44f9-8832-0ceb65cfb4a8"
      },
      "outputs": [
        {
          "output_type": "execute_result",
          "data": {
            "text/plain": [
              "<IPython.core.display.Markdown object>"
            ],
            "text/markdown": "\n#### From the results above we can see that DecisionTreeClassifier(max_depth=3, random_state=42) perfoms best with the highest accuracy of 83.2%"
          },
          "metadata": {},
          "execution_count": 69
        }
      ],
      "source": [
        "Markdown(f\"\"\"\n",
        "#### From the results above we can see that {best_model} perfoms best with the highest accuracy of {round(best_score * 100, 2)}%\"\"\")\n"
      ]
    },
    {
      "cell_type": "markdown",
      "source": [
        "## Results"
      ],
      "metadata": {
        "id": "1aJDwoBZJAP3"
      }
    },
    {
      "cell_type": "markdown",
      "source": [
        "### Feature Importances\n",
        "\n",
        "We take a look at features selected as good predictiors by some of the trained models.\n"
      ],
      "metadata": {
        "id": "aXujxWuoNW6w"
      }
    },
    {
      "cell_type": "code",
      "source": [
        "# create list for features\n",
        "feature = X_features.columns"
      ],
      "metadata": {
        "id": "7mBvpGR1_3sj"
      },
      "execution_count": 79,
      "outputs": []
    },
    {
      "cell_type": "code",
      "source": [
        "\n",
        "\n",
        "# Decision tree\n",
        "dt_importance = pd.Series(np.exp(tree_model.feature_importances_), index = feature).sort_values()\n",
        "\n",
        "# Random forest\n",
        "rf_importance = pd.Series(np.exp(rf_model.feature_importances_), index = feature).sort_values()\n",
        "\n",
        "\n"
      ],
      "metadata": {
        "id": "6f3g-BhINbFP"
      },
      "execution_count": 80,
      "outputs": []
    },
    {
      "cell_type": "code",
      "source": [
        "# Create subplots\n",
        "fig, ax = plt.subplots(2, 2, figsize=(15, 8))\n",
        "\n",
        "# Add the barplots\n",
        "dt_importance.plot(kind = 'barh', ax = ax[0][1], title = 'Decision Trees importance')\n",
        "rf_importance.plot(kind = 'barh', ax = ax[1][0], title = 'Random forest importance')\n",
        "\n",
        "# Add vertical lines at x=1\n",
        "for axes_row in ax:\n",
        "    for axes in axes_row:\n",
        "        axes.axvline(x=1, color='black')\n",
        "plt.tight_layout()\n",
        "plt.show()\n"
      ],
      "metadata": {
        "colab": {
          "base_uri": "https://localhost:8080/",
          "height": 555
        },
        "id": "nEXuAN3Bkq6K",
        "outputId": "35665082-9648-4832-f071-56b8571b9450"
      },
      "execution_count": 81,
      "outputs": [
        {
          "output_type": "display_data",
          "data": {
            "text/plain": [
              "<Figure size 1500x800 with 4 Axes>"
            ],
            "image/png": "[encoded data removed]"
          },
          "metadata": {}
        }
      ]
    },
    {
      "cell_type": "markdown",
      "source": [
        "When using logistic regression, SVM, random forest, and decision trees to predict outcomes, it was found that the features \"Courses\" and \"Age at enrollment\" were very important, with values greater than 1. This means that these features have a significant impact on predicting outcomes. It is important to consider these factors carefully when designing models for accurate predictions in similar contexts.\n",
        "\n",
        "In other words, the two features \"Courses\" and \"Age at enrollment\" are strong predictors of the outcome, and they should be included in any model that aims to accurately predict outcomes."
      ],
      "metadata": {
        "id": "Br_d_PLvK0AT"
      }
    },
    {
      "cell_type": "code",
      "source": [
        "# ROC curve for best model's predictions\n",
        "y_pred = best_model.predict(X_test)\n",
        "fpr, tpr, threshold = roc_curve(y_test, y_pred)\n",
        "roc_auc = auc(fpr, tpr)\n",
        "\n",
        "# Plot ROC curve\n",
        "plt.figure()\n",
        "plt.plot(fpr, tpr)\n",
        "plt.plot([0, 1], [0, 1],'r--')\n",
        "plt.xlim([0.0, 1.0])\n",
        "plt.ylim([0.0, 1.05])\n",
        "plt.xlabel('False Positive Rate')\n",
        "plt.ylabel('True Positive Rate')\n",
        "plt.title('ROC Curve')\n",
        "plt.show()\n",
        "print('\\n')\n",
        "# Print the AUC score\n",
        "print(f'The AUC score is :{round(roc_auc, 2)}')"
      ],
      "metadata": {
        "id": "mvDDiq-CzQVq",
        "colab": {
          "base_uri": "https://localhost:8080/",
          "height": 524
        },
        "outputId": "c22e4969-0475-4f39-f041-7da93cea2b8c"
      },
      "execution_count": 82,
      "outputs": [
        {
          "output_type": "display_data",
          "data": {
            "text/plain": [
              "<Figure size 640x480 with 1 Axes>"
            ],
            "image/png": "[encoded data removed]"
          },
          "metadata": {}
        },
        {
          "output_type": "stream",
          "name": "stdout",
          "text": [
            "\n",
            "\n",
            "The AUC score is :0.76\n"
          ]
        }
      ]
    },
    {
      "cell_type": "markdown",
      "source": [
        "An AUC score of 0.78 means that the model is able to correctly classify 78% of the positive cases and 22% of the negative cases. This is considered to be good performance, but not excellent. There is still room for improvement"
      ],
      "metadata": {
        "id": "xLPJoxs_WhYu"
      }
    },
    {
      "cell_type": "code",
      "source": [],
      "metadata": {
        "id": "Lai1n0AkW42f"
      },
      "execution_count": 73,
      "outputs": []
    },
    {
      "cell_type": "markdown",
      "metadata": {
        "id": "923accea"
      },
      "source": [
        "First, let's assume you have new data in a pandas DataFrame called `new_data`. This DataFrame should have the same columns as the `X_features` DataFrame used for training, excluding the 'Target' column."
      ]
    }
  ],
  "metadata": {
    "colab": {
      "provenance": []
    },
    "kernelspec": {
      "display_name": "Python 3",
      "name": "python3"
    },
    "language_info": {
      "codemirror_mode": {
        "name": "ipython",
        "version": 3
      },
      "file_extension": ".py",
      "mimetype": "text/x-python",
      "name": "python",
      "nbconvert_exporter": "python",
      "pygments_lexer": "ipython3",
      "version": "3.10.4"
    },
    "orig_nbformat": 4,
    "vscode": {
      "interpreter": {
        "hash": "1cdbd0f0bda6f0f3993395ced8d5339ef90b71b7fadc40373c2be66de919b848"
      }
    }
  },
  "nbformat": 4,
  "nbformat_minor": 0
}